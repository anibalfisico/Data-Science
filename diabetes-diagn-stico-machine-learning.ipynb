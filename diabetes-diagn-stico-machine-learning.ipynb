{
 "cells": [
  {
   "cell_type": "code",
   "execution_count": 1,
   "id": "acd3ea24",
   "metadata": {
    "_cell_guid": "b1076dfc-b9ad-4769-8c92-a6c4dae69d19",
    "_uuid": "8f2839f25d086af736a60e9eeb907d3b93b6e0e5",
    "execution": {
     "iopub.execute_input": "2022-03-16T20:32:16.758358Z",
     "iopub.status.busy": "2022-03-16T20:32:16.756277Z",
     "iopub.status.idle": "2022-03-16T20:32:18.220044Z",
     "shell.execute_reply": "2022-03-16T20:32:18.219352Z",
     "shell.execute_reply.started": "2022-03-16T20:31:36.521155Z"
    },
    "papermill": {
     "duration": 1.500026,
     "end_time": "2022-03-16T20:32:18.220271",
     "exception": false,
     "start_time": "2022-03-16T20:32:16.720245",
     "status": "completed"
    },
    "tags": []
   },
   "outputs": [
    {
     "name": "stdout",
     "output_type": "stream",
     "text": [
      "/kaggle/input/pima-indians-diabetes-database/diabetes.csv\n"
     ]
    }
   ],
   "source": [
    "# This Python 3 environment comes with many helpful analytics libraries installed\n",
    "# It is defined by the kaggle/python Docker image: https://github.com/kaggle/docker-python\n",
    "# For example, here's several helpful packages to load\n",
    "\n",
    "import numpy as np # linear algebra\n",
    "import pandas as pd # data processing, CSV file I/O (e.g. pd.read_csv)\n",
    "import seaborn as sns\n",
    "import matplotlib.pyplot as plt\n",
    "from sklearn import datasets, linear_model\n",
    "from sklearn.metrics import mean_squared_error, r2_score\n",
    "from sklearn.model_selection import train_test_split\n",
    "from sklearn.ensemble import ExtraTreesClassifier\n",
    "\n",
    "# Input data files are available in the read-only \"../input/\" directory\n",
    "# For example, running this (by clicking run or pressing Shift+Enter) will list all files under the input directory\n",
    "\n",
    "import os\n",
    "for dirname, _, filenames in os.walk('/kaggle/input'):\n",
    "    for filename in filenames:\n",
    "        print(os.path.join(dirname, filename))\n",
    "\n",
    "# You can write up to 20GB to the current directory (/kaggle/working/) that gets preserved as output when you create a version using \"Save & Run All\" \n",
    "# You can also write temporary files to /kaggle/temp/, but they won't be saved outside of the current session"
   ]
  },
  {
   "cell_type": "markdown",
   "id": "8e6f6606",
   "metadata": {
    "papermill": {
     "duration": 0.028795,
     "end_time": "2022-03-16T20:32:18.279055",
     "exception": false,
     "start_time": "2022-03-16T20:32:18.250260",
     "status": "completed"
    },
    "tags": []
   },
   "source": [
    "# Data Extraction"
   ]
  },
  {
   "cell_type": "code",
   "execution_count": 2,
   "id": "83343216",
   "metadata": {
    "execution": {
     "iopub.execute_input": "2022-03-16T20:32:18.341495Z",
     "iopub.status.busy": "2022-03-16T20:32:18.340330Z",
     "iopub.status.idle": "2022-03-16T20:32:18.378859Z",
     "shell.execute_reply": "2022-03-16T20:32:18.379417Z",
     "shell.execute_reply.started": "2022-03-16T20:31:36.535921Z"
    },
    "papermill": {
     "duration": 0.071679,
     "end_time": "2022-03-16T20:32:18.379611",
     "exception": false,
     "start_time": "2022-03-16T20:32:18.307932",
     "status": "completed"
    },
    "tags": []
   },
   "outputs": [
    {
     "data": {
      "text/html": [
       "<div>\n",
       "<style scoped>\n",
       "    .dataframe tbody tr th:only-of-type {\n",
       "        vertical-align: middle;\n",
       "    }\n",
       "\n",
       "    .dataframe tbody tr th {\n",
       "        vertical-align: top;\n",
       "    }\n",
       "\n",
       "    .dataframe thead th {\n",
       "        text-align: right;\n",
       "    }\n",
       "</style>\n",
       "<table border=\"1\" class=\"dataframe\">\n",
       "  <thead>\n",
       "    <tr style=\"text-align: right;\">\n",
       "      <th></th>\n",
       "      <th>Pregnancies</th>\n",
       "      <th>Glucose</th>\n",
       "      <th>BloodPressure</th>\n",
       "      <th>SkinThickness</th>\n",
       "      <th>Insulin</th>\n",
       "      <th>BMI</th>\n",
       "      <th>DiabetesPedigreeFunction</th>\n",
       "      <th>Age</th>\n",
       "      <th>Outcome</th>\n",
       "    </tr>\n",
       "  </thead>\n",
       "  <tbody>\n",
       "    <tr>\n",
       "      <th>0</th>\n",
       "      <td>6</td>\n",
       "      <td>148</td>\n",
       "      <td>72</td>\n",
       "      <td>35</td>\n",
       "      <td>0</td>\n",
       "      <td>33.6</td>\n",
       "      <td>0.627</td>\n",
       "      <td>50</td>\n",
       "      <td>1</td>\n",
       "    </tr>\n",
       "    <tr>\n",
       "      <th>1</th>\n",
       "      <td>1</td>\n",
       "      <td>85</td>\n",
       "      <td>66</td>\n",
       "      <td>29</td>\n",
       "      <td>0</td>\n",
       "      <td>26.6</td>\n",
       "      <td>0.351</td>\n",
       "      <td>31</td>\n",
       "      <td>0</td>\n",
       "    </tr>\n",
       "    <tr>\n",
       "      <th>2</th>\n",
       "      <td>8</td>\n",
       "      <td>183</td>\n",
       "      <td>64</td>\n",
       "      <td>0</td>\n",
       "      <td>0</td>\n",
       "      <td>23.3</td>\n",
       "      <td>0.672</td>\n",
       "      <td>32</td>\n",
       "      <td>1</td>\n",
       "    </tr>\n",
       "    <tr>\n",
       "      <th>3</th>\n",
       "      <td>1</td>\n",
       "      <td>89</td>\n",
       "      <td>66</td>\n",
       "      <td>23</td>\n",
       "      <td>94</td>\n",
       "      <td>28.1</td>\n",
       "      <td>0.167</td>\n",
       "      <td>21</td>\n",
       "      <td>0</td>\n",
       "    </tr>\n",
       "    <tr>\n",
       "      <th>4</th>\n",
       "      <td>0</td>\n",
       "      <td>137</td>\n",
       "      <td>40</td>\n",
       "      <td>35</td>\n",
       "      <td>168</td>\n",
       "      <td>43.1</td>\n",
       "      <td>2.288</td>\n",
       "      <td>33</td>\n",
       "      <td>1</td>\n",
       "    </tr>\n",
       "  </tbody>\n",
       "</table>\n",
       "</div>"
      ],
      "text/plain": [
       "   Pregnancies  Glucose  BloodPressure  SkinThickness  Insulin   BMI  \\\n",
       "0            6      148             72             35        0  33.6   \n",
       "1            1       85             66             29        0  26.6   \n",
       "2            8      183             64              0        0  23.3   \n",
       "3            1       89             66             23       94  28.1   \n",
       "4            0      137             40             35      168  43.1   \n",
       "\n",
       "   DiabetesPedigreeFunction  Age  Outcome  \n",
       "0                     0.627   50        1  \n",
       "1                     0.351   31        0  \n",
       "2                     0.672   32        1  \n",
       "3                     0.167   21        0  \n",
       "4                     2.288   33        1  "
      ]
     },
     "execution_count": 2,
     "metadata": {},
     "output_type": "execute_result"
    }
   ],
   "source": [
    "df = pd.read_csv('/kaggle/input/pima-indians-diabetes-database/diabetes.csv')\n",
    "df.head()"
   ]
  },
  {
   "cell_type": "markdown",
   "id": "8d19599d",
   "metadata": {
    "papermill": {
     "duration": 0.029306,
     "end_time": "2022-03-16T20:32:18.438601",
     "exception": false,
     "start_time": "2022-03-16T20:32:18.409295",
     "status": "completed"
    },
    "tags": []
   },
   "source": [
    "# Exploratory Data Analysis (EDA)"
   ]
  },
  {
   "cell_type": "code",
   "execution_count": 3,
   "id": "99b20b50",
   "metadata": {
    "execution": {
     "iopub.execute_input": "2022-03-16T20:32:18.500605Z",
     "iopub.status.busy": "2022-03-16T20:32:18.499888Z",
     "iopub.status.idle": "2022-03-16T20:32:18.506146Z",
     "shell.execute_reply": "2022-03-16T20:32:18.505423Z",
     "shell.execute_reply.started": "2022-03-16T20:31:36.562391Z"
    },
    "papermill": {
     "duration": 0.038433,
     "end_time": "2022-03-16T20:32:18.506319",
     "exception": false,
     "start_time": "2022-03-16T20:32:18.467886",
     "status": "completed"
    },
    "tags": []
   },
   "outputs": [
    {
     "data": {
      "text/plain": [
       "(768, 9)"
      ]
     },
     "execution_count": 3,
     "metadata": {},
     "output_type": "execute_result"
    }
   ],
   "source": [
    "#check the shape of dataset\n",
    "df.shape"
   ]
  },
  {
   "cell_type": "code",
   "execution_count": 4,
   "id": "cccd29bb",
   "metadata": {
    "execution": {
     "iopub.execute_input": "2022-03-16T20:32:18.573617Z",
     "iopub.status.busy": "2022-03-16T20:32:18.572645Z",
     "iopub.status.idle": "2022-03-16T20:32:18.576166Z",
     "shell.execute_reply": "2022-03-16T20:32:18.576772Z",
     "shell.execute_reply.started": "2022-03-16T20:31:36.570560Z"
    },
    "papermill": {
     "duration": 0.040408,
     "end_time": "2022-03-16T20:32:18.576955",
     "exception": false,
     "start_time": "2022-03-16T20:32:18.536547",
     "status": "completed"
    },
    "tags": []
   },
   "outputs": [
    {
     "data": {
      "text/plain": [
       "Index(['Pregnancies', 'Glucose', 'BloodPressure', 'SkinThickness', 'Insulin',\n",
       "       'BMI', 'DiabetesPedigreeFunction', 'Age', 'Outcome'],\n",
       "      dtype='object')"
      ]
     },
     "execution_count": 4,
     "metadata": {},
     "output_type": "execute_result"
    }
   ],
   "source": [
    "#check all columns\n",
    "df.columns"
   ]
  },
  {
   "cell_type": "code",
   "execution_count": 5,
   "id": "d71d461a",
   "metadata": {
    "execution": {
     "iopub.execute_input": "2022-03-16T20:32:18.649005Z",
     "iopub.status.busy": "2022-03-16T20:32:18.644642Z",
     "iopub.status.idle": "2022-03-16T20:32:18.653595Z",
     "shell.execute_reply": "2022-03-16T20:32:18.653015Z",
     "shell.execute_reply.started": "2022-03-16T20:31:36.585573Z"
    },
    "papermill": {
     "duration": 0.043025,
     "end_time": "2022-03-16T20:32:18.653750",
     "exception": false,
     "start_time": "2022-03-16T20:32:18.610725",
     "status": "completed"
    },
    "tags": []
   },
   "outputs": [
    {
     "data": {
      "text/plain": [
       "Pregnancies                   int64\n",
       "Glucose                       int64\n",
       "BloodPressure                 int64\n",
       "SkinThickness                 int64\n",
       "Insulin                       int64\n",
       "BMI                         float64\n",
       "DiabetesPedigreeFunction    float64\n",
       "Age                           int64\n",
       "Outcome                       int64\n",
       "dtype: object"
      ]
     },
     "execution_count": 5,
     "metadata": {},
     "output_type": "execute_result"
    }
   ],
   "source": [
    "#check type of dataset\n",
    "df.dtypes"
   ]
  },
  {
   "cell_type": "code",
   "execution_count": 6,
   "id": "f6d71694",
   "metadata": {
    "execution": {
     "iopub.execute_input": "2022-03-16T20:32:18.724899Z",
     "iopub.status.busy": "2022-03-16T20:32:18.724214Z",
     "iopub.status.idle": "2022-03-16T20:32:18.727046Z",
     "shell.execute_reply": "2022-03-16T20:32:18.727722Z",
     "shell.execute_reply.started": "2022-03-16T20:31:36.601226Z"
    },
    "papermill": {
     "duration": 0.043002,
     "end_time": "2022-03-16T20:32:18.727908",
     "exception": false,
     "start_time": "2022-03-16T20:32:18.684906",
     "status": "completed"
    },
    "tags": []
   },
   "outputs": [
    {
     "data": {
      "text/plain": [
       "Pregnancies                 0\n",
       "Glucose                     0\n",
       "BloodPressure               0\n",
       "SkinThickness               0\n",
       "Insulin                     0\n",
       "BMI                         0\n",
       "DiabetesPedigreeFunction    0\n",
       "Age                         0\n",
       "Outcome                     0\n",
       "dtype: int64"
      ]
     },
     "execution_count": 6,
     "metadata": {},
     "output_type": "execute_result"
    }
   ],
   "source": [
    "#check missing value of dataset\n",
    "df.isnull().sum()"
   ]
  },
  {
   "cell_type": "code",
   "execution_count": 7,
   "id": "e461f765",
   "metadata": {
    "execution": {
     "iopub.execute_input": "2022-03-16T20:32:18.795297Z",
     "iopub.status.busy": "2022-03-16T20:32:18.794553Z",
     "iopub.status.idle": "2022-03-16T20:32:18.825562Z",
     "shell.execute_reply": "2022-03-16T20:32:18.824852Z",
     "shell.execute_reply.started": "2022-03-16T20:31:36.617881Z"
    },
    "papermill": {
     "duration": 0.066107,
     "end_time": "2022-03-16T20:32:18.825725",
     "exception": false,
     "start_time": "2022-03-16T20:32:18.759618",
     "status": "completed"
    },
    "tags": []
   },
   "outputs": [
    {
     "data": {
      "text/html": [
       "<div>\n",
       "<style scoped>\n",
       "    .dataframe tbody tr th:only-of-type {\n",
       "        vertical-align: middle;\n",
       "    }\n",
       "\n",
       "    .dataframe tbody tr th {\n",
       "        vertical-align: top;\n",
       "    }\n",
       "\n",
       "    .dataframe thead th {\n",
       "        text-align: right;\n",
       "    }\n",
       "</style>\n",
       "<table border=\"1\" class=\"dataframe\">\n",
       "  <thead>\n",
       "    <tr style=\"text-align: right;\">\n",
       "      <th></th>\n",
       "      <th>Pregnancies</th>\n",
       "      <th>Glucose</th>\n",
       "      <th>BloodPressure</th>\n",
       "      <th>SkinThickness</th>\n",
       "      <th>Insulin</th>\n",
       "      <th>BMI</th>\n",
       "      <th>DiabetesPedigreeFunction</th>\n",
       "      <th>Age</th>\n",
       "      <th>Outcome</th>\n",
       "    </tr>\n",
       "  </thead>\n",
       "  <tbody>\n",
       "    <tr>\n",
       "      <th>0</th>\n",
       "      <td>6</td>\n",
       "      <td>148</td>\n",
       "      <td>72</td>\n",
       "      <td>35</td>\n",
       "      <td>0</td>\n",
       "      <td>33.6</td>\n",
       "      <td>0.627</td>\n",
       "      <td>50</td>\n",
       "      <td>1</td>\n",
       "    </tr>\n",
       "    <tr>\n",
       "      <th>1</th>\n",
       "      <td>1</td>\n",
       "      <td>85</td>\n",
       "      <td>66</td>\n",
       "      <td>29</td>\n",
       "      <td>0</td>\n",
       "      <td>26.6</td>\n",
       "      <td>0.351</td>\n",
       "      <td>31</td>\n",
       "      <td>0</td>\n",
       "    </tr>\n",
       "    <tr>\n",
       "      <th>2</th>\n",
       "      <td>8</td>\n",
       "      <td>183</td>\n",
       "      <td>64</td>\n",
       "      <td>0</td>\n",
       "      <td>0</td>\n",
       "      <td>23.3</td>\n",
       "      <td>0.672</td>\n",
       "      <td>32</td>\n",
       "      <td>1</td>\n",
       "    </tr>\n",
       "    <tr>\n",
       "      <th>3</th>\n",
       "      <td>1</td>\n",
       "      <td>89</td>\n",
       "      <td>66</td>\n",
       "      <td>23</td>\n",
       "      <td>94</td>\n",
       "      <td>28.1</td>\n",
       "      <td>0.167</td>\n",
       "      <td>21</td>\n",
       "      <td>0</td>\n",
       "    </tr>\n",
       "    <tr>\n",
       "      <th>4</th>\n",
       "      <td>0</td>\n",
       "      <td>137</td>\n",
       "      <td>40</td>\n",
       "      <td>35</td>\n",
       "      <td>168</td>\n",
       "      <td>43.1</td>\n",
       "      <td>2.288</td>\n",
       "      <td>33</td>\n",
       "      <td>1</td>\n",
       "    </tr>\n",
       "    <tr>\n",
       "      <th>...</th>\n",
       "      <td>...</td>\n",
       "      <td>...</td>\n",
       "      <td>...</td>\n",
       "      <td>...</td>\n",
       "      <td>...</td>\n",
       "      <td>...</td>\n",
       "      <td>...</td>\n",
       "      <td>...</td>\n",
       "      <td>...</td>\n",
       "    </tr>\n",
       "    <tr>\n",
       "      <th>763</th>\n",
       "      <td>10</td>\n",
       "      <td>101</td>\n",
       "      <td>76</td>\n",
       "      <td>48</td>\n",
       "      <td>180</td>\n",
       "      <td>32.9</td>\n",
       "      <td>0.171</td>\n",
       "      <td>63</td>\n",
       "      <td>0</td>\n",
       "    </tr>\n",
       "    <tr>\n",
       "      <th>764</th>\n",
       "      <td>2</td>\n",
       "      <td>122</td>\n",
       "      <td>70</td>\n",
       "      <td>27</td>\n",
       "      <td>0</td>\n",
       "      <td>36.8</td>\n",
       "      <td>0.340</td>\n",
       "      <td>27</td>\n",
       "      <td>0</td>\n",
       "    </tr>\n",
       "    <tr>\n",
       "      <th>765</th>\n",
       "      <td>5</td>\n",
       "      <td>121</td>\n",
       "      <td>72</td>\n",
       "      <td>23</td>\n",
       "      <td>112</td>\n",
       "      <td>26.2</td>\n",
       "      <td>0.245</td>\n",
       "      <td>30</td>\n",
       "      <td>0</td>\n",
       "    </tr>\n",
       "    <tr>\n",
       "      <th>766</th>\n",
       "      <td>1</td>\n",
       "      <td>126</td>\n",
       "      <td>60</td>\n",
       "      <td>0</td>\n",
       "      <td>0</td>\n",
       "      <td>30.1</td>\n",
       "      <td>0.349</td>\n",
       "      <td>47</td>\n",
       "      <td>1</td>\n",
       "    </tr>\n",
       "    <tr>\n",
       "      <th>767</th>\n",
       "      <td>1</td>\n",
       "      <td>93</td>\n",
       "      <td>70</td>\n",
       "      <td>31</td>\n",
       "      <td>0</td>\n",
       "      <td>30.4</td>\n",
       "      <td>0.315</td>\n",
       "      <td>23</td>\n",
       "      <td>0</td>\n",
       "    </tr>\n",
       "  </tbody>\n",
       "</table>\n",
       "<p>768 rows × 9 columns</p>\n",
       "</div>"
      ],
      "text/plain": [
       "     Pregnancies  Glucose  BloodPressure  SkinThickness  Insulin   BMI  \\\n",
       "0              6      148             72             35        0  33.6   \n",
       "1              1       85             66             29        0  26.6   \n",
       "2              8      183             64              0        0  23.3   \n",
       "3              1       89             66             23       94  28.1   \n",
       "4              0      137             40             35      168  43.1   \n",
       "..           ...      ...            ...            ...      ...   ...   \n",
       "763           10      101             76             48      180  32.9   \n",
       "764            2      122             70             27        0  36.8   \n",
       "765            5      121             72             23      112  26.2   \n",
       "766            1      126             60              0        0  30.1   \n",
       "767            1       93             70             31        0  30.4   \n",
       "\n",
       "     DiabetesPedigreeFunction  Age  Outcome  \n",
       "0                       0.627   50        1  \n",
       "1                       0.351   31        0  \n",
       "2                       0.672   32        1  \n",
       "3                       0.167   21        0  \n",
       "4                       2.288   33        1  \n",
       "..                        ...  ...      ...  \n",
       "763                     0.171   63        0  \n",
       "764                     0.340   27        0  \n",
       "765                     0.245   30        0  \n",
       "766                     0.349   47        1  \n",
       "767                     0.315   23        0  \n",
       "\n",
       "[768 rows x 9 columns]"
      ]
     },
     "execution_count": 7,
     "metadata": {},
     "output_type": "execute_result"
    }
   ],
   "source": [
    "df.drop_duplicates()"
   ]
  },
  {
   "cell_type": "code",
   "execution_count": 8,
   "id": "53271375",
   "metadata": {
    "execution": {
     "iopub.execute_input": "2022-03-16T20:32:18.894992Z",
     "iopub.status.busy": "2022-03-16T20:32:18.894279Z",
     "iopub.status.idle": "2022-03-16T20:32:18.939297Z",
     "shell.execute_reply": "2022-03-16T20:32:18.938447Z",
     "shell.execute_reply.started": "2022-03-16T20:31:36.648397Z"
    },
    "papermill": {
     "duration": 0.081058,
     "end_time": "2022-03-16T20:32:18.939455",
     "exception": false,
     "start_time": "2022-03-16T20:32:18.858397",
     "status": "completed"
    },
    "tags": []
   },
   "outputs": [
    {
     "data": {
      "text/html": [
       "<div>\n",
       "<style scoped>\n",
       "    .dataframe tbody tr th:only-of-type {\n",
       "        vertical-align: middle;\n",
       "    }\n",
       "\n",
       "    .dataframe tbody tr th {\n",
       "        vertical-align: top;\n",
       "    }\n",
       "\n",
       "    .dataframe thead th {\n",
       "        text-align: right;\n",
       "    }\n",
       "</style>\n",
       "<table border=\"1\" class=\"dataframe\">\n",
       "  <thead>\n",
       "    <tr style=\"text-align: right;\">\n",
       "      <th></th>\n",
       "      <th>Pregnancies</th>\n",
       "      <th>Glucose</th>\n",
       "      <th>BloodPressure</th>\n",
       "      <th>SkinThickness</th>\n",
       "      <th>Insulin</th>\n",
       "      <th>BMI</th>\n",
       "      <th>DiabetesPedigreeFunction</th>\n",
       "      <th>Age</th>\n",
       "      <th>Outcome</th>\n",
       "    </tr>\n",
       "  </thead>\n",
       "  <tbody>\n",
       "    <tr>\n",
       "      <th>count</th>\n",
       "      <td>768.000000</td>\n",
       "      <td>768.000000</td>\n",
       "      <td>768.000000</td>\n",
       "      <td>768.000000</td>\n",
       "      <td>768.000000</td>\n",
       "      <td>768.000000</td>\n",
       "      <td>768.000000</td>\n",
       "      <td>768.000000</td>\n",
       "      <td>768.000000</td>\n",
       "    </tr>\n",
       "    <tr>\n",
       "      <th>mean</th>\n",
       "      <td>3.845052</td>\n",
       "      <td>120.894531</td>\n",
       "      <td>69.105469</td>\n",
       "      <td>20.536458</td>\n",
       "      <td>79.799479</td>\n",
       "      <td>31.992578</td>\n",
       "      <td>0.471876</td>\n",
       "      <td>33.240885</td>\n",
       "      <td>0.348958</td>\n",
       "    </tr>\n",
       "    <tr>\n",
       "      <th>std</th>\n",
       "      <td>3.369578</td>\n",
       "      <td>31.972618</td>\n",
       "      <td>19.355807</td>\n",
       "      <td>15.952218</td>\n",
       "      <td>115.244002</td>\n",
       "      <td>7.884160</td>\n",
       "      <td>0.331329</td>\n",
       "      <td>11.760232</td>\n",
       "      <td>0.476951</td>\n",
       "    </tr>\n",
       "    <tr>\n",
       "      <th>min</th>\n",
       "      <td>0.000000</td>\n",
       "      <td>0.000000</td>\n",
       "      <td>0.000000</td>\n",
       "      <td>0.000000</td>\n",
       "      <td>0.000000</td>\n",
       "      <td>0.000000</td>\n",
       "      <td>0.078000</td>\n",
       "      <td>21.000000</td>\n",
       "      <td>0.000000</td>\n",
       "    </tr>\n",
       "    <tr>\n",
       "      <th>25%</th>\n",
       "      <td>1.000000</td>\n",
       "      <td>99.000000</td>\n",
       "      <td>62.000000</td>\n",
       "      <td>0.000000</td>\n",
       "      <td>0.000000</td>\n",
       "      <td>27.300000</td>\n",
       "      <td>0.243750</td>\n",
       "      <td>24.000000</td>\n",
       "      <td>0.000000</td>\n",
       "    </tr>\n",
       "    <tr>\n",
       "      <th>50%</th>\n",
       "      <td>3.000000</td>\n",
       "      <td>117.000000</td>\n",
       "      <td>72.000000</td>\n",
       "      <td>23.000000</td>\n",
       "      <td>30.500000</td>\n",
       "      <td>32.000000</td>\n",
       "      <td>0.372500</td>\n",
       "      <td>29.000000</td>\n",
       "      <td>0.000000</td>\n",
       "    </tr>\n",
       "    <tr>\n",
       "      <th>75%</th>\n",
       "      <td>6.000000</td>\n",
       "      <td>140.250000</td>\n",
       "      <td>80.000000</td>\n",
       "      <td>32.000000</td>\n",
       "      <td>127.250000</td>\n",
       "      <td>36.600000</td>\n",
       "      <td>0.626250</td>\n",
       "      <td>41.000000</td>\n",
       "      <td>1.000000</td>\n",
       "    </tr>\n",
       "    <tr>\n",
       "      <th>max</th>\n",
       "      <td>17.000000</td>\n",
       "      <td>199.000000</td>\n",
       "      <td>122.000000</td>\n",
       "      <td>99.000000</td>\n",
       "      <td>846.000000</td>\n",
       "      <td>67.100000</td>\n",
       "      <td>2.420000</td>\n",
       "      <td>81.000000</td>\n",
       "      <td>1.000000</td>\n",
       "    </tr>\n",
       "  </tbody>\n",
       "</table>\n",
       "</div>"
      ],
      "text/plain": [
       "       Pregnancies     Glucose  BloodPressure  SkinThickness     Insulin  \\\n",
       "count   768.000000  768.000000     768.000000     768.000000  768.000000   \n",
       "mean      3.845052  120.894531      69.105469      20.536458   79.799479   \n",
       "std       3.369578   31.972618      19.355807      15.952218  115.244002   \n",
       "min       0.000000    0.000000       0.000000       0.000000    0.000000   \n",
       "25%       1.000000   99.000000      62.000000       0.000000    0.000000   \n",
       "50%       3.000000  117.000000      72.000000      23.000000   30.500000   \n",
       "75%       6.000000  140.250000      80.000000      32.000000  127.250000   \n",
       "max      17.000000  199.000000     122.000000      99.000000  846.000000   \n",
       "\n",
       "              BMI  DiabetesPedigreeFunction         Age     Outcome  \n",
       "count  768.000000                768.000000  768.000000  768.000000  \n",
       "mean    31.992578                  0.471876   33.240885    0.348958  \n",
       "std      7.884160                  0.331329   11.760232    0.476951  \n",
       "min      0.000000                  0.078000   21.000000    0.000000  \n",
       "25%     27.300000                  0.243750   24.000000    0.000000  \n",
       "50%     32.000000                  0.372500   29.000000    0.000000  \n",
       "75%     36.600000                  0.626250   41.000000    1.000000  \n",
       "max     67.100000                  2.420000   81.000000    1.000000  "
      ]
     },
     "execution_count": 8,
     "metadata": {},
     "output_type": "execute_result"
    }
   ],
   "source": [
    "#describe all columns\n",
    "df.describe()"
   ]
  },
  {
   "cell_type": "code",
   "execution_count": 9,
   "id": "159c6803",
   "metadata": {
    "execution": {
     "iopub.execute_input": "2022-03-16T20:32:19.009198Z",
     "iopub.status.busy": "2022-03-16T20:32:19.008524Z",
     "iopub.status.idle": "2022-03-16T20:32:19.027755Z",
     "shell.execute_reply": "2022-03-16T20:32:19.028378Z",
     "shell.execute_reply.started": "2022-03-16T20:31:36.687089Z"
    },
    "papermill": {
     "duration": 0.055765,
     "end_time": "2022-03-16T20:32:19.028568",
     "exception": false,
     "start_time": "2022-03-16T20:32:18.972803",
     "status": "completed"
    },
    "tags": []
   },
   "outputs": [
    {
     "data": {
      "text/html": [
       "<div>\n",
       "<style scoped>\n",
       "    .dataframe tbody tr th:only-of-type {\n",
       "        vertical-align: middle;\n",
       "    }\n",
       "\n",
       "    .dataframe tbody tr th {\n",
       "        vertical-align: top;\n",
       "    }\n",
       "\n",
       "    .dataframe thead th {\n",
       "        text-align: right;\n",
       "    }\n",
       "</style>\n",
       "<table border=\"1\" class=\"dataframe\">\n",
       "  <thead>\n",
       "    <tr style=\"text-align: right;\">\n",
       "      <th></th>\n",
       "      <th>Pregnancies</th>\n",
       "      <th>Glucose</th>\n",
       "      <th>BloodPressure</th>\n",
       "      <th>SkinThickness</th>\n",
       "      <th>Insulin</th>\n",
       "      <th>BMI</th>\n",
       "      <th>DiabetesPedigreeFunction</th>\n",
       "      <th>Age</th>\n",
       "      <th>Outcome</th>\n",
       "    </tr>\n",
       "  </thead>\n",
       "  <tbody>\n",
       "    <tr>\n",
       "      <th>Pregnancies</th>\n",
       "      <td>1.000000</td>\n",
       "      <td>0.129459</td>\n",
       "      <td>0.141282</td>\n",
       "      <td>-0.081672</td>\n",
       "      <td>-0.073535</td>\n",
       "      <td>0.017683</td>\n",
       "      <td>-0.033523</td>\n",
       "      <td>0.544341</td>\n",
       "      <td>0.221898</td>\n",
       "    </tr>\n",
       "    <tr>\n",
       "      <th>Glucose</th>\n",
       "      <td>0.129459</td>\n",
       "      <td>1.000000</td>\n",
       "      <td>0.152590</td>\n",
       "      <td>0.057328</td>\n",
       "      <td>0.331357</td>\n",
       "      <td>0.221071</td>\n",
       "      <td>0.137337</td>\n",
       "      <td>0.263514</td>\n",
       "      <td>0.466581</td>\n",
       "    </tr>\n",
       "    <tr>\n",
       "      <th>BloodPressure</th>\n",
       "      <td>0.141282</td>\n",
       "      <td>0.152590</td>\n",
       "      <td>1.000000</td>\n",
       "      <td>0.207371</td>\n",
       "      <td>0.088933</td>\n",
       "      <td>0.281805</td>\n",
       "      <td>0.041265</td>\n",
       "      <td>0.239528</td>\n",
       "      <td>0.065068</td>\n",
       "    </tr>\n",
       "    <tr>\n",
       "      <th>SkinThickness</th>\n",
       "      <td>-0.081672</td>\n",
       "      <td>0.057328</td>\n",
       "      <td>0.207371</td>\n",
       "      <td>1.000000</td>\n",
       "      <td>0.436783</td>\n",
       "      <td>0.392573</td>\n",
       "      <td>0.183928</td>\n",
       "      <td>-0.113970</td>\n",
       "      <td>0.074752</td>\n",
       "    </tr>\n",
       "    <tr>\n",
       "      <th>Insulin</th>\n",
       "      <td>-0.073535</td>\n",
       "      <td>0.331357</td>\n",
       "      <td>0.088933</td>\n",
       "      <td>0.436783</td>\n",
       "      <td>1.000000</td>\n",
       "      <td>0.197859</td>\n",
       "      <td>0.185071</td>\n",
       "      <td>-0.042163</td>\n",
       "      <td>0.130548</td>\n",
       "    </tr>\n",
       "    <tr>\n",
       "      <th>BMI</th>\n",
       "      <td>0.017683</td>\n",
       "      <td>0.221071</td>\n",
       "      <td>0.281805</td>\n",
       "      <td>0.392573</td>\n",
       "      <td>0.197859</td>\n",
       "      <td>1.000000</td>\n",
       "      <td>0.140647</td>\n",
       "      <td>0.036242</td>\n",
       "      <td>0.292695</td>\n",
       "    </tr>\n",
       "    <tr>\n",
       "      <th>DiabetesPedigreeFunction</th>\n",
       "      <td>-0.033523</td>\n",
       "      <td>0.137337</td>\n",
       "      <td>0.041265</td>\n",
       "      <td>0.183928</td>\n",
       "      <td>0.185071</td>\n",
       "      <td>0.140647</td>\n",
       "      <td>1.000000</td>\n",
       "      <td>0.033561</td>\n",
       "      <td>0.173844</td>\n",
       "    </tr>\n",
       "    <tr>\n",
       "      <th>Age</th>\n",
       "      <td>0.544341</td>\n",
       "      <td>0.263514</td>\n",
       "      <td>0.239528</td>\n",
       "      <td>-0.113970</td>\n",
       "      <td>-0.042163</td>\n",
       "      <td>0.036242</td>\n",
       "      <td>0.033561</td>\n",
       "      <td>1.000000</td>\n",
       "      <td>0.238356</td>\n",
       "    </tr>\n",
       "    <tr>\n",
       "      <th>Outcome</th>\n",
       "      <td>0.221898</td>\n",
       "      <td>0.466581</td>\n",
       "      <td>0.065068</td>\n",
       "      <td>0.074752</td>\n",
       "      <td>0.130548</td>\n",
       "      <td>0.292695</td>\n",
       "      <td>0.173844</td>\n",
       "      <td>0.238356</td>\n",
       "      <td>1.000000</td>\n",
       "    </tr>\n",
       "  </tbody>\n",
       "</table>\n",
       "</div>"
      ],
      "text/plain": [
       "                          Pregnancies   Glucose  BloodPressure  SkinThickness  \\\n",
       "Pregnancies                  1.000000  0.129459       0.141282      -0.081672   \n",
       "Glucose                      0.129459  1.000000       0.152590       0.057328   \n",
       "BloodPressure                0.141282  0.152590       1.000000       0.207371   \n",
       "SkinThickness               -0.081672  0.057328       0.207371       1.000000   \n",
       "Insulin                     -0.073535  0.331357       0.088933       0.436783   \n",
       "BMI                          0.017683  0.221071       0.281805       0.392573   \n",
       "DiabetesPedigreeFunction    -0.033523  0.137337       0.041265       0.183928   \n",
       "Age                          0.544341  0.263514       0.239528      -0.113970   \n",
       "Outcome                      0.221898  0.466581       0.065068       0.074752   \n",
       "\n",
       "                           Insulin       BMI  DiabetesPedigreeFunction  \\\n",
       "Pregnancies              -0.073535  0.017683                 -0.033523   \n",
       "Glucose                   0.331357  0.221071                  0.137337   \n",
       "BloodPressure             0.088933  0.281805                  0.041265   \n",
       "SkinThickness             0.436783  0.392573                  0.183928   \n",
       "Insulin                   1.000000  0.197859                  0.185071   \n",
       "BMI                       0.197859  1.000000                  0.140647   \n",
       "DiabetesPedigreeFunction  0.185071  0.140647                  1.000000   \n",
       "Age                      -0.042163  0.036242                  0.033561   \n",
       "Outcome                   0.130548  0.292695                  0.173844   \n",
       "\n",
       "                               Age   Outcome  \n",
       "Pregnancies               0.544341  0.221898  \n",
       "Glucose                   0.263514  0.466581  \n",
       "BloodPressure             0.239528  0.065068  \n",
       "SkinThickness            -0.113970  0.074752  \n",
       "Insulin                  -0.042163  0.130548  \n",
       "BMI                       0.036242  0.292695  \n",
       "DiabetesPedigreeFunction  0.033561  0.173844  \n",
       "Age                       1.000000  0.238356  \n",
       "Outcome                   0.238356  1.000000  "
      ]
     },
     "execution_count": 9,
     "metadata": {},
     "output_type": "execute_result"
    }
   ],
   "source": [
    "df.corr()"
   ]
  },
  {
   "cell_type": "code",
   "execution_count": 10,
   "id": "03337d1d",
   "metadata": {
    "execution": {
     "iopub.execute_input": "2022-03-16T20:32:19.101929Z",
     "iopub.status.busy": "2022-03-16T20:32:19.098818Z",
     "iopub.status.idle": "2022-03-16T20:32:19.553635Z",
     "shell.execute_reply": "2022-03-16T20:32:19.554233Z",
     "shell.execute_reply.started": "2022-03-16T20:31:36.707944Z"
    },
    "papermill": {
     "duration": 0.491925,
     "end_time": "2022-03-16T20:32:19.554424",
     "exception": false,
     "start_time": "2022-03-16T20:32:19.062499",
     "status": "completed"
    },
    "tags": []
   },
   "outputs": [
    {
     "data": {
      "text/plain": [
       "<Figure size 720x576 with 0 Axes>"
      ]
     },
     "execution_count": 10,
     "metadata": {},
     "output_type": "execute_result"
    },
    {
     "data": {
      "image/png": "[encoded data removed]",
      "text/plain": [
       "<Figure size 432x288 with 2 Axes>"
      ]
     },
     "metadata": {
      "needs_background": "light"
     },
     "output_type": "display_data"
    },
    {
     "data": {
      "text/plain": [
       "<Figure size 720x576 with 0 Axes>"
      ]
     },
     "metadata": {},
     "output_type": "display_data"
    }
   ],
   "source": [
    "#visualize correlation of each variable using pearson correlation\n",
    "sns.heatmap(df.corr(), vmax = 1, linewidths = 0.9, cmap = 'viridis')\n",
    "plt.title('Pearson Correlation', fontsize = 15, pad = 12)\n",
    "plt.figure(figsize = (10,8))"
   ]
  },
  {
   "cell_type": "markdown",
   "id": "6309a35b",
   "metadata": {
    "papermill": {
     "duration": 0.036302,
     "end_time": "2022-03-16T20:32:19.627156",
     "exception": false,
     "start_time": "2022-03-16T20:32:19.590854",
     "status": "completed"
    },
    "tags": []
   },
   "source": [
    "# Linear Regression - Predizer a quantidade de gravidez baseado na idade"
   ]
  },
  {
   "cell_type": "code",
   "execution_count": 11,
   "id": "b827d59e",
   "metadata": {
    "execution": {
     "iopub.execute_input": "2022-03-16T20:32:19.703237Z",
     "iopub.status.busy": "2022-03-16T20:32:19.702476Z",
     "iopub.status.idle": "2022-03-16T20:32:19.706318Z",
     "shell.execute_reply": "2022-03-16T20:32:19.706924Z",
     "shell.execute_reply.started": "2022-03-16T20:31:37.077142Z"
    },
    "papermill": {
     "duration": 0.043613,
     "end_time": "2022-03-16T20:32:19.707109",
     "exception": false,
     "start_time": "2022-03-16T20:32:19.663496",
     "status": "completed"
    },
    "tags": []
   },
   "outputs": [],
   "source": [
    "# Vamos usar aproximidamente 30% dos dados como dados de teste\n",
    "number = int(df.shape[0]*0.3) "
   ]
  },
  {
   "cell_type": "code",
   "execution_count": 12,
   "id": "9ee04504",
   "metadata": {
    "execution": {
     "iopub.execute_input": "2022-03-16T20:32:19.787749Z",
     "iopub.status.busy": "2022-03-16T20:32:19.787028Z",
     "iopub.status.idle": "2022-03-16T20:32:19.790325Z",
     "shell.execute_reply": "2022-03-16T20:32:19.789608Z",
     "shell.execute_reply.started": "2022-03-16T20:31:37.084047Z"
    },
    "papermill": {
     "duration": 0.046545,
     "end_time": "2022-03-16T20:32:19.790481",
     "exception": false,
     "start_time": "2022-03-16T20:32:19.743936",
     "status": "completed"
    },
    "tags": []
   },
   "outputs": [],
   "source": [
    "# Separando o que é dados que serão inputados na nossa\n",
    "# regressão e o que será usado para testa-ela\n",
    "# lembrando, x equivale aos dados que usamos\n",
    "# para prever y\n",
    "X_train = df['Glucose'][0:number].values.reshape((df['Glucose'][0:number].shape[0],1))\n",
    "X_test = df['Glucose'][number::].values.reshape((df['Glucose'][number::].shape[0],1))"
   ]
  },
  {
   "cell_type": "code",
   "execution_count": 13,
   "id": "24283ed8",
   "metadata": {
    "execution": {
     "iopub.execute_input": "2022-03-16T20:32:19.870955Z",
     "iopub.status.busy": "2022-03-16T20:32:19.870211Z",
     "iopub.status.idle": "2022-03-16T20:32:19.873655Z",
     "shell.execute_reply": "2022-03-16T20:32:19.872977Z",
     "shell.execute_reply.started": "2022-03-16T20:31:37.097302Z"
    },
    "papermill": {
     "duration": 0.046525,
     "end_time": "2022-03-16T20:32:19.873810",
     "exception": false,
     "start_time": "2022-03-16T20:32:19.827285",
     "status": "completed"
    },
    "tags": []
   },
   "outputs": [],
   "source": [
    "# Separando o que é dados que serão inputados na nossa\n",
    "# regressão e o que será usado para testa-ela\n",
    "# lembrando, y equivale aos dados que queremos prever\n",
    "y_train = df.Age[0:number].values.reshape((df['Glucose'][0:number].shape[0],1))\n",
    "y_test = df.Age[number::].values.reshape((df['Glucose'][number::].shape[0],1))"
   ]
  },
  {
   "cell_type": "code",
   "execution_count": 14,
   "id": "f664b43d",
   "metadata": {
    "execution": {
     "iopub.execute_input": "2022-03-16T20:32:19.952415Z",
     "iopub.status.busy": "2022-03-16T20:32:19.951707Z",
     "iopub.status.idle": "2022-03-16T20:32:19.969725Z",
     "shell.execute_reply": "2022-03-16T20:32:19.970359Z",
     "shell.execute_reply.started": "2022-03-16T20:31:37.115423Z"
    },
    "papermill": {
     "duration": 0.060473,
     "end_time": "2022-03-16T20:32:19.970545",
     "exception": false,
     "start_time": "2022-03-16T20:32:19.910072",
     "status": "completed"
    },
    "tags": []
   },
   "outputs": [
    {
     "data": {
      "text/plain": [
       "LinearRegression()"
      ]
     },
     "execution_count": 14,
     "metadata": {},
     "output_type": "execute_result"
    }
   ],
   "source": [
    "# montando nosso modelo de regressão linear\n",
    "regr = linear_model.LinearRegression()\n",
    "regr.fit(X_train, y_train)"
   ]
  },
  {
   "cell_type": "code",
   "execution_count": 15,
   "id": "b9d18fa7",
   "metadata": {
    "execution": {
     "iopub.execute_input": "2022-03-16T20:32:20.050749Z",
     "iopub.status.busy": "2022-03-16T20:32:20.050010Z",
     "iopub.status.idle": "2022-03-16T20:32:20.054760Z",
     "shell.execute_reply": "2022-03-16T20:32:20.053985Z",
     "shell.execute_reply.started": "2022-03-16T20:31:37.131839Z"
    },
    "papermill": {
     "duration": 0.047958,
     "end_time": "2022-03-16T20:32:20.054920",
     "exception": false,
     "start_time": "2022-03-16T20:32:20.006962",
     "status": "completed"
    },
    "tags": []
   },
   "outputs": [
    {
     "name": "stdout",
     "output_type": "stream",
     "text": [
      "Maior Diferença entre o Valor Previsto e o Valor Real:\n",
      " [21.87369958]\n"
     ]
    }
   ],
   "source": [
    "# prevendo o dados de teste\n",
    "y_pred = regr.predict(X_test)\n",
    "print('Maior Diferença entre o Valor Previsto e o Valor Real:\\n',max(y_pred-y_test))"
   ]
  },
  {
   "cell_type": "code",
   "execution_count": 16,
   "id": "b685b184",
   "metadata": {
    "execution": {
     "iopub.execute_input": "2022-03-16T20:32:20.134932Z",
     "iopub.status.busy": "2022-03-16T20:32:20.134163Z",
     "iopub.status.idle": "2022-03-16T20:32:20.138784Z",
     "shell.execute_reply": "2022-03-16T20:32:20.139457Z",
     "shell.execute_reply.started": "2022-03-16T20:31:37.142376Z"
    },
    "papermill": {
     "duration": 0.046912,
     "end_time": "2022-03-16T20:32:20.139669",
     "exception": false,
     "start_time": "2022-03-16T20:32:20.092757",
     "status": "completed"
    },
    "tags": []
   },
   "outputs": [
    {
     "name": "stdout",
     "output_type": "stream",
     "text": [
      "Coefficients: \n",
      " [[0.13338942]]\n"
     ]
    }
   ],
   "source": [
    "# Verificando o quão relacionados estão X e Y\n",
    "print('Coefficients: \\n', regr.coef_)"
   ]
  },
  {
   "cell_type": "code",
   "execution_count": 17,
   "id": "f2001a88",
   "metadata": {
    "execution": {
     "iopub.execute_input": "2022-03-16T20:32:20.222320Z",
     "iopub.status.busy": "2022-03-16T20:32:20.221586Z",
     "iopub.status.idle": "2022-03-16T20:32:20.226368Z",
     "shell.execute_reply": "2022-03-16T20:32:20.227252Z",
     "shell.execute_reply.started": "2022-03-16T20:31:37.156854Z"
    },
    "papermill": {
     "duration": 0.049698,
     "end_time": "2022-03-16T20:32:20.227534",
     "exception": false,
     "start_time": "2022-03-16T20:32:20.177836",
     "status": "completed"
    },
    "tags": []
   },
   "outputs": [
    {
     "name": "stdout",
     "output_type": "stream",
     "text": [
      "Mean squared error: 138.93\n"
     ]
    }
   ],
   "source": [
    "# verificando o erro médio\n",
    "print(\"Mean squared error: %.2f\"% mean_squared_error(y_test, y_pred))"
   ]
  },
  {
   "cell_type": "code",
   "execution_count": 18,
   "id": "f58df381",
   "metadata": {
    "execution": {
     "iopub.execute_input": "2022-03-16T20:32:20.314113Z",
     "iopub.status.busy": "2022-03-16T20:32:20.312921Z",
     "iopub.status.idle": "2022-03-16T20:32:20.318081Z",
     "shell.execute_reply": "2022-03-16T20:32:20.317430Z",
     "shell.execute_reply.started": "2022-03-16T20:31:37.172367Z"
    },
    "papermill": {
     "duration": 0.050557,
     "end_time": "2022-03-16T20:32:20.318260",
     "exception": false,
     "start_time": "2022-03-16T20:32:20.267703",
     "status": "completed"
    },
    "tags": []
   },
   "outputs": [
    {
     "name": "stdout",
     "output_type": "stream",
     "text": [
      "Variance score: 0.02\n"
     ]
    }
   ],
   "source": [
    "# r2_score\n",
    "'''O coeficiente de determinação, também chamado de R², é uma medida de ajuste de um modelo estatístico\n",
    "linear generalizado, como a regressão linear simples ou múltipla, aos valores observados de uma variável \n",
    "aleatória. O R² varia entre 0 e 1, por vezes sendo expresso em termos percentuais. Nesse caso, expressa\n",
    "a quantidade da variância dos dados que é explicada pelo modelo linear. Assim, quanto maior o R², mais \n",
    "explicativo é o modelo linear, ou seja, melhor ele se ajusta à amostra. Por exemplo, um R² = 0,8234 \n",
    "significa que o modelo linear explica 82,34% da variância da variável dependente a partir do \n",
    "regressores (variáveis independentes) incluídas naquele modelo linear.'''\n",
    "\n",
    "# se der 1, nosso modelo está maravilhosamente bom\n",
    "print('Variance score: %.2f' % r2_score(y_test, y_pred))"
   ]
  },
  {
   "cell_type": "code",
   "execution_count": 19,
   "id": "dead619e",
   "metadata": {
    "execution": {
     "iopub.execute_input": "2022-03-16T20:32:20.425109Z",
     "iopub.status.busy": "2022-03-16T20:32:20.424319Z",
     "iopub.status.idle": "2022-03-16T20:32:20.682940Z",
     "shell.execute_reply": "2022-03-16T20:32:20.683537Z",
     "shell.execute_reply.started": "2022-03-16T20:31:37.185096Z"
    },
    "papermill": {
     "duration": 0.326643,
     "end_time": "2022-03-16T20:32:20.683723",
     "exception": false,
     "start_time": "2022-03-16T20:32:20.357080",
     "status": "completed"
    },
    "tags": []
   },
   "outputs": [
    {
     "data": {
      "text/plain": [
       "[<matplotlib.lines.Line2D at 0x7f53e587e2d0>]"
      ]
     },
     "execution_count": 19,
     "metadata": {},
     "output_type": "execute_result"
    },
    {
     "data": {
      "image/png": "[encoded data removed]",
      "text/plain": [
       "<Figure size 432x288 with 1 Axes>"
      ]
     },
     "metadata": {
      "needs_background": "light"
     },
     "output_type": "display_data"
    }
   ],
   "source": [
    "# plotando um gráfico\n",
    "plt.scatter(X_test, y_test,  color='black')\n",
    "plt.plot(X_test, y_pred, color='blue', linewidth=3)"
   ]
  },
  {
   "cell_type": "markdown",
   "id": "b10131de",
   "metadata": {
    "papermill": {
     "duration": 0.040212,
     "end_time": "2022-03-16T20:32:20.763770",
     "exception": false,
     "start_time": "2022-03-16T20:32:20.723558",
     "status": "completed"
    },
    "tags": []
   },
   "source": [
    "# Machine Learning - Predizer a ocorrência de diabetes "
   ]
  },
  {
   "cell_type": "code",
   "execution_count": 20,
   "id": "0ac01e34",
   "metadata": {
    "execution": {
     "iopub.execute_input": "2022-03-16T20:32:20.848750Z",
     "iopub.status.busy": "2022-03-16T20:32:20.848068Z",
     "iopub.status.idle": "2022-03-16T20:32:20.851498Z",
     "shell.execute_reply": "2022-03-16T20:32:20.850796Z",
     "shell.execute_reply.started": "2022-03-16T20:31:37.389334Z"
    },
    "papermill": {
     "duration": 0.048497,
     "end_time": "2022-03-16T20:32:20.851657",
     "exception": false,
     "start_time": "2022-03-16T20:32:20.803160",
     "status": "completed"
    },
    "tags": []
   },
   "outputs": [],
   "source": [
    "preditora = df.drop('Outcome',axis=1)\n",
    "alvo      = df['Outcome']"
   ]
  },
  {
   "cell_type": "code",
   "execution_count": 21,
   "id": "43f0b6a9",
   "metadata": {
    "execution": {
     "iopub.execute_input": "2022-03-16T20:32:20.938267Z",
     "iopub.status.busy": "2022-03-16T20:32:20.937520Z",
     "iopub.status.idle": "2022-03-16T20:32:20.939888Z",
     "shell.execute_reply": "2022-03-16T20:32:20.940518Z",
     "shell.execute_reply.started": "2022-03-16T20:31:37.396719Z"
    },
    "papermill": {
     "duration": 0.049473,
     "end_time": "2022-03-16T20:32:20.940706",
     "exception": false,
     "start_time": "2022-03-16T20:32:20.891233",
     "status": "completed"
    },
    "tags": []
   },
   "outputs": [],
   "source": [
    "x_treino,x_test,y_treino,y_test = train_test_split(preditora, alvo, test_size = 0.3)"
   ]
  },
  {
   "cell_type": "code",
   "execution_count": 22,
   "id": "c6bbb07e",
   "metadata": {
    "execution": {
     "iopub.execute_input": "2022-03-16T20:32:21.024418Z",
     "iopub.status.busy": "2022-03-16T20:32:21.023716Z",
     "iopub.status.idle": "2022-03-16T20:32:21.214151Z",
     "shell.execute_reply": "2022-03-16T20:32:21.213359Z",
     "shell.execute_reply.started": "2022-03-16T20:31:37.411914Z"
    },
    "papermill": {
     "duration": 0.23357,
     "end_time": "2022-03-16T20:32:21.214325",
     "exception": false,
     "start_time": "2022-03-16T20:32:20.980755",
     "status": "completed"
    },
    "tags": []
   },
   "outputs": [
    {
     "name": "stdout",
     "output_type": "stream",
     "text": [
      "Acurácia:  0.7835497835497836\n"
     ]
    }
   ],
   "source": [
    "# ExtraTreesClassifier\n",
    "'''An extra-trees classifier.\n",
    "\n",
    "This class implements a meta estimator that fits a number of randomized decision trees \n",
    "(a.k.a. extra-trees) on various sub-samples of the dataset and uses averaging to improve the \n",
    "predictive accuracy and control over-fitting.\n",
    "'''\n",
    "\n",
    "modelo = ExtraTreesClassifier()\n",
    "modelo.fit(x_treino,y_treino)\n",
    "\n",
    "resultado = modelo.score(x_test,y_test)\n",
    "print('Acurácia: ',resultado)"
   ]
  },
  {
   "cell_type": "markdown",
   "id": "f4619d7b",
   "metadata": {
    "papermill": {
     "duration": 0.040356,
     "end_time": "2022-03-16T20:32:21.295402",
     "exception": false,
     "start_time": "2022-03-16T20:32:21.255046",
     "status": "completed"
    },
    "tags": []
   },
   "source": [
    "# Conclusions\n",
    "\n",
    "* A acurácia utilizando o extra-trees classifier é 0.7575757575757576\n",
    "* A relação entre gravidez e idade não obedece uma relação linear de acordo com a análise de regressão linear feita, dessa forma, já era de se esperar que o coeficiente de determinação (r2_score) fosse próximo a zero."
   ]
  }
 ],
 "metadata": {
  "kernelspec": {
   "display_name": "Python 3",
   "language": "python",
   "name": "python3"
  },
  "language_info": {
   "codemirror_mode": {
    "name": "ipython",
    "version": 3
   },
   "file_extension": ".py",
   "mimetype": "text/x-python",
   "name": "python",
   "nbconvert_exporter": "python",
   "pygments_lexer": "ipython3",
   "version": "3.7.12"
  },
  "papermill": {
   "default_parameters": {},
   "duration": 15.965093,
   "end_time": "2022-03-16T20:32:22.048145",
   "environment_variables": {},
   "exception": null,
   "input_path": "__notebook__.ipynb",
   "output_path": "__notebook__.ipynb",
   "parameters": {},
   "start_time": "2022-03-16T20:32:06.083052",
   "version": "2.3.3"
  }
 },
 "nbformat": 4,
 "nbformat_minor": 5
}
