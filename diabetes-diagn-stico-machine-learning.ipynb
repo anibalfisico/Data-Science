{
 "cells": [
  {
   "cell_type": "code",
   "execution_count": 1,
   "id": "eb755afd",
   "metadata": {
    "_cell_guid": "b1076dfc-b9ad-4769-8c92-a6c4dae69d19",
    "_uuid": "8f2839f25d086af736a60e9eeb907d3b93b6e0e5",
    "execution": {
     "iopub.execute_input": "2022-03-24T01:31:48.568145Z",
     "iopub.status.busy": "2022-03-24T01:31:48.567452Z",
     "iopub.status.idle": "2022-03-24T01:31:50.144999Z",
     "shell.execute_reply": "2022-03-24T01:31:50.143842Z",
     "shell.execute_reply.started": "2022-03-24T01:10:01.841094Z"
    },
    "papermill": {
     "duration": 1.615623,
     "end_time": "2022-03-24T01:31:50.145275",
     "exception": false,
     "start_time": "2022-03-24T01:31:48.529652",
     "status": "completed"
    },
    "tags": []
   },
   "outputs": [
    {
     "name": "stdout",
     "output_type": "stream",
     "text": [
      "/kaggle/input/pima-indians-diabetes-database/diabetes.csv\n"
     ]
    }
   ],
   "source": [
    "# This Python 3 environment comes with many helpful analytics libraries installed\n",
    "# It is defined by the kaggle/python Docker image: https://github.com/kaggle/docker-python\n",
    "# For example, here's several helpful packages to load\n",
    "\n",
    "import numpy as np # linear algebra\n",
    "import pandas as pd # data processing, CSV file I/O (e.g. pd.read_csv)\n",
    "import seaborn as sns\n",
    "import matplotlib.pyplot as plt\n",
    "from sklearn import datasets, linear_model\n",
    "from sklearn.metrics import mean_squared_error, r2_score\n",
    "from sklearn.model_selection import train_test_split\n",
    "from sklearn.ensemble import ExtraTreesClassifier\n",
    "from sklearn.linear_model import LogisticRegression\n",
    "\n",
    "# Input data files are available in the read-only \"../input/\" directory\n",
    "# For example, running this (by clicking run or pressing Shift+Enter) will list all files under the input directory\n",
    "\n",
    "import os\n",
    "for dirname, _, filenames in os.walk('/kaggle/input'):\n",
    "    for filename in filenames:\n",
    "        print(os.path.join(dirname, filename))\n",
    "\n",
    "# You can write up to 20GB to the current directory (/kaggle/working/) that gets preserved as output when you create a version using \"Save & Run All\" \n",
    "# You can also write temporary files to /kaggle/temp/, but they won't be saved outside of the current session"
   ]
  },
  {
   "cell_type": "markdown",
   "id": "915df889",
   "metadata": {
    "papermill": {
     "duration": 0.025454,
     "end_time": "2022-03-24T01:31:50.198875",
     "exception": false,
     "start_time": "2022-03-24T01:31:50.173421",
     "status": "completed"
    },
    "tags": []
   },
   "source": [
    "# Data Extraction"
   ]
  },
  {
   "cell_type": "code",
   "execution_count": 2,
   "id": "df63af85",
   "metadata": {
    "execution": {
     "iopub.execute_input": "2022-03-24T01:31:50.255019Z",
     "iopub.status.busy": "2022-03-24T01:31:50.254242Z",
     "iopub.status.idle": "2022-03-24T01:31:50.291118Z",
     "shell.execute_reply": "2022-03-24T01:31:50.291595Z",
     "shell.execute_reply.started": "2022-03-24T01:10:01.876387Z"
    },
    "papermill": {
     "duration": 0.067711,
     "end_time": "2022-03-24T01:31:50.291813",
     "exception": false,
     "start_time": "2022-03-24T01:31:50.224102",
     "status": "completed"
    },
    "tags": []
   },
   "outputs": [
    {
     "data": {
      "text/html": [
       "<div>\n",
       "<style scoped>\n",
       "    .dataframe tbody tr th:only-of-type {\n",
       "        vertical-align: middle;\n",
       "    }\n",
       "\n",
       "    .dataframe tbody tr th {\n",
       "        vertical-align: top;\n",
       "    }\n",
       "\n",
       "    .dataframe thead th {\n",
       "        text-align: right;\n",
       "    }\n",
       "</style>\n",
       "<table border=\"1\" class=\"dataframe\">\n",
       "  <thead>\n",
       "    <tr style=\"text-align: right;\">\n",
       "      <th></th>\n",
       "      <th>Pregnancies</th>\n",
       "      <th>Glucose</th>\n",
       "      <th>BloodPressure</th>\n",
       "      <th>SkinThickness</th>\n",
       "      <th>Insulin</th>\n",
       "      <th>BMI</th>\n",
       "      <th>DiabetesPedigreeFunction</th>\n",
       "      <th>Age</th>\n",
       "      <th>Outcome</th>\n",
       "    </tr>\n",
       "  </thead>\n",
       "  <tbody>\n",
       "    <tr>\n",
       "      <th>0</th>\n",
       "      <td>6</td>\n",
       "      <td>148</td>\n",
       "      <td>72</td>\n",
       "      <td>35</td>\n",
       "      <td>0</td>\n",
       "      <td>33.6</td>\n",
       "      <td>0.627</td>\n",
       "      <td>50</td>\n",
       "      <td>1</td>\n",
       "    </tr>\n",
       "    <tr>\n",
       "      <th>1</th>\n",
       "      <td>1</td>\n",
       "      <td>85</td>\n",
       "      <td>66</td>\n",
       "      <td>29</td>\n",
       "      <td>0</td>\n",
       "      <td>26.6</td>\n",
       "      <td>0.351</td>\n",
       "      <td>31</td>\n",
       "      <td>0</td>\n",
       "    </tr>\n",
       "    <tr>\n",
       "      <th>2</th>\n",
       "      <td>8</td>\n",
       "      <td>183</td>\n",
       "      <td>64</td>\n",
       "      <td>0</td>\n",
       "      <td>0</td>\n",
       "      <td>23.3</td>\n",
       "      <td>0.672</td>\n",
       "      <td>32</td>\n",
       "      <td>1</td>\n",
       "    </tr>\n",
       "    <tr>\n",
       "      <th>3</th>\n",
       "      <td>1</td>\n",
       "      <td>89</td>\n",
       "      <td>66</td>\n",
       "      <td>23</td>\n",
       "      <td>94</td>\n",
       "      <td>28.1</td>\n",
       "      <td>0.167</td>\n",
       "      <td>21</td>\n",
       "      <td>0</td>\n",
       "    </tr>\n",
       "    <tr>\n",
       "      <th>4</th>\n",
       "      <td>0</td>\n",
       "      <td>137</td>\n",
       "      <td>40</td>\n",
       "      <td>35</td>\n",
       "      <td>168</td>\n",
       "      <td>43.1</td>\n",
       "      <td>2.288</td>\n",
       "      <td>33</td>\n",
       "      <td>1</td>\n",
       "    </tr>\n",
       "  </tbody>\n",
       "</table>\n",
       "</div>"
      ],
      "text/plain": [
       "   Pregnancies  Glucose  BloodPressure  SkinThickness  Insulin   BMI  \\\n",
       "0            6      148             72             35        0  33.6   \n",
       "1            1       85             66             29        0  26.6   \n",
       "2            8      183             64              0        0  23.3   \n",
       "3            1       89             66             23       94  28.1   \n",
       "4            0      137             40             35      168  43.1   \n",
       "\n",
       "   DiabetesPedigreeFunction  Age  Outcome  \n",
       "0                     0.627   50        1  \n",
       "1                     0.351   31        0  \n",
       "2                     0.672   32        1  \n",
       "3                     0.167   21        0  \n",
       "4                     2.288   33        1  "
      ]
     },
     "execution_count": 2,
     "metadata": {},
     "output_type": "execute_result"
    }
   ],
   "source": [
    "df = pd.read_csv('/kaggle/input/pima-indians-diabetes-database/diabetes.csv')\n",
    "df.head()"
   ]
  },
  {
   "cell_type": "markdown",
   "id": "1ef8621c",
   "metadata": {
    "papermill": {
     "duration": 0.025179,
     "end_time": "2022-03-24T01:31:50.342558",
     "exception": false,
     "start_time": "2022-03-24T01:31:50.317379",
     "status": "completed"
    },
    "tags": []
   },
   "source": [
    "# Exploratory Data Analysis (EDA)"
   ]
  },
  {
   "cell_type": "code",
   "execution_count": 3,
   "id": "e809074b",
   "metadata": {
    "execution": {
     "iopub.execute_input": "2022-03-24T01:31:50.398797Z",
     "iopub.status.busy": "2022-03-24T01:31:50.398096Z",
     "iopub.status.idle": "2022-03-24T01:31:50.400889Z",
     "shell.execute_reply": "2022-03-24T01:31:50.401368Z",
     "shell.execute_reply.started": "2022-03-24T01:10:01.900497Z"
    },
    "papermill": {
     "duration": 0.033531,
     "end_time": "2022-03-24T01:31:50.401536",
     "exception": false,
     "start_time": "2022-03-24T01:31:50.368005",
     "status": "completed"
    },
    "tags": []
   },
   "outputs": [
    {
     "data": {
      "text/plain": [
       "(768, 9)"
      ]
     },
     "execution_count": 3,
     "metadata": {},
     "output_type": "execute_result"
    }
   ],
   "source": [
    "#check the shape of dataset\n",
    "df.shape"
   ]
  },
  {
   "cell_type": "code",
   "execution_count": 4,
   "id": "fa2f7c87",
   "metadata": {
    "execution": {
     "iopub.execute_input": "2022-03-24T01:31:50.456978Z",
     "iopub.status.busy": "2022-03-24T01:31:50.456310Z",
     "iopub.status.idle": "2022-03-24T01:31:50.460989Z",
     "shell.execute_reply": "2022-03-24T01:31:50.461562Z",
     "shell.execute_reply.started": "2022-03-24T01:10:01.927183Z"
    },
    "papermill": {
     "duration": 0.033788,
     "end_time": "2022-03-24T01:31:50.461752",
     "exception": false,
     "start_time": "2022-03-24T01:31:50.427964",
     "status": "completed"
    },
    "tags": []
   },
   "outputs": [
    {
     "data": {
      "text/plain": [
       "Index(['Pregnancies', 'Glucose', 'BloodPressure', 'SkinThickness', 'Insulin',\n",
       "       'BMI', 'DiabetesPedigreeFunction', 'Age', 'Outcome'],\n",
       "      dtype='object')"
      ]
     },
     "execution_count": 4,
     "metadata": {},
     "output_type": "execute_result"
    }
   ],
   "source": [
    "#check all columns\n",
    "df.columns"
   ]
  },
  {
   "cell_type": "code",
   "execution_count": 5,
   "id": "2c551d84",
   "metadata": {
    "execution": {
     "iopub.execute_input": "2022-03-24T01:31:50.518719Z",
     "iopub.status.busy": "2022-03-24T01:31:50.518076Z",
     "iopub.status.idle": "2022-03-24T01:31:50.542681Z",
     "shell.execute_reply": "2022-03-24T01:31:50.543176Z",
     "shell.execute_reply.started": "2022-03-24T01:10:01.959854Z"
    },
    "papermill": {
     "duration": 0.055554,
     "end_time": "2022-03-24T01:31:50.543356",
     "exception": false,
     "start_time": "2022-03-24T01:31:50.487802",
     "status": "completed"
    },
    "tags": []
   },
   "outputs": [
    {
     "name": "stdout",
     "output_type": "stream",
     "text": [
      "<class 'pandas.core.frame.DataFrame'>\n",
      "RangeIndex: 768 entries, 0 to 767\n",
      "Data columns (total 9 columns):\n",
      " #   Column                    Non-Null Count  Dtype  \n",
      "---  ------                    --------------  -----  \n",
      " 0   Pregnancies               768 non-null    int64  \n",
      " 1   Glucose                   768 non-null    int64  \n",
      " 2   BloodPressure             768 non-null    int64  \n",
      " 3   SkinThickness             768 non-null    int64  \n",
      " 4   Insulin                   768 non-null    int64  \n",
      " 5   BMI                       768 non-null    float64\n",
      " 6   DiabetesPedigreeFunction  768 non-null    float64\n",
      " 7   Age                       768 non-null    int64  \n",
      " 8   Outcome                   768 non-null    int64  \n",
      "dtypes: float64(2), int64(7)\n",
      "memory usage: 54.1 KB\n"
     ]
    }
   ],
   "source": [
    "# Let’s also make sure that our data is clean (has no null values, etc)\n",
    "df.info()"
   ]
  },
  {
   "cell_type": "markdown",
   "id": "a81a556e",
   "metadata": {
    "papermill": {
     "duration": 0.026413,
     "end_time": "2022-03-24T01:31:50.596489",
     "exception": false,
     "start_time": "2022-03-24T01:31:50.570076",
     "status": "completed"
    },
    "tags": []
   },
   "source": [
    "Note that the data does have some missing values (see Insulin = 0) in the samples in the previous \n",
    "figure. Ideally we could replace these 0 values with the mean value for that feature, but we’ll skip \n",
    "that for now."
   ]
  },
  {
   "cell_type": "code",
   "execution_count": 6,
   "id": "c7fd683e",
   "metadata": {
    "execution": {
     "iopub.execute_input": "2022-03-24T01:31:50.653073Z",
     "iopub.status.busy": "2022-03-24T01:31:50.652355Z",
     "iopub.status.idle": "2022-03-24T01:31:52.615158Z",
     "shell.execute_reply": "2022-03-24T01:31:52.615710Z",
     "shell.execute_reply.started": "2022-03-24T01:10:01.983646Z"
    },
    "papermill": {
     "duration": 1.992685,
     "end_time": "2022-03-24T01:31:52.615888",
     "exception": false,
     "start_time": "2022-03-24T01:31:50.623203",
     "status": "completed"
    },
    "tags": []
   },
   "outputs": [
    {
     "data": {
      "image/png": "[encoded data removed]",
      "text/plain": [
       "<Figure size 1440x1080 with 9 Axes>"
      ]
     },
     "metadata": {
      "needs_background": "light"
     },
     "output_type": "display_data"
    }
   ],
   "source": [
    "#plotar o histograma das variaveis numéricas\n",
    "df.hist(bins=20, figsize=(20,15));"
   ]
  },
  {
   "cell_type": "code",
   "execution_count": 7,
   "id": "cf94c362",
   "metadata": {
    "execution": {
     "iopub.execute_input": "2022-03-24T01:31:52.681533Z",
     "iopub.status.busy": "2022-03-24T01:31:52.680530Z",
     "iopub.status.idle": "2022-03-24T01:31:52.698063Z",
     "shell.execute_reply": "2022-03-24T01:31:52.697413Z",
     "shell.execute_reply.started": "2022-03-24T01:10:03.986683Z"
    },
    "papermill": {
     "duration": 0.053454,
     "end_time": "2022-03-24T01:31:52.698214",
     "exception": false,
     "start_time": "2022-03-24T01:31:52.644760",
     "status": "completed"
    },
    "tags": []
   },
   "outputs": [
    {
     "data": {
      "text/html": [
       "<div>\n",
       "<style scoped>\n",
       "    .dataframe tbody tr th:only-of-type {\n",
       "        vertical-align: middle;\n",
       "    }\n",
       "\n",
       "    .dataframe tbody tr th {\n",
       "        vertical-align: top;\n",
       "    }\n",
       "\n",
       "    .dataframe thead th {\n",
       "        text-align: right;\n",
       "    }\n",
       "</style>\n",
       "<table border=\"1\" class=\"dataframe\">\n",
       "  <thead>\n",
       "    <tr style=\"text-align: right;\">\n",
       "      <th></th>\n",
       "      <th>Pregnancies</th>\n",
       "      <th>Glucose</th>\n",
       "      <th>BloodPressure</th>\n",
       "      <th>SkinThickness</th>\n",
       "      <th>Insulin</th>\n",
       "      <th>BMI</th>\n",
       "      <th>DiabetesPedigreeFunction</th>\n",
       "      <th>Age</th>\n",
       "      <th>Outcome</th>\n",
       "    </tr>\n",
       "  </thead>\n",
       "  <tbody>\n",
       "    <tr>\n",
       "      <th>0</th>\n",
       "      <td>6</td>\n",
       "      <td>148</td>\n",
       "      <td>72</td>\n",
       "      <td>35</td>\n",
       "      <td>0</td>\n",
       "      <td>33.6</td>\n",
       "      <td>0.627</td>\n",
       "      <td>50</td>\n",
       "      <td>1</td>\n",
       "    </tr>\n",
       "    <tr>\n",
       "      <th>1</th>\n",
       "      <td>1</td>\n",
       "      <td>85</td>\n",
       "      <td>66</td>\n",
       "      <td>29</td>\n",
       "      <td>0</td>\n",
       "      <td>26.6</td>\n",
       "      <td>0.351</td>\n",
       "      <td>31</td>\n",
       "      <td>0</td>\n",
       "    </tr>\n",
       "    <tr>\n",
       "      <th>2</th>\n",
       "      <td>8</td>\n",
       "      <td>183</td>\n",
       "      <td>64</td>\n",
       "      <td>0</td>\n",
       "      <td>0</td>\n",
       "      <td>23.3</td>\n",
       "      <td>0.672</td>\n",
       "      <td>32</td>\n",
       "      <td>1</td>\n",
       "    </tr>\n",
       "    <tr>\n",
       "      <th>3</th>\n",
       "      <td>1</td>\n",
       "      <td>89</td>\n",
       "      <td>66</td>\n",
       "      <td>23</td>\n",
       "      <td>94</td>\n",
       "      <td>28.1</td>\n",
       "      <td>0.167</td>\n",
       "      <td>21</td>\n",
       "      <td>0</td>\n",
       "    </tr>\n",
       "    <tr>\n",
       "      <th>4</th>\n",
       "      <td>0</td>\n",
       "      <td>137</td>\n",
       "      <td>40</td>\n",
       "      <td>35</td>\n",
       "      <td>168</td>\n",
       "      <td>43.1</td>\n",
       "      <td>2.288</td>\n",
       "      <td>33</td>\n",
       "      <td>1</td>\n",
       "    </tr>\n",
       "    <tr>\n",
       "      <th>...</th>\n",
       "      <td>...</td>\n",
       "      <td>...</td>\n",
       "      <td>...</td>\n",
       "      <td>...</td>\n",
       "      <td>...</td>\n",
       "      <td>...</td>\n",
       "      <td>...</td>\n",
       "      <td>...</td>\n",
       "      <td>...</td>\n",
       "    </tr>\n",
       "    <tr>\n",
       "      <th>763</th>\n",
       "      <td>10</td>\n",
       "      <td>101</td>\n",
       "      <td>76</td>\n",
       "      <td>48</td>\n",
       "      <td>180</td>\n",
       "      <td>32.9</td>\n",
       "      <td>0.171</td>\n",
       "      <td>63</td>\n",
       "      <td>0</td>\n",
       "    </tr>\n",
       "    <tr>\n",
       "      <th>764</th>\n",
       "      <td>2</td>\n",
       "      <td>122</td>\n",
       "      <td>70</td>\n",
       "      <td>27</td>\n",
       "      <td>0</td>\n",
       "      <td>36.8</td>\n",
       "      <td>0.340</td>\n",
       "      <td>27</td>\n",
       "      <td>0</td>\n",
       "    </tr>\n",
       "    <tr>\n",
       "      <th>765</th>\n",
       "      <td>5</td>\n",
       "      <td>121</td>\n",
       "      <td>72</td>\n",
       "      <td>23</td>\n",
       "      <td>112</td>\n",
       "      <td>26.2</td>\n",
       "      <td>0.245</td>\n",
       "      <td>30</td>\n",
       "      <td>0</td>\n",
       "    </tr>\n",
       "    <tr>\n",
       "      <th>766</th>\n",
       "      <td>1</td>\n",
       "      <td>126</td>\n",
       "      <td>60</td>\n",
       "      <td>0</td>\n",
       "      <td>0</td>\n",
       "      <td>30.1</td>\n",
       "      <td>0.349</td>\n",
       "      <td>47</td>\n",
       "      <td>1</td>\n",
       "    </tr>\n",
       "    <tr>\n",
       "      <th>767</th>\n",
       "      <td>1</td>\n",
       "      <td>93</td>\n",
       "      <td>70</td>\n",
       "      <td>31</td>\n",
       "      <td>0</td>\n",
       "      <td>30.4</td>\n",
       "      <td>0.315</td>\n",
       "      <td>23</td>\n",
       "      <td>0</td>\n",
       "    </tr>\n",
       "  </tbody>\n",
       "</table>\n",
       "<p>768 rows × 9 columns</p>\n",
       "</div>"
      ],
      "text/plain": [
       "     Pregnancies  Glucose  BloodPressure  SkinThickness  Insulin   BMI  \\\n",
       "0              6      148             72             35        0  33.6   \n",
       "1              1       85             66             29        0  26.6   \n",
       "2              8      183             64              0        0  23.3   \n",
       "3              1       89             66             23       94  28.1   \n",
       "4              0      137             40             35      168  43.1   \n",
       "..           ...      ...            ...            ...      ...   ...   \n",
       "763           10      101             76             48      180  32.9   \n",
       "764            2      122             70             27        0  36.8   \n",
       "765            5      121             72             23      112  26.2   \n",
       "766            1      126             60              0        0  30.1   \n",
       "767            1       93             70             31        0  30.4   \n",
       "\n",
       "     DiabetesPedigreeFunction  Age  Outcome  \n",
       "0                       0.627   50        1  \n",
       "1                       0.351   31        0  \n",
       "2                       0.672   32        1  \n",
       "3                       0.167   21        0  \n",
       "4                       2.288   33        1  \n",
       "..                        ...  ...      ...  \n",
       "763                     0.171   63        0  \n",
       "764                     0.340   27        0  \n",
       "765                     0.245   30        0  \n",
       "766                     0.349   47        1  \n",
       "767                     0.315   23        0  \n",
       "\n",
       "[768 rows x 9 columns]"
      ]
     },
     "execution_count": 7,
     "metadata": {},
     "output_type": "execute_result"
    }
   ],
   "source": [
    "df.drop_duplicates()"
   ]
  },
  {
   "cell_type": "code",
   "execution_count": 8,
   "id": "8e7af6ee",
   "metadata": {
    "execution": {
     "iopub.execute_input": "2022-03-24T01:31:52.766462Z",
     "iopub.status.busy": "2022-03-24T01:31:52.765337Z",
     "iopub.status.idle": "2022-03-24T01:31:52.799353Z",
     "shell.execute_reply": "2022-03-24T01:31:52.798804Z",
     "shell.execute_reply.started": "2022-03-24T01:10:04.011222Z"
    },
    "papermill": {
     "duration": 0.072012,
     "end_time": "2022-03-24T01:31:52.799496",
     "exception": false,
     "start_time": "2022-03-24T01:31:52.727484",
     "status": "completed"
    },
    "tags": []
   },
   "outputs": [
    {
     "data": {
      "text/html": [
       "<div>\n",
       "<style scoped>\n",
       "    .dataframe tbody tr th:only-of-type {\n",
       "        vertical-align: middle;\n",
       "    }\n",
       "\n",
       "    .dataframe tbody tr th {\n",
       "        vertical-align: top;\n",
       "    }\n",
       "\n",
       "    .dataframe thead th {\n",
       "        text-align: right;\n",
       "    }\n",
       "</style>\n",
       "<table border=\"1\" class=\"dataframe\">\n",
       "  <thead>\n",
       "    <tr style=\"text-align: right;\">\n",
       "      <th></th>\n",
       "      <th>Pregnancies</th>\n",
       "      <th>Glucose</th>\n",
       "      <th>BloodPressure</th>\n",
       "      <th>SkinThickness</th>\n",
       "      <th>Insulin</th>\n",
       "      <th>BMI</th>\n",
       "      <th>DiabetesPedigreeFunction</th>\n",
       "      <th>Age</th>\n",
       "      <th>Outcome</th>\n",
       "    </tr>\n",
       "  </thead>\n",
       "  <tbody>\n",
       "    <tr>\n",
       "      <th>count</th>\n",
       "      <td>768.000000</td>\n",
       "      <td>768.000000</td>\n",
       "      <td>768.000000</td>\n",
       "      <td>768.000000</td>\n",
       "      <td>768.000000</td>\n",
       "      <td>768.000000</td>\n",
       "      <td>768.000000</td>\n",
       "      <td>768.000000</td>\n",
       "      <td>768.000000</td>\n",
       "    </tr>\n",
       "    <tr>\n",
       "      <th>mean</th>\n",
       "      <td>3.845052</td>\n",
       "      <td>120.894531</td>\n",
       "      <td>69.105469</td>\n",
       "      <td>20.536458</td>\n",
       "      <td>79.799479</td>\n",
       "      <td>31.992578</td>\n",
       "      <td>0.471876</td>\n",
       "      <td>33.240885</td>\n",
       "      <td>0.348958</td>\n",
       "    </tr>\n",
       "    <tr>\n",
       "      <th>std</th>\n",
       "      <td>3.369578</td>\n",
       "      <td>31.972618</td>\n",
       "      <td>19.355807</td>\n",
       "      <td>15.952218</td>\n",
       "      <td>115.244002</td>\n",
       "      <td>7.884160</td>\n",
       "      <td>0.331329</td>\n",
       "      <td>11.760232</td>\n",
       "      <td>0.476951</td>\n",
       "    </tr>\n",
       "    <tr>\n",
       "      <th>min</th>\n",
       "      <td>0.000000</td>\n",
       "      <td>0.000000</td>\n",
       "      <td>0.000000</td>\n",
       "      <td>0.000000</td>\n",
       "      <td>0.000000</td>\n",
       "      <td>0.000000</td>\n",
       "      <td>0.078000</td>\n",
       "      <td>21.000000</td>\n",
       "      <td>0.000000</td>\n",
       "    </tr>\n",
       "    <tr>\n",
       "      <th>25%</th>\n",
       "      <td>1.000000</td>\n",
       "      <td>99.000000</td>\n",
       "      <td>62.000000</td>\n",
       "      <td>0.000000</td>\n",
       "      <td>0.000000</td>\n",
       "      <td>27.300000</td>\n",
       "      <td>0.243750</td>\n",
       "      <td>24.000000</td>\n",
       "      <td>0.000000</td>\n",
       "    </tr>\n",
       "    <tr>\n",
       "      <th>50%</th>\n",
       "      <td>3.000000</td>\n",
       "      <td>117.000000</td>\n",
       "      <td>72.000000</td>\n",
       "      <td>23.000000</td>\n",
       "      <td>30.500000</td>\n",
       "      <td>32.000000</td>\n",
       "      <td>0.372500</td>\n",
       "      <td>29.000000</td>\n",
       "      <td>0.000000</td>\n",
       "    </tr>\n",
       "    <tr>\n",
       "      <th>75%</th>\n",
       "      <td>6.000000</td>\n",
       "      <td>140.250000</td>\n",
       "      <td>80.000000</td>\n",
       "      <td>32.000000</td>\n",
       "      <td>127.250000</td>\n",
       "      <td>36.600000</td>\n",
       "      <td>0.626250</td>\n",
       "      <td>41.000000</td>\n",
       "      <td>1.000000</td>\n",
       "    </tr>\n",
       "    <tr>\n",
       "      <th>max</th>\n",
       "      <td>17.000000</td>\n",
       "      <td>199.000000</td>\n",
       "      <td>122.000000</td>\n",
       "      <td>99.000000</td>\n",
       "      <td>846.000000</td>\n",
       "      <td>67.100000</td>\n",
       "      <td>2.420000</td>\n",
       "      <td>81.000000</td>\n",
       "      <td>1.000000</td>\n",
       "    </tr>\n",
       "  </tbody>\n",
       "</table>\n",
       "</div>"
      ],
      "text/plain": [
       "       Pregnancies     Glucose  BloodPressure  SkinThickness     Insulin  \\\n",
       "count   768.000000  768.000000     768.000000     768.000000  768.000000   \n",
       "mean      3.845052  120.894531      69.105469      20.536458   79.799479   \n",
       "std       3.369578   31.972618      19.355807      15.952218  115.244002   \n",
       "min       0.000000    0.000000       0.000000       0.000000    0.000000   \n",
       "25%       1.000000   99.000000      62.000000       0.000000    0.000000   \n",
       "50%       3.000000  117.000000      72.000000      23.000000   30.500000   \n",
       "75%       6.000000  140.250000      80.000000      32.000000  127.250000   \n",
       "max      17.000000  199.000000     122.000000      99.000000  846.000000   \n",
       "\n",
       "              BMI  DiabetesPedigreeFunction         Age     Outcome  \n",
       "count  768.000000                768.000000  768.000000  768.000000  \n",
       "mean    31.992578                  0.471876   33.240885    0.348958  \n",
       "std      7.884160                  0.331329   11.760232    0.476951  \n",
       "min      0.000000                  0.078000   21.000000    0.000000  \n",
       "25%     27.300000                  0.243750   24.000000    0.000000  \n",
       "50%     32.000000                  0.372500   29.000000    0.000000  \n",
       "75%     36.600000                  0.626250   41.000000    1.000000  \n",
       "max     67.100000                  2.420000   81.000000    1.000000  "
      ]
     },
     "execution_count": 8,
     "metadata": {},
     "output_type": "execute_result"
    }
   ],
   "source": [
    "#describe all columns\n",
    "df.describe()"
   ]
  },
  {
   "cell_type": "code",
   "execution_count": 9,
   "id": "b5430e45",
   "metadata": {
    "execution": {
     "iopub.execute_input": "2022-03-24T01:31:52.878921Z",
     "iopub.status.busy": "2022-03-24T01:31:52.866218Z",
     "iopub.status.idle": "2022-03-24T01:31:52.883275Z",
     "shell.execute_reply": "2022-03-24T01:31:52.882742Z",
     "shell.execute_reply.started": "2022-03-24T01:10:04.051254Z"
    },
    "papermill": {
     "duration": 0.053567,
     "end_time": "2022-03-24T01:31:52.883409",
     "exception": false,
     "start_time": "2022-03-24T01:31:52.829842",
     "status": "completed"
    },
    "tags": []
   },
   "outputs": [
    {
     "data": {
      "text/html": [
       "<div>\n",
       "<style scoped>\n",
       "    .dataframe tbody tr th:only-of-type {\n",
       "        vertical-align: middle;\n",
       "    }\n",
       "\n",
       "    .dataframe tbody tr th {\n",
       "        vertical-align: top;\n",
       "    }\n",
       "\n",
       "    .dataframe thead th {\n",
       "        text-align: right;\n",
       "    }\n",
       "</style>\n",
       "<table border=\"1\" class=\"dataframe\">\n",
       "  <thead>\n",
       "    <tr style=\"text-align: right;\">\n",
       "      <th></th>\n",
       "      <th>Pregnancies</th>\n",
       "      <th>Glucose</th>\n",
       "      <th>BloodPressure</th>\n",
       "      <th>SkinThickness</th>\n",
       "      <th>Insulin</th>\n",
       "      <th>BMI</th>\n",
       "      <th>DiabetesPedigreeFunction</th>\n",
       "      <th>Age</th>\n",
       "      <th>Outcome</th>\n",
       "    </tr>\n",
       "  </thead>\n",
       "  <tbody>\n",
       "    <tr>\n",
       "      <th>Pregnancies</th>\n",
       "      <td>1.000000</td>\n",
       "      <td>0.129459</td>\n",
       "      <td>0.141282</td>\n",
       "      <td>-0.081672</td>\n",
       "      <td>-0.073535</td>\n",
       "      <td>0.017683</td>\n",
       "      <td>-0.033523</td>\n",
       "      <td>0.544341</td>\n",
       "      <td>0.221898</td>\n",
       "    </tr>\n",
       "    <tr>\n",
       "      <th>Glucose</th>\n",
       "      <td>0.129459</td>\n",
       "      <td>1.000000</td>\n",
       "      <td>0.152590</td>\n",
       "      <td>0.057328</td>\n",
       "      <td>0.331357</td>\n",
       "      <td>0.221071</td>\n",
       "      <td>0.137337</td>\n",
       "      <td>0.263514</td>\n",
       "      <td>0.466581</td>\n",
       "    </tr>\n",
       "    <tr>\n",
       "      <th>BloodPressure</th>\n",
       "      <td>0.141282</td>\n",
       "      <td>0.152590</td>\n",
       "      <td>1.000000</td>\n",
       "      <td>0.207371</td>\n",
       "      <td>0.088933</td>\n",
       "      <td>0.281805</td>\n",
       "      <td>0.041265</td>\n",
       "      <td>0.239528</td>\n",
       "      <td>0.065068</td>\n",
       "    </tr>\n",
       "    <tr>\n",
       "      <th>SkinThickness</th>\n",
       "      <td>-0.081672</td>\n",
       "      <td>0.057328</td>\n",
       "      <td>0.207371</td>\n",
       "      <td>1.000000</td>\n",
       "      <td>0.436783</td>\n",
       "      <td>0.392573</td>\n",
       "      <td>0.183928</td>\n",
       "      <td>-0.113970</td>\n",
       "      <td>0.074752</td>\n",
       "    </tr>\n",
       "    <tr>\n",
       "      <th>Insulin</th>\n",
       "      <td>-0.073535</td>\n",
       "      <td>0.331357</td>\n",
       "      <td>0.088933</td>\n",
       "      <td>0.436783</td>\n",
       "      <td>1.000000</td>\n",
       "      <td>0.197859</td>\n",
       "      <td>0.185071</td>\n",
       "      <td>-0.042163</td>\n",
       "      <td>0.130548</td>\n",
       "    </tr>\n",
       "    <tr>\n",
       "      <th>BMI</th>\n",
       "      <td>0.017683</td>\n",
       "      <td>0.221071</td>\n",
       "      <td>0.281805</td>\n",
       "      <td>0.392573</td>\n",
       "      <td>0.197859</td>\n",
       "      <td>1.000000</td>\n",
       "      <td>0.140647</td>\n",
       "      <td>0.036242</td>\n",
       "      <td>0.292695</td>\n",
       "    </tr>\n",
       "    <tr>\n",
       "      <th>DiabetesPedigreeFunction</th>\n",
       "      <td>-0.033523</td>\n",
       "      <td>0.137337</td>\n",
       "      <td>0.041265</td>\n",
       "      <td>0.183928</td>\n",
       "      <td>0.185071</td>\n",
       "      <td>0.140647</td>\n",
       "      <td>1.000000</td>\n",
       "      <td>0.033561</td>\n",
       "      <td>0.173844</td>\n",
       "    </tr>\n",
       "    <tr>\n",
       "      <th>Age</th>\n",
       "      <td>0.544341</td>\n",
       "      <td>0.263514</td>\n",
       "      <td>0.239528</td>\n",
       "      <td>-0.113970</td>\n",
       "      <td>-0.042163</td>\n",
       "      <td>0.036242</td>\n",
       "      <td>0.033561</td>\n",
       "      <td>1.000000</td>\n",
       "      <td>0.238356</td>\n",
       "    </tr>\n",
       "    <tr>\n",
       "      <th>Outcome</th>\n",
       "      <td>0.221898</td>\n",
       "      <td>0.466581</td>\n",
       "      <td>0.065068</td>\n",
       "      <td>0.074752</td>\n",
       "      <td>0.130548</td>\n",
       "      <td>0.292695</td>\n",
       "      <td>0.173844</td>\n",
       "      <td>0.238356</td>\n",
       "      <td>1.000000</td>\n",
       "    </tr>\n",
       "  </tbody>\n",
       "</table>\n",
       "</div>"
      ],
      "text/plain": [
       "                          Pregnancies   Glucose  BloodPressure  SkinThickness  \\\n",
       "Pregnancies                  1.000000  0.129459       0.141282      -0.081672   \n",
       "Glucose                      0.129459  1.000000       0.152590       0.057328   \n",
       "BloodPressure                0.141282  0.152590       1.000000       0.207371   \n",
       "SkinThickness               -0.081672  0.057328       0.207371       1.000000   \n",
       "Insulin                     -0.073535  0.331357       0.088933       0.436783   \n",
       "BMI                          0.017683  0.221071       0.281805       0.392573   \n",
       "DiabetesPedigreeFunction    -0.033523  0.137337       0.041265       0.183928   \n",
       "Age                          0.544341  0.263514       0.239528      -0.113970   \n",
       "Outcome                      0.221898  0.466581       0.065068       0.074752   \n",
       "\n",
       "                           Insulin       BMI  DiabetesPedigreeFunction  \\\n",
       "Pregnancies              -0.073535  0.017683                 -0.033523   \n",
       "Glucose                   0.331357  0.221071                  0.137337   \n",
       "BloodPressure             0.088933  0.281805                  0.041265   \n",
       "SkinThickness             0.436783  0.392573                  0.183928   \n",
       "Insulin                   1.000000  0.197859                  0.185071   \n",
       "BMI                       0.197859  1.000000                  0.140647   \n",
       "DiabetesPedigreeFunction  0.185071  0.140647                  1.000000   \n",
       "Age                      -0.042163  0.036242                  0.033561   \n",
       "Outcome                   0.130548  0.292695                  0.173844   \n",
       "\n",
       "                               Age   Outcome  \n",
       "Pregnancies               0.544341  0.221898  \n",
       "Glucose                   0.263514  0.466581  \n",
       "BloodPressure             0.239528  0.065068  \n",
       "SkinThickness            -0.113970  0.074752  \n",
       "Insulin                  -0.042163  0.130548  \n",
       "BMI                       0.036242  0.292695  \n",
       "DiabetesPedigreeFunction  0.033561  0.173844  \n",
       "Age                       1.000000  0.238356  \n",
       "Outcome                   0.238356  1.000000  "
      ]
     },
     "execution_count": 9,
     "metadata": {},
     "output_type": "execute_result"
    }
   ],
   "source": [
    "df.corr()"
   ]
  },
  {
   "cell_type": "code",
   "execution_count": 10,
   "id": "339d50bc",
   "metadata": {
    "execution": {
     "iopub.execute_input": "2022-03-24T01:31:52.997741Z",
     "iopub.status.busy": "2022-03-24T01:31:52.988107Z",
     "iopub.status.idle": "2022-03-24T01:31:53.267300Z",
     "shell.execute_reply": "2022-03-24T01:31:53.267794Z",
     "shell.execute_reply.started": "2022-03-24T01:10:04.071515Z"
    },
    "papermill": {
     "duration": 0.353519,
     "end_time": "2022-03-24T01:31:53.267964",
     "exception": false,
     "start_time": "2022-03-24T01:31:52.914445",
     "status": "completed"
    },
    "tags": []
   },
   "outputs": [
    {
     "data": {
      "text/plain": [
       "<Figure size 720x576 with 0 Axes>"
      ]
     },
     "execution_count": 10,
     "metadata": {},
     "output_type": "execute_result"
    },
    {
     "data": {
      "image/png": "[encoded data removed]",
      "text/plain": [
       "<Figure size 432x288 with 2 Axes>"
      ]
     },
     "metadata": {
      "needs_background": "light"
     },
     "output_type": "display_data"
    },
    {
     "data": {
      "text/plain": [
       "<Figure size 720x576 with 0 Axes>"
      ]
     },
     "metadata": {},
     "output_type": "display_data"
    }
   ],
   "source": [
    "#visualize correlation of each variable using pearson correlation\n",
    "sns.heatmap(df.corr(), vmax = 1, linewidths = 0.9, cmap = 'viridis')\n",
    "plt.title('Pearson Correlation', fontsize = 15, pad = 12)\n",
    "plt.figure(figsize = (10,8))"
   ]
  },
  {
   "cell_type": "markdown",
   "id": "2aa71db3",
   "metadata": {
    "papermill": {
     "duration": 0.032426,
     "end_time": "2022-03-24T01:31:53.333214",
     "exception": false,
     "start_time": "2022-03-24T01:31:53.300788",
     "status": "completed"
    },
    "tags": []
   },
   "source": [
    "In the above heatmap, brighter colors indicate more correlation. As we can see from the table and the heatmap, glucose levels, age, BMI and number of pregnancies all have significant correlation with the outcome variable. Also notice the correlation between pairs of features, like age and pregnancies, or insulin and skin thickness."
   ]
  },
  {
   "cell_type": "markdown",
   "id": "d0ba29db",
   "metadata": {
    "papermill": {
     "duration": 0.032408,
     "end_time": "2022-03-24T01:31:53.398573",
     "exception": false,
     "start_time": "2022-03-24T01:31:53.366165",
     "status": "completed"
    },
    "tags": []
   },
   "source": [
    "# Machine Learning - Predizer a ocorrência de diabetes - Utilizando Extra Tree Classifier"
   ]
  },
  {
   "cell_type": "code",
   "execution_count": 11,
   "id": "ba1365d4",
   "metadata": {
    "execution": {
     "iopub.execute_input": "2022-03-24T01:31:53.470071Z",
     "iopub.status.busy": "2022-03-24T01:31:53.469429Z",
     "iopub.status.idle": "2022-03-24T01:31:53.471689Z",
     "shell.execute_reply": "2022-03-24T01:31:53.471038Z",
     "shell.execute_reply.started": "2022-03-24T01:10:04.382582Z"
    },
    "papermill": {
     "duration": 0.040706,
     "end_time": "2022-03-24T01:31:53.471826",
     "exception": false,
     "start_time": "2022-03-24T01:31:53.431120",
     "status": "completed"
    },
    "tags": []
   },
   "outputs": [],
   "source": [
    "preditora = df.drop('Outcome',axis=1)\n",
    "alvo      = df['Outcome']"
   ]
  },
  {
   "cell_type": "code",
   "execution_count": 12,
   "id": "bb004257",
   "metadata": {
    "execution": {
     "iopub.execute_input": "2022-03-24T01:31:53.545266Z",
     "iopub.status.busy": "2022-03-24T01:31:53.544594Z",
     "iopub.status.idle": "2022-03-24T01:31:53.547025Z",
     "shell.execute_reply": "2022-03-24T01:31:53.546406Z",
     "shell.execute_reply.started": "2022-03-24T01:10:04.390544Z"
    },
    "papermill": {
     "duration": 0.042296,
     "end_time": "2022-03-24T01:31:53.547158",
     "exception": false,
     "start_time": "2022-03-24T01:31:53.504862",
     "status": "completed"
    },
    "tags": []
   },
   "outputs": [],
   "source": [
    "x_treino,x_test,y_treino,y_test = train_test_split(preditora, alvo, test_size = 0.3)"
   ]
  },
  {
   "cell_type": "code",
   "execution_count": 13,
   "id": "095fecd4",
   "metadata": {
    "execution": {
     "iopub.execute_input": "2022-03-24T01:31:53.626747Z",
     "iopub.status.busy": "2022-03-24T01:31:53.621310Z",
     "iopub.status.idle": "2022-03-24T01:31:53.797971Z",
     "shell.execute_reply": "2022-03-24T01:31:53.798441Z",
     "shell.execute_reply.started": "2022-03-24T01:10:04.404433Z"
    },
    "papermill": {
     "duration": 0.217901,
     "end_time": "2022-03-24T01:31:53.798645",
     "exception": false,
     "start_time": "2022-03-24T01:31:53.580744",
     "status": "completed"
    },
    "tags": []
   },
   "outputs": [
    {
     "name": "stdout",
     "output_type": "stream",
     "text": [
      "Accuracy =  74.45887445887446 %\n"
     ]
    }
   ],
   "source": [
    "# ExtraTreesClassifier\n",
    "'''An extra-trees classifier.\n",
    "\n",
    "This class implements a meta estimator that fits a number of randomized decision trees \n",
    "(a.k.a. extra-trees) on various sub-samples of the dataset and uses averaging to improve the \n",
    "predictive accuracy and control over-fitting.\n",
    "'''\n",
    "\n",
    "modelo = ExtraTreesClassifier()\n",
    "modelo.fit(x_treino,y_treino)\n",
    "\n",
    "resultado = modelo.score(x_test,y_test)\n",
    "print('Accuracy = ',resultado*100,'%')"
   ]
  },
  {
   "cell_type": "markdown",
   "id": "a415f3e1",
   "metadata": {
    "papermill": {
     "duration": 0.032805,
     "end_time": "2022-03-24T01:31:53.864917",
     "exception": false,
     "start_time": "2022-03-24T01:31:53.832112",
     "status": "completed"
    },
    "tags": []
   },
   "source": [
    "# Machine Learning - Predizer a ocorrência de diabetes - Utilizando Logistic Regression"
   ]
  },
  {
   "cell_type": "code",
   "execution_count": 14,
   "id": "d7cb46f5",
   "metadata": {
    "execution": {
     "iopub.execute_input": "2022-03-24T01:31:53.936765Z",
     "iopub.status.busy": "2022-03-24T01:31:53.936084Z",
     "iopub.status.idle": "2022-03-24T01:31:53.938648Z",
     "shell.execute_reply": "2022-03-24T01:31:53.938019Z",
     "shell.execute_reply.started": "2022-03-24T01:10:04.594011Z"
    },
    "papermill": {
     "duration": 0.040703,
     "end_time": "2022-03-24T01:31:53.938784",
     "exception": false,
     "start_time": "2022-03-24T01:31:53.898081",
     "status": "completed"
    },
    "tags": []
   },
   "outputs": [],
   "source": [
    "dfTrain = df[:650]\n",
    "dfTest = df[650:]"
   ]
  },
  {
   "cell_type": "code",
   "execution_count": 15,
   "id": "9a467e27",
   "metadata": {
    "execution": {
     "iopub.execute_input": "2022-03-24T01:31:54.013547Z",
     "iopub.status.busy": "2022-03-24T01:31:54.012687Z",
     "iopub.status.idle": "2022-03-24T01:31:54.015786Z",
     "shell.execute_reply": "2022-03-24T01:31:54.015079Z",
     "shell.execute_reply.started": "2022-03-24T01:10:04.601927Z"
    },
    "papermill": {
     "duration": 0.044022,
     "end_time": "2022-03-24T01:31:54.015934",
     "exception": false,
     "start_time": "2022-03-24T01:31:53.971912",
     "status": "completed"
    },
    "tags": []
   },
   "outputs": [],
   "source": [
    "trainLabel = dfTrain['Outcome']\n",
    "trainData = dfTrain.drop('Outcome',axis=1)\n",
    "testLabel = dfTest['Outcome']\n",
    "testData = dfTest.drop('Outcome',axis=1)"
   ]
  },
  {
   "cell_type": "code",
   "execution_count": 16,
   "id": "5e78d57b",
   "metadata": {
    "execution": {
     "iopub.execute_input": "2022-03-24T01:31:54.094689Z",
     "iopub.status.busy": "2022-03-24T01:31:54.093810Z",
     "iopub.status.idle": "2022-03-24T01:31:54.096452Z",
     "shell.execute_reply": "2022-03-24T01:31:54.096948Z",
     "shell.execute_reply.started": "2022-03-24T01:10:04.614198Z"
    },
    "papermill": {
     "duration": 0.04778,
     "end_time": "2022-03-24T01:31:54.097128",
     "exception": false,
     "start_time": "2022-03-24T01:31:54.049348",
     "status": "completed"
    },
    "tags": []
   },
   "outputs": [],
   "source": [
    "means = np.mean(trainData, axis=0)\n",
    "stds = np.std(trainData, axis=0)\n",
    "trainData = (trainData - means)/stds\n",
    "testData = (testData - means)/stds\n",
    "\n",
    "# np.mean(trainData, axis=0) => check that new means equal 0\n",
    "# np.std(trainData, axis=0) => check that new stds equal 1"
   ]
  },
  {
   "cell_type": "code",
   "execution_count": 17,
   "id": "57ee8c7e",
   "metadata": {
    "execution": {
     "iopub.execute_input": "2022-03-24T01:31:54.169445Z",
     "iopub.status.busy": "2022-03-24T01:31:54.168796Z",
     "iopub.status.idle": "2022-03-24T01:31:54.184416Z",
     "shell.execute_reply": "2022-03-24T01:31:54.184983Z",
     "shell.execute_reply.started": "2022-03-24T01:10:04.632219Z"
    },
    "papermill": {
     "duration": 0.054164,
     "end_time": "2022-03-24T01:31:54.185173",
     "exception": false,
     "start_time": "2022-03-24T01:31:54.131009",
     "status": "completed"
    },
    "tags": []
   },
   "outputs": [
    {
     "data": {
      "text/plain": [
       "LogisticRegression()"
      ]
     },
     "execution_count": 17,
     "metadata": {},
     "output_type": "execute_result"
    }
   ],
   "source": [
    "diabetesCheck = LogisticRegression()\n",
    "diabetesCheck.fit(trainData, trainLabel)"
   ]
  },
  {
   "cell_type": "code",
   "execution_count": 18,
   "id": "f811c2f2",
   "metadata": {
    "execution": {
     "iopub.execute_input": "2022-03-24T01:31:54.257978Z",
     "iopub.status.busy": "2022-03-24T01:31:54.257276Z",
     "iopub.status.idle": "2022-03-24T01:31:54.265700Z",
     "shell.execute_reply": "2022-03-24T01:31:54.265120Z",
     "shell.execute_reply.started": "2022-03-24T01:10:04.650385Z"
    },
    "papermill": {
     "duration": 0.04572,
     "end_time": "2022-03-24T01:31:54.265842",
     "exception": false,
     "start_time": "2022-03-24T01:31:54.220122",
     "status": "completed"
    },
    "tags": []
   },
   "outputs": [
    {
     "name": "stdout",
     "output_type": "stream",
     "text": [
      "Accuracy =  78.8135593220339 %\n"
     ]
    }
   ],
   "source": [
    "accuracy = diabetesCheck.score(testData, testLabel)\n",
    "print(\"Accuracy = \", accuracy * 100, \"%\")"
   ]
  },
  {
   "cell_type": "code",
   "execution_count": 19,
   "id": "5ca7a417",
   "metadata": {
    "execution": {
     "iopub.execute_input": "2022-03-24T01:31:54.364870Z",
     "iopub.status.busy": "2022-03-24T01:31:54.364130Z",
     "iopub.status.idle": "2022-03-24T01:31:54.552690Z",
     "shell.execute_reply": "2022-03-24T01:31:54.551911Z",
     "shell.execute_reply.started": "2022-03-24T01:10:04.660420Z"
    },
    "papermill": {
     "duration": 0.252835,
     "end_time": "2022-03-24T01:31:54.552854",
     "exception": false,
     "start_time": "2022-03-24T01:31:54.300019",
     "status": "completed"
    },
    "tags": []
   },
   "outputs": [
    {
     "data": {
      "text/plain": [
       "Text(0.5, 0, 'Importance')"
      ]
     },
     "execution_count": 19,
     "metadata": {},
     "output_type": "execute_result"
    },
    {
     "data": {
      "image/png": "[encoded data removed]",
      "text/plain": [
       "<Figure size 792x432 with 1 Axes>"
      ]
     },
     "metadata": {
      "needs_background": "light"
     },
     "output_type": "display_data"
    }
   ],
   "source": [
    "coeff = list(diabetesCheck.coef_[0])\n",
    "labels = list(trainData.columns)\n",
    "features = pd.DataFrame()\n",
    "features['Features'] = labels\n",
    "features['importance'] = coeff\n",
    "features.sort_values(by=['importance'], ascending=True, inplace=True)\n",
    "features['positive'] = features['importance'] > 0\n",
    "features.set_index('Features', inplace=True)\n",
    "features.importance.plot(kind='barh', figsize=(11, 6),color = features.positive.map({True: 'blue', False: 'red'}))\n",
    "plt.xlabel('Importance')"
   ]
  },
  {
   "cell_type": "markdown",
   "id": "09130a9a",
   "metadata": {
    "papermill": {
     "duration": 0.035052,
     "end_time": "2022-03-24T01:31:54.624509",
     "exception": false,
     "start_time": "2022-03-24T01:31:54.589457",
     "status": "completed"
    },
    "tags": []
   },
   "source": [
    "From the above figure, we can draw the following conclusions.\n",
    "Glucose level, BMI, pregnancies and diabetes pedigree function have significant influence on the model, specially glucose level and BMI. It is good to see our machine learning model match what we have been hearing from doctors our entire lives!\n",
    "Blood pressure has a negative influence on the prediction, i.e. higher blood pressure is correlated with a person not being diabetic. (also, note that blood pressure is more important as a feature than age, because the magnitude is higher for blood pressure).\n",
    "Although age was more correlated than BMI to the output variables (as we saw during data exploration), the model relies more on BMI. This can happen for several reasons, including the fact that the correlation captured by age is also captured by some other variable, whereas the information captured by BMI is not captured by other variables.\n",
    "Note that this above interpretations require that our input data is normalized. Without that, we can’t claim that importance is proportional to weights.\n"
   ]
  },
  {
   "cell_type": "markdown",
   "id": "1e8ba5dd",
   "metadata": {
    "papermill": {
     "duration": 0.035069,
     "end_time": "2022-03-24T01:31:54.695000",
     "exception": false,
     "start_time": "2022-03-24T01:31:54.659931",
     "status": "completed"
    },
    "tags": []
   },
   "source": [
    "# Conclusions\n",
    "\n",
    "O extra-trees classifier e a logistic regression se mostraram acurados para este caso;\n",
    "\n",
    "A relação entre gravidez e idade não obedece uma relação linear de acordo com a análise de regressão linear feita, dessa forma, já era de se esperar que o coeficiente de determinação (r2_score) fosse próximo a zero."
   ]
  }
 ],
 "metadata": {
  "kernelspec": {
   "display_name": "Python 3",
   "language": "python",
   "name": "python3"
  },
  "language_info": {
   "codemirror_mode": {
    "name": "ipython",
    "version": 3
   },
   "file_extension": ".py",
   "mimetype": "text/x-python",
   "name": "python",
   "nbconvert_exporter": "python",
   "pygments_lexer": "ipython3",
   "version": "3.7.12"
  },
  "papermill": {
   "default_parameters": {},
   "duration": 17.079558,
   "end_time": "2022-03-24T01:31:55.543147",
   "environment_variables": {},
   "exception": null,
   "input_path": "__notebook__.ipynb",
   "output_path": "__notebook__.ipynb",
   "parameters": {},
   "start_time": "2022-03-24T01:31:38.463589",
   "version": "2.3.3"
  }
 },
 "nbformat": 4,
 "nbformat_minor": 5
}
