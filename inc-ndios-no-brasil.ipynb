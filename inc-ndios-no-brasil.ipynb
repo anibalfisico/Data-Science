{
 "cells": [
  {
   "cell_type": "markdown",
   "id": "94a2f017",
   "metadata": {
    "papermill": {
     "duration": 0.03203,
     "end_time": "2022-05-03T04:42:15.670849",
     "exception": false,
     "start_time": "2022-05-03T04:42:15.638819",
     "status": "completed"
    },
    "tags": []
   },
   "source": [
    "<h1 style = \"font-family: garamond; font-size: 40px; font-style: normal; letter-spcaing: 3px; background-color: #f6f5f5; color :blue; border-radius: 100px 100px; text-align:center \" >Table of Contents</h1>\n",
    "\n",
    "\n",
    "* [1. Introduction](#1)\n",
    "    * [1.1 Libraries And Utilities](#1.1)\n",
    "    * [1.2 Data Loading](#1.2)\n",
    "    * [1.3 Data Cleaning](#1.3)\n",
    "* [2. Exploratory Data Analysis (EDA)](#2)\n",
    "* [3. References](#3)"
   ]
  },
  {
   "cell_type": "markdown",
   "id": "416b7248",
   "metadata": {
    "papermill": {
     "duration": 0.029234,
     "end_time": "2022-05-03T04:42:15.728885",
     "exception": false,
     "start_time": "2022-05-03T04:42:15.699651",
     "status": "completed"
    },
    "tags": []
   },
   "source": [
    "<a id = '1'></a>\n",
    "<h2 style = \"font-family:garamond; font-size:50px; background-color: #f6f6f6; color : blue; border-radius: 100px 100px; text-align:center\"> 1. Introduction </h2>\n"
   ]
  },
  {
   "cell_type": "markdown",
   "id": "7cefa5d7",
   "metadata": {
    "papermill": {
     "duration": 0.029142,
     "end_time": "2022-05-03T04:42:15.786406",
     "exception": false,
     "start_time": "2022-05-03T04:42:15.757264",
     "status": "completed"
    },
    "tags": []
   },
   "source": [
    "Os incêndios florestais são um problema sério para a preservação das florestas tropicais. A maior parte da floresta Amazônica, maior floresta tropical do mundo, está contida no Brasil. \n",
    "Os impactos dos incêndios florestais podem ser diretos ou indiretos, conforme alguns exemplos a seguir:\n",
    "Diretos: mortalidade animal, vegetação, degradação do solo;\n",
    "Indiretos: modificação de habitat, migração de espécies, erosão do solo, poluição da água, deslizamentos de terra. \n",
    "Entender a frequência dos incêndios florestais ao longo do tempo pode auxiliar na prevenção deste problema.\n",
    "\n",
    "Este dataset contém o número de incêndios florestais no Brasil divididos por estados. Estes dados compreendem um período de aproximadamente 10 anos (1998 a 2017). Os dados foram obtidos do site oficial do governo do Brasil:\n",
    "\n",
    "http://dados.gov.br/dataset/sistema-nacional-de-informacoes-florestais-snif\n",
    "\n",
    "Obs: Para informações referentes ao Código Florestal (Lei nº 12.651/2012), acessar: http://www.planalto.gov.br/ccivil_03/_ato2011-2014/2012/lei/l12651.htm\n"
   ]
  },
  {
   "cell_type": "markdown",
   "id": "5105bcf1",
   "metadata": {
    "papermill": {
     "duration": 0.028346,
     "end_time": "2022-05-03T04:42:15.843520",
     "exception": false,
     "start_time": "2022-05-03T04:42:15.815174",
     "status": "completed"
    },
    "tags": []
   },
   "source": [
    "<a id = '1.1'></a>\n",
    "\n",
    "<h2 style = \"background-color: #f6f5f5; color : blue; font-size: 35px; font-family:garamond; font-weight: normal; border-radius: 100px 100px; text-align: center\">1.1 Libraries and Utilities</h2>"
   ]
  },
  {
   "cell_type": "code",
   "execution_count": 1,
   "id": "57d229d3",
   "metadata": {
    "execution": {
     "iopub.execute_input": "2022-05-03T04:42:15.905153Z",
     "iopub.status.busy": "2022-05-03T04:42:15.904347Z",
     "iopub.status.idle": "2022-05-03T04:42:17.188236Z",
     "shell.execute_reply": "2022-05-03T04:42:17.187103Z"
    },
    "papermill": {
     "duration": 1.319047,
     "end_time": "2022-05-03T04:42:17.191344",
     "exception": false,
     "start_time": "2022-05-03T04:42:15.872297",
     "status": "completed"
    },
    "tags": []
   },
   "outputs": [
    {
     "name": "stdout",
     "output_type": "stream",
     "text": [
      "/kaggle/input/forest-fires-in-brazil/amazon.csv\n"
     ]
    }
   ],
   "source": [
    "# basic libraries\n",
    "import numpy as np # linear algebra\n",
    "import pandas as pd # data processing, CSV file I/O (e.g. pd.read_csv)\n",
    "import os\n",
    "for dirname, _, filenames in os.walk('/kaggle/input'):\n",
    "    for filename in filenames:\n",
    "        print(os.path.join(dirname, filename))\n",
    "\n",
    "#visualization modules\n",
    "import missingno as msno\n",
    "import matplotlib.pyplot as plt\n",
    "import seaborn as sns"
   ]
  },
  {
   "cell_type": "markdown",
   "id": "3cfb09e8",
   "metadata": {
    "papermill": {
     "duration": 0.032304,
     "end_time": "2022-05-03T04:42:17.255850",
     "exception": false,
     "start_time": "2022-05-03T04:42:17.223546",
     "status": "completed"
    },
    "tags": []
   },
   "source": [
    "<a id = '1.2'></a>\n",
    "\n",
    "<h2 style = \"background-color: #f6f5f5; color : blue; font-size: 35px; font-family:garamond; font-weight:normal; border-radius: 100px 100px; text-align: center\">1.2 Data Loading </h2>"
   ]
  },
  {
   "cell_type": "code",
   "execution_count": 2,
   "id": "32eb8a1e",
   "metadata": {
    "execution": {
     "iopub.execute_input": "2022-05-03T04:42:17.317580Z",
     "iopub.status.busy": "2022-05-03T04:42:17.316947Z",
     "iopub.status.idle": "2022-05-03T04:42:17.364300Z",
     "shell.execute_reply": "2022-05-03T04:42:17.362698Z"
    },
    "papermill": {
     "duration": 0.081443,
     "end_time": "2022-05-03T04:42:17.367309",
     "exception": false,
     "start_time": "2022-05-03T04:42:17.285866",
     "status": "completed"
    },
    "tags": []
   },
   "outputs": [
    {
     "data": {
      "text/html": [
       "<div>\n",
       "<style scoped>\n",
       "    .dataframe tbody tr th:only-of-type {\n",
       "        vertical-align: middle;\n",
       "    }\n",
       "\n",
       "    .dataframe tbody tr th {\n",
       "        vertical-align: top;\n",
       "    }\n",
       "\n",
       "    .dataframe thead th {\n",
       "        text-align: right;\n",
       "    }\n",
       "</style>\n",
       "<table border=\"1\" class=\"dataframe\">\n",
       "  <thead>\n",
       "    <tr style=\"text-align: right;\">\n",
       "      <th></th>\n",
       "      <th>year</th>\n",
       "      <th>state</th>\n",
       "      <th>month</th>\n",
       "      <th>number</th>\n",
       "      <th>date</th>\n",
       "    </tr>\n",
       "  </thead>\n",
       "  <tbody>\n",
       "    <tr>\n",
       "      <th>0</th>\n",
       "      <td>1998</td>\n",
       "      <td>Acre</td>\n",
       "      <td>Janeiro</td>\n",
       "      <td>0.0</td>\n",
       "      <td>1998-01-01</td>\n",
       "    </tr>\n",
       "    <tr>\n",
       "      <th>1</th>\n",
       "      <td>1999</td>\n",
       "      <td>Acre</td>\n",
       "      <td>Janeiro</td>\n",
       "      <td>0.0</td>\n",
       "      <td>1999-01-01</td>\n",
       "    </tr>\n",
       "    <tr>\n",
       "      <th>2</th>\n",
       "      <td>2000</td>\n",
       "      <td>Acre</td>\n",
       "      <td>Janeiro</td>\n",
       "      <td>0.0</td>\n",
       "      <td>2000-01-01</td>\n",
       "    </tr>\n",
       "    <tr>\n",
       "      <th>3</th>\n",
       "      <td>2001</td>\n",
       "      <td>Acre</td>\n",
       "      <td>Janeiro</td>\n",
       "      <td>0.0</td>\n",
       "      <td>2001-01-01</td>\n",
       "    </tr>\n",
       "    <tr>\n",
       "      <th>4</th>\n",
       "      <td>2002</td>\n",
       "      <td>Acre</td>\n",
       "      <td>Janeiro</td>\n",
       "      <td>0.0</td>\n",
       "      <td>2002-01-01</td>\n",
       "    </tr>\n",
       "  </tbody>\n",
       "</table>\n",
       "</div>"
      ],
      "text/plain": [
       "   year state    month  number        date\n",
       "0  1998  Acre  Janeiro     0.0  1998-01-01\n",
       "1  1999  Acre  Janeiro     0.0  1999-01-01\n",
       "2  2000  Acre  Janeiro     0.0  2000-01-01\n",
       "3  2001  Acre  Janeiro     0.0  2001-01-01\n",
       "4  2002  Acre  Janeiro     0.0  2002-01-01"
      ]
     },
     "execution_count": 2,
     "metadata": {},
     "output_type": "execute_result"
    }
   ],
   "source": [
    "df = pd.read_csv('/kaggle/input/forest-fires-in-brazil/amazon.csv', encoding=\"latin1\")\n",
    "df.head()"
   ]
  },
  {
   "cell_type": "markdown",
   "id": "fee6451b",
   "metadata": {
    "papermill": {
     "duration": 0.032875,
     "end_time": "2022-05-03T04:42:17.431871",
     "exception": false,
     "start_time": "2022-05-03T04:42:17.398996",
     "status": "completed"
    },
    "tags": []
   },
   "source": [
    "<a id = '1.3'></a>\n",
    "\n",
    "<h2 style = \"background-color: #f6f5f5; color : blue; font-size: 35px; font-family:garamond; font-weight:normal; border-radius: 100px 100px; text-align: center\">1.3 Data Cleaning </h2>"
   ]
  },
  {
   "cell_type": "markdown",
   "id": "04e63f26",
   "metadata": {
    "papermill": {
     "duration": 0.029984,
     "end_time": "2022-05-03T04:42:17.495822",
     "exception": false,
     "start_time": "2022-05-03T04:42:17.465838",
     "status": "completed"
    },
    "tags": []
   },
   "source": [
    "<h4 style = \"background-color: white; color : blue; font-size: 30px; font-family:garamond; font-weight: normal; border-radius: 75px 150px; text-align: left\"> Verificação de Possíveis Valores Nulos</h4>"
   ]
  },
  {
   "cell_type": "code",
   "execution_count": 3,
   "id": "464dd326",
   "metadata": {
    "execution": {
     "iopub.execute_input": "2022-05-03T04:42:17.558547Z",
     "iopub.status.busy": "2022-05-03T04:42:17.557971Z",
     "iopub.status.idle": "2022-05-03T04:42:17.568479Z",
     "shell.execute_reply": "2022-05-03T04:42:17.567760Z"
    },
    "papermill": {
     "duration": 0.045298,
     "end_time": "2022-05-03T04:42:17.570439",
     "exception": false,
     "start_time": "2022-05-03T04:42:17.525141",
     "status": "completed"
    },
    "tags": []
   },
   "outputs": [
    {
     "data": {
      "text/plain": [
       "year      0\n",
       "state     0\n",
       "month     0\n",
       "number    0\n",
       "date      0\n",
       "dtype: int64"
      ]
     },
     "execution_count": 3,
     "metadata": {},
     "output_type": "execute_result"
    }
   ],
   "source": [
    "#check missing value of dataset\n",
    "df.isnull().sum()"
   ]
  },
  {
   "cell_type": "code",
   "execution_count": 4,
   "id": "394c35a6",
   "metadata": {
    "execution": {
     "iopub.execute_input": "2022-05-03T04:42:17.633541Z",
     "iopub.status.busy": "2022-05-03T04:42:17.632930Z",
     "iopub.status.idle": "2022-05-03T04:42:18.358231Z",
     "shell.execute_reply": "2022-05-03T04:42:18.356917Z"
    },
    "papermill": {
     "duration": 0.762976,
     "end_time": "2022-05-03T04:42:18.364090",
     "exception": false,
     "start_time": "2022-05-03T04:42:17.601114",
     "status": "completed"
    },
    "tags": []
   },
   "outputs": [
    {
     "data": {
      "image/png": "[encoded data removed]",
      "text/plain": [
       "<Figure size 840x280 with 3 Axes>"
      ]
     },
     "metadata": {},
     "output_type": "display_data"
    }
   ],
   "source": [
    "color = ['grey','grey','grey','grey','grey']\n",
    "fig, ax = plt.subplots(figsize = (12,4), dpi = 70)\n",
    "fig.patch.set_facecolor('#f6f5f5')\n",
    "ax.set_facecolor('#f6f5f5')\n",
    "\n",
    "\n",
    "msno.bar(df, sort = 'descending', \n",
    "         color = color, \n",
    "         ax = ax, fontsize =12,\n",
    "         labels = 'off',filter = 'top')\n",
    "\n",
    "ax.set_xticklabels(ax.get_xticklabels(),rotation = 90, fontsize=14, \n",
    "                   ha = 'center', **{'font': 'Serif','weight':'normal','color':'black'}, alpha = 1)\n",
    "ax.set_yticklabels('')\n",
    "ax.spines['bottom'].set_visible(True)\n",
    "\n",
    "plt.title('Visualização da quantidade de dados por variável', size=20, pad=20)\n",
    "fig.show()"
   ]
  },
  {
   "cell_type": "markdown",
   "id": "8a126db8",
   "metadata": {
    "papermill": {
     "duration": 0.033053,
     "end_time": "2022-05-03T04:42:18.442876",
     "exception": false,
     "start_time": "2022-05-03T04:42:18.409823",
     "status": "completed"
    },
    "tags": []
   },
   "source": [
    "Percebemos que não há dados nulos neste dataset."
   ]
  },
  {
   "cell_type": "markdown",
   "id": "92ef1d41",
   "metadata": {
    "papermill": {
     "duration": 0.033033,
     "end_time": "2022-05-03T04:42:18.509302",
     "exception": false,
     "start_time": "2022-05-03T04:42:18.476269",
     "status": "completed"
    },
    "tags": []
   },
   "source": [
    "<h4 style = \"background-color: white; color : blue; font-size: 30px; font-family:garamond; font-weight: normal; border-radius: 75px 150px; text-align: left\"> Limpeza de Possíveis Dados Duplicados </h4>"
   ]
  },
  {
   "cell_type": "markdown",
   "id": "ee10e176",
   "metadata": {
    "papermill": {
     "duration": 0.031494,
     "end_time": "2022-05-03T04:42:18.573894",
     "exception": false,
     "start_time": "2022-05-03T04:42:18.542400",
     "status": "completed"
    },
    "tags": []
   },
   "source": [
    "**Verificação do Shape do dataset**"
   ]
  },
  {
   "cell_type": "code",
   "execution_count": 5,
   "id": "01e68206",
   "metadata": {
    "execution": {
     "iopub.execute_input": "2022-05-03T04:42:18.641316Z",
     "iopub.status.busy": "2022-05-03T04:42:18.640403Z",
     "iopub.status.idle": "2022-05-03T04:42:18.646435Z",
     "shell.execute_reply": "2022-05-03T04:42:18.645745Z"
    },
    "papermill": {
     "duration": 0.042241,
     "end_time": "2022-05-03T04:42:18.648481",
     "exception": false,
     "start_time": "2022-05-03T04:42:18.606240",
     "status": "completed"
    },
    "tags": []
   },
   "outputs": [
    {
     "data": {
      "text/plain": [
       "(6454, 5)"
      ]
     },
     "execution_count": 5,
     "metadata": {},
     "output_type": "execute_result"
    }
   ],
   "source": [
    "df.shape"
   ]
  },
  {
   "cell_type": "code",
   "execution_count": 6,
   "id": "632c6327",
   "metadata": {
    "execution": {
     "iopub.execute_input": "2022-05-03T04:42:18.715483Z",
     "iopub.status.busy": "2022-05-03T04:42:18.715142Z",
     "iopub.status.idle": "2022-05-03T04:42:18.729413Z",
     "shell.execute_reply": "2022-05-03T04:42:18.728261Z"
    },
    "papermill": {
     "duration": 0.049724,
     "end_time": "2022-05-03T04:42:18.731724",
     "exception": false,
     "start_time": "2022-05-03T04:42:18.682000",
     "status": "completed"
    },
    "tags": []
   },
   "outputs": [
    {
     "data": {
      "text/plain": [
       "(6422, 5)"
      ]
     },
     "execution_count": 6,
     "metadata": {},
     "output_type": "execute_result"
    }
   ],
   "source": [
    "df.drop_duplicates(inplace=True)\n",
    "df.shape"
   ]
  },
  {
   "cell_type": "markdown",
   "id": "ff9e7610",
   "metadata": {
    "papermill": {
     "duration": 0.033214,
     "end_time": "2022-05-03T04:42:18.799236",
     "exception": false,
     "start_time": "2022-05-03T04:42:18.766022",
     "status": "completed"
    },
    "tags": []
   },
   "source": [
    "O shape do DataFrame variou de 6454x5 para 6422x5, com isso é possível notar que haviam dados repetidos e a partir deste ponto estes dados duplicados foram removidos."
   ]
  },
  {
   "cell_type": "markdown",
   "id": "448807b0",
   "metadata": {
    "papermill": {
     "duration": 0.032462,
     "end_time": "2022-05-03T04:42:18.865000",
     "exception": false,
     "start_time": "2022-05-03T04:42:18.832538",
     "status": "completed"
    },
    "tags": []
   },
   "source": [
    "<h4 style = \"background-color: white; color : blue; font-size: 30px; font-family:garamond; font-weight: normal; border-radius: 75px 150px; text-align: left\"> Busca por Possíveis Dados Incoerentes </h4>"
   ]
  },
  {
   "cell_type": "markdown",
   "id": "3f3a1428",
   "metadata": {
    "papermill": {
     "duration": 0.031817,
     "end_time": "2022-05-03T04:42:18.930115",
     "exception": false,
     "start_time": "2022-05-03T04:42:18.898298",
     "status": "completed"
    },
    "tags": []
   },
   "source": [
    "Nesse momento, analisaremos cada coluna individualmente com o objetivo de identificar possíveis dados incoerentes"
   ]
  },
  {
   "cell_type": "code",
   "execution_count": 7,
   "id": "aa630d33",
   "metadata": {
    "execution": {
     "iopub.execute_input": "2022-05-03T04:42:18.996752Z",
     "iopub.status.busy": "2022-05-03T04:42:18.996435Z",
     "iopub.status.idle": "2022-05-03T04:42:19.003280Z",
     "shell.execute_reply": "2022-05-03T04:42:19.002688Z"
    },
    "papermill": {
     "duration": 0.04292,
     "end_time": "2022-05-03T04:42:19.005096",
     "exception": false,
     "start_time": "2022-05-03T04:42:18.962176",
     "status": "completed"
    },
    "tags": []
   },
   "outputs": [
    {
     "data": {
      "text/plain": [
       "array([1998, 1999, 2000, 2001, 2002, 2003, 2004, 2005, 2006, 2007, 2008,\n",
       "       2009, 2010, 2011, 2012, 2013, 2014, 2015, 2016, 2017])"
      ]
     },
     "execution_count": 7,
     "metadata": {},
     "output_type": "execute_result"
    }
   ],
   "source": [
    "df.year.unique()"
   ]
  },
  {
   "cell_type": "markdown",
   "id": "c321d351",
   "metadata": {
    "papermill": {
     "duration": 0.032099,
     "end_time": "2022-05-03T04:42:19.070544",
     "exception": false,
     "start_time": "2022-05-03T04:42:19.038445",
     "status": "completed"
    },
    "tags": []
   },
   "source": [
    "Podemos notar que os dados referentes aos anos estão conforme o esperado, isto é, entre 1998 e 2017."
   ]
  },
  {
   "cell_type": "code",
   "execution_count": 8,
   "id": "1ebda835",
   "metadata": {
    "execution": {
     "iopub.execute_input": "2022-05-03T04:42:19.137745Z",
     "iopub.status.busy": "2022-05-03T04:42:19.137437Z",
     "iopub.status.idle": "2022-05-03T04:42:19.143596Z",
     "shell.execute_reply": "2022-05-03T04:42:19.142973Z"
    },
    "papermill": {
     "duration": 0.041842,
     "end_time": "2022-05-03T04:42:19.145681",
     "exception": false,
     "start_time": "2022-05-03T04:42:19.103839",
     "status": "completed"
    },
    "tags": []
   },
   "outputs": [
    {
     "data": {
      "text/plain": [
       "array(['Acre', 'Alagoas', 'Amapa', 'Amazonas', 'Bahia', 'Ceara',\n",
       "       'Distrito Federal', 'Espirito Santo', 'Goias', 'Maranhao',\n",
       "       'Mato Grosso', 'Minas Gerais', 'Pará', 'Paraiba', 'Pernambuco',\n",
       "       'Piau', 'Rio', 'Rondonia', 'Roraima', 'Santa Catarina',\n",
       "       'Sao Paulo', 'Sergipe', 'Tocantins'], dtype=object)"
      ]
     },
     "execution_count": 8,
     "metadata": {},
     "output_type": "execute_result"
    }
   ],
   "source": [
    "df.state.unique()"
   ]
  },
  {
   "cell_type": "markdown",
   "id": "1e32dbf5",
   "metadata": {
    "papermill": {
     "duration": 0.033253,
     "end_time": "2022-05-03T04:42:19.212704",
     "exception": false,
     "start_time": "2022-05-03T04:42:19.179451",
     "status": "completed"
    },
    "tags": []
   },
   "source": [
    "Podemos notar que 'Mato Grosso' pode se referir tanto ao Mato Grosso do Sul quanto Mato Grosso e que 'Rio' pode se referir tanto ao Rio de Janeiro quanto Rio Grande do Norte ou Rio Grande do Sul. Como não temos como distinguir de forma realista o número de incêndios florestais em cada um desses estados, não iremos levar em consideração estes 5 estados: Mato Grosso do Sul, Mato Grosso,Rio de Janeiro,Rio Grande do Norte e Rio Grande do Sul."
   ]
  },
  {
   "cell_type": "code",
   "execution_count": 9,
   "id": "ef6c3d4f",
   "metadata": {
    "execution": {
     "iopub.execute_input": "2022-05-03T04:42:19.279838Z",
     "iopub.status.busy": "2022-05-03T04:42:19.279295Z",
     "iopub.status.idle": "2022-05-03T04:42:19.291618Z",
     "shell.execute_reply": "2022-05-03T04:42:19.290747Z"
    },
    "papermill": {
     "duration": 0.048077,
     "end_time": "2022-05-03T04:42:19.293573",
     "exception": false,
     "start_time": "2022-05-03T04:42:19.245496",
     "status": "completed"
    },
    "tags": []
   },
   "outputs": [
    {
     "data": {
      "text/plain": [
       "(5252, 5)"
      ]
     },
     "execution_count": 9,
     "metadata": {},
     "output_type": "execute_result"
    }
   ],
   "source": [
    "df.drop(df[df.state =='Mato Grosso'].index, inplace = True)\n",
    "df.drop(df[df.state =='Rio'].index, inplace = True)\n",
    "df.shape"
   ]
  },
  {
   "cell_type": "code",
   "execution_count": 10,
   "id": "0eacfa83",
   "metadata": {
    "execution": {
     "iopub.execute_input": "2022-05-03T04:42:19.361881Z",
     "iopub.status.busy": "2022-05-03T04:42:19.361259Z",
     "iopub.status.idle": "2022-05-03T04:42:19.367498Z",
     "shell.execute_reply": "2022-05-03T04:42:19.366746Z"
    },
    "papermill": {
     "duration": 0.042593,
     "end_time": "2022-05-03T04:42:19.369492",
     "exception": false,
     "start_time": "2022-05-03T04:42:19.326899",
     "status": "completed"
    },
    "tags": []
   },
   "outputs": [
    {
     "data": {
      "text/plain": [
       "array(['Janeiro', 'Fevereiro', 'Março', 'Abril', 'Maio', 'Junho', 'Julho',\n",
       "       'Agosto', 'Setembro', 'Outubro', 'Novembro', 'Dezembro'],\n",
       "      dtype=object)"
      ]
     },
     "execution_count": 10,
     "metadata": {},
     "output_type": "execute_result"
    }
   ],
   "source": [
    "df.month.unique()"
   ]
  },
  {
   "cell_type": "markdown",
   "id": "d47c1a63",
   "metadata": {
    "papermill": {
     "duration": 0.034011,
     "end_time": "2022-05-03T04:42:19.438397",
     "exception": false,
     "start_time": "2022-05-03T04:42:19.404386",
     "status": "completed"
    },
    "tags": []
   },
   "source": [
    "Da mesma forma, notamos que os dados referentes aos meses estão conforme o esperado."
   ]
  },
  {
   "cell_type": "code",
   "execution_count": 11,
   "id": "b1c54147",
   "metadata": {
    "execution": {
     "iopub.execute_input": "2022-05-03T04:42:19.508637Z",
     "iopub.status.busy": "2022-05-03T04:42:19.508126Z",
     "iopub.status.idle": "2022-05-03T04:42:19.513928Z",
     "shell.execute_reply": "2022-05-03T04:42:19.513146Z"
    },
    "papermill": {
     "duration": 0.043286,
     "end_time": "2022-05-03T04:42:19.516106",
     "exception": false,
     "start_time": "2022-05-03T04:42:19.472820",
     "status": "completed"
    },
    "tags": []
   },
   "outputs": [
    {
     "data": {
      "text/plain": [
       "array([  0.   ,  10.   ,  12.   , ...,   2.969, 833.   , 623.   ])"
      ]
     },
     "execution_count": 11,
     "metadata": {},
     "output_type": "execute_result"
    }
   ],
   "source": [
    "df.number.unique()"
   ]
  },
  {
   "cell_type": "markdown",
   "id": "8fabeea2",
   "metadata": {
    "papermill": {
     "duration": 0.034493,
     "end_time": "2022-05-03T04:42:19.585006",
     "exception": false,
     "start_time": "2022-05-03T04:42:19.550513",
     "status": "completed"
    },
    "tags": []
   },
   "source": [
    "Para a columa de números, verificamos que os dados referentes também estão conforme o esperado."
   ]
  },
  {
   "cell_type": "code",
   "execution_count": 12,
   "id": "9136a674",
   "metadata": {
    "execution": {
     "iopub.execute_input": "2022-05-03T04:42:19.657670Z",
     "iopub.status.busy": "2022-05-03T04:42:19.657100Z",
     "iopub.status.idle": "2022-05-03T04:42:19.664200Z",
     "shell.execute_reply": "2022-05-03T04:42:19.663189Z"
    },
    "papermill": {
     "duration": 0.046899,
     "end_time": "2022-05-03T04:42:19.666418",
     "exception": false,
     "start_time": "2022-05-03T04:42:19.619519",
     "status": "completed"
    },
    "tags": []
   },
   "outputs": [
    {
     "data": {
      "text/plain": [
       "array(['1998-01-01', '1999-01-01', '2000-01-01', '2001-01-01',\n",
       "       '2002-01-01', '2003-01-01', '2004-01-01', '2005-01-01',\n",
       "       '2006-01-01', '2007-01-01', '2008-01-01', '2009-01-01',\n",
       "       '2010-01-01', '2011-01-01', '2012-01-01', '2013-01-01',\n",
       "       '2014-01-01', '2015-01-01', '2016-01-01', '2017-01-01'],\n",
       "      dtype=object)"
      ]
     },
     "execution_count": 12,
     "metadata": {},
     "output_type": "execute_result"
    }
   ],
   "source": [
    "df.date.unique()"
   ]
  },
  {
   "cell_type": "markdown",
   "id": "9a696f74",
   "metadata": {
    "papermill": {
     "duration": 0.03398,
     "end_time": "2022-05-03T04:42:19.736816",
     "exception": false,
     "start_time": "2022-05-03T04:42:19.702836",
     "status": "completed"
    },
    "tags": []
   },
   "source": [
    "Para a coluna de datas, podemos notar que o período está de acordo com o esperado entre 1998 e 2007."
   ]
  },
  {
   "cell_type": "markdown",
   "id": "4ca485d6",
   "metadata": {
    "papermill": {
     "duration": 0.035334,
     "end_time": "2022-05-03T04:42:19.806360",
     "exception": false,
     "start_time": "2022-05-03T04:42:19.771026",
     "status": "completed"
    },
    "tags": []
   },
   "source": [
    "<h4 style = \"background-color: white; color : blue; font-size: 30px; font-family:garamond; font-weight: normal; border-radius: 75px 150px; text-align: left\"> Visão Geral do Dataset </h4>"
   ]
  },
  {
   "cell_type": "code",
   "execution_count": 13,
   "id": "99c9a782",
   "metadata": {
    "execution": {
     "iopub.execute_input": "2022-05-03T04:42:19.878431Z",
     "iopub.status.busy": "2022-05-03T04:42:19.878143Z",
     "iopub.status.idle": "2022-05-03T04:42:19.897376Z",
     "shell.execute_reply": "2022-05-03T04:42:19.896451Z"
    },
    "papermill": {
     "duration": 0.058126,
     "end_time": "2022-05-03T04:42:19.899628",
     "exception": false,
     "start_time": "2022-05-03T04:42:19.841502",
     "status": "completed"
    },
    "tags": []
   },
   "outputs": [
    {
     "name": "stdout",
     "output_type": "stream",
     "text": [
      "<class 'pandas.core.frame.DataFrame'>\n",
      "Int64Index: 5252 entries, 0 to 6453\n",
      "Data columns (total 5 columns):\n",
      " #   Column  Non-Null Count  Dtype  \n",
      "---  ------  --------------  -----  \n",
      " 0   year    5252 non-null   int64  \n",
      " 1   state   5252 non-null   object \n",
      " 2   month   5252 non-null   object \n",
      " 3   number  5252 non-null   float64\n",
      " 4   date    5252 non-null   object \n",
      "dtypes: float64(1), int64(1), object(3)\n",
      "memory usage: 246.2+ KB\n"
     ]
    }
   ],
   "source": [
    "df.info()"
   ]
  },
  {
   "cell_type": "code",
   "execution_count": 14,
   "id": "4aab71f8",
   "metadata": {
    "execution": {
     "iopub.execute_input": "2022-05-03T04:42:19.971708Z",
     "iopub.status.busy": "2022-05-03T04:42:19.971380Z",
     "iopub.status.idle": "2022-05-03T04:42:19.990869Z",
     "shell.execute_reply": "2022-05-03T04:42:19.989987Z"
    },
    "papermill": {
     "duration": 0.058548,
     "end_time": "2022-05-03T04:42:19.993017",
     "exception": false,
     "start_time": "2022-05-03T04:42:19.934469",
     "status": "completed"
    },
    "tags": []
   },
   "outputs": [
    {
     "data": {
      "text/html": [
       "<div>\n",
       "<style scoped>\n",
       "    .dataframe tbody tr th:only-of-type {\n",
       "        vertical-align: middle;\n",
       "    }\n",
       "\n",
       "    .dataframe tbody tr th {\n",
       "        vertical-align: top;\n",
       "    }\n",
       "\n",
       "    .dataframe thead th {\n",
       "        text-align: right;\n",
       "    }\n",
       "</style>\n",
       "<table border=\"1\" class=\"dataframe\">\n",
       "  <thead>\n",
       "    <tr style=\"text-align: right;\">\n",
       "      <th></th>\n",
       "      <th>year</th>\n",
       "      <th>number</th>\n",
       "    </tr>\n",
       "  </thead>\n",
       "  <tbody>\n",
       "    <tr>\n",
       "      <th>count</th>\n",
       "      <td>5252.000000</td>\n",
       "      <td>5252.000000</td>\n",
       "    </tr>\n",
       "    <tr>\n",
       "      <th>mean</th>\n",
       "      <td>2007.468203</td>\n",
       "      <td>106.144360</td>\n",
       "    </tr>\n",
       "    <tr>\n",
       "      <th>std</th>\n",
       "      <td>5.741324</td>\n",
       "      <td>190.212157</td>\n",
       "    </tr>\n",
       "    <tr>\n",
       "      <th>min</th>\n",
       "      <td>1998.000000</td>\n",
       "      <td>0.000000</td>\n",
       "    </tr>\n",
       "    <tr>\n",
       "      <th>25%</th>\n",
       "      <td>2002.000000</td>\n",
       "      <td>3.000000</td>\n",
       "    </tr>\n",
       "    <tr>\n",
       "      <th>50%</th>\n",
       "      <td>2007.000000</td>\n",
       "      <td>22.000000</td>\n",
       "    </tr>\n",
       "    <tr>\n",
       "      <th>75%</th>\n",
       "      <td>2012.000000</td>\n",
       "      <td>109.000000</td>\n",
       "    </tr>\n",
       "    <tr>\n",
       "      <th>max</th>\n",
       "      <td>2017.000000</td>\n",
       "      <td>998.000000</td>\n",
       "    </tr>\n",
       "  </tbody>\n",
       "</table>\n",
       "</div>"
      ],
      "text/plain": [
       "              year       number\n",
       "count  5252.000000  5252.000000\n",
       "mean   2007.468203   106.144360\n",
       "std       5.741324   190.212157\n",
       "min    1998.000000     0.000000\n",
       "25%    2002.000000     3.000000\n",
       "50%    2007.000000    22.000000\n",
       "75%    2012.000000   109.000000\n",
       "max    2017.000000   998.000000"
      ]
     },
     "execution_count": 14,
     "metadata": {},
     "output_type": "execute_result"
    }
   ],
   "source": [
    "df.describe()"
   ]
  },
  {
   "cell_type": "markdown",
   "id": "4b61e967",
   "metadata": {
    "papermill": {
     "duration": 0.035099,
     "end_time": "2022-05-03T04:42:20.064852",
     "exception": false,
     "start_time": "2022-05-03T04:42:20.029753",
     "status": "completed"
    },
    "tags": []
   },
   "source": [
    "<a id = '2'></a>\n",
    "<h2 style = \"font-family:garamond; font-size:50px; background-color: #f6f6f6; color : blue; border-radius: 100px 100px; text-align:center\"> 2. Exploratory Data Analysis </h2>\n"
   ]
  },
  {
   "cell_type": "code",
   "execution_count": 15,
   "id": "7f831042",
   "metadata": {
    "execution": {
     "iopub.execute_input": "2022-05-03T04:42:20.137998Z",
     "iopub.status.busy": "2022-05-03T04:42:20.137040Z",
     "iopub.status.idle": "2022-05-03T04:42:20.434327Z",
     "shell.execute_reply": "2022-05-03T04:42:20.433059Z"
    },
    "papermill": {
     "duration": 0.336072,
     "end_time": "2022-05-03T04:42:20.436621",
     "exception": false,
     "start_time": "2022-05-03T04:42:20.100549",
     "status": "completed"
    },
    "tags": []
   },
   "outputs": [
    {
     "data": {
      "image/png": "[encoded data removed]",
      "text/plain": [
       "<Figure size 432x288 with 1 Axes>"
      ]
     },
     "metadata": {},
     "output_type": "display_data"
    }
   ],
   "source": [
    "df_year = df.groupby('year')['number'].agg(['sum'])\n",
    "_ = sns.set_style('whitegrid')\n",
    "_ = plt.plot(df_year)"
   ]
  },
  {
   "cell_type": "markdown",
   "id": "b3bffade",
   "metadata": {
    "papermill": {
     "duration": 0.036472,
     "end_time": "2022-05-03T04:42:20.510957",
     "exception": false,
     "start_time": "2022-05-03T04:42:20.474485",
     "status": "completed"
    },
    "tags": []
   },
   "source": [
    "<a id = '5'></a>\n",
    "<h2 style = \"font-family:garamond; font-size:50px; background-color: #f6f6f6; color : blue; border-radius: 100px 100px; text-align:center\"> 5. References</h2>"
   ]
  },
  {
   "cell_type": "markdown",
   "id": "813c1f0c",
   "metadata": {
    "papermill": {
     "duration": 0.035924,
     "end_time": "2022-05-03T04:42:20.583255",
     "exception": false,
     "start_time": "2022-05-03T04:42:20.547331",
     "status": "completed"
    },
    "tags": []
   },
   "source": [
    "http://dados.gov.br/dataset/sistema-nacional-de-informacoes-florestais-snif\n",
    "\n",
    "https://segurossura.com/pt-br/blog/habitat-2/qual-e-o-impacto-dos-incendios-florestais-no-ecossistema/#:~:text=Os%20impactos%20dos%20inc%C3%AAndios%20florestais,deslizamentos%20de%20terra%2C%20entre%20outros."
   ]
  }
 ],
 "metadata": {
  "kernelspec": {
   "display_name": "Python 3",
   "language": "python",
   "name": "python3"
  },
  "language_info": {
   "codemirror_mode": {
    "name": "ipython",
    "version": 3
   },
   "file_extension": ".py",
   "mimetype": "text/x-python",
   "name": "python",
   "nbconvert_exporter": "python",
   "pygments_lexer": "ipython3",
   "version": "3.7.12"
  },
  "papermill": {
   "default_parameters": {},
   "duration": 16.465486,
   "end_time": "2022-05-03T04:42:21.341851",
   "environment_variables": {},
   "exception": null,
   "input_path": "__notebook__.ipynb",
   "output_path": "__notebook__.ipynb",
   "parameters": {},
   "start_time": "2022-05-03T04:42:04.876365",
   "version": "2.3.4"
  }
 },
 "nbformat": 4,
 "nbformat_minor": 5
}
