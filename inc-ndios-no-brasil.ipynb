{
 "cells": [
  {
   "cell_type": "markdown",
   "id": "77f68a5b",
   "metadata": {
    "papermill": {
     "duration": 0.035374,
     "end_time": "2022-05-03T03:14:52.279970",
     "exception": false,
     "start_time": "2022-05-03T03:14:52.244596",
     "status": "completed"
    },
    "tags": []
   },
   "source": [
    "<h1 style = \"font-family: garamond; font-size: 40px; font-style: normal; letter-spcaing: 3px; background-color: #f6f5f5; color :blue; border-radius: 100px 100px; text-align:center \" >Table of Contents</h1>\n",
    "\n",
    "\n",
    "* [1. Introduction](#1)\n",
    "    * [1.1 Libraries And Utilities](#1.1)\n",
    "    * [1.2 Data Loading](#1.2)\n",
    "    * [1.3 Data Cleaning](#1.3)\n",
    "* [2. Exploratory Data Analysis (EDA)](#2)\n",
    "* [3. References](#3)"
   ]
  },
  {
   "cell_type": "markdown",
   "id": "95a47811",
   "metadata": {
    "papermill": {
     "duration": 0.032464,
     "end_time": "2022-05-03T03:14:52.345029",
     "exception": false,
     "start_time": "2022-05-03T03:14:52.312565",
     "status": "completed"
    },
    "tags": []
   },
   "source": [
    "<a id = '1'></a>\n",
    "<h2 style = \"font-family:garamond; font-size:50px; background-color: #f6f6f6; color : blue; border-radius: 100px 100px; text-align:center\"> 1. Introduction </h2>\n"
   ]
  },
  {
   "cell_type": "markdown",
   "id": "c98cc911",
   "metadata": {
    "papermill": {
     "duration": 0.032843,
     "end_time": "2022-05-03T03:14:52.410713",
     "exception": false,
     "start_time": "2022-05-03T03:14:52.377870",
     "status": "completed"
    },
    "tags": []
   },
   "source": [
    "Os incêndios florestais são um problema sério para a preservação das florestas tropicais. A maior parte da floresta Amazônica, maior floresta tropical do mundo, está contida no Brasil. \n",
    "Os impactos dos incêndios florestais podem ser diretos ou indiretos, conforme alguns exemplos a seguir:\n",
    "Diretos: mortalidade animal, vegetação, degradação do solo;\n",
    "Indiretos: modificação de habitat, migração de espécies, erosão do solo, poluição da água, deslizamentos de terra. \n",
    "Entender a frequência dos incêndios florestais ao longo do tempo pode auxiliar na prevenção deste problema.\n",
    "\n",
    "Este dataset contém o número de incêndios florestais no Brasil divididos por estados. Estes dados compreendem um período de aproximadamente 10 anos (1998 a 2017). Os dados foram obtidos do site oficial do governo do Brasil:\n",
    "\n",
    "http://dados.gov.br/dataset/sistema-nacional-de-informacoes-florestais-snif\n",
    "\n",
    "Obs: Para informações referentes ao Código Florestal (Lei nº 12.651/2012), acessar: http://www.planalto.gov.br/ccivil_03/_ato2011-2014/2012/lei/l12651.htm\n"
   ]
  },
  {
   "cell_type": "markdown",
   "id": "71ce80d0",
   "metadata": {
    "papermill": {
     "duration": 0.030242,
     "end_time": "2022-05-03T03:14:52.474340",
     "exception": false,
     "start_time": "2022-05-03T03:14:52.444098",
     "status": "completed"
    },
    "tags": []
   },
   "source": [
    "<a id = '1.1'></a>\n",
    "\n",
    "<h2 style = \"background-color: #f6f5f5; color : blue; font-size: 35px; font-family:garamond; font-weight: normal; border-radius: 100px 100px; text-align: center\">1.1 Libraries and Utilities</h2>"
   ]
  },
  {
   "cell_type": "code",
   "execution_count": 1,
   "id": "331637b5",
   "metadata": {
    "execution": {
     "iopub.execute_input": "2022-05-03T03:14:52.542786Z",
     "iopub.status.busy": "2022-05-03T03:14:52.542314Z",
     "iopub.status.idle": "2022-05-03T03:14:53.757408Z",
     "shell.execute_reply": "2022-05-03T03:14:53.756281Z"
    },
    "papermill": {
     "duration": 1.253609,
     "end_time": "2022-05-03T03:14:53.759903",
     "exception": false,
     "start_time": "2022-05-03T03:14:52.506294",
     "status": "completed"
    },
    "tags": []
   },
   "outputs": [
    {
     "name": "stdout",
     "output_type": "stream",
     "text": [
      "/kaggle/input/forest-fires-in-brazil/amazon.csv\n"
     ]
    }
   ],
   "source": [
    "# basic libraries\n",
    "import numpy as np # linear algebra\n",
    "import pandas as pd # data processing, CSV file I/O (e.g. pd.read_csv)\n",
    "import os\n",
    "for dirname, _, filenames in os.walk('/kaggle/input'):\n",
    "    for filename in filenames:\n",
    "        print(os.path.join(dirname, filename))\n",
    "\n",
    "#visualization modules\n",
    "import missingno as msno\n",
    "import matplotlib.pyplot as plt\n",
    "import seaborn as sns"
   ]
  },
  {
   "cell_type": "markdown",
   "id": "8033e8fa",
   "metadata": {
    "papermill": {
     "duration": 0.031571,
     "end_time": "2022-05-03T03:14:53.824902",
     "exception": false,
     "start_time": "2022-05-03T03:14:53.793331",
     "status": "completed"
    },
    "tags": []
   },
   "source": [
    "<a id = '1.2'></a>\n",
    "\n",
    "<h2 style = \"background-color: #f6f5f5; color : blue; font-size: 35px; font-family:garamond; font-weight:normal; border-radius: 100px 100px; text-align: center\">1.2 Data Loading </h2>"
   ]
  },
  {
   "cell_type": "code",
   "execution_count": 2,
   "id": "09f1f782",
   "metadata": {
    "execution": {
     "iopub.execute_input": "2022-05-03T03:14:53.889143Z",
     "iopub.status.busy": "2022-05-03T03:14:53.888401Z",
     "iopub.status.idle": "2022-05-03T03:14:53.934361Z",
     "shell.execute_reply": "2022-05-03T03:14:53.933544Z"
    },
    "papermill": {
     "duration": 0.080282,
     "end_time": "2022-05-03T03:14:53.936770",
     "exception": false,
     "start_time": "2022-05-03T03:14:53.856488",
     "status": "completed"
    },
    "tags": []
   },
   "outputs": [
    {
     "data": {
      "text/html": [
       "<div>\n",
       "<style scoped>\n",
       "    .dataframe tbody tr th:only-of-type {\n",
       "        vertical-align: middle;\n",
       "    }\n",
       "\n",
       "    .dataframe tbody tr th {\n",
       "        vertical-align: top;\n",
       "    }\n",
       "\n",
       "    .dataframe thead th {\n",
       "        text-align: right;\n",
       "    }\n",
       "</style>\n",
       "<table border=\"1\" class=\"dataframe\">\n",
       "  <thead>\n",
       "    <tr style=\"text-align: right;\">\n",
       "      <th></th>\n",
       "      <th>year</th>\n",
       "      <th>state</th>\n",
       "      <th>month</th>\n",
       "      <th>number</th>\n",
       "      <th>date</th>\n",
       "    </tr>\n",
       "  </thead>\n",
       "  <tbody>\n",
       "    <tr>\n",
       "      <th>0</th>\n",
       "      <td>1998</td>\n",
       "      <td>Acre</td>\n",
       "      <td>Janeiro</td>\n",
       "      <td>0.0</td>\n",
       "      <td>1998-01-01</td>\n",
       "    </tr>\n",
       "    <tr>\n",
       "      <th>1</th>\n",
       "      <td>1999</td>\n",
       "      <td>Acre</td>\n",
       "      <td>Janeiro</td>\n",
       "      <td>0.0</td>\n",
       "      <td>1999-01-01</td>\n",
       "    </tr>\n",
       "    <tr>\n",
       "      <th>2</th>\n",
       "      <td>2000</td>\n",
       "      <td>Acre</td>\n",
       "      <td>Janeiro</td>\n",
       "      <td>0.0</td>\n",
       "      <td>2000-01-01</td>\n",
       "    </tr>\n",
       "    <tr>\n",
       "      <th>3</th>\n",
       "      <td>2001</td>\n",
       "      <td>Acre</td>\n",
       "      <td>Janeiro</td>\n",
       "      <td>0.0</td>\n",
       "      <td>2001-01-01</td>\n",
       "    </tr>\n",
       "    <tr>\n",
       "      <th>4</th>\n",
       "      <td>2002</td>\n",
       "      <td>Acre</td>\n",
       "      <td>Janeiro</td>\n",
       "      <td>0.0</td>\n",
       "      <td>2002-01-01</td>\n",
       "    </tr>\n",
       "  </tbody>\n",
       "</table>\n",
       "</div>"
      ],
      "text/plain": [
       "   year state    month  number        date\n",
       "0  1998  Acre  Janeiro     0.0  1998-01-01\n",
       "1  1999  Acre  Janeiro     0.0  1999-01-01\n",
       "2  2000  Acre  Janeiro     0.0  2000-01-01\n",
       "3  2001  Acre  Janeiro     0.0  2001-01-01\n",
       "4  2002  Acre  Janeiro     0.0  2002-01-01"
      ]
     },
     "execution_count": 2,
     "metadata": {},
     "output_type": "execute_result"
    }
   ],
   "source": [
    "df = pd.read_csv('/kaggle/input/forest-fires-in-brazil/amazon.csv', encoding=\"latin1\")\n",
    "df.head()"
   ]
  },
  {
   "cell_type": "markdown",
   "id": "85010763",
   "metadata": {
    "papermill": {
     "duration": 0.032778,
     "end_time": "2022-05-03T03:14:54.003255",
     "exception": false,
     "start_time": "2022-05-03T03:14:53.970477",
     "status": "completed"
    },
    "tags": []
   },
   "source": [
    "<a id = '1.3'></a>\n",
    "\n",
    "<h2 style = \"background-color: #f6f5f5; color : blue; font-size: 35px; font-family:garamond; font-weight:normal; border-radius: 100px 100px; text-align: center\">1.3 Data Cleaning </h2>"
   ]
  },
  {
   "cell_type": "markdown",
   "id": "494c21c4",
   "metadata": {
    "papermill": {
     "duration": 0.032839,
     "end_time": "2022-05-03T03:14:54.070299",
     "exception": false,
     "start_time": "2022-05-03T03:14:54.037460",
     "status": "completed"
    },
    "tags": []
   },
   "source": [
    "<h4 style = \"background-color: white; color : blue; font-size: 30px; font-family:garamond; font-weight: normal; border-radius: 75px 150px; text-align: left\"> Verificação de Possíveis Valores Nulos</h4>"
   ]
  },
  {
   "cell_type": "code",
   "execution_count": 3,
   "id": "ff4a37e9",
   "metadata": {
    "execution": {
     "iopub.execute_input": "2022-05-03T03:14:54.136808Z",
     "iopub.status.busy": "2022-05-03T03:14:54.136529Z",
     "iopub.status.idle": "2022-05-03T03:14:54.147440Z",
     "shell.execute_reply": "2022-05-03T03:14:54.146480Z"
    },
    "papermill": {
     "duration": 0.045906,
     "end_time": "2022-05-03T03:14:54.149608",
     "exception": false,
     "start_time": "2022-05-03T03:14:54.103702",
     "status": "completed"
    },
    "tags": []
   },
   "outputs": [
    {
     "data": {
      "text/plain": [
       "year      0\n",
       "state     0\n",
       "month     0\n",
       "number    0\n",
       "date      0\n",
       "dtype: int64"
      ]
     },
     "execution_count": 3,
     "metadata": {},
     "output_type": "execute_result"
    }
   ],
   "source": [
    "#check missing value of dataset\n",
    "df.isnull().sum()"
   ]
  },
  {
   "cell_type": "code",
   "execution_count": 4,
   "id": "3a2334e2",
   "metadata": {
    "execution": {
     "iopub.execute_input": "2022-05-03T03:14:54.215423Z",
     "iopub.status.busy": "2022-05-03T03:14:54.215161Z",
     "iopub.status.idle": "2022-05-03T03:14:54.903862Z",
     "shell.execute_reply": "2022-05-03T03:14:54.902906Z"
    },
    "papermill": {
     "duration": 0.725684,
     "end_time": "2022-05-03T03:14:54.907225",
     "exception": false,
     "start_time": "2022-05-03T03:14:54.181541",
     "status": "completed"
    },
    "tags": []
   },
   "outputs": [
    {
     "data": {
      "image/png": "[encoded data removed]",
      "text/plain": [
       "<Figure size 840x280 with 3 Axes>"
      ]
     },
     "metadata": {},
     "output_type": "display_data"
    }
   ],
   "source": [
    "color = ['grey','grey','grey','grey','grey']\n",
    "fig, ax = plt.subplots(figsize = (12,4), dpi = 70)\n",
    "fig.patch.set_facecolor('#f6f5f5')\n",
    "ax.set_facecolor('#f6f5f5')\n",
    "\n",
    "\n",
    "msno.bar(df, sort = 'descending', \n",
    "         color = color, \n",
    "         ax = ax, fontsize =12,\n",
    "         labels = 'off',filter = 'top')\n",
    "\n",
    "ax.set_xticklabels(ax.get_xticklabels(),rotation = 90, fontsize=14, \n",
    "                   ha = 'center', **{'font': 'Serif','weight':'normal','color':'black'}, alpha = 1)\n",
    "ax.set_yticklabels('')\n",
    "ax.spines['bottom'].set_visible(True)\n",
    "\n",
    "plt.title('Visualização da quantidade de dados por variável', size=20, pad=20)\n",
    "fig.show()"
   ]
  },
  {
   "cell_type": "markdown",
   "id": "b15930e7",
   "metadata": {
    "papermill": {
     "duration": 0.032683,
     "end_time": "2022-05-03T03:14:54.989796",
     "exception": false,
     "start_time": "2022-05-03T03:14:54.957113",
     "status": "completed"
    },
    "tags": []
   },
   "source": [
    "Percebemos que não há dados nulos neste dataset."
   ]
  },
  {
   "cell_type": "markdown",
   "id": "11ca41b4",
   "metadata": {
    "papermill": {
     "duration": 0.032627,
     "end_time": "2022-05-03T03:14:55.056266",
     "exception": false,
     "start_time": "2022-05-03T03:14:55.023639",
     "status": "completed"
    },
    "tags": []
   },
   "source": [
    "<h4 style = \"background-color: white; color : blue; font-size: 30px; font-family:garamond; font-weight: normal; border-radius: 75px 150px; text-align: left\"> Limpeza de Possíveis Dados Duplicados </h4>"
   ]
  },
  {
   "cell_type": "markdown",
   "id": "c8f78689",
   "metadata": {
    "papermill": {
     "duration": 0.034734,
     "end_time": "2022-05-03T03:14:55.125366",
     "exception": false,
     "start_time": "2022-05-03T03:14:55.090632",
     "status": "completed"
    },
    "tags": []
   },
   "source": [
    "**Verificação do Shape do dataset**"
   ]
  },
  {
   "cell_type": "code",
   "execution_count": 5,
   "id": "673e1537",
   "metadata": {
    "execution": {
     "iopub.execute_input": "2022-05-03T03:14:55.194243Z",
     "iopub.status.busy": "2022-05-03T03:14:55.193682Z",
     "iopub.status.idle": "2022-05-03T03:14:55.199602Z",
     "shell.execute_reply": "2022-05-03T03:14:55.198815Z"
    },
    "papermill": {
     "duration": 0.042156,
     "end_time": "2022-05-03T03:14:55.201639",
     "exception": false,
     "start_time": "2022-05-03T03:14:55.159483",
     "status": "completed"
    },
    "tags": []
   },
   "outputs": [
    {
     "data": {
      "text/plain": [
       "(6454, 5)"
      ]
     },
     "execution_count": 5,
     "metadata": {},
     "output_type": "execute_result"
    }
   ],
   "source": [
    "df.shape"
   ]
  },
  {
   "cell_type": "code",
   "execution_count": 6,
   "id": "63909c87",
   "metadata": {
    "execution": {
     "iopub.execute_input": "2022-05-03T03:14:55.273260Z",
     "iopub.status.busy": "2022-05-03T03:14:55.272984Z",
     "iopub.status.idle": "2022-05-03T03:14:55.285585Z",
     "shell.execute_reply": "2022-05-03T03:14:55.284659Z"
    },
    "papermill": {
     "duration": 0.050356,
     "end_time": "2022-05-03T03:14:55.287653",
     "exception": false,
     "start_time": "2022-05-03T03:14:55.237297",
     "status": "completed"
    },
    "tags": []
   },
   "outputs": [
    {
     "data": {
      "text/plain": [
       "(6422, 5)"
      ]
     },
     "execution_count": 6,
     "metadata": {},
     "output_type": "execute_result"
    }
   ],
   "source": [
    "df.drop_duplicates(inplace=True)\n",
    "df.shape"
   ]
  },
  {
   "cell_type": "markdown",
   "id": "596acd54",
   "metadata": {
    "papermill": {
     "duration": 0.035114,
     "end_time": "2022-05-03T03:14:55.356471",
     "exception": false,
     "start_time": "2022-05-03T03:14:55.321357",
     "status": "completed"
    },
    "tags": []
   },
   "source": [
    "O shape do DataFrame variou de 6454x5 para 6422x5, com isso é possível notar que haviam dados repetidos e a partir deste ponto estes dados duplicados foram removidos."
   ]
  },
  {
   "cell_type": "markdown",
   "id": "7b05aa56",
   "metadata": {
    "papermill": {
     "duration": 0.033387,
     "end_time": "2022-05-03T03:14:55.423530",
     "exception": false,
     "start_time": "2022-05-03T03:14:55.390143",
     "status": "completed"
    },
    "tags": []
   },
   "source": [
    "<h4 style = \"background-color: white; color : blue; font-size: 30px; font-family:garamond; font-weight: normal; border-radius: 75px 150px; text-align: left\"> Busca por Possível Dado Incoerente </h4>"
   ]
  },
  {
   "cell_type": "markdown",
   "id": "f4093604",
   "metadata": {
    "papermill": {
     "duration": 0.033934,
     "end_time": "2022-05-03T03:14:55.492438",
     "exception": false,
     "start_time": "2022-05-03T03:14:55.458504",
     "status": "completed"
    },
    "tags": []
   },
   "source": [
    "Nesse momento, analisaremos cada coluna individualmente com o objetivo de identificar possíveis dados incoerentes"
   ]
  },
  {
   "cell_type": "code",
   "execution_count": 7,
   "id": "7bbb168d",
   "metadata": {
    "execution": {
     "iopub.execute_input": "2022-05-03T03:14:55.561249Z",
     "iopub.status.busy": "2022-05-03T03:14:55.560847Z",
     "iopub.status.idle": "2022-05-03T03:14:55.567583Z",
     "shell.execute_reply": "2022-05-03T03:14:55.566659Z"
    },
    "papermill": {
     "duration": 0.043803,
     "end_time": "2022-05-03T03:14:55.569913",
     "exception": false,
     "start_time": "2022-05-03T03:14:55.526110",
     "status": "completed"
    },
    "tags": []
   },
   "outputs": [
    {
     "data": {
      "text/plain": [
       "array([1998, 1999, 2000, 2001, 2002, 2003, 2004, 2005, 2006, 2007, 2008,\n",
       "       2009, 2010, 2011, 2012, 2013, 2014, 2015, 2016, 2017])"
      ]
     },
     "execution_count": 7,
     "metadata": {},
     "output_type": "execute_result"
    }
   ],
   "source": [
    "df.year.unique()"
   ]
  },
  {
   "cell_type": "markdown",
   "id": "4a92bb29",
   "metadata": {
    "papermill": {
     "duration": 0.033877,
     "end_time": "2022-05-03T03:14:55.638270",
     "exception": false,
     "start_time": "2022-05-03T03:14:55.604393",
     "status": "completed"
    },
    "tags": []
   },
   "source": [
    "Podemos notar que os dados referentes aos anos estão conforme o esperado, isto é, entre 1998 e 2017."
   ]
  },
  {
   "cell_type": "code",
   "execution_count": 8,
   "id": "9b20a436",
   "metadata": {
    "execution": {
     "iopub.execute_input": "2022-05-03T03:14:55.708040Z",
     "iopub.status.busy": "2022-05-03T03:14:55.707723Z",
     "iopub.status.idle": "2022-05-03T03:14:55.714470Z",
     "shell.execute_reply": "2022-05-03T03:14:55.713666Z"
    },
    "papermill": {
     "duration": 0.044418,
     "end_time": "2022-05-03T03:14:55.716714",
     "exception": false,
     "start_time": "2022-05-03T03:14:55.672296",
     "status": "completed"
    },
    "tags": []
   },
   "outputs": [
    {
     "data": {
      "text/plain": [
       "array(['Acre', 'Alagoas', 'Amapa', 'Amazonas', 'Bahia', 'Ceara',\n",
       "       'Distrito Federal', 'Espirito Santo', 'Goias', 'Maranhao',\n",
       "       'Mato Grosso', 'Minas Gerais', 'Pará', 'Paraiba', 'Pernambuco',\n",
       "       'Piau', 'Rio', 'Rondonia', 'Roraima', 'Santa Catarina',\n",
       "       'Sao Paulo', 'Sergipe', 'Tocantins'], dtype=object)"
      ]
     },
     "execution_count": 8,
     "metadata": {},
     "output_type": "execute_result"
    }
   ],
   "source": [
    "df.state.unique()"
   ]
  },
  {
   "cell_type": "markdown",
   "id": "9841f7d4",
   "metadata": {
    "papermill": {
     "duration": 0.033996,
     "end_time": "2022-05-03T03:14:55.785275",
     "exception": false,
     "start_time": "2022-05-03T03:14:55.751279",
     "status": "completed"
    },
    "tags": []
   },
   "source": [
    "Podemos notar que os dados referentes aos estados estão conforme o esperado, percebemos também que não há erro de digitação ou algo que possa comprometer futuramente a nossa análise."
   ]
  },
  {
   "cell_type": "code",
   "execution_count": 9,
   "id": "03970abe",
   "metadata": {
    "execution": {
     "iopub.execute_input": "2022-05-03T03:14:55.858023Z",
     "iopub.status.busy": "2022-05-03T03:14:55.857694Z",
     "iopub.status.idle": "2022-05-03T03:14:55.864474Z",
     "shell.execute_reply": "2022-05-03T03:14:55.863624Z"
    },
    "papermill": {
     "duration": 0.045777,
     "end_time": "2022-05-03T03:14:55.866857",
     "exception": false,
     "start_time": "2022-05-03T03:14:55.821080",
     "status": "completed"
    },
    "tags": []
   },
   "outputs": [
    {
     "data": {
      "text/plain": [
       "array(['Janeiro', 'Fevereiro', 'Março', 'Abril', 'Maio', 'Junho', 'Julho',\n",
       "       'Agosto', 'Setembro', 'Outubro', 'Novembro', 'Dezembro'],\n",
       "      dtype=object)"
      ]
     },
     "execution_count": 9,
     "metadata": {},
     "output_type": "execute_result"
    }
   ],
   "source": [
    "df.month.unique()"
   ]
  },
  {
   "cell_type": "markdown",
   "id": "6ec2d954",
   "metadata": {
    "papermill": {
     "duration": 0.034617,
     "end_time": "2022-05-03T03:14:55.936751",
     "exception": false,
     "start_time": "2022-05-03T03:14:55.902134",
     "status": "completed"
    },
    "tags": []
   },
   "source": [
    "Da mesma forma, notamos que os dados referentes aos meses estão conforme o esperado."
   ]
  },
  {
   "cell_type": "code",
   "execution_count": 10,
   "id": "c009dfd1",
   "metadata": {
    "execution": {
     "iopub.execute_input": "2022-05-03T03:14:56.009565Z",
     "iopub.status.busy": "2022-05-03T03:14:56.009275Z",
     "iopub.status.idle": "2022-05-03T03:14:56.015817Z",
     "shell.execute_reply": "2022-05-03T03:14:56.014948Z"
    },
    "papermill": {
     "duration": 0.045663,
     "end_time": "2022-05-03T03:14:56.017868",
     "exception": false,
     "start_time": "2022-05-03T03:14:55.972205",
     "status": "completed"
    },
    "tags": []
   },
   "outputs": [
    {
     "data": {
      "text/plain": [
       "array([  0.   ,  10.   ,  12.   , ...,   2.032, 833.   , 623.   ])"
      ]
     },
     "execution_count": 10,
     "metadata": {},
     "output_type": "execute_result"
    }
   ],
   "source": [
    "df.number.unique()"
   ]
  },
  {
   "cell_type": "markdown",
   "id": "03bbbd8b",
   "metadata": {
    "papermill": {
     "duration": 0.034955,
     "end_time": "2022-05-03T03:14:56.088389",
     "exception": false,
     "start_time": "2022-05-03T03:14:56.053434",
     "status": "completed"
    },
    "tags": []
   },
   "source": [
    "Para a columa de números, verificamos que os dados referentes também estão conforme o esperado."
   ]
  },
  {
   "cell_type": "code",
   "execution_count": 11,
   "id": "78cb1109",
   "metadata": {
    "execution": {
     "iopub.execute_input": "2022-05-03T03:14:56.160700Z",
     "iopub.status.busy": "2022-05-03T03:14:56.160060Z",
     "iopub.status.idle": "2022-05-03T03:14:56.167933Z",
     "shell.execute_reply": "2022-05-03T03:14:56.166912Z"
    },
    "papermill": {
     "duration": 0.046392,
     "end_time": "2022-05-03T03:14:56.170038",
     "exception": false,
     "start_time": "2022-05-03T03:14:56.123646",
     "status": "completed"
    },
    "tags": []
   },
   "outputs": [
    {
     "data": {
      "text/plain": [
       "array(['1998-01-01', '1999-01-01', '2000-01-01', '2001-01-01',\n",
       "       '2002-01-01', '2003-01-01', '2004-01-01', '2005-01-01',\n",
       "       '2006-01-01', '2007-01-01', '2008-01-01', '2009-01-01',\n",
       "       '2010-01-01', '2011-01-01', '2012-01-01', '2013-01-01',\n",
       "       '2014-01-01', '2015-01-01', '2016-01-01', '2017-01-01'],\n",
       "      dtype=object)"
      ]
     },
     "execution_count": 11,
     "metadata": {},
     "output_type": "execute_result"
    }
   ],
   "source": [
    "df.date.unique()"
   ]
  },
  {
   "cell_type": "markdown",
   "id": "399eaafd",
   "metadata": {
    "papermill": {
     "duration": 0.035755,
     "end_time": "2022-05-03T03:14:56.241889",
     "exception": false,
     "start_time": "2022-05-03T03:14:56.206134",
     "status": "completed"
    },
    "tags": []
   },
   "source": [
    "Para a coluna de datas, podemos notar que o período está de acordo com o esperado entre 1998 e 2007. Além disso, notamos que todas as datas se referem ao dia 01 de janeiro de cada um dos anos, logo inferimos que se trata de uma atualização anual."
   ]
  },
  {
   "cell_type": "markdown",
   "id": "14c59c9e",
   "metadata": {
    "papermill": {
     "duration": 0.0353,
     "end_time": "2022-05-03T03:14:56.312867",
     "exception": false,
     "start_time": "2022-05-03T03:14:56.277567",
     "status": "completed"
    },
    "tags": []
   },
   "source": [
    "<h4 style = \"background-color: white; color : blue; font-size: 30px; font-family:garamond; font-weight: normal; border-radius: 75px 150px; text-align: left\"> Visão Geral do Dataset </h4>"
   ]
  },
  {
   "cell_type": "code",
   "execution_count": 12,
   "id": "ef58311a",
   "metadata": {
    "execution": {
     "iopub.execute_input": "2022-05-03T03:14:56.386070Z",
     "iopub.status.busy": "2022-05-03T03:14:56.385189Z",
     "iopub.status.idle": "2022-05-03T03:14:56.403492Z",
     "shell.execute_reply": "2022-05-03T03:14:56.402613Z"
    },
    "papermill": {
     "duration": 0.057079,
     "end_time": "2022-05-03T03:14:56.405568",
     "exception": false,
     "start_time": "2022-05-03T03:14:56.348489",
     "status": "completed"
    },
    "tags": []
   },
   "outputs": [
    {
     "name": "stdout",
     "output_type": "stream",
     "text": [
      "<class 'pandas.core.frame.DataFrame'>\n",
      "Int64Index: 6422 entries, 0 to 6453\n",
      "Data columns (total 5 columns):\n",
      " #   Column  Non-Null Count  Dtype  \n",
      "---  ------  --------------  -----  \n",
      " 0   year    6422 non-null   int64  \n",
      " 1   state   6422 non-null   object \n",
      " 2   month   6422 non-null   object \n",
      " 3   number  6422 non-null   float64\n",
      " 4   date    6422 non-null   object \n",
      "dtypes: float64(1), int64(1), object(3)\n",
      "memory usage: 301.0+ KB\n"
     ]
    }
   ],
   "source": [
    "df.info()"
   ]
  },
  {
   "cell_type": "code",
   "execution_count": 13,
   "id": "e5f4c5ec",
   "metadata": {
    "execution": {
     "iopub.execute_input": "2022-05-03T03:14:56.480457Z",
     "iopub.status.busy": "2022-05-03T03:14:56.480036Z",
     "iopub.status.idle": "2022-05-03T03:14:56.498401Z",
     "shell.execute_reply": "2022-05-03T03:14:56.497676Z"
    },
    "papermill": {
     "duration": 0.058684,
     "end_time": "2022-05-03T03:14:56.500364",
     "exception": false,
     "start_time": "2022-05-03T03:14:56.441680",
     "status": "completed"
    },
    "tags": []
   },
   "outputs": [
    {
     "data": {
      "text/html": [
       "<div>\n",
       "<style scoped>\n",
       "    .dataframe tbody tr th:only-of-type {\n",
       "        vertical-align: middle;\n",
       "    }\n",
       "\n",
       "    .dataframe tbody tr th {\n",
       "        vertical-align: top;\n",
       "    }\n",
       "\n",
       "    .dataframe thead th {\n",
       "        text-align: right;\n",
       "    }\n",
       "</style>\n",
       "<table border=\"1\" class=\"dataframe\">\n",
       "  <thead>\n",
       "    <tr style=\"text-align: right;\">\n",
       "      <th></th>\n",
       "      <th>year</th>\n",
       "      <th>number</th>\n",
       "    </tr>\n",
       "  </thead>\n",
       "  <tbody>\n",
       "    <tr>\n",
       "      <th>count</th>\n",
       "      <td>6422.000000</td>\n",
       "      <td>6422.000000</td>\n",
       "    </tr>\n",
       "    <tr>\n",
       "      <th>mean</th>\n",
       "      <td>2007.490969</td>\n",
       "      <td>108.815178</td>\n",
       "    </tr>\n",
       "    <tr>\n",
       "      <th>std</th>\n",
       "      <td>5.731806</td>\n",
       "      <td>191.142482</td>\n",
       "    </tr>\n",
       "    <tr>\n",
       "      <th>min</th>\n",
       "      <td>1998.000000</td>\n",
       "      <td>0.000000</td>\n",
       "    </tr>\n",
       "    <tr>\n",
       "      <th>25%</th>\n",
       "      <td>2003.000000</td>\n",
       "      <td>3.000000</td>\n",
       "    </tr>\n",
       "    <tr>\n",
       "      <th>50%</th>\n",
       "      <td>2007.000000</td>\n",
       "      <td>24.497000</td>\n",
       "    </tr>\n",
       "    <tr>\n",
       "      <th>75%</th>\n",
       "      <td>2012.000000</td>\n",
       "      <td>114.000000</td>\n",
       "    </tr>\n",
       "    <tr>\n",
       "      <th>max</th>\n",
       "      <td>2017.000000</td>\n",
       "      <td>998.000000</td>\n",
       "    </tr>\n",
       "  </tbody>\n",
       "</table>\n",
       "</div>"
      ],
      "text/plain": [
       "              year       number\n",
       "count  6422.000000  6422.000000\n",
       "mean   2007.490969   108.815178\n",
       "std       5.731806   191.142482\n",
       "min    1998.000000     0.000000\n",
       "25%    2003.000000     3.000000\n",
       "50%    2007.000000    24.497000\n",
       "75%    2012.000000   114.000000\n",
       "max    2017.000000   998.000000"
      ]
     },
     "execution_count": 13,
     "metadata": {},
     "output_type": "execute_result"
    }
   ],
   "source": [
    "df.describe()"
   ]
  },
  {
   "cell_type": "markdown",
   "id": "04560d7b",
   "metadata": {
    "papermill": {
     "duration": 0.036225,
     "end_time": "2022-05-03T03:14:56.573245",
     "exception": false,
     "start_time": "2022-05-03T03:14:56.537020",
     "status": "completed"
    },
    "tags": []
   },
   "source": [
    "<h4 style = \"background-color: white; color : blue; font-size: 30px; font-family:garamond; font-weight: normal; border-radius: 75px 150px; text-align: left\"> Detectando Outliers </h4>"
   ]
  },
  {
   "cell_type": "code",
   "execution_count": 14,
   "id": "fa139698",
   "metadata": {
    "execution": {
     "iopub.execute_input": "2022-05-03T03:14:56.647992Z",
     "iopub.status.busy": "2022-05-03T03:14:56.647119Z",
     "iopub.status.idle": "2022-05-03T03:14:56.823244Z",
     "shell.execute_reply": "2022-05-03T03:14:56.822337Z"
    },
    "papermill": {
     "duration": 0.215871,
     "end_time": "2022-05-03T03:14:56.825464",
     "exception": false,
     "start_time": "2022-05-03T03:14:56.609593",
     "status": "completed"
    },
    "tags": []
   },
   "outputs": [
    {
     "data": {
      "image/png": "[encoded data removed]",
      "text/plain": [
       "<Figure size 432x288 with 1 Axes>"
      ]
     },
     "metadata": {
      "needs_background": "light"
     },
     "output_type": "display_data"
    }
   ],
   "source": [
    "_ = sns.boxplot(x=df.number)\n",
    "_ = plt.title('Boxplot acerca da distribuição da variável Number',size=20,pad=20)"
   ]
  },
  {
   "cell_type": "markdown",
   "id": "9a5d0586",
   "metadata": {
    "papermill": {
     "duration": 0.038308,
     "end_time": "2022-05-03T03:14:56.901462",
     "exception": false,
     "start_time": "2022-05-03T03:14:56.863154",
     "status": "completed"
    },
    "tags": []
   },
   "source": [
    "Observando o gráfico, notamos a presença de diversos outliers.\n",
    "\n",
    "A fórmula utilizada para determinar o limite superior está a seguir:\n",
    "Limite Superior = Terceiro Quartil + 1,5 * (Terceiro Quartil – Primeiro Quartil)\n",
    "\n",
    "Sabemos que:\n",
    "Terceiro Quartil = 113\n",
    "Primeiro Quartil = 3\n",
    "\n",
    "Portanto,\n",
    "Limite Superior = 113 + 1,5*(113-3) = 278"
   ]
  },
  {
   "cell_type": "code",
   "execution_count": 15,
   "id": "53538f74",
   "metadata": {
    "execution": {
     "iopub.execute_input": "2022-05-03T03:14:56.979239Z",
     "iopub.status.busy": "2022-05-03T03:14:56.978614Z",
     "iopub.status.idle": "2022-05-03T03:14:56.987033Z",
     "shell.execute_reply": "2022-05-03T03:14:56.986329Z"
    },
    "papermill": {
     "duration": 0.049695,
     "end_time": "2022-05-03T03:14:56.988793",
     "exception": false,
     "start_time": "2022-05-03T03:14:56.939098",
     "status": "completed"
    },
    "tags": []
   },
   "outputs": [
    {
     "data": {
      "text/plain": [
       "(5621, 5)"
      ]
     },
     "execution_count": 15,
     "metadata": {},
     "output_type": "execute_result"
    }
   ],
   "source": [
    "Limite_Superior = 278\n",
    "df.drop(df[df.number > Limite_Superior].index, inplace = True)\n",
    "df.shape"
   ]
  },
  {
   "cell_type": "markdown",
   "id": "774140d4",
   "metadata": {
    "papermill": {
     "duration": 0.037443,
     "end_time": "2022-05-03T03:14:57.064765",
     "exception": false,
     "start_time": "2022-05-03T03:14:57.027322",
     "status": "completed"
    },
    "tags": []
   },
   "source": [
    "Quando comparamos o shape do antigo DataFrame (6422x5) antes da eliminação dos outliers com o shape atual (5621x5), notamos que foram eliminados 801 outliers. Após a remoção desses outliers, calculamos novamente métricas estatísticas isso pois a presença daqueles outliers afetavam estes parâmetros."
   ]
  },
  {
   "cell_type": "code",
   "execution_count": 16,
   "id": "f3d88173",
   "metadata": {
    "execution": {
     "iopub.execute_input": "2022-05-03T03:14:57.142122Z",
     "iopub.status.busy": "2022-05-03T03:14:57.141589Z",
     "iopub.status.idle": "2022-05-03T03:14:57.158675Z",
     "shell.execute_reply": "2022-05-03T03:14:57.158017Z"
    },
    "papermill": {
     "duration": 0.057765,
     "end_time": "2022-05-03T03:14:57.160486",
     "exception": false,
     "start_time": "2022-05-03T03:14:57.102721",
     "status": "completed"
    },
    "tags": []
   },
   "outputs": [
    {
     "data": {
      "text/html": [
       "<div>\n",
       "<style scoped>\n",
       "    .dataframe tbody tr th:only-of-type {\n",
       "        vertical-align: middle;\n",
       "    }\n",
       "\n",
       "    .dataframe tbody tr th {\n",
       "        vertical-align: top;\n",
       "    }\n",
       "\n",
       "    .dataframe thead th {\n",
       "        text-align: right;\n",
       "    }\n",
       "</style>\n",
       "<table border=\"1\" class=\"dataframe\">\n",
       "  <thead>\n",
       "    <tr style=\"text-align: right;\">\n",
       "      <th></th>\n",
       "      <th>year</th>\n",
       "      <th>number</th>\n",
       "    </tr>\n",
       "  </thead>\n",
       "  <tbody>\n",
       "    <tr>\n",
       "      <th>count</th>\n",
       "      <td>5621.000000</td>\n",
       "      <td>5621.000000</td>\n",
       "    </tr>\n",
       "    <tr>\n",
       "      <th>mean</th>\n",
       "      <td>2007.415940</td>\n",
       "      <td>45.837764</td>\n",
       "    </tr>\n",
       "    <tr>\n",
       "      <th>std</th>\n",
       "      <td>5.740434</td>\n",
       "      <td>63.285424</td>\n",
       "    </tr>\n",
       "    <tr>\n",
       "      <th>min</th>\n",
       "      <td>1998.000000</td>\n",
       "      <td>0.000000</td>\n",
       "    </tr>\n",
       "    <tr>\n",
       "      <th>25%</th>\n",
       "      <td>2002.000000</td>\n",
       "      <td>2.397000</td>\n",
       "    </tr>\n",
       "    <tr>\n",
       "      <th>50%</th>\n",
       "      <td>2007.000000</td>\n",
       "      <td>15.000000</td>\n",
       "    </tr>\n",
       "    <tr>\n",
       "      <th>75%</th>\n",
       "      <td>2012.000000</td>\n",
       "      <td>64.000000</td>\n",
       "    </tr>\n",
       "    <tr>\n",
       "      <th>max</th>\n",
       "      <td>2017.000000</td>\n",
       "      <td>278.000000</td>\n",
       "    </tr>\n",
       "  </tbody>\n",
       "</table>\n",
       "</div>"
      ],
      "text/plain": [
       "              year       number\n",
       "count  5621.000000  5621.000000\n",
       "mean   2007.415940    45.837764\n",
       "std       5.740434    63.285424\n",
       "min    1998.000000     0.000000\n",
       "25%    2002.000000     2.397000\n",
       "50%    2007.000000    15.000000\n",
       "75%    2012.000000    64.000000\n",
       "max    2017.000000   278.000000"
      ]
     },
     "execution_count": 16,
     "metadata": {},
     "output_type": "execute_result"
    }
   ],
   "source": [
    "df.describe()"
   ]
  },
  {
   "cell_type": "markdown",
   "id": "a46af7f6",
   "metadata": {
    "papermill": {
     "duration": 0.038035,
     "end_time": "2022-05-03T03:14:57.236782",
     "exception": false,
     "start_time": "2022-05-03T03:14:57.198747",
     "status": "completed"
    },
    "tags": []
   },
   "source": [
    "<a id = '5'></a>\n",
    "<h2 style = \"font-family:garamond; font-size:50px; background-color: #f6f6f6; color : blue; border-radius: 100px 100px; text-align:center\"> 5. References</h2>"
   ]
  },
  {
   "cell_type": "markdown",
   "id": "298eed94",
   "metadata": {
    "papermill": {
     "duration": 0.038035,
     "end_time": "2022-05-03T03:14:57.312901",
     "exception": false,
     "start_time": "2022-05-03T03:14:57.274866",
     "status": "completed"
    },
    "tags": []
   },
   "source": [
    "http://dados.gov.br/dataset/sistema-nacional-de-informacoes-florestais-snif\n",
    "\n",
    "https://segurossura.com/pt-br/blog/habitat-2/qual-e-o-impacto-dos-incendios-florestais-no-ecossistema/#:~:text=Os%20impactos%20dos%20inc%C3%AAndios%20florestais,deslizamentos%20de%20terra%2C%20entre%20outros."
   ]
  }
 ],
 "metadata": {
  "kernelspec": {
   "display_name": "Python 3",
   "language": "python",
   "name": "python3"
  },
  "language_info": {
   "codemirror_mode": {
    "name": "ipython",
    "version": 3
   },
   "file_extension": ".py",
   "mimetype": "text/x-python",
   "name": "python",
   "nbconvert_exporter": "python",
   "pygments_lexer": "ipython3",
   "version": "3.7.12"
  },
  "papermill": {
   "default_parameters": {},
   "duration": 16.351476,
   "end_time": "2022-05-03T03:14:58.071549",
   "environment_variables": {},
   "exception": null,
   "input_path": "__notebook__.ipynb",
   "output_path": "__notebook__.ipynb",
   "parameters": {},
   "start_time": "2022-05-03T03:14:41.720073",
   "version": "2.3.4"
  }
 },
 "nbformat": 4,
 "nbformat_minor": 5
}
