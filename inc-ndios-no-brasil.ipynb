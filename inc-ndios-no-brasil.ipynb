{
 "cells": [
  {
   "cell_type": "markdown",
   "id": "d826072f",
   "metadata": {
    "papermill": {
     "duration": 0.044204,
     "end_time": "2022-05-03T19:29:09.930780",
     "exception": false,
     "start_time": "2022-05-03T19:29:09.886576",
     "status": "completed"
    },
    "tags": []
   },
   "source": [
    "<h1 style = \"font-family: garamond; font-size: 40px; font-style: normal; letter-spcaing: 3px; background-color: #f6f5f5; color :blue; border-radius: 100px 100px; text-align:center \" >Table of Contents</h1>\n",
    "\n",
    "\n",
    "* [1. Introduction](#1)\n",
    "    * [1.1 Libraries And Utilities](#1.1)\n",
    "    * [1.2 Data Loading](#1.2)\n",
    "    * [1.3 Data Cleaning](#1.3)\n",
    "* [2. Exploratory Data Analysis (EDA)](#2)\n",
    "* [3. References](#3)"
   ]
  },
  {
   "cell_type": "markdown",
   "id": "b681ebe4",
   "metadata": {
    "papermill": {
     "duration": 0.037336,
     "end_time": "2022-05-03T19:29:10.007551",
     "exception": false,
     "start_time": "2022-05-03T19:29:09.970215",
     "status": "completed"
    },
    "tags": []
   },
   "source": [
    "<a id = '1'></a>\n",
    "<h2 style = \"font-family:garamond; font-size:50px; background-color: #f6f6f6; color : blue; border-radius: 100px 100px; text-align:center\"> 1. Introduction </h2>\n"
   ]
  },
  {
   "cell_type": "markdown",
   "id": "79d38c04",
   "metadata": {
    "papermill": {
     "duration": 0.036808,
     "end_time": "2022-05-03T19:29:10.081721",
     "exception": false,
     "start_time": "2022-05-03T19:29:10.044913",
     "status": "completed"
    },
    "tags": []
   },
   "source": [
    "Os incêndios florestais são um problema sério para a preservação das florestas tropicais. A maior parte da floresta Amazônica, maior floresta tropical do mundo, está contida no Brasil. \n",
    "Os impactos dos incêndios florestais podem ser diretos ou indiretos, conforme alguns exemplos a seguir:\n",
    "Diretos: mortalidade animal, vegetação, degradação do solo;\n",
    "Indiretos: modificação de habitat, migração de espécies, erosão do solo, poluição da água, deslizamentos de terra. \n",
    "Entender a frequência dos incêndios florestais ao longo do tempo pode auxiliar na prevenção deste problema.\n",
    "\n",
    "Este dataset contém o número de incêndios florestais no Brasil divididos por estados. Estes dados compreendem um período de aproximadamente 10 anos (1998 a 2017). Os dados foram obtidos do site oficial do governo do Brasil:\n",
    "\n",
    "http://dados.gov.br/dataset/sistema-nacional-de-informacoes-florestais-snif\n",
    "\n",
    "Obs: Para informações referentes ao Código Florestal (Lei nº 12.651/2012), acessar: http://www.planalto.gov.br/ccivil_03/_ato2011-2014/2012/lei/l12651.htm\n"
   ]
  },
  {
   "cell_type": "markdown",
   "id": "63a49b91",
   "metadata": {
    "papermill": {
     "duration": 0.037024,
     "end_time": "2022-05-03T19:29:10.158993",
     "exception": false,
     "start_time": "2022-05-03T19:29:10.121969",
     "status": "completed"
    },
    "tags": []
   },
   "source": [
    "<a id = '1.1'></a>\n",
    "\n",
    "<h2 style = \"background-color: #f6f5f5; color : blue; font-size: 35px; font-family:garamond; font-weight: normal; border-radius: 100px 100px; text-align: center\">1.1 Libraries and Utilities</h2>"
   ]
  },
  {
   "cell_type": "code",
   "execution_count": 1,
   "id": "af548ed2",
   "metadata": {
    "execution": {
     "iopub.execute_input": "2022-05-03T19:29:10.235312Z",
     "iopub.status.busy": "2022-05-03T19:29:10.234888Z",
     "iopub.status.idle": "2022-05-03T19:29:11.452507Z",
     "shell.execute_reply": "2022-05-03T19:29:11.451628Z"
    },
    "papermill": {
     "duration": 1.259036,
     "end_time": "2022-05-03T19:29:11.455351",
     "exception": false,
     "start_time": "2022-05-03T19:29:10.196315",
     "status": "completed"
    },
    "tags": []
   },
   "outputs": [
    {
     "name": "stdout",
     "output_type": "stream",
     "text": [
      "/kaggle/input/forest-fires-in-brazil/amazon.csv\n"
     ]
    }
   ],
   "source": [
    "# basic libraries\n",
    "import numpy as np # linear algebra\n",
    "import pandas as pd # data processing, CSV file I/O (e.g. pd.read_csv)\n",
    "import os\n",
    "for dirname, _, filenames in os.walk('/kaggle/input'):\n",
    "    for filename in filenames:\n",
    "        print(os.path.join(dirname, filename))\n",
    "\n",
    "#visualization modules\n",
    "import missingno as msno\n",
    "import matplotlib.pyplot as plt\n",
    "import seaborn as sns"
   ]
  },
  {
   "cell_type": "markdown",
   "id": "f42351f7",
   "metadata": {
    "papermill": {
     "duration": 0.037431,
     "end_time": "2022-05-03T19:29:11.531235",
     "exception": false,
     "start_time": "2022-05-03T19:29:11.493804",
     "status": "completed"
    },
    "tags": []
   },
   "source": [
    "<a id = '1.2'></a>\n",
    "\n",
    "<h2 style = \"background-color: #f6f5f5; color : blue; font-size: 35px; font-family:garamond; font-weight:normal; border-radius: 100px 100px; text-align: center\">1.2 Data Loading </h2>"
   ]
  },
  {
   "cell_type": "code",
   "execution_count": 2,
   "id": "8bd143e8",
   "metadata": {
    "execution": {
     "iopub.execute_input": "2022-05-03T19:29:11.609627Z",
     "iopub.status.busy": "2022-05-03T19:29:11.608574Z",
     "iopub.status.idle": "2022-05-03T19:29:11.654470Z",
     "shell.execute_reply": "2022-05-03T19:29:11.653371Z"
    },
    "papermill": {
     "duration": 0.087801,
     "end_time": "2022-05-03T19:29:11.656911",
     "exception": false,
     "start_time": "2022-05-03T19:29:11.569110",
     "status": "completed"
    },
    "tags": []
   },
   "outputs": [
    {
     "data": {
      "text/html": [
       "<div>\n",
       "<style scoped>\n",
       "    .dataframe tbody tr th:only-of-type {\n",
       "        vertical-align: middle;\n",
       "    }\n",
       "\n",
       "    .dataframe tbody tr th {\n",
       "        vertical-align: top;\n",
       "    }\n",
       "\n",
       "    .dataframe thead th {\n",
       "        text-align: right;\n",
       "    }\n",
       "</style>\n",
       "<table border=\"1\" class=\"dataframe\">\n",
       "  <thead>\n",
       "    <tr style=\"text-align: right;\">\n",
       "      <th></th>\n",
       "      <th>year</th>\n",
       "      <th>state</th>\n",
       "      <th>month</th>\n",
       "      <th>number</th>\n",
       "      <th>date</th>\n",
       "    </tr>\n",
       "  </thead>\n",
       "  <tbody>\n",
       "    <tr>\n",
       "      <th>0</th>\n",
       "      <td>1998</td>\n",
       "      <td>Acre</td>\n",
       "      <td>Janeiro</td>\n",
       "      <td>0.0</td>\n",
       "      <td>1998-01-01</td>\n",
       "    </tr>\n",
       "    <tr>\n",
       "      <th>1</th>\n",
       "      <td>1999</td>\n",
       "      <td>Acre</td>\n",
       "      <td>Janeiro</td>\n",
       "      <td>0.0</td>\n",
       "      <td>1999-01-01</td>\n",
       "    </tr>\n",
       "    <tr>\n",
       "      <th>2</th>\n",
       "      <td>2000</td>\n",
       "      <td>Acre</td>\n",
       "      <td>Janeiro</td>\n",
       "      <td>0.0</td>\n",
       "      <td>2000-01-01</td>\n",
       "    </tr>\n",
       "    <tr>\n",
       "      <th>3</th>\n",
       "      <td>2001</td>\n",
       "      <td>Acre</td>\n",
       "      <td>Janeiro</td>\n",
       "      <td>0.0</td>\n",
       "      <td>2001-01-01</td>\n",
       "    </tr>\n",
       "    <tr>\n",
       "      <th>4</th>\n",
       "      <td>2002</td>\n",
       "      <td>Acre</td>\n",
       "      <td>Janeiro</td>\n",
       "      <td>0.0</td>\n",
       "      <td>2002-01-01</td>\n",
       "    </tr>\n",
       "  </tbody>\n",
       "</table>\n",
       "</div>"
      ],
      "text/plain": [
       "   year state    month  number        date\n",
       "0  1998  Acre  Janeiro     0.0  1998-01-01\n",
       "1  1999  Acre  Janeiro     0.0  1999-01-01\n",
       "2  2000  Acre  Janeiro     0.0  2000-01-01\n",
       "3  2001  Acre  Janeiro     0.0  2001-01-01\n",
       "4  2002  Acre  Janeiro     0.0  2002-01-01"
      ]
     },
     "execution_count": 2,
     "metadata": {},
     "output_type": "execute_result"
    }
   ],
   "source": [
    "df = pd.read_csv('/kaggle/input/forest-fires-in-brazil/amazon.csv', encoding=\"latin1\")\n",
    "df.head()"
   ]
  },
  {
   "cell_type": "markdown",
   "id": "6fde100f",
   "metadata": {
    "papermill": {
     "duration": 0.039639,
     "end_time": "2022-05-03T19:29:11.735260",
     "exception": false,
     "start_time": "2022-05-03T19:29:11.695621",
     "status": "completed"
    },
    "tags": []
   },
   "source": [
    "<a id = '1.3'></a>\n",
    "\n",
    "<h2 style = \"background-color: #f6f5f5; color : blue; font-size: 35px; font-family:garamond; font-weight:normal; border-radius: 100px 100px; text-align: center\">1.3 Data Cleaning </h2>"
   ]
  },
  {
   "cell_type": "markdown",
   "id": "2f3dfe59",
   "metadata": {
    "papermill": {
     "duration": 0.038299,
     "end_time": "2022-05-03T19:29:11.812300",
     "exception": false,
     "start_time": "2022-05-03T19:29:11.774001",
     "status": "completed"
    },
    "tags": []
   },
   "source": [
    "<h4 style = \"background-color: white; color : blue; font-size: 30px; font-family:garamond; font-weight: normal; border-radius: 75px 150px; text-align: left\"> Verificação de Possíveis Valores Nulos</h4>"
   ]
  },
  {
   "cell_type": "code",
   "execution_count": 3,
   "id": "a3482a97",
   "metadata": {
    "execution": {
     "iopub.execute_input": "2022-05-03T19:29:11.890586Z",
     "iopub.status.busy": "2022-05-03T19:29:11.890269Z",
     "iopub.status.idle": "2022-05-03T19:29:11.900153Z",
     "shell.execute_reply": "2022-05-03T19:29:11.899521Z"
    },
    "papermill": {
     "duration": 0.05202,
     "end_time": "2022-05-03T19:29:11.902455",
     "exception": false,
     "start_time": "2022-05-03T19:29:11.850435",
     "status": "completed"
    },
    "tags": []
   },
   "outputs": [
    {
     "data": {
      "text/plain": [
       "year      0\n",
       "state     0\n",
       "month     0\n",
       "number    0\n",
       "date      0\n",
       "dtype: int64"
      ]
     },
     "execution_count": 3,
     "metadata": {},
     "output_type": "execute_result"
    }
   ],
   "source": [
    "#check missing value of dataset\n",
    "df.isnull().sum()"
   ]
  },
  {
   "cell_type": "code",
   "execution_count": 4,
   "id": "a2b4141d",
   "metadata": {
    "execution": {
     "iopub.execute_input": "2022-05-03T19:29:11.984155Z",
     "iopub.status.busy": "2022-05-03T19:29:11.983357Z",
     "iopub.status.idle": "2022-05-03T19:29:12.672253Z",
     "shell.execute_reply": "2022-05-03T19:29:12.671240Z"
    },
    "papermill": {
     "duration": 0.734821,
     "end_time": "2022-05-03T19:29:12.676881",
     "exception": false,
     "start_time": "2022-05-03T19:29:11.942060",
     "status": "completed"
    },
    "tags": []
   },
   "outputs": [
    {
     "data": {
      "image/png": "[encoded data removed]",
      "text/plain": [
       "<Figure size 840x280 with 3 Axes>"
      ]
     },
     "metadata": {},
     "output_type": "display_data"
    }
   ],
   "source": [
    "color = ['grey','grey','grey','grey','grey']\n",
    "fig, ax = plt.subplots(figsize = (12,4), dpi = 70)\n",
    "fig.patch.set_facecolor('#f6f5f5')\n",
    "ax.set_facecolor('#f6f5f5')\n",
    "\n",
    "\n",
    "msno.bar(df, sort = 'descending', \n",
    "         color = color, \n",
    "         ax = ax, fontsize =12,\n",
    "         labels = 'off',filter = 'top')\n",
    "\n",
    "ax.set_xticklabels(ax.get_xticklabels(),rotation = 90, fontsize=14, \n",
    "                   ha = 'center', **{'font': 'Serif','weight':'normal','color':'black'}, alpha = 1)\n",
    "ax.set_yticklabels('')\n",
    "ax.spines['bottom'].set_visible(True)\n",
    "\n",
    "plt.title('Visualização da quantidade de dados por variável', size=20, pad=20)\n",
    "fig.show()"
   ]
  },
  {
   "cell_type": "markdown",
   "id": "22ce8201",
   "metadata": {
    "papermill": {
     "duration": 0.040865,
     "end_time": "2022-05-03T19:29:12.773780",
     "exception": false,
     "start_time": "2022-05-03T19:29:12.732915",
     "status": "completed"
    },
    "tags": []
   },
   "source": [
    "Percebemos que não há dados nulos neste dataset."
   ]
  },
  {
   "cell_type": "markdown",
   "id": "d5227463",
   "metadata": {
    "papermill": {
     "duration": 0.041549,
     "end_time": "2022-05-03T19:29:12.855944",
     "exception": false,
     "start_time": "2022-05-03T19:29:12.814395",
     "status": "completed"
    },
    "tags": []
   },
   "source": [
    "<h4 style = \"background-color: white; color : blue; font-size: 30px; font-family:garamond; font-weight: normal; border-radius: 75px 150px; text-align: left\"> Limpeza de Possíveis Dados Duplicados </h4>"
   ]
  },
  {
   "cell_type": "markdown",
   "id": "5ac5fc4c",
   "metadata": {
    "papermill": {
     "duration": 0.040913,
     "end_time": "2022-05-03T19:29:12.936866",
     "exception": false,
     "start_time": "2022-05-03T19:29:12.895953",
     "status": "completed"
    },
    "tags": []
   },
   "source": [
    "**Verificação do Shape do dataset**"
   ]
  },
  {
   "cell_type": "code",
   "execution_count": 5,
   "id": "b91b1915",
   "metadata": {
    "execution": {
     "iopub.execute_input": "2022-05-03T19:29:13.019000Z",
     "iopub.status.busy": "2022-05-03T19:29:13.018394Z",
     "iopub.status.idle": "2022-05-03T19:29:13.025010Z",
     "shell.execute_reply": "2022-05-03T19:29:13.024124Z"
    },
    "papermill": {
     "duration": 0.049928,
     "end_time": "2022-05-03T19:29:13.027100",
     "exception": false,
     "start_time": "2022-05-03T19:29:12.977172",
     "status": "completed"
    },
    "tags": []
   },
   "outputs": [
    {
     "data": {
      "text/plain": [
       "(6454, 5)"
      ]
     },
     "execution_count": 5,
     "metadata": {},
     "output_type": "execute_result"
    }
   ],
   "source": [
    "df.shape"
   ]
  },
  {
   "cell_type": "code",
   "execution_count": 6,
   "id": "5a12bc77",
   "metadata": {
    "execution": {
     "iopub.execute_input": "2022-05-03T19:29:13.110473Z",
     "iopub.status.busy": "2022-05-03T19:29:13.110166Z",
     "iopub.status.idle": "2022-05-03T19:29:13.124383Z",
     "shell.execute_reply": "2022-05-03T19:29:13.123299Z"
    },
    "papermill": {
     "duration": 0.058215,
     "end_time": "2022-05-03T19:29:13.126403",
     "exception": false,
     "start_time": "2022-05-03T19:29:13.068188",
     "status": "completed"
    },
    "tags": []
   },
   "outputs": [
    {
     "data": {
      "text/plain": [
       "(6422, 5)"
      ]
     },
     "execution_count": 6,
     "metadata": {},
     "output_type": "execute_result"
    }
   ],
   "source": [
    "df.drop_duplicates(inplace=True)\n",
    "df.shape"
   ]
  },
  {
   "cell_type": "markdown",
   "id": "8e14cdc6",
   "metadata": {
    "papermill": {
     "duration": 0.040224,
     "end_time": "2022-05-03T19:29:13.207406",
     "exception": false,
     "start_time": "2022-05-03T19:29:13.167182",
     "status": "completed"
    },
    "tags": []
   },
   "source": [
    "O shape do DataFrame variou de 6454x5 para 6422x5, com isso é possível notar que haviam dados repetidos e a partir deste ponto estes dados duplicados foram removidos."
   ]
  },
  {
   "cell_type": "markdown",
   "id": "73b428a5",
   "metadata": {
    "papermill": {
     "duration": 0.040199,
     "end_time": "2022-05-03T19:29:13.288471",
     "exception": false,
     "start_time": "2022-05-03T19:29:13.248272",
     "status": "completed"
    },
    "tags": []
   },
   "source": [
    "<h4 style = \"background-color: white; color : blue; font-size: 30px; font-family:garamond; font-weight: normal; border-radius: 75px 150px; text-align: left\"> Busca por Possíveis Dados Incoerentes </h4>"
   ]
  },
  {
   "cell_type": "markdown",
   "id": "78ef08d6",
   "metadata": {
    "papermill": {
     "duration": 0.039964,
     "end_time": "2022-05-03T19:29:13.370131",
     "exception": false,
     "start_time": "2022-05-03T19:29:13.330167",
     "status": "completed"
    },
    "tags": []
   },
   "source": [
    "Nesse momento, analisaremos cada coluna individualmente com o objetivo de identificar possíveis dados incoerentes"
   ]
  },
  {
   "cell_type": "code",
   "execution_count": 7,
   "id": "4025c95e",
   "metadata": {
    "execution": {
     "iopub.execute_input": "2022-05-03T19:29:13.453641Z",
     "iopub.status.busy": "2022-05-03T19:29:13.453199Z",
     "iopub.status.idle": "2022-05-03T19:29:13.459848Z",
     "shell.execute_reply": "2022-05-03T19:29:13.459154Z"
    },
    "papermill": {
     "duration": 0.051169,
     "end_time": "2022-05-03T19:29:13.461766",
     "exception": false,
     "start_time": "2022-05-03T19:29:13.410597",
     "status": "completed"
    },
    "tags": []
   },
   "outputs": [
    {
     "data": {
      "text/plain": [
       "array([1998, 1999, 2000, 2001, 2002, 2003, 2004, 2005, 2006, 2007, 2008,\n",
       "       2009, 2010, 2011, 2012, 2013, 2014, 2015, 2016, 2017])"
      ]
     },
     "execution_count": 7,
     "metadata": {},
     "output_type": "execute_result"
    }
   ],
   "source": [
    "df.year.unique()"
   ]
  },
  {
   "cell_type": "markdown",
   "id": "38a2f3cc",
   "metadata": {
    "papermill": {
     "duration": 0.040946,
     "end_time": "2022-05-03T19:29:13.543725",
     "exception": false,
     "start_time": "2022-05-03T19:29:13.502779",
     "status": "completed"
    },
    "tags": []
   },
   "source": [
    "Podemos notar que os dados referentes aos anos estão conforme o esperado, isto é, entre 1998 e 2017."
   ]
  },
  {
   "cell_type": "code",
   "execution_count": 8,
   "id": "6aad87ba",
   "metadata": {
    "execution": {
     "iopub.execute_input": "2022-05-03T19:29:13.628101Z",
     "iopub.status.busy": "2022-05-03T19:29:13.627790Z",
     "iopub.status.idle": "2022-05-03T19:29:13.635676Z",
     "shell.execute_reply": "2022-05-03T19:29:13.634830Z"
    },
    "papermill": {
     "duration": 0.052346,
     "end_time": "2022-05-03T19:29:13.637644",
     "exception": false,
     "start_time": "2022-05-03T19:29:13.585298",
     "status": "completed"
    },
    "tags": []
   },
   "outputs": [
    {
     "data": {
      "text/plain": [
       "array(['Acre', 'Alagoas', 'Amapa', 'Amazonas', 'Bahia', 'Ceara',\n",
       "       'Distrito Federal', 'Espirito Santo', 'Goias', 'Maranhao',\n",
       "       'Mato Grosso', 'Minas Gerais', 'Pará', 'Paraiba', 'Pernambuco',\n",
       "       'Piau', 'Rio', 'Rondonia', 'Roraima', 'Santa Catarina',\n",
       "       'Sao Paulo', 'Sergipe', 'Tocantins'], dtype=object)"
      ]
     },
     "execution_count": 8,
     "metadata": {},
     "output_type": "execute_result"
    }
   ],
   "source": [
    "df.state.unique()"
   ]
  },
  {
   "cell_type": "markdown",
   "id": "ecaba942",
   "metadata": {
    "papermill": {
     "duration": 0.041626,
     "end_time": "2022-05-03T19:29:13.721859",
     "exception": false,
     "start_time": "2022-05-03T19:29:13.680233",
     "status": "completed"
    },
    "tags": []
   },
   "source": [
    "Podemos notar que 'Mato Grosso' pode se referir tanto ao Mato Grosso do Sul quanto Mato Grosso e que 'Rio' pode se referir tanto ao Rio de Janeiro quanto Rio Grande do Norte ou Rio Grande do Sul. Como não temos como distinguir de forma realista o número de incêndios florestais em cada um desses estados, não iremos levar em consideração estes 5 estados: Mato Grosso do Sul, Mato Grosso,Rio de Janeiro,Rio Grande do Norte e Rio Grande do Sul quando estivermos realizando comparações por estados, entretanto quando se tratar de um panorama geral, ou seja, o país como um todo estes dados serão levados em conta."
   ]
  },
  {
   "cell_type": "code",
   "execution_count": 9,
   "id": "14e89f9b",
   "metadata": {
    "execution": {
     "iopub.execute_input": "2022-05-03T19:29:13.806114Z",
     "iopub.status.busy": "2022-05-03T19:29:13.805828Z",
     "iopub.status.idle": "2022-05-03T19:29:13.818352Z",
     "shell.execute_reply": "2022-05-03T19:29:13.817729Z"
    },
    "papermill": {
     "duration": 0.056784,
     "end_time": "2022-05-03T19:29:13.820193",
     "exception": false,
     "start_time": "2022-05-03T19:29:13.763409",
     "status": "completed"
    },
    "tags": []
   },
   "outputs": [
    {
     "data": {
      "text/plain": [
       "(5252, 5)"
      ]
     },
     "execution_count": 9,
     "metadata": {},
     "output_type": "execute_result"
    }
   ],
   "source": [
    "df_new = df.copy()\n",
    "df_new.drop(df[df.state =='Mato Grosso'].index, inplace = True)\n",
    "df_new.drop(df[df.state =='Rio'].index, inplace = True)\n",
    "df_new.shape"
   ]
  },
  {
   "cell_type": "code",
   "execution_count": 10,
   "id": "25a5cef6",
   "metadata": {
    "execution": {
     "iopub.execute_input": "2022-05-03T19:29:13.906257Z",
     "iopub.status.busy": "2022-05-03T19:29:13.905920Z",
     "iopub.status.idle": "2022-05-03T19:29:13.912110Z",
     "shell.execute_reply": "2022-05-03T19:29:13.911272Z"
    },
    "papermill": {
     "duration": 0.052298,
     "end_time": "2022-05-03T19:29:13.914410",
     "exception": false,
     "start_time": "2022-05-03T19:29:13.862112",
     "status": "completed"
    },
    "tags": []
   },
   "outputs": [
    {
     "data": {
      "text/plain": [
       "array(['Janeiro', 'Fevereiro', 'Março', 'Abril', 'Maio', 'Junho', 'Julho',\n",
       "       'Agosto', 'Setembro', 'Outubro', 'Novembro', 'Dezembro'],\n",
       "      dtype=object)"
      ]
     },
     "execution_count": 10,
     "metadata": {},
     "output_type": "execute_result"
    }
   ],
   "source": [
    "df.month.unique()"
   ]
  },
  {
   "cell_type": "markdown",
   "id": "5570deb4",
   "metadata": {
    "papermill": {
     "duration": 0.041819,
     "end_time": "2022-05-03T19:29:13.999166",
     "exception": false,
     "start_time": "2022-05-03T19:29:13.957347",
     "status": "completed"
    },
    "tags": []
   },
   "source": [
    "Da mesma forma, notamos que os dados referentes aos meses estão conforme o esperado."
   ]
  },
  {
   "cell_type": "code",
   "execution_count": 11,
   "id": "bacc4dde",
   "metadata": {
    "execution": {
     "iopub.execute_input": "2022-05-03T19:29:14.085043Z",
     "iopub.status.busy": "2022-05-03T19:29:14.084755Z",
     "iopub.status.idle": "2022-05-03T19:29:14.090411Z",
     "shell.execute_reply": "2022-05-03T19:29:14.089618Z"
    },
    "papermill": {
     "duration": 0.051324,
     "end_time": "2022-05-03T19:29:14.092402",
     "exception": false,
     "start_time": "2022-05-03T19:29:14.041078",
     "status": "completed"
    },
    "tags": []
   },
   "outputs": [
    {
     "data": {
      "text/plain": [
       "array([  0.   ,  10.   ,  12.   , ...,   2.032, 833.   , 623.   ])"
      ]
     },
     "execution_count": 11,
     "metadata": {},
     "output_type": "execute_result"
    }
   ],
   "source": [
    "df.number.unique()"
   ]
  },
  {
   "cell_type": "markdown",
   "id": "e66ec78f",
   "metadata": {
    "papermill": {
     "duration": 0.042073,
     "end_time": "2022-05-03T19:29:14.178992",
     "exception": false,
     "start_time": "2022-05-03T19:29:14.136919",
     "status": "completed"
    },
    "tags": []
   },
   "source": [
    "Para a columa de números, verificamos que os dados referentes também estão conforme o esperado."
   ]
  },
  {
   "cell_type": "code",
   "execution_count": 12,
   "id": "29594c46",
   "metadata": {
    "execution": {
     "iopub.execute_input": "2022-05-03T19:29:14.266010Z",
     "iopub.status.busy": "2022-05-03T19:29:14.265491Z",
     "iopub.status.idle": "2022-05-03T19:29:14.271583Z",
     "shell.execute_reply": "2022-05-03T19:29:14.270930Z"
    },
    "papermill": {
     "duration": 0.052079,
     "end_time": "2022-05-03T19:29:14.273660",
     "exception": false,
     "start_time": "2022-05-03T19:29:14.221581",
     "status": "completed"
    },
    "tags": []
   },
   "outputs": [
    {
     "data": {
      "text/plain": [
       "array(['1998-01-01', '1999-01-01', '2000-01-01', '2001-01-01',\n",
       "       '2002-01-01', '2003-01-01', '2004-01-01', '2005-01-01',\n",
       "       '2006-01-01', '2007-01-01', '2008-01-01', '2009-01-01',\n",
       "       '2010-01-01', '2011-01-01', '2012-01-01', '2013-01-01',\n",
       "       '2014-01-01', '2015-01-01', '2016-01-01', '2017-01-01'],\n",
       "      dtype=object)"
      ]
     },
     "execution_count": 12,
     "metadata": {},
     "output_type": "execute_result"
    }
   ],
   "source": [
    "df.date.unique()"
   ]
  },
  {
   "cell_type": "markdown",
   "id": "3ed3d7b7",
   "metadata": {
    "papermill": {
     "duration": 0.042885,
     "end_time": "2022-05-03T19:29:14.360013",
     "exception": false,
     "start_time": "2022-05-03T19:29:14.317128",
     "status": "completed"
    },
    "tags": []
   },
   "source": [
    "Para a coluna de datas, podemos notar que o período está de acordo com o esperado entre 1998 e 2007."
   ]
  },
  {
   "cell_type": "markdown",
   "id": "ce2bd70f",
   "metadata": {
    "papermill": {
     "duration": 0.042326,
     "end_time": "2022-05-03T19:29:14.445180",
     "exception": false,
     "start_time": "2022-05-03T19:29:14.402854",
     "status": "completed"
    },
    "tags": []
   },
   "source": [
    "<h4 style = \"background-color: white; color : blue; font-size: 30px; font-family:garamond; font-weight: normal; border-radius: 75px 150px; text-align: left\"> Visão Geral do Dataset </h4>"
   ]
  },
  {
   "cell_type": "code",
   "execution_count": 13,
   "id": "cc4b9a80",
   "metadata": {
    "execution": {
     "iopub.execute_input": "2022-05-03T19:29:14.532666Z",
     "iopub.status.busy": "2022-05-03T19:29:14.532388Z",
     "iopub.status.idle": "2022-05-03T19:29:14.550386Z",
     "shell.execute_reply": "2022-05-03T19:29:14.549753Z"
    },
    "papermill": {
     "duration": 0.064733,
     "end_time": "2022-05-03T19:29:14.552980",
     "exception": false,
     "start_time": "2022-05-03T19:29:14.488247",
     "status": "completed"
    },
    "tags": []
   },
   "outputs": [
    {
     "name": "stdout",
     "output_type": "stream",
     "text": [
      "<class 'pandas.core.frame.DataFrame'>\n",
      "Int64Index: 6422 entries, 0 to 6453\n",
      "Data columns (total 5 columns):\n",
      " #   Column  Non-Null Count  Dtype  \n",
      "---  ------  --------------  -----  \n",
      " 0   year    6422 non-null   int64  \n",
      " 1   state   6422 non-null   object \n",
      " 2   month   6422 non-null   object \n",
      " 3   number  6422 non-null   float64\n",
      " 4   date    6422 non-null   object \n",
      "dtypes: float64(1), int64(1), object(3)\n",
      "memory usage: 559.1+ KB\n"
     ]
    }
   ],
   "source": [
    "df.info()"
   ]
  },
  {
   "cell_type": "code",
   "execution_count": 14,
   "id": "a0c571d1",
   "metadata": {
    "execution": {
     "iopub.execute_input": "2022-05-03T19:29:14.642496Z",
     "iopub.status.busy": "2022-05-03T19:29:14.641904Z",
     "iopub.status.idle": "2022-05-03T19:29:14.659274Z",
     "shell.execute_reply": "2022-05-03T19:29:14.658611Z"
    },
    "papermill": {
     "duration": 0.063836,
     "end_time": "2022-05-03T19:29:14.661338",
     "exception": false,
     "start_time": "2022-05-03T19:29:14.597502",
     "status": "completed"
    },
    "tags": []
   },
   "outputs": [
    {
     "data": {
      "text/html": [
       "<div>\n",
       "<style scoped>\n",
       "    .dataframe tbody tr th:only-of-type {\n",
       "        vertical-align: middle;\n",
       "    }\n",
       "\n",
       "    .dataframe tbody tr th {\n",
       "        vertical-align: top;\n",
       "    }\n",
       "\n",
       "    .dataframe thead th {\n",
       "        text-align: right;\n",
       "    }\n",
       "</style>\n",
       "<table border=\"1\" class=\"dataframe\">\n",
       "  <thead>\n",
       "    <tr style=\"text-align: right;\">\n",
       "      <th></th>\n",
       "      <th>year</th>\n",
       "      <th>number</th>\n",
       "    </tr>\n",
       "  </thead>\n",
       "  <tbody>\n",
       "    <tr>\n",
       "      <th>count</th>\n",
       "      <td>6422.000000</td>\n",
       "      <td>6422.000000</td>\n",
       "    </tr>\n",
       "    <tr>\n",
       "      <th>mean</th>\n",
       "      <td>2007.490969</td>\n",
       "      <td>108.815178</td>\n",
       "    </tr>\n",
       "    <tr>\n",
       "      <th>std</th>\n",
       "      <td>5.731806</td>\n",
       "      <td>191.142482</td>\n",
       "    </tr>\n",
       "    <tr>\n",
       "      <th>min</th>\n",
       "      <td>1998.000000</td>\n",
       "      <td>0.000000</td>\n",
       "    </tr>\n",
       "    <tr>\n",
       "      <th>25%</th>\n",
       "      <td>2003.000000</td>\n",
       "      <td>3.000000</td>\n",
       "    </tr>\n",
       "    <tr>\n",
       "      <th>50%</th>\n",
       "      <td>2007.000000</td>\n",
       "      <td>24.497000</td>\n",
       "    </tr>\n",
       "    <tr>\n",
       "      <th>75%</th>\n",
       "      <td>2012.000000</td>\n",
       "      <td>114.000000</td>\n",
       "    </tr>\n",
       "    <tr>\n",
       "      <th>max</th>\n",
       "      <td>2017.000000</td>\n",
       "      <td>998.000000</td>\n",
       "    </tr>\n",
       "  </tbody>\n",
       "</table>\n",
       "</div>"
      ],
      "text/plain": [
       "              year       number\n",
       "count  6422.000000  6422.000000\n",
       "mean   2007.490969   108.815178\n",
       "std       5.731806   191.142482\n",
       "min    1998.000000     0.000000\n",
       "25%    2003.000000     3.000000\n",
       "50%    2007.000000    24.497000\n",
       "75%    2012.000000   114.000000\n",
       "max    2017.000000   998.000000"
      ]
     },
     "execution_count": 14,
     "metadata": {},
     "output_type": "execute_result"
    }
   ],
   "source": [
    "df.describe()"
   ]
  },
  {
   "cell_type": "markdown",
   "id": "364ca053",
   "metadata": {
    "papermill": {
     "duration": 0.043423,
     "end_time": "2022-05-03T19:29:14.748629",
     "exception": false,
     "start_time": "2022-05-03T19:29:14.705206",
     "status": "completed"
    },
    "tags": []
   },
   "source": [
    "<a id = '2'></a>\n",
    "<h2 style = \"font-family:garamond; font-size:50px; background-color: #f6f6f6; color : blue; border-radius: 100px 100px; text-align:center\"> 2. Exploratory Data Analysis </h2>\n"
   ]
  },
  {
   "cell_type": "markdown",
   "id": "08d054bd",
   "metadata": {
    "papermill": {
     "duration": 0.043371,
     "end_time": "2022-05-03T19:29:14.835684",
     "exception": false,
     "start_time": "2022-05-03T19:29:14.792313",
     "status": "completed"
    },
    "tags": []
   },
   "source": [
    "<a id = '2.1'></a>\n",
    "\n",
    "<h2 style = \"background-color: #f6f5f5; color : blue; font-size: 35px; font-family:garamond; font-weight: normal; border-radius: 100px 100px; text-align: center\">2.1 Incêndios Florestais no Brasil</h2>"
   ]
  },
  {
   "cell_type": "code",
   "execution_count": 15,
   "id": "7c136dec",
   "metadata": {
    "execution": {
     "iopub.execute_input": "2022-05-03T19:29:14.925441Z",
     "iopub.status.busy": "2022-05-03T19:29:14.924920Z",
     "iopub.status.idle": "2022-05-03T19:29:15.350130Z",
     "shell.execute_reply": "2022-05-03T19:29:15.349236Z"
    },
    "papermill": {
     "duration": 0.472731,
     "end_time": "2022-05-03T19:29:15.352491",
     "exception": false,
     "start_time": "2022-05-03T19:29:14.879760",
     "status": "completed"
    },
    "tags": []
   },
   "outputs": [
    {
     "data": {
      "image/png": "[encoded data removed]",
      "text/plain": [
       "<Figure size 1080x576 with 1 Axes>"
      ]
     },
     "metadata": {},
     "output_type": "display_data"
    }
   ],
   "source": [
    "df_year = df.groupby('year')['number'].agg(['sum']).reset_index()\n",
    "df_year.rename(columns = {'sum':'number_year'}, inplace = True)\n",
    "_ = sns.set_style('whitegrid')\n",
    "_ = sns.set(rc={'figure.figsize':(15,8)})\n",
    "_ = sns.lineplot(data=df_year, x=\"year\", y=\"number_year\",palette='blues')\n",
    "_ = plt.title('Quantidade de Incêndios Florestais no Brasil - 1998 a 2017',size=20,pad=20)\n",
    "_ = plt.xlim(int(df_year.iloc[0].year),int(df_year.iloc[-1].year))\n",
    "_ = plt.xticks(range(int(df_year.iloc[0].year),int(df_year.iloc[-1].year)+1,1))\n",
    "_ = plt.xlabel('Anos')\n",
    "_ = plt.ylabel('Quantidade de Incêndios Florestais')"
   ]
  },
  {
   "cell_type": "markdown",
   "id": "51951e69",
   "metadata": {
    "papermill": {
     "duration": 0.046428,
     "end_time": "2022-05-03T19:29:15.445313",
     "exception": false,
     "start_time": "2022-05-03T19:29:15.398885",
     "status": "completed"
    },
    "tags": []
   },
   "source": [
    "O período avaliado neste gráfico compreende um intervalo de 19 anos, onde o menor número de incêndios florestais ocorreu no início do período,1998, e o máximo ocorreu em 2003. Analisando este gráfico percebemos a crescente do número de incêndios florestais no país."
   ]
  },
  {
   "cell_type": "markdown",
   "id": "12233e3f",
   "metadata": {
    "papermill": {
     "duration": 0.045844,
     "end_time": "2022-05-03T19:29:15.537280",
     "exception": false,
     "start_time": "2022-05-03T19:29:15.491436",
     "status": "completed"
    },
    "tags": []
   },
   "source": [
    "<h4 style = \"background-color: white; color : blue; font-size: 30px; font-family:garamond; font-weight: normal; border-radius: 75px 150px; text-align: left\"> Maior Aumento e a Menor Redução do Número de Incêndios Florestais entre Dois Anos</h4>"
   ]
  },
  {
   "attachments": {
    "758772c2-5a8f-428c-85d6-6c865f362c6c.png": {
     "image/png": "[encoded data removed]"
    }
   },
   "cell_type": "markdown",
   "id": "ace7c181",
   "metadata": {
    "papermill": {
     "duration": 0.057832,
     "end_time": "2022-05-03T19:29:15.644570",
     "exception": false,
     "start_time": "2022-05-03T19:29:15.586738",
     "status": "completed"
    },
    "tags": []
   },
   "source": [
    "Para obtenção do percentual de aumento ou redução do número de incêndios florestais no Brasil ao longo destes anos, foi realizada a comparação entre o número de incêndios daquele ano e o número referente ao ano anterior. Este cálculo está descrito na fórmula matemática a seguir:\n",
    "\n",
    "![image.png](attachment:758772c2-5a8f-428c-85d6-6c865f362c6c.png)\n",
    "\n",
    "Onde i representa o percentual de variação da grandeza avaliada."
   ]
  },
  {
   "cell_type": "code",
   "execution_count": 16,
   "id": "726135fe",
   "metadata": {
    "execution": {
     "iopub.execute_input": "2022-05-03T19:29:15.744118Z",
     "iopub.status.busy": "2022-05-03T19:29:15.743699Z",
     "iopub.status.idle": "2022-05-03T19:29:16.198846Z",
     "shell.execute_reply": "2022-05-03T19:29:16.197924Z"
    },
    "papermill": {
     "duration": 0.508063,
     "end_time": "2022-05-03T19:29:16.203022",
     "exception": false,
     "start_time": "2022-05-03T19:29:15.694959",
     "status": "completed"
    },
    "tags": []
   },
   "outputs": [
    {
     "data": {
      "image/png": "[encoded data removed]",
      "text/plain": [
       "<Figure size 1080x576 with 1 Axes>"
      ]
     },
     "metadata": {},
     "output_type": "display_data"
    }
   ],
   "source": [
    "percentual = []\n",
    "for i in range(df_year.shape[0]-1):\n",
    "    percentual.append(100*(df_year.iloc[i+1].number_year - df_year.iloc[i].number_year)/df_year.iloc[i].number_year)\n",
    "\n",
    "maximo_percentual, minimo_percentual = max(percentual), min(percentual)\n",
    "\n",
    "lista_anos = df_year.year.unique()\n",
    "lista_anos = lista_anos.astype('str')\n",
    "nomes_colunas = []\n",
    "for i in range(len(lista_anos)-1):\n",
    "    nomes_colunas.append(lista_anos[i]+' - '+lista_anos[i+1])\n",
    "\n",
    "testar = np.arange(len(percentual))\n",
    "_ = sns.set_style('whitegrid')\n",
    "_ = sns.set(rc={'figure.figsize':(15,8)})\n",
    "_ = sns.lineplot(x=nomes_colunas, y=percentual,palette='blues')\n",
    "_ = plt.title('Evolução Percentual dos Incêndios Florestais no Brasil',size=20,pad=20)\n",
    "_ = plt.xlabel('Anos',labelpad=25,fontsize=15)\n",
    "_ = plt.ylabel('Percentual',fontsize=15)\n",
    "_ = plt.xticks(rotation= 90)"
   ]
  },
  {
   "cell_type": "markdown",
   "id": "c4f49928",
   "metadata": {
    "papermill": {
     "duration": 0.049474,
     "end_time": "2022-05-03T19:29:16.308006",
     "exception": false,
     "start_time": "2022-05-03T19:29:16.258532",
     "status": "completed"
    },
    "tags": []
   },
   "source": [
    "Notamos que o maior aumento percentual do número de incêndios florestais no país ocorreu de 1998 para 1999, enquanto a maior redução percentual foi no final do período avaliado (2016 - 2017)."
   ]
  },
  {
   "cell_type": "markdown",
   "id": "98cb28be",
   "metadata": {
    "papermill": {
     "duration": 0.049168,
     "end_time": "2022-05-03T19:29:16.406837",
     "exception": false,
     "start_time": "2022-05-03T19:29:16.357669",
     "status": "completed"
    },
    "tags": []
   },
   "source": [
    "<a id = '2.2'></a>\n",
    "\n",
    "<h2 style = \"background-color: #f6f5f5; color : blue; font-size: 35px; font-family:garamond; font-weight: normal; border-radius: 100px 100px; text-align: center\">2.2 Incêndios Florestais por Estados</h2>"
   ]
  },
  {
   "cell_type": "code",
   "execution_count": 17,
   "id": "2d101dc2",
   "metadata": {
    "execution": {
     "iopub.execute_input": "2022-05-03T19:29:16.516065Z",
     "iopub.status.busy": "2022-05-03T19:29:16.515730Z",
     "iopub.status.idle": "2022-05-03T19:29:16.939731Z",
     "shell.execute_reply": "2022-05-03T19:29:16.938650Z"
    },
    "papermill": {
     "duration": 0.487562,
     "end_time": "2022-05-03T19:29:16.943112",
     "exception": false,
     "start_time": "2022-05-03T19:29:16.455550",
     "status": "completed"
    },
    "tags": []
   },
   "outputs": [
    {
     "data": {
      "image/png": "[encoded data removed]",
      "text/plain": [
       "<Figure size 1080x576 with 1 Axes>"
      ]
     },
     "metadata": {},
     "output_type": "display_data"
    }
   ],
   "source": [
    "df_state = df_new.groupby('state')['number'].agg(['sum']).reset_index()\n",
    "df_state.rename(columns = {'sum':'number_year'}, inplace = True)\n",
    "_ = sns.barplot(y='state',x='number_year',data=df_state,color='blue',order=df_state.sort_values('number_year',ascending=False).state)\n",
    "_ = plt.title('Incêndios Florestais por Estados - 1998 a 2017',size=20,pad=20)\n",
    "_ = plt.xlabel('Quantidade de Incêndios Florestais')\n",
    "_ = plt.ylabel('Estados')"
   ]
  },
  {
   "cell_type": "markdown",
   "id": "94637e0a",
   "metadata": {
    "papermill": {
     "duration": 0.050884,
     "end_time": "2022-05-03T19:29:17.044981",
     "exception": false,
     "start_time": "2022-05-03T19:29:16.994097",
     "status": "completed"
    },
    "tags": []
   },
   "source": [
    "Obs: Lembrar que desconsideramos 5 estados nessa análise (Mato Grosso, Mato Grosso do Sul, Rio de Janeiro, Rio Grande do Norte e Rio Grande do Sul), os motivos disto já foram mencionados anteriormente.\n",
    "\n",
    "Analisando o gráfico anterior, percebemos que dos 5 estados com maior quantidade de incêndios florestais ao longo dos anos analisados 3 deles pertencem ao nordeste (Bahia, Paraíba e Piauí), 1 pertence ao Sudeste (São Paulo) e 1 pertence ao Centro-Oeste (Goiás)."
   ]
  },
  {
   "cell_type": "markdown",
   "id": "ebcab498",
   "metadata": {
    "papermill": {
     "duration": 0.050343,
     "end_time": "2022-05-03T19:29:17.146517",
     "exception": false,
     "start_time": "2022-05-03T19:29:17.096174",
     "status": "completed"
    },
    "tags": []
   },
   "source": [
    "<a id = '2.3'></a>\n",
    "\n",
    "<h2 style = \"background-color: #f6f5f5; color : blue; font-size: 35px; font-family:garamond; font-weight: normal; border-radius: 100px 100px; text-align: center\">2.3 Evolução ao Longo dos Anos para os 5 Estados com Maior Quantidade de Incêndios Florestais</h2>"
   ]
  },
  {
   "cell_type": "code",
   "execution_count": 18,
   "id": "089d753a",
   "metadata": {
    "execution": {
     "iopub.execute_input": "2022-05-03T19:29:17.249095Z",
     "iopub.status.busy": "2022-05-03T19:29:17.248806Z",
     "iopub.status.idle": "2022-05-03T19:29:17.261637Z",
     "shell.execute_reply": "2022-05-03T19:29:17.260721Z"
    },
    "papermill": {
     "duration": 0.067286,
     "end_time": "2022-05-03T19:29:17.263824",
     "exception": false,
     "start_time": "2022-05-03T19:29:17.196538",
     "status": "completed"
    },
    "tags": []
   },
   "outputs": [
    {
     "data": {
      "text/html": [
       "<div>\n",
       "<style scoped>\n",
       "    .dataframe tbody tr th:only-of-type {\n",
       "        vertical-align: middle;\n",
       "    }\n",
       "\n",
       "    .dataframe tbody tr th {\n",
       "        vertical-align: top;\n",
       "    }\n",
       "\n",
       "    .dataframe thead th {\n",
       "        text-align: right;\n",
       "    }\n",
       "</style>\n",
       "<table border=\"1\" class=\"dataframe\">\n",
       "  <thead>\n",
       "    <tr style=\"text-align: right;\">\n",
       "      <th></th>\n",
       "      <th>year</th>\n",
       "      <th>state</th>\n",
       "      <th>month</th>\n",
       "      <th>number</th>\n",
       "      <th>date</th>\n",
       "    </tr>\n",
       "  </thead>\n",
       "  <tbody>\n",
       "    <tr>\n",
       "      <th>0</th>\n",
       "      <td>1998</td>\n",
       "      <td>Acre</td>\n",
       "      <td>Janeiro</td>\n",
       "      <td>0.0</td>\n",
       "      <td>1998-01-01</td>\n",
       "    </tr>\n",
       "    <tr>\n",
       "      <th>1</th>\n",
       "      <td>1999</td>\n",
       "      <td>Acre</td>\n",
       "      <td>Janeiro</td>\n",
       "      <td>0.0</td>\n",
       "      <td>1999-01-01</td>\n",
       "    </tr>\n",
       "    <tr>\n",
       "      <th>2</th>\n",
       "      <td>2000</td>\n",
       "      <td>Acre</td>\n",
       "      <td>Janeiro</td>\n",
       "      <td>0.0</td>\n",
       "      <td>2000-01-01</td>\n",
       "    </tr>\n",
       "    <tr>\n",
       "      <th>3</th>\n",
       "      <td>2001</td>\n",
       "      <td>Acre</td>\n",
       "      <td>Janeiro</td>\n",
       "      <td>0.0</td>\n",
       "      <td>2001-01-01</td>\n",
       "    </tr>\n",
       "    <tr>\n",
       "      <th>4</th>\n",
       "      <td>2002</td>\n",
       "      <td>Acre</td>\n",
       "      <td>Janeiro</td>\n",
       "      <td>0.0</td>\n",
       "      <td>2002-01-01</td>\n",
       "    </tr>\n",
       "  </tbody>\n",
       "</table>\n",
       "</div>"
      ],
      "text/plain": [
       "   year state    month  number        date\n",
       "0  1998  Acre  Janeiro     0.0  1998-01-01\n",
       "1  1999  Acre  Janeiro     0.0  1999-01-01\n",
       "2  2000  Acre  Janeiro     0.0  2000-01-01\n",
       "3  2001  Acre  Janeiro     0.0  2001-01-01\n",
       "4  2002  Acre  Janeiro     0.0  2002-01-01"
      ]
     },
     "execution_count": 18,
     "metadata": {},
     "output_type": "execute_result"
    }
   ],
   "source": [
    "df_new.head()"
   ]
  },
  {
   "cell_type": "markdown",
   "id": "ba1038ee",
   "metadata": {
    "papermill": {
     "duration": 0.052214,
     "end_time": "2022-05-03T19:29:17.366912",
     "exception": false,
     "start_time": "2022-05-03T19:29:17.314698",
     "status": "completed"
    },
    "tags": []
   },
   "source": [
    "<a id = '5'></a>\n",
    "<h2 style = \"font-family:garamond; font-size:50px; background-color: #f6f6f6; color : blue; border-radius: 100px 100px; text-align:center\"> 5. References</h2>"
   ]
  },
  {
   "cell_type": "markdown",
   "id": "f68ce3f2",
   "metadata": {
    "papermill": {
     "duration": 0.050619,
     "end_time": "2022-05-03T19:29:17.468596",
     "exception": false,
     "start_time": "2022-05-03T19:29:17.417977",
     "status": "completed"
    },
    "tags": []
   },
   "source": [
    "http://dados.gov.br/dataset/sistema-nacional-de-informacoes-florestais-snif\n",
    "\n",
    "https://segurossura.com/pt-br/blog/habitat-2/qual-e-o-impacto-dos-incendios-florestais-no-ecossistema/#:~:text=Os%20impactos%20dos%20inc%C3%AAndios%20florestais,deslizamentos%20de%20terra%2C%20entre%20outros."
   ]
  }
 ],
 "metadata": {
  "kernelspec": {
   "display_name": "Python 3",
   "language": "python",
   "name": "python3"
  },
  "language_info": {
   "codemirror_mode": {
    "name": "ipython",
    "version": 3
   },
   "file_extension": ".py",
   "mimetype": "text/x-python",
   "name": "python",
   "nbconvert_exporter": "python",
   "pygments_lexer": "ipython3",
   "version": "3.7.12"
  },
  "papermill": {
   "default_parameters": {},
   "duration": 18.726274,
   "end_time": "2022-05-03T19:29:18.340923",
   "environment_variables": {},
   "exception": null,
   "input_path": "__notebook__.ipynb",
   "output_path": "__notebook__.ipynb",
   "parameters": {},
   "start_time": "2022-05-03T19:28:59.614649",
   "version": "2.3.4"
  }
 },
 "nbformat": 4,
 "nbformat_minor": 5
}
