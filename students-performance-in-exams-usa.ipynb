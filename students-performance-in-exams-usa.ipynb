{
 "cells": [
  {
   "cell_type": "code",
   "execution_count": 1,
   "id": "78ebfa0c",
   "metadata": {
    "_cell_guid": "b1076dfc-b9ad-4769-8c92-a6c4dae69d19",
    "_uuid": "8f2839f25d086af736a60e9eeb907d3b93b6e0e5",
    "execution": {
     "iopub.execute_input": "2022-04-06T00:36:41.118848Z",
     "iopub.status.busy": "2022-04-06T00:36:41.118113Z",
     "iopub.status.idle": "2022-04-06T00:36:42.284696Z",
     "shell.execute_reply": "2022-04-06T00:36:42.285265Z",
     "shell.execute_reply.started": "2022-04-06T00:29:43.182068Z"
    },
    "papermill": {
     "duration": 1.19767,
     "end_time": "2022-04-06T00:36:42.285618",
     "exception": false,
     "start_time": "2022-04-06T00:36:41.087948",
     "status": "completed"
    },
    "tags": []
   },
   "outputs": [
    {
     "name": "stdout",
     "output_type": "stream",
     "text": [
      "/kaggle/input/students-performance-in-exams/StudentsPerformance.csv\n"
     ]
    }
   ],
   "source": [
    "# This Python 3 environment comes with many helpful analytics libraries installed\n",
    "# It is defined by the kaggle/python Docker image: https://github.com/kaggle/docker-python\n",
    "# For example, here's several helpful packages to load\n",
    "\n",
    "import numpy as np # linear algebra\n",
    "import pandas as pd # data processing, CSV file I/O (e.g. pd.read_csv)\n",
    "import seaborn as sns\n",
    "import matplotlib.pyplot as plt\n",
    "# Input data files are available in the read-only \"../input/\" directory\n",
    "# For example, running this (by clicking run or pressing Shift+Enter) will list all files under the input directory\n",
    "\n",
    "import os\n",
    "for dirname, _, filenames in os.walk('/kaggle/input'):\n",
    "    for filename in filenames:\n",
    "        print(os.path.join(dirname, filename))\n",
    "\n",
    "# You can write up to 20GB to the current directory (/kaggle/working/) that gets preserved as output when you create a version using \"Save & Run All\" \n",
    "# You can also write temporary files to /kaggle/temp/, but they won't be saved outside of the current session"
   ]
  },
  {
   "cell_type": "markdown",
   "id": "78ac656d",
   "metadata": {
    "papermill": {
     "duration": 0.013103,
     "end_time": "2022-04-06T00:36:42.312797",
     "exception": false,
     "start_time": "2022-04-06T00:36:42.299694",
     "status": "completed"
    },
    "tags": []
   },
   "source": [
    "# Data Extraction"
   ]
  },
  {
   "cell_type": "code",
   "execution_count": 2,
   "id": "360da6b0",
   "metadata": {
    "execution": {
     "iopub.execute_input": "2022-04-06T00:36:42.346151Z",
     "iopub.status.busy": "2022-04-06T00:36:42.345392Z",
     "iopub.status.idle": "2022-04-06T00:36:42.360350Z",
     "shell.execute_reply": "2022-04-06T00:36:42.360953Z",
     "shell.execute_reply.started": "2022-04-06T00:29:44.266598Z"
    },
    "papermill": {
     "duration": 0.035012,
     "end_time": "2022-04-06T00:36:42.361169",
     "exception": false,
     "start_time": "2022-04-06T00:36:42.326157",
     "status": "completed"
    },
    "tags": []
   },
   "outputs": [],
   "source": [
    "df = pd.read_csv('/kaggle/input/students-performance-in-exams/StudentsPerformance.csv')"
   ]
  },
  {
   "cell_type": "markdown",
   "id": "0021381e",
   "metadata": {
    "papermill": {
     "duration": 0.012876,
     "end_time": "2022-04-06T00:36:42.387564",
     "exception": false,
     "start_time": "2022-04-06T00:36:42.374688",
     "status": "completed"
    },
    "tags": []
   },
   "source": [
    "# Exploratory Data Analysis (EDA)"
   ]
  },
  {
   "cell_type": "code",
   "execution_count": 3,
   "id": "0ebad5e6",
   "metadata": {
    "execution": {
     "iopub.execute_input": "2022-04-06T00:36:42.422562Z",
     "iopub.status.busy": "2022-04-06T00:36:42.421793Z",
     "iopub.status.idle": "2022-04-06T00:36:42.425263Z",
     "shell.execute_reply": "2022-04-06T00:36:42.425794Z",
     "shell.execute_reply.started": "2022-04-06T00:29:44.276117Z"
    },
    "papermill": {
     "duration": 0.025298,
     "end_time": "2022-04-06T00:36:42.426036",
     "exception": false,
     "start_time": "2022-04-06T00:36:42.400738",
     "status": "completed"
    },
    "tags": []
   },
   "outputs": [
    {
     "data": {
      "text/plain": [
       "(1000, 8)"
      ]
     },
     "execution_count": 3,
     "metadata": {},
     "output_type": "execute_result"
    }
   ],
   "source": [
    "# Checking the shape of the data\n",
    "df.shape"
   ]
  },
  {
   "cell_type": "code",
   "execution_count": 4,
   "id": "3e8c0051",
   "metadata": {
    "execution": {
     "iopub.execute_input": "2022-04-06T00:36:42.458600Z",
     "iopub.status.busy": "2022-04-06T00:36:42.457911Z",
     "iopub.status.idle": "2022-04-06T00:36:42.465065Z",
     "shell.execute_reply": "2022-04-06T00:36:42.464491Z",
     "shell.execute_reply.started": "2022-04-06T00:29:44.294407Z"
    },
    "papermill": {
     "duration": 0.025349,
     "end_time": "2022-04-06T00:36:42.465232",
     "exception": false,
     "start_time": "2022-04-06T00:36:42.439883",
     "status": "completed"
    },
    "tags": []
   },
   "outputs": [
    {
     "data": {
      "text/plain": [
       "Index(['gender', 'race/ethnicity', 'parental level of education', 'lunch',\n",
       "       'test preparation course', 'math score', 'reading score',\n",
       "       'writing score'],\n",
       "      dtype='object')"
      ]
     },
     "execution_count": 4,
     "metadata": {},
     "output_type": "execute_result"
    }
   ],
   "source": [
    "# Checking the column's names\n",
    "df.columns"
   ]
  },
  {
   "cell_type": "code",
   "execution_count": 5,
   "id": "7951873e",
   "metadata": {
    "execution": {
     "iopub.execute_input": "2022-04-06T00:36:42.511846Z",
     "iopub.status.busy": "2022-04-06T00:36:42.506072Z",
     "iopub.status.idle": "2022-04-06T00:36:42.536772Z",
     "shell.execute_reply": "2022-04-06T00:36:42.536194Z",
     "shell.execute_reply.started": "2022-04-06T00:29:44.311605Z"
    },
    "papermill": {
     "duration": 0.057245,
     "end_time": "2022-04-06T00:36:42.536978",
     "exception": false,
     "start_time": "2022-04-06T00:36:42.479733",
     "status": "completed"
    },
    "tags": []
   },
   "outputs": [
    {
     "data": {
      "text/html": [
       "<div>\n",
       "<style scoped>\n",
       "    .dataframe tbody tr th:only-of-type {\n",
       "        vertical-align: middle;\n",
       "    }\n",
       "\n",
       "    .dataframe tbody tr th {\n",
       "        vertical-align: top;\n",
       "    }\n",
       "\n",
       "    .dataframe thead th {\n",
       "        text-align: right;\n",
       "    }\n",
       "</style>\n",
       "<table border=\"1\" class=\"dataframe\">\n",
       "  <thead>\n",
       "    <tr style=\"text-align: right;\">\n",
       "      <th></th>\n",
       "      <th>math score</th>\n",
       "      <th>reading score</th>\n",
       "      <th>writing score</th>\n",
       "    </tr>\n",
       "  </thead>\n",
       "  <tbody>\n",
       "    <tr>\n",
       "      <th>count</th>\n",
       "      <td>1000.00000</td>\n",
       "      <td>1000.000000</td>\n",
       "      <td>1000.000000</td>\n",
       "    </tr>\n",
       "    <tr>\n",
       "      <th>mean</th>\n",
       "      <td>66.08900</td>\n",
       "      <td>69.169000</td>\n",
       "      <td>68.054000</td>\n",
       "    </tr>\n",
       "    <tr>\n",
       "      <th>std</th>\n",
       "      <td>15.16308</td>\n",
       "      <td>14.600192</td>\n",
       "      <td>15.195657</td>\n",
       "    </tr>\n",
       "    <tr>\n",
       "      <th>min</th>\n",
       "      <td>0.00000</td>\n",
       "      <td>17.000000</td>\n",
       "      <td>10.000000</td>\n",
       "    </tr>\n",
       "    <tr>\n",
       "      <th>25%</th>\n",
       "      <td>57.00000</td>\n",
       "      <td>59.000000</td>\n",
       "      <td>57.750000</td>\n",
       "    </tr>\n",
       "    <tr>\n",
       "      <th>50%</th>\n",
       "      <td>66.00000</td>\n",
       "      <td>70.000000</td>\n",
       "      <td>69.000000</td>\n",
       "    </tr>\n",
       "    <tr>\n",
       "      <th>75%</th>\n",
       "      <td>77.00000</td>\n",
       "      <td>79.000000</td>\n",
       "      <td>79.000000</td>\n",
       "    </tr>\n",
       "    <tr>\n",
       "      <th>max</th>\n",
       "      <td>100.00000</td>\n",
       "      <td>100.000000</td>\n",
       "      <td>100.000000</td>\n",
       "    </tr>\n",
       "  </tbody>\n",
       "</table>\n",
       "</div>"
      ],
      "text/plain": [
       "       math score  reading score  writing score\n",
       "count  1000.00000    1000.000000    1000.000000\n",
       "mean     66.08900      69.169000      68.054000\n",
       "std      15.16308      14.600192      15.195657\n",
       "min       0.00000      17.000000      10.000000\n",
       "25%      57.00000      59.000000      57.750000\n",
       "50%      66.00000      70.000000      69.000000\n",
       "75%      77.00000      79.000000      79.000000\n",
       "max     100.00000     100.000000     100.000000"
      ]
     },
     "execution_count": 5,
     "metadata": {},
     "output_type": "execute_result"
    }
   ],
   "source": [
    "# Taking a look of general data\n",
    "df.describe()"
   ]
  },
  {
   "cell_type": "code",
   "execution_count": 6,
   "id": "f413fd22",
   "metadata": {
    "execution": {
     "iopub.execute_input": "2022-04-06T00:36:42.580544Z",
     "iopub.status.busy": "2022-04-06T00:36:42.579634Z",
     "iopub.status.idle": "2022-04-06T00:36:42.589479Z",
     "shell.execute_reply": "2022-04-06T00:36:42.588568Z",
     "shell.execute_reply.started": "2022-04-06T00:29:44.340698Z"
    },
    "papermill": {
     "duration": 0.037891,
     "end_time": "2022-04-06T00:36:42.589693",
     "exception": false,
     "start_time": "2022-04-06T00:36:42.551802",
     "status": "completed"
    },
    "tags": []
   },
   "outputs": [
    {
     "name": "stdout",
     "output_type": "stream",
     "text": [
      "<class 'pandas.core.frame.DataFrame'>\n",
      "RangeIndex: 1000 entries, 0 to 999\n",
      "Data columns (total 8 columns):\n",
      " #   Column                       Non-Null Count  Dtype \n",
      "---  ------                       --------------  ----- \n",
      " 0   gender                       1000 non-null   object\n",
      " 1   race/ethnicity               1000 non-null   object\n",
      " 2   parental level of education  1000 non-null   object\n",
      " 3   lunch                        1000 non-null   object\n",
      " 4   test preparation course      1000 non-null   object\n",
      " 5   math score                   1000 non-null   int64 \n",
      " 6   reading score                1000 non-null   int64 \n",
      " 7   writing score                1000 non-null   int64 \n",
      "dtypes: int64(3), object(5)\n",
      "memory usage: 62.6+ KB\n"
     ]
    }
   ],
   "source": [
    "# Looking out for missing values\n",
    "df.info()"
   ]
  },
  {
   "cell_type": "code",
   "execution_count": 7,
   "id": "fa05df21",
   "metadata": {
    "execution": {
     "iopub.execute_input": "2022-04-06T00:36:42.628640Z",
     "iopub.status.busy": "2022-04-06T00:36:42.627736Z",
     "iopub.status.idle": "2022-04-06T00:36:42.631274Z",
     "shell.execute_reply": "2022-04-06T00:36:42.631752Z",
     "shell.execute_reply.started": "2022-04-06T00:29:44.358941Z"
    },
    "papermill": {
     "duration": 0.02673,
     "end_time": "2022-04-06T00:36:42.631965",
     "exception": false,
     "start_time": "2022-04-06T00:36:42.605235",
     "status": "completed"
    },
    "tags": []
   },
   "outputs": [
    {
     "data": {
      "text/plain": [
       "gender                         object\n",
       "race/ethnicity                 object\n",
       "parental level of education    object\n",
       "lunch                          object\n",
       "test preparation course        object\n",
       "math score                      int64\n",
       "reading score                   int64\n",
       "writing score                   int64\n",
       "dtype: object"
      ]
     },
     "execution_count": 7,
     "metadata": {},
     "output_type": "execute_result"
    }
   ],
   "source": [
    "# Checking the data of data\n",
    "df.dtypes"
   ]
  },
  {
   "cell_type": "code",
   "execution_count": 8,
   "id": "e60626e7",
   "metadata": {
    "execution": {
     "iopub.execute_input": "2022-04-06T00:36:42.667127Z",
     "iopub.status.busy": "2022-04-06T00:36:42.666153Z",
     "iopub.status.idle": "2022-04-06T00:36:42.679441Z",
     "shell.execute_reply": "2022-04-06T00:36:42.680080Z",
     "shell.execute_reply.started": "2022-04-06T00:29:44.383747Z"
    },
    "papermill": {
     "duration": 0.033096,
     "end_time": "2022-04-06T00:36:42.680298",
     "exception": false,
     "start_time": "2022-04-06T00:36:42.647202",
     "status": "completed"
    },
    "tags": []
   },
   "outputs": [
    {
     "data": {
      "text/html": [
       "<div>\n",
       "<style scoped>\n",
       "    .dataframe tbody tr th:only-of-type {\n",
       "        vertical-align: middle;\n",
       "    }\n",
       "\n",
       "    .dataframe tbody tr th {\n",
       "        vertical-align: top;\n",
       "    }\n",
       "\n",
       "    .dataframe thead th {\n",
       "        text-align: right;\n",
       "    }\n",
       "</style>\n",
       "<table border=\"1\" class=\"dataframe\">\n",
       "  <thead>\n",
       "    <tr style=\"text-align: right;\">\n",
       "      <th></th>\n",
       "      <th>gender</th>\n",
       "      <th>race/ethnicity</th>\n",
       "      <th>parental level of education</th>\n",
       "      <th>lunch</th>\n",
       "      <th>test preparation course</th>\n",
       "      <th>math score</th>\n",
       "      <th>reading score</th>\n",
       "      <th>writing score</th>\n",
       "    </tr>\n",
       "  </thead>\n",
       "  <tbody>\n",
       "    <tr>\n",
       "      <th>0</th>\n",
       "      <td>female</td>\n",
       "      <td>group B</td>\n",
       "      <td>bachelor's degree</td>\n",
       "      <td>standard</td>\n",
       "      <td>none</td>\n",
       "      <td>72</td>\n",
       "      <td>72</td>\n",
       "      <td>74</td>\n",
       "    </tr>\n",
       "    <tr>\n",
       "      <th>1</th>\n",
       "      <td>female</td>\n",
       "      <td>group C</td>\n",
       "      <td>some college</td>\n",
       "      <td>standard</td>\n",
       "      <td>completed</td>\n",
       "      <td>69</td>\n",
       "      <td>90</td>\n",
       "      <td>88</td>\n",
       "    </tr>\n",
       "    <tr>\n",
       "      <th>2</th>\n",
       "      <td>female</td>\n",
       "      <td>group B</td>\n",
       "      <td>master's degree</td>\n",
       "      <td>standard</td>\n",
       "      <td>none</td>\n",
       "      <td>90</td>\n",
       "      <td>95</td>\n",
       "      <td>93</td>\n",
       "    </tr>\n",
       "    <tr>\n",
       "      <th>3</th>\n",
       "      <td>male</td>\n",
       "      <td>group A</td>\n",
       "      <td>associate's degree</td>\n",
       "      <td>free/reduced</td>\n",
       "      <td>none</td>\n",
       "      <td>47</td>\n",
       "      <td>57</td>\n",
       "      <td>44</td>\n",
       "    </tr>\n",
       "    <tr>\n",
       "      <th>4</th>\n",
       "      <td>male</td>\n",
       "      <td>group C</td>\n",
       "      <td>some college</td>\n",
       "      <td>standard</td>\n",
       "      <td>none</td>\n",
       "      <td>76</td>\n",
       "      <td>78</td>\n",
       "      <td>75</td>\n",
       "    </tr>\n",
       "  </tbody>\n",
       "</table>\n",
       "</div>"
      ],
      "text/plain": [
       "   gender race/ethnicity parental level of education         lunch  \\\n",
       "0  female        group B           bachelor's degree      standard   \n",
       "1  female        group C                some college      standard   \n",
       "2  female        group B             master's degree      standard   \n",
       "3    male        group A          associate's degree  free/reduced   \n",
       "4    male        group C                some college      standard   \n",
       "\n",
       "  test preparation course  math score  reading score  writing score  \n",
       "0                    none          72             72             74  \n",
       "1               completed          69             90             88  \n",
       "2                    none          90             95             93  \n",
       "3                    none          47             57             44  \n",
       "4                    none          76             78             75  "
      ]
     },
     "execution_count": 8,
     "metadata": {},
     "output_type": "execute_result"
    }
   ],
   "source": [
    "# Taking a look at the data\n",
    "df.head()"
   ]
  },
  {
   "cell_type": "code",
   "execution_count": 9,
   "id": "b7ffc703",
   "metadata": {
    "execution": {
     "iopub.execute_input": "2022-04-06T00:36:42.722253Z",
     "iopub.status.busy": "2022-04-06T00:36:42.721407Z",
     "iopub.status.idle": "2022-04-06T00:36:43.605328Z",
     "shell.execute_reply": "2022-04-06T00:36:43.605797Z",
     "shell.execute_reply.started": "2022-04-06T00:29:44.414359Z"
    },
    "papermill": {
     "duration": 0.908687,
     "end_time": "2022-04-06T00:36:43.606021",
     "exception": false,
     "start_time": "2022-04-06T00:36:42.697334",
     "status": "completed"
    },
    "tags": []
   },
   "outputs": [
    {
     "data": {
      "image/png": "[encoded data removed]",
      "text/plain": [
       "<Figure size 1440x1080 with 4 Axes>"
      ]
     },
     "metadata": {},
     "output_type": "display_data"
    }
   ],
   "source": [
    "# Plotting a histogram of the numerical variables \n",
    "sns.set()\n",
    "df.hist(bins=20, figsize=(20,15));"
   ]
  },
  {
   "cell_type": "code",
   "execution_count": 10,
   "id": "c98f33a5",
   "metadata": {
    "execution": {
     "iopub.execute_input": "2022-04-06T00:36:43.645048Z",
     "iopub.status.busy": "2022-04-06T00:36:43.644024Z",
     "iopub.status.idle": "2022-04-06T00:36:44.095970Z",
     "shell.execute_reply": "2022-04-06T00:36:44.095340Z",
     "shell.execute_reply.started": "2022-04-06T00:34:59.052710Z"
    },
    "papermill": {
     "duration": 0.473035,
     "end_time": "2022-04-06T00:36:44.096155",
     "exception": false,
     "start_time": "2022-04-06T00:36:43.623120",
     "status": "completed"
    },
    "tags": []
   },
   "outputs": [
    {
     "data": {
      "text/plain": [
       "<AxesSubplot:xlabel='writing score'>"
      ]
     },
     "execution_count": 10,
     "metadata": {},
     "output_type": "execute_result"
    },
    {
     "data": {
      "image/png": "[encoded data removed]",
      "text/plain": [
       "<Figure size 432x288 with 3 Axes>"
      ]
     },
     "metadata": {},
     "output_type": "display_data"
    }
   ],
   "source": [
    "plt.subplot(1,3,1)\n",
    "sns.boxplot(x=df['math score'])\n",
    "plt.subplot(1,3,2)\n",
    "sns.boxplot(x=df['reading score'])\n",
    "plt.subplot(1,3,3)\n",
    "sns.boxplot(x=df['writing score'])"
   ]
  }
 ],
 "metadata": {
  "kernelspec": {
   "display_name": "Python 3",
   "language": "python",
   "name": "python3"
  },
  "language_info": {
   "codemirror_mode": {
    "name": "ipython",
    "version": 3
   },
   "file_extension": ".py",
   "mimetype": "text/x-python",
   "name": "python",
   "nbconvert_exporter": "python",
   "pygments_lexer": "ipython3",
   "version": "3.7.12"
  },
  "papermill": {
   "default_parameters": {},
   "duration": 14.532502,
   "end_time": "2022-04-06T00:36:45.129684",
   "environment_variables": {},
   "exception": null,
   "input_path": "__notebook__.ipynb",
   "output_path": "__notebook__.ipynb",
   "parameters": {},
   "start_time": "2022-04-06T00:36:30.597182",
   "version": "2.3.3"
  }
 },
 "nbformat": 4,
 "nbformat_minor": 5
}
