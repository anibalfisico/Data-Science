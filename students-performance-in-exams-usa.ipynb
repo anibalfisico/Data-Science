{
 "cells": [
  {
   "cell_type": "code",
   "execution_count": 1,
   "id": "a05c36a8",
   "metadata": {
    "_cell_guid": "b1076dfc-b9ad-4769-8c92-a6c4dae69d19",
    "_uuid": "8f2839f25d086af736a60e9eeb907d3b93b6e0e5",
    "execution": {
     "iopub.execute_input": "2022-04-06T04:36:54.873415Z",
     "iopub.status.busy": "2022-04-06T04:36:54.871618Z",
     "iopub.status.idle": "2022-04-06T04:36:55.898786Z",
     "shell.execute_reply": "2022-04-06T04:36:55.899310Z",
     "shell.execute_reply.started": "2022-04-06T04:30:26.304020Z"
    },
    "papermill": {
     "duration": 1.057665,
     "end_time": "2022-04-06T04:36:55.899588",
     "exception": false,
     "start_time": "2022-04-06T04:36:54.841923",
     "status": "completed"
    },
    "tags": []
   },
   "outputs": [
    {
     "name": "stdout",
     "output_type": "stream",
     "text": [
      "/kaggle/input/students-performance-in-exams/StudentsPerformance.csv\n"
     ]
    }
   ],
   "source": [
    "# This Python 3 environment comes with many helpful analytics libraries installed\n",
    "# It is defined by the kaggle/python Docker image: https://github.com/kaggle/docker-python\n",
    "# For example, here's several helpful packages to load\n",
    "\n",
    "import numpy as np # linear algebra\n",
    "import pandas as pd # data processing, CSV file I/O (e.g. pd.read_csv)\n",
    "import seaborn as sns\n",
    "import matplotlib.pyplot as plt\n",
    "# Input data files are available in the read-only \"../input/\" directory\n",
    "# For example, running this (by clicking run or pressing Shift+Enter) will list all files under the input directory\n",
    "\n",
    "import os\n",
    "for dirname, _, filenames in os.walk('/kaggle/input'):\n",
    "    for filename in filenames:\n",
    "        print(os.path.join(dirname, filename))\n",
    "\n",
    "# You can write up to 20GB to the current directory (/kaggle/working/) that gets preserved as output when you create a version using \"Save & Run All\" \n",
    "# You can also write temporary files to /kaggle/temp/, but they won't be saved outside of the current session"
   ]
  },
  {
   "cell_type": "markdown",
   "id": "ea80596d",
   "metadata": {
    "papermill": {
     "duration": 0.024003,
     "end_time": "2022-04-06T04:36:55.947822",
     "exception": false,
     "start_time": "2022-04-06T04:36:55.923819",
     "status": "completed"
    },
    "tags": []
   },
   "source": [
    "# Data Extraction"
   ]
  },
  {
   "cell_type": "code",
   "execution_count": 2,
   "id": "e9a50915",
   "metadata": {
    "execution": {
     "iopub.execute_input": "2022-04-06T04:36:56.000540Z",
     "iopub.status.busy": "2022-04-06T04:36:55.999585Z",
     "iopub.status.idle": "2022-04-06T04:36:56.016565Z",
     "shell.execute_reply": "2022-04-06T04:36:56.017059Z",
     "shell.execute_reply.started": "2022-04-06T04:30:26.315160Z"
    },
    "papermill": {
     "duration": 0.045303,
     "end_time": "2022-04-06T04:36:56.017247",
     "exception": false,
     "start_time": "2022-04-06T04:36:55.971944",
     "status": "completed"
    },
    "tags": []
   },
   "outputs": [],
   "source": [
    "df = pd.read_csv('/kaggle/input/students-performance-in-exams/StudentsPerformance.csv')"
   ]
  },
  {
   "cell_type": "markdown",
   "id": "a35c99f0",
   "metadata": {
    "papermill": {
     "duration": 0.023259,
     "end_time": "2022-04-06T04:36:56.064772",
     "exception": false,
     "start_time": "2022-04-06T04:36:56.041513",
     "status": "completed"
    },
    "tags": []
   },
   "source": [
    "# Exploratory Data Analysis (EDA)"
   ]
  },
  {
   "cell_type": "code",
   "execution_count": 3,
   "id": "0b055c34",
   "metadata": {
    "execution": {
     "iopub.execute_input": "2022-04-06T04:36:56.116277Z",
     "iopub.status.busy": "2022-04-06T04:36:56.115305Z",
     "iopub.status.idle": "2022-04-06T04:36:56.122361Z",
     "shell.execute_reply": "2022-04-06T04:36:56.122834Z",
     "shell.execute_reply.started": "2022-04-06T04:30:26.335469Z"
    },
    "papermill": {
     "duration": 0.034689,
     "end_time": "2022-04-06T04:36:56.123008",
     "exception": false,
     "start_time": "2022-04-06T04:36:56.088319",
     "status": "completed"
    },
    "tags": []
   },
   "outputs": [
    {
     "data": {
      "text/plain": [
       "(1000, 8)"
      ]
     },
     "execution_count": 3,
     "metadata": {},
     "output_type": "execute_result"
    }
   ],
   "source": [
    "# Checking the shape of the data\n",
    "df.shape"
   ]
  },
  {
   "cell_type": "code",
   "execution_count": 4,
   "id": "527eeb3c",
   "metadata": {
    "execution": {
     "iopub.execute_input": "2022-04-06T04:36:56.174033Z",
     "iopub.status.busy": "2022-04-06T04:36:56.173380Z",
     "iopub.status.idle": "2022-04-06T04:36:56.178191Z",
     "shell.execute_reply": "2022-04-06T04:36:56.178657Z",
     "shell.execute_reply.started": "2022-04-06T04:30:26.346470Z"
    },
    "papermill": {
     "duration": 0.03201,
     "end_time": "2022-04-06T04:36:56.178831",
     "exception": false,
     "start_time": "2022-04-06T04:36:56.146821",
     "status": "completed"
    },
    "tags": []
   },
   "outputs": [
    {
     "data": {
      "text/plain": [
       "Index(['gender', 'race/ethnicity', 'parental level of education', 'lunch',\n",
       "       'test preparation course', 'math score', 'reading score',\n",
       "       'writing score'],\n",
       "      dtype='object')"
      ]
     },
     "execution_count": 4,
     "metadata": {},
     "output_type": "execute_result"
    }
   ],
   "source": [
    "# Checking the column's names\n",
    "df.columns"
   ]
  },
  {
   "cell_type": "code",
   "execution_count": 5,
   "id": "526c1e34",
   "metadata": {
    "execution": {
     "iopub.execute_input": "2022-04-06T04:36:56.230916Z",
     "iopub.status.busy": "2022-04-06T04:36:56.230269Z",
     "iopub.status.idle": "2022-04-06T04:36:56.261617Z",
     "shell.execute_reply": "2022-04-06T04:36:56.262121Z",
     "shell.execute_reply.started": "2022-04-06T04:30:26.366798Z"
    },
    "papermill": {
     "duration": 0.059196,
     "end_time": "2022-04-06T04:36:56.262294",
     "exception": false,
     "start_time": "2022-04-06T04:36:56.203098",
     "status": "completed"
    },
    "tags": []
   },
   "outputs": [
    {
     "data": {
      "text/html": [
       "<div>\n",
       "<style scoped>\n",
       "    .dataframe tbody tr th:only-of-type {\n",
       "        vertical-align: middle;\n",
       "    }\n",
       "\n",
       "    .dataframe tbody tr th {\n",
       "        vertical-align: top;\n",
       "    }\n",
       "\n",
       "    .dataframe thead th {\n",
       "        text-align: right;\n",
       "    }\n",
       "</style>\n",
       "<table border=\"1\" class=\"dataframe\">\n",
       "  <thead>\n",
       "    <tr style=\"text-align: right;\">\n",
       "      <th></th>\n",
       "      <th>math score</th>\n",
       "      <th>reading score</th>\n",
       "      <th>writing score</th>\n",
       "    </tr>\n",
       "  </thead>\n",
       "  <tbody>\n",
       "    <tr>\n",
       "      <th>count</th>\n",
       "      <td>1000.00000</td>\n",
       "      <td>1000.000000</td>\n",
       "      <td>1000.000000</td>\n",
       "    </tr>\n",
       "    <tr>\n",
       "      <th>mean</th>\n",
       "      <td>66.08900</td>\n",
       "      <td>69.169000</td>\n",
       "      <td>68.054000</td>\n",
       "    </tr>\n",
       "    <tr>\n",
       "      <th>std</th>\n",
       "      <td>15.16308</td>\n",
       "      <td>14.600192</td>\n",
       "      <td>15.195657</td>\n",
       "    </tr>\n",
       "    <tr>\n",
       "      <th>min</th>\n",
       "      <td>0.00000</td>\n",
       "      <td>17.000000</td>\n",
       "      <td>10.000000</td>\n",
       "    </tr>\n",
       "    <tr>\n",
       "      <th>25%</th>\n",
       "      <td>57.00000</td>\n",
       "      <td>59.000000</td>\n",
       "      <td>57.750000</td>\n",
       "    </tr>\n",
       "    <tr>\n",
       "      <th>50%</th>\n",
       "      <td>66.00000</td>\n",
       "      <td>70.000000</td>\n",
       "      <td>69.000000</td>\n",
       "    </tr>\n",
       "    <tr>\n",
       "      <th>75%</th>\n",
       "      <td>77.00000</td>\n",
       "      <td>79.000000</td>\n",
       "      <td>79.000000</td>\n",
       "    </tr>\n",
       "    <tr>\n",
       "      <th>max</th>\n",
       "      <td>100.00000</td>\n",
       "      <td>100.000000</td>\n",
       "      <td>100.000000</td>\n",
       "    </tr>\n",
       "  </tbody>\n",
       "</table>\n",
       "</div>"
      ],
      "text/plain": [
       "       math score  reading score  writing score\n",
       "count  1000.00000    1000.000000    1000.000000\n",
       "mean     66.08900      69.169000      68.054000\n",
       "std      15.16308      14.600192      15.195657\n",
       "min       0.00000      17.000000      10.000000\n",
       "25%      57.00000      59.000000      57.750000\n",
       "50%      66.00000      70.000000      69.000000\n",
       "75%      77.00000      79.000000      79.000000\n",
       "max     100.00000     100.000000     100.000000"
      ]
     },
     "execution_count": 5,
     "metadata": {},
     "output_type": "execute_result"
    }
   ],
   "source": [
    "# Taking a look of general data\n",
    "df.describe()"
   ]
  },
  {
   "cell_type": "code",
   "execution_count": 6,
   "id": "6dbafff0",
   "metadata": {
    "execution": {
     "iopub.execute_input": "2022-04-06T04:36:56.328962Z",
     "iopub.status.busy": "2022-04-06T04:36:56.328298Z",
     "iopub.status.idle": "2022-04-06T04:36:56.330779Z",
     "shell.execute_reply": "2022-04-06T04:36:56.331289Z",
     "shell.execute_reply.started": "2022-04-06T04:30:26.400273Z"
    },
    "papermill": {
     "duration": 0.044142,
     "end_time": "2022-04-06T04:36:56.331459",
     "exception": false,
     "start_time": "2022-04-06T04:36:56.287317",
     "status": "completed"
    },
    "tags": []
   },
   "outputs": [
    {
     "name": "stdout",
     "output_type": "stream",
     "text": [
      "<class 'pandas.core.frame.DataFrame'>\n",
      "RangeIndex: 1000 entries, 0 to 999\n",
      "Data columns (total 8 columns):\n",
      " #   Column                       Non-Null Count  Dtype \n",
      "---  ------                       --------------  ----- \n",
      " 0   gender                       1000 non-null   object\n",
      " 1   race/ethnicity               1000 non-null   object\n",
      " 2   parental level of education  1000 non-null   object\n",
      " 3   lunch                        1000 non-null   object\n",
      " 4   test preparation course      1000 non-null   object\n",
      " 5   math score                   1000 non-null   int64 \n",
      " 6   reading score                1000 non-null   int64 \n",
      " 7   writing score                1000 non-null   int64 \n",
      "dtypes: int64(3), object(5)\n",
      "memory usage: 62.6+ KB\n"
     ]
    }
   ],
   "source": [
    "# Looking out for missing values\n",
    "df.info()"
   ]
  },
  {
   "cell_type": "code",
   "execution_count": 7,
   "id": "f741c1f7",
   "metadata": {
    "execution": {
     "iopub.execute_input": "2022-04-06T04:36:56.385236Z",
     "iopub.status.busy": "2022-04-06T04:36:56.384527Z",
     "iopub.status.idle": "2022-04-06T04:36:56.391819Z",
     "shell.execute_reply": "2022-04-06T04:36:56.391283Z",
     "shell.execute_reply.started": "2022-04-06T04:30:26.438854Z"
    },
    "papermill": {
     "duration": 0.035217,
     "end_time": "2022-04-06T04:36:56.391956",
     "exception": false,
     "start_time": "2022-04-06T04:36:56.356739",
     "status": "completed"
    },
    "tags": []
   },
   "outputs": [
    {
     "data": {
      "text/plain": [
       "gender                         object\n",
       "race/ethnicity                 object\n",
       "parental level of education    object\n",
       "lunch                          object\n",
       "test preparation course        object\n",
       "math score                      int64\n",
       "reading score                   int64\n",
       "writing score                   int64\n",
       "dtype: object"
      ]
     },
     "execution_count": 7,
     "metadata": {},
     "output_type": "execute_result"
    }
   ],
   "source": [
    "# Checking the data of data\n",
    "df.dtypes"
   ]
  },
  {
   "cell_type": "code",
   "execution_count": 8,
   "id": "aa823d2a",
   "metadata": {
    "execution": {
     "iopub.execute_input": "2022-04-06T04:36:56.449131Z",
     "iopub.status.busy": "2022-04-06T04:36:56.448109Z",
     "iopub.status.idle": "2022-04-06T04:36:56.460099Z",
     "shell.execute_reply": "2022-04-06T04:36:56.460734Z",
     "shell.execute_reply.started": "2022-04-06T04:30:26.562801Z"
    },
    "papermill": {
     "duration": 0.042688,
     "end_time": "2022-04-06T04:36:56.460899",
     "exception": false,
     "start_time": "2022-04-06T04:36:56.418211",
     "status": "completed"
    },
    "tags": []
   },
   "outputs": [
    {
     "data": {
      "text/html": [
       "<div>\n",
       "<style scoped>\n",
       "    .dataframe tbody tr th:only-of-type {\n",
       "        vertical-align: middle;\n",
       "    }\n",
       "\n",
       "    .dataframe tbody tr th {\n",
       "        vertical-align: top;\n",
       "    }\n",
       "\n",
       "    .dataframe thead th {\n",
       "        text-align: right;\n",
       "    }\n",
       "</style>\n",
       "<table border=\"1\" class=\"dataframe\">\n",
       "  <thead>\n",
       "    <tr style=\"text-align: right;\">\n",
       "      <th></th>\n",
       "      <th>gender</th>\n",
       "      <th>race/ethnicity</th>\n",
       "      <th>parental level of education</th>\n",
       "      <th>lunch</th>\n",
       "      <th>test preparation course</th>\n",
       "      <th>math score</th>\n",
       "      <th>reading score</th>\n",
       "      <th>writing score</th>\n",
       "    </tr>\n",
       "  </thead>\n",
       "  <tbody>\n",
       "    <tr>\n",
       "      <th>0</th>\n",
       "      <td>female</td>\n",
       "      <td>group B</td>\n",
       "      <td>bachelor's degree</td>\n",
       "      <td>standard</td>\n",
       "      <td>none</td>\n",
       "      <td>72</td>\n",
       "      <td>72</td>\n",
       "      <td>74</td>\n",
       "    </tr>\n",
       "    <tr>\n",
       "      <th>1</th>\n",
       "      <td>female</td>\n",
       "      <td>group C</td>\n",
       "      <td>some college</td>\n",
       "      <td>standard</td>\n",
       "      <td>completed</td>\n",
       "      <td>69</td>\n",
       "      <td>90</td>\n",
       "      <td>88</td>\n",
       "    </tr>\n",
       "    <tr>\n",
       "      <th>2</th>\n",
       "      <td>female</td>\n",
       "      <td>group B</td>\n",
       "      <td>master's degree</td>\n",
       "      <td>standard</td>\n",
       "      <td>none</td>\n",
       "      <td>90</td>\n",
       "      <td>95</td>\n",
       "      <td>93</td>\n",
       "    </tr>\n",
       "    <tr>\n",
       "      <th>3</th>\n",
       "      <td>male</td>\n",
       "      <td>group A</td>\n",
       "      <td>associate's degree</td>\n",
       "      <td>free/reduced</td>\n",
       "      <td>none</td>\n",
       "      <td>47</td>\n",
       "      <td>57</td>\n",
       "      <td>44</td>\n",
       "    </tr>\n",
       "    <tr>\n",
       "      <th>4</th>\n",
       "      <td>male</td>\n",
       "      <td>group C</td>\n",
       "      <td>some college</td>\n",
       "      <td>standard</td>\n",
       "      <td>none</td>\n",
       "      <td>76</td>\n",
       "      <td>78</td>\n",
       "      <td>75</td>\n",
       "    </tr>\n",
       "  </tbody>\n",
       "</table>\n",
       "</div>"
      ],
      "text/plain": [
       "   gender race/ethnicity parental level of education         lunch  \\\n",
       "0  female        group B           bachelor's degree      standard   \n",
       "1  female        group C                some college      standard   \n",
       "2  female        group B             master's degree      standard   \n",
       "3    male        group A          associate's degree  free/reduced   \n",
       "4    male        group C                some college      standard   \n",
       "\n",
       "  test preparation course  math score  reading score  writing score  \n",
       "0                    none          72             72             74  \n",
       "1               completed          69             90             88  \n",
       "2                    none          90             95             93  \n",
       "3                    none          47             57             44  \n",
       "4                    none          76             78             75  "
      ]
     },
     "execution_count": 8,
     "metadata": {},
     "output_type": "execute_result"
    }
   ],
   "source": [
    "# Taking a look at the data\n",
    "df.head()"
   ]
  },
  {
   "cell_type": "code",
   "execution_count": 9,
   "id": "d04e6f88",
   "metadata": {
    "execution": {
     "iopub.execute_input": "2022-04-06T04:36:56.520530Z",
     "iopub.status.busy": "2022-04-06T04:36:56.519889Z",
     "iopub.status.idle": "2022-04-06T04:36:57.369794Z",
     "shell.execute_reply": "2022-04-06T04:36:57.370311Z",
     "shell.execute_reply.started": "2022-04-06T04:30:26.697406Z"
    },
    "papermill": {
     "duration": 0.882528,
     "end_time": "2022-04-06T04:36:57.370483",
     "exception": false,
     "start_time": "2022-04-06T04:36:56.487955",
     "status": "completed"
    },
    "tags": []
   },
   "outputs": [
    {
     "data": {
      "image/png": "[encoded data removed]",
      "text/plain": [
       "<Figure size 1440x1080 with 4 Axes>"
      ]
     },
     "metadata": {},
     "output_type": "display_data"
    }
   ],
   "source": [
    "# Plotting a histogram of the numerical variables \n",
    "sns.set()\n",
    "df.hist(bins=20, figsize=(20,15));"
   ]
  },
  {
   "cell_type": "code",
   "execution_count": null,
   "id": "df79fdc5",
   "metadata": {
    "papermill": {
     "duration": 0.027571,
     "end_time": "2022-04-06T04:36:57.426406",
     "exception": false,
     "start_time": "2022-04-06T04:36:57.398835",
     "status": "completed"
    },
    "tags": []
   },
   "outputs": [],
   "source": []
  },
  {
   "cell_type": "code",
   "execution_count": 10,
   "id": "54c359b6",
   "metadata": {
    "execution": {
     "iopub.execute_input": "2022-04-06T04:36:57.490479Z",
     "iopub.status.busy": "2022-04-06T04:36:57.485028Z",
     "iopub.status.idle": "2022-04-06T04:36:58.053758Z",
     "shell.execute_reply": "2022-04-06T04:36:58.054264Z",
     "shell.execute_reply.started": "2022-04-06T04:30:27.656309Z"
    },
    "papermill": {
     "duration": 0.600128,
     "end_time": "2022-04-06T04:36:58.054448",
     "exception": false,
     "start_time": "2022-04-06T04:36:57.454320",
     "status": "completed"
    },
    "tags": []
   },
   "outputs": [
    {
     "data": {
      "image/png": "[encoded data removed]",
      "text/plain": [
       "<Figure size 432x288 with 1 Axes>"
      ]
     },
     "metadata": {},
     "output_type": "display_data"
    },
    {
     "data": {
      "image/png": "[encoded data removed]",
      "text/plain": [
       "<Figure size 432x288 with 1 Axes>"
      ]
     },
     "metadata": {},
     "output_type": "display_data"
    },
    {
     "data": {
      "image/png": "[encoded data removed]",
      "text/plain": [
       "<Figure size 432x288 with 1 Axes>"
      ]
     },
     "metadata": {},
     "output_type": "display_data"
    }
   ],
   "source": [
    "# Checking the boxplot looking for outliers\n",
    "sns.boxplot(  x= df['math score']   , data=df,  orient='h' , )\n",
    "plt.show()\n",
    "sns.boxplot(  x= df['reading score'], data=df,  orient='h' , )\n",
    "plt.show()\n",
    "sns.boxplot(  x= df['writing score'], data=df,  orient='h' , )\n",
    "plt.show()"
   ]
  },
  {
   "cell_type": "markdown",
   "id": "7beba962",
   "metadata": {
    "papermill": {
     "duration": 0.029904,
     "end_time": "2022-04-06T04:36:58.114550",
     "exception": false,
     "start_time": "2022-04-06T04:36:58.084646",
     "status": "completed"
    },
    "tags": []
   },
   "source": [
    "We notice that exist some outliers but analyzing the dataset it's possible reach the conclusion we haven't any reason to discard these outliers."
   ]
  },
  {
   "cell_type": "markdown",
   "id": "52535fdd",
   "metadata": {
    "papermill": {
     "duration": 0.029672,
     "end_time": "2022-04-06T04:36:58.174294",
     "exception": false,
     "start_time": "2022-04-06T04:36:58.144622",
     "status": "completed"
    },
    "tags": []
   },
   "source": [
    "**Gender Distribution**"
   ]
  },
  {
   "cell_type": "code",
   "execution_count": 11,
   "id": "c4de164c",
   "metadata": {
    "execution": {
     "iopub.execute_input": "2022-04-06T04:36:58.244023Z",
     "iopub.status.busy": "2022-04-06T04:36:58.241260Z",
     "iopub.status.idle": "2022-04-06T04:36:58.337460Z",
     "shell.execute_reply": "2022-04-06T04:36:58.338481Z",
     "shell.execute_reply.started": "2022-04-06T04:30:28.217352Z"
    },
    "papermill": {
     "duration": 0.133671,
     "end_time": "2022-04-06T04:36:58.338753",
     "exception": false,
     "start_time": "2022-04-06T04:36:58.205082",
     "status": "completed"
    },
    "tags": []
   },
   "outputs": [
    {
     "data": {
      "image/png": "[encoded data removed]",
      "text/plain": [
       "<Figure size 432x288 with 1 Axes>"
      ]
     },
     "metadata": {},
     "output_type": "display_data"
    }
   ],
   "source": [
    "colors = sns.color_palette('Blues')\n",
    "_ = plt.pie(df.gender.value_counts(),labels=df.gender.value_counts().index,autopct='%1.2f%%',colors=colors)"
   ]
  },
  {
   "cell_type": "markdown",
   "id": "16b67ad6",
   "metadata": {
    "papermill": {
     "duration": 0.046049,
     "end_time": "2022-04-06T04:36:58.441379",
     "exception": false,
     "start_time": "2022-04-06T04:36:58.395330",
     "status": "completed"
    },
    "tags": []
   },
   "source": [
    "**Race Distribution**"
   ]
  },
  {
   "cell_type": "code",
   "execution_count": 12,
   "id": "51c60ff0",
   "metadata": {
    "execution": {
     "iopub.execute_input": "2022-04-06T04:36:58.506498Z",
     "iopub.status.busy": "2022-04-06T04:36:58.505525Z",
     "iopub.status.idle": "2022-04-06T04:36:58.630945Z",
     "shell.execute_reply": "2022-04-06T04:36:58.629942Z",
     "shell.execute_reply.started": "2022-04-06T04:30:28.330309Z"
    },
    "papermill": {
     "duration": 0.159271,
     "end_time": "2022-04-06T04:36:58.631216",
     "exception": false,
     "start_time": "2022-04-06T04:36:58.471945",
     "status": "completed"
    },
    "tags": []
   },
   "outputs": [
    {
     "data": {
      "image/png": "[encoded data removed]",
      "text/plain": [
       "<Figure size 432x288 with 1 Axes>"
      ]
     },
     "metadata": {},
     "output_type": "display_data"
    }
   ],
   "source": [
    "colors = sns.color_palette('Blues')\n",
    "_ = plt.pie(df['race/ethnicity'].value_counts(),labels=df['race/ethnicity'].value_counts().index,autopct='%1.2f%%',colors=colors)"
   ]
  },
  {
   "cell_type": "markdown",
   "id": "530e7341",
   "metadata": {
    "papermill": {
     "duration": 0.038074,
     "end_time": "2022-04-06T04:36:58.728887",
     "exception": false,
     "start_time": "2022-04-06T04:36:58.690813",
     "status": "completed"
    },
    "tags": []
   },
   "source": [
    "**Parental level of education**"
   ]
  },
  {
   "cell_type": "code",
   "execution_count": 13,
   "id": "44c02a6d",
   "metadata": {
    "execution": {
     "iopub.execute_input": "2022-04-06T04:36:58.796245Z",
     "iopub.status.busy": "2022-04-06T04:36:58.795593Z",
     "iopub.status.idle": "2022-04-06T04:36:58.933607Z",
     "shell.execute_reply": "2022-04-06T04:36:58.934648Z",
     "shell.execute_reply.started": "2022-04-06T04:30:28.471389Z"
    },
    "papermill": {
     "duration": 0.173886,
     "end_time": "2022-04-06T04:36:58.934928",
     "exception": false,
     "start_time": "2022-04-06T04:36:58.761042",
     "status": "completed"
    },
    "tags": []
   },
   "outputs": [
    {
     "data": {
      "image/png": "[encoded data removed]",
      "text/plain": [
       "<Figure size 432x288 with 1 Axes>"
      ]
     },
     "metadata": {},
     "output_type": "display_data"
    }
   ],
   "source": [
    "colors = sns.color_palette('Blues')\n",
    "_ = plt.pie(df['parental level of education'].value_counts(),labels=df['parental level of education'].value_counts().index,autopct='%1.2f%%',colors=colors)"
   ]
  },
  {
   "cell_type": "markdown",
   "id": "780e42d6",
   "metadata": {
    "papermill": {
     "duration": 0.034176,
     "end_time": "2022-04-06T04:36:59.031839",
     "exception": false,
     "start_time": "2022-04-06T04:36:58.997663",
     "status": "completed"
    },
    "tags": []
   },
   "source": [
    "**Test preparation course**"
   ]
  },
  {
   "cell_type": "code",
   "execution_count": 14,
   "id": "061778a6",
   "metadata": {
    "execution": {
     "iopub.execute_input": "2022-04-06T04:36:59.109418Z",
     "iopub.status.busy": "2022-04-06T04:36:59.107559Z",
     "iopub.status.idle": "2022-04-06T04:36:59.410816Z",
     "shell.execute_reply": "2022-04-06T04:36:59.411317Z",
     "shell.execute_reply.started": "2022-04-06T04:30:28.623334Z"
    },
    "papermill": {
     "duration": 0.34636,
     "end_time": "2022-04-06T04:36:59.411486",
     "exception": false,
     "start_time": "2022-04-06T04:36:59.065126",
     "status": "completed"
    },
    "tags": []
   },
   "outputs": [
    {
     "name": "stdout",
     "output_type": "stream",
     "text": [
      "none         642\n",
      "completed    358\n",
      "Name: test preparation course, dtype: int64\n"
     ]
    },
    {
     "data": {
      "image/png": "[encoded data removed]",
      "text/plain": [
       "<Figure size 432x288 with 1 Axes>"
      ]
     },
     "metadata": {},
     "output_type": "display_data"
    }
   ],
   "source": [
    "print(df['test preparation course'].value_counts())\n",
    "_ = sns.barplot(x=df['test preparation course'].index,y=df['test preparation course'],data=df,color='blue')"
   ]
  },
  {
   "cell_type": "markdown",
   "id": "7638cf6f",
   "metadata": {
    "papermill": {
     "duration": 0.033988,
     "end_time": "2022-04-06T04:36:59.479885",
     "exception": false,
     "start_time": "2022-04-06T04:36:59.445897",
     "status": "completed"
    },
    "tags": []
   },
   "source": [
    "**Comparison between the test preparation course and the average result**"
   ]
  },
  {
   "cell_type": "code",
   "execution_count": 15,
   "id": "151ea8ae",
   "metadata": {
    "execution": {
     "iopub.execute_input": "2022-04-06T04:36:59.552500Z",
     "iopub.status.busy": "2022-04-06T04:36:59.551858Z",
     "iopub.status.idle": "2022-04-06T04:36:59.565526Z",
     "shell.execute_reply": "2022-04-06T04:36:59.566106Z",
     "shell.execute_reply.started": "2022-04-06T04:30:28.972002Z"
    },
    "papermill": {
     "duration": 0.051528,
     "end_time": "2022-04-06T04:36:59.566280",
     "exception": false,
     "start_time": "2022-04-06T04:36:59.514752",
     "status": "completed"
    },
    "tags": []
   },
   "outputs": [
    {
     "data": {
      "text/html": [
       "<div>\n",
       "<style scoped>\n",
       "    .dataframe tbody tr th:only-of-type {\n",
       "        vertical-align: middle;\n",
       "    }\n",
       "\n",
       "    .dataframe tbody tr th {\n",
       "        vertical-align: top;\n",
       "    }\n",
       "\n",
       "    .dataframe thead th {\n",
       "        text-align: right;\n",
       "    }\n",
       "</style>\n",
       "<table border=\"1\" class=\"dataframe\">\n",
       "  <thead>\n",
       "    <tr style=\"text-align: right;\">\n",
       "      <th></th>\n",
       "      <th>gender</th>\n",
       "      <th>race/ethnicity</th>\n",
       "      <th>parental level of education</th>\n",
       "      <th>lunch</th>\n",
       "      <th>test preparation course</th>\n",
       "      <th>math score</th>\n",
       "      <th>reading score</th>\n",
       "      <th>writing score</th>\n",
       "      <th>average score</th>\n",
       "    </tr>\n",
       "  </thead>\n",
       "  <tbody>\n",
       "    <tr>\n",
       "      <th>0</th>\n",
       "      <td>female</td>\n",
       "      <td>group B</td>\n",
       "      <td>bachelor's degree</td>\n",
       "      <td>standard</td>\n",
       "      <td>none</td>\n",
       "      <td>72</td>\n",
       "      <td>72</td>\n",
       "      <td>74</td>\n",
       "      <td>72.666667</td>\n",
       "    </tr>\n",
       "    <tr>\n",
       "      <th>1</th>\n",
       "      <td>female</td>\n",
       "      <td>group C</td>\n",
       "      <td>some college</td>\n",
       "      <td>standard</td>\n",
       "      <td>completed</td>\n",
       "      <td>69</td>\n",
       "      <td>90</td>\n",
       "      <td>88</td>\n",
       "      <td>82.333333</td>\n",
       "    </tr>\n",
       "    <tr>\n",
       "      <th>2</th>\n",
       "      <td>female</td>\n",
       "      <td>group B</td>\n",
       "      <td>master's degree</td>\n",
       "      <td>standard</td>\n",
       "      <td>none</td>\n",
       "      <td>90</td>\n",
       "      <td>95</td>\n",
       "      <td>93</td>\n",
       "      <td>92.666667</td>\n",
       "    </tr>\n",
       "    <tr>\n",
       "      <th>3</th>\n",
       "      <td>male</td>\n",
       "      <td>group A</td>\n",
       "      <td>associate's degree</td>\n",
       "      <td>free/reduced</td>\n",
       "      <td>none</td>\n",
       "      <td>47</td>\n",
       "      <td>57</td>\n",
       "      <td>44</td>\n",
       "      <td>49.333333</td>\n",
       "    </tr>\n",
       "    <tr>\n",
       "      <th>4</th>\n",
       "      <td>male</td>\n",
       "      <td>group C</td>\n",
       "      <td>some college</td>\n",
       "      <td>standard</td>\n",
       "      <td>none</td>\n",
       "      <td>76</td>\n",
       "      <td>78</td>\n",
       "      <td>75</td>\n",
       "      <td>76.333333</td>\n",
       "    </tr>\n",
       "  </tbody>\n",
       "</table>\n",
       "</div>"
      ],
      "text/plain": [
       "   gender race/ethnicity parental level of education         lunch  \\\n",
       "0  female        group B           bachelor's degree      standard   \n",
       "1  female        group C                some college      standard   \n",
       "2  female        group B             master's degree      standard   \n",
       "3    male        group A          associate's degree  free/reduced   \n",
       "4    male        group C                some college      standard   \n",
       "\n",
       "  test preparation course  math score  reading score  writing score  \\\n",
       "0                    none          72             72             74   \n",
       "1               completed          69             90             88   \n",
       "2                    none          90             95             93   \n",
       "3                    none          47             57             44   \n",
       "4                    none          76             78             75   \n",
       "\n",
       "   average score  \n",
       "0      72.666667  \n",
       "1      82.333333  \n",
       "2      92.666667  \n",
       "3      49.333333  \n",
       "4      76.333333  "
      ]
     },
     "execution_count": 15,
     "metadata": {},
     "output_type": "execute_result"
    }
   ],
   "source": [
    "df['average score'] = (df['math score'] + df['reading score'] + df['writing score'])/3\n",
    "df.head()"
   ]
  },
  {
   "cell_type": "code",
   "execution_count": 16,
   "id": "439920b3",
   "metadata": {
    "execution": {
     "iopub.execute_input": "2022-04-06T04:36:59.640805Z",
     "iopub.status.busy": "2022-04-06T04:36:59.640138Z",
     "iopub.status.idle": "2022-04-06T04:36:59.656077Z",
     "shell.execute_reply": "2022-04-06T04:36:59.655573Z",
     "shell.execute_reply.started": "2022-04-06T04:36:07.119396Z"
    },
    "papermill": {
     "duration": 0.054946,
     "end_time": "2022-04-06T04:36:59.656222",
     "exception": false,
     "start_time": "2022-04-06T04:36:59.601276",
     "status": "completed"
    },
    "tags": []
   },
   "outputs": [
    {
     "data": {
      "text/plain": [
       "gender                          object\n",
       "race/ethnicity                  object\n",
       "parental level of education     object\n",
       "lunch                           object\n",
       "test preparation course         object\n",
       "math score                       int64\n",
       "reading score                    int64\n",
       "writing score                    int64\n",
       "average score                  float64\n",
       "dtype: object"
      ]
     },
     "execution_count": 16,
     "metadata": {},
     "output_type": "execute_result"
    }
   ],
   "source": [
    "# The average score to the person that haven't any test preparation course\n",
    "average_none = df[df['test preparation course'] == 'none']['average score'].mean()\n",
    "\n",
    "# The average score to the person that have completed the test preparation course\n",
    "average_completed = df[df['test preparation course'] == 'none']['average score'].mean()\n",
    "\n",
    "averages = pd.DataFrame({'average_none':[average_none],'average_completed':[average_completed]})\n",
    "#_ = sns.barplot(x=averages.columns,y=averages['average_none'],color='blue')\n",
    "df['test preparation course'].value_counts()\n",
    "averages.value_counts()\n",
    "df.dtypes"
   ]
  },
  {
   "cell_type": "code",
   "execution_count": 17,
   "id": "94409fb5",
   "metadata": {
    "execution": {
     "iopub.execute_input": "2022-04-06T04:36:59.733655Z",
     "iopub.status.busy": "2022-04-06T04:36:59.732959Z",
     "iopub.status.idle": "2022-04-06T04:36:59.736074Z",
     "shell.execute_reply": "2022-04-06T04:36:59.736564Z",
     "shell.execute_reply.started": "2022-04-06T04:36:04.354275Z"
    },
    "papermill": {
     "duration": 0.045038,
     "end_time": "2022-04-06T04:36:59.736728",
     "exception": false,
     "start_time": "2022-04-06T04:36:59.691690",
     "status": "completed"
    },
    "tags": []
   },
   "outputs": [
    {
     "data": {
      "text/plain": [
       "average_none         float64\n",
       "average_completed    float64\n",
       "dtype: object"
      ]
     },
     "execution_count": 17,
     "metadata": {},
     "output_type": "execute_result"
    }
   ],
   "source": [
    "averages.dtypes"
   ]
  }
 ],
 "metadata": {
  "kernelspec": {
   "display_name": "Python 3",
   "language": "python",
   "name": "python3"
  },
  "language_info": {
   "codemirror_mode": {
    "name": "ipython",
    "version": 3
   },
   "file_extension": ".py",
   "mimetype": "text/x-python",
   "name": "python",
   "nbconvert_exporter": "python",
   "pygments_lexer": "ipython3",
   "version": "3.7.12"
  },
  "papermill": {
   "default_parameters": {},
   "duration": 15.658869,
   "end_time": "2022-04-06T04:37:00.483545",
   "environment_variables": {},
   "exception": null,
   "input_path": "__notebook__.ipynb",
   "output_path": "__notebook__.ipynb",
   "parameters": {},
   "start_time": "2022-04-06T04:36:44.824676",
   "version": "2.3.3"
  }
 },
 "nbformat": 4,
 "nbformat_minor": 5
}
