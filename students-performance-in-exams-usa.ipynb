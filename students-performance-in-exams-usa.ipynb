{
 "cells": [
  {
   "cell_type": "code",
   "execution_count": 1,
   "id": "b10fc363",
   "metadata": {
    "_cell_guid": "b1076dfc-b9ad-4769-8c92-a6c4dae69d19",
    "_uuid": "8f2839f25d086af736a60e9eeb907d3b93b6e0e5",
    "execution": {
     "iopub.execute_input": "2022-04-06T13:46:16.691153Z",
     "iopub.status.busy": "2022-04-06T13:46:16.690464Z",
     "iopub.status.idle": "2022-04-06T13:46:17.727187Z",
     "shell.execute_reply": "2022-04-06T13:46:17.726280Z",
     "shell.execute_reply.started": "2022-04-06T13:34:20.774294Z"
    },
    "papermill": {
     "duration": 1.078384,
     "end_time": "2022-04-06T13:46:17.727420",
     "exception": false,
     "start_time": "2022-04-06T13:46:16.649036",
     "status": "completed"
    },
    "tags": []
   },
   "outputs": [
    {
     "name": "stdout",
     "output_type": "stream",
     "text": [
      "/kaggle/input/students-performance-in-exams/StudentsPerformance.csv\n"
     ]
    }
   ],
   "source": [
    "# This Python 3 environment comes with many helpful analytics libraries installed\n",
    "# It is defined by the kaggle/python Docker image: https://github.com/kaggle/docker-python\n",
    "# For example, here's several helpful packages to load\n",
    "\n",
    "import numpy as np # linear algebra\n",
    "import pandas as pd # data processing, CSV file I/O (e.g. pd.read_csv)\n",
    "import seaborn as sns\n",
    "import matplotlib.pyplot as plt\n",
    "# Input data files are available in the read-only \"../input/\" directory\n",
    "# For example, running this (by clicking run or pressing Shift+Enter) will list all files under the input directory\n",
    "\n",
    "import os\n",
    "for dirname, _, filenames in os.walk('/kaggle/input'):\n",
    "    for filename in filenames:\n",
    "        print(os.path.join(dirname, filename))\n",
    "\n",
    "# You can write up to 20GB to the current directory (/kaggle/working/) that gets preserved as output when you create a version using \"Save & Run All\" \n",
    "# You can also write temporary files to /kaggle/temp/, but they won't be saved outside of the current session"
   ]
  },
  {
   "cell_type": "markdown",
   "id": "09839017",
   "metadata": {
    "papermill": {
     "duration": 0.028731,
     "end_time": "2022-04-06T13:46:17.787825",
     "exception": false,
     "start_time": "2022-04-06T13:46:17.759094",
     "status": "completed"
    },
    "tags": []
   },
   "source": [
    "# Data Extraction"
   ]
  },
  {
   "cell_type": "code",
   "execution_count": 2,
   "id": "1cf86a8c",
   "metadata": {
    "execution": {
     "iopub.execute_input": "2022-04-06T13:46:17.852153Z",
     "iopub.status.busy": "2022-04-06T13:46:17.850496Z",
     "iopub.status.idle": "2022-04-06T13:46:17.867898Z",
     "shell.execute_reply": "2022-04-06T13:46:17.868582Z",
     "shell.execute_reply.started": "2022-04-06T13:34:20.884553Z"
    },
    "papermill": {
     "duration": 0.051035,
     "end_time": "2022-04-06T13:46:17.868816",
     "exception": false,
     "start_time": "2022-04-06T13:46:17.817781",
     "status": "completed"
    },
    "tags": []
   },
   "outputs": [],
   "source": [
    "df = pd.read_csv('/kaggle/input/students-performance-in-exams/StudentsPerformance.csv')"
   ]
  },
  {
   "cell_type": "markdown",
   "id": "c2005f66",
   "metadata": {
    "papermill": {
     "duration": 0.027294,
     "end_time": "2022-04-06T13:46:17.923801",
     "exception": false,
     "start_time": "2022-04-06T13:46:17.896507",
     "status": "completed"
    },
    "tags": []
   },
   "source": [
    "# Exploratory Data Analysis (EDA)"
   ]
  },
  {
   "cell_type": "code",
   "execution_count": 3,
   "id": "5e6faf18",
   "metadata": {
    "execution": {
     "iopub.execute_input": "2022-04-06T13:46:17.990214Z",
     "iopub.status.busy": "2022-04-06T13:46:17.985597Z",
     "iopub.status.idle": "2022-04-06T13:46:17.993534Z",
     "shell.execute_reply": "2022-04-06T13:46:17.994376Z",
     "shell.execute_reply.started": "2022-04-06T13:34:20.985794Z"
    },
    "papermill": {
     "duration": 0.041518,
     "end_time": "2022-04-06T13:46:17.994706",
     "exception": false,
     "start_time": "2022-04-06T13:46:17.953188",
     "status": "completed"
    },
    "tags": []
   },
   "outputs": [
    {
     "data": {
      "text/plain": [
       "(1000, 8)"
      ]
     },
     "execution_count": 3,
     "metadata": {},
     "output_type": "execute_result"
    }
   ],
   "source": [
    "# Checking the shape of the data\n",
    "df.shape"
   ]
  },
  {
   "cell_type": "code",
   "execution_count": 4,
   "id": "7cd002ed",
   "metadata": {
    "execution": {
     "iopub.execute_input": "2022-04-06T13:46:18.058231Z",
     "iopub.status.busy": "2022-04-06T13:46:18.057473Z",
     "iopub.status.idle": "2022-04-06T13:46:18.063551Z",
     "shell.execute_reply": "2022-04-06T13:46:18.064148Z",
     "shell.execute_reply.started": "2022-04-06T13:34:21.097363Z"
    },
    "papermill": {
     "duration": 0.041156,
     "end_time": "2022-04-06T13:46:18.064359",
     "exception": false,
     "start_time": "2022-04-06T13:46:18.023203",
     "status": "completed"
    },
    "tags": []
   },
   "outputs": [
    {
     "data": {
      "text/plain": [
       "Index(['gender', 'race/ethnicity', 'parental level of education', 'lunch',\n",
       "       'test preparation course', 'math score', 'reading score',\n",
       "       'writing score'],\n",
       "      dtype='object')"
      ]
     },
     "execution_count": 4,
     "metadata": {},
     "output_type": "execute_result"
    }
   ],
   "source": [
    "# Checking the column's names\n",
    "df.columns"
   ]
  },
  {
   "cell_type": "code",
   "execution_count": 5,
   "id": "fca7a698",
   "metadata": {
    "execution": {
     "iopub.execute_input": "2022-04-06T13:46:18.124624Z",
     "iopub.status.busy": "2022-04-06T13:46:18.123533Z",
     "iopub.status.idle": "2022-04-06T13:46:18.166617Z",
     "shell.execute_reply": "2022-04-06T13:46:18.167171Z",
     "shell.execute_reply.started": "2022-04-06T13:34:21.205861Z"
    },
    "papermill": {
     "duration": 0.075777,
     "end_time": "2022-04-06T13:46:18.167401",
     "exception": false,
     "start_time": "2022-04-06T13:46:18.091624",
     "status": "completed"
    },
    "tags": []
   },
   "outputs": [
    {
     "data": {
      "text/html": [
       "<div>\n",
       "<style scoped>\n",
       "    .dataframe tbody tr th:only-of-type {\n",
       "        vertical-align: middle;\n",
       "    }\n",
       "\n",
       "    .dataframe tbody tr th {\n",
       "        vertical-align: top;\n",
       "    }\n",
       "\n",
       "    .dataframe thead th {\n",
       "        text-align: right;\n",
       "    }\n",
       "</style>\n",
       "<table border=\"1\" class=\"dataframe\">\n",
       "  <thead>\n",
       "    <tr style=\"text-align: right;\">\n",
       "      <th></th>\n",
       "      <th>math score</th>\n",
       "      <th>reading score</th>\n",
       "      <th>writing score</th>\n",
       "    </tr>\n",
       "  </thead>\n",
       "  <tbody>\n",
       "    <tr>\n",
       "      <th>count</th>\n",
       "      <td>1000.00000</td>\n",
       "      <td>1000.000000</td>\n",
       "      <td>1000.000000</td>\n",
       "    </tr>\n",
       "    <tr>\n",
       "      <th>mean</th>\n",
       "      <td>66.08900</td>\n",
       "      <td>69.169000</td>\n",
       "      <td>68.054000</td>\n",
       "    </tr>\n",
       "    <tr>\n",
       "      <th>std</th>\n",
       "      <td>15.16308</td>\n",
       "      <td>14.600192</td>\n",
       "      <td>15.195657</td>\n",
       "    </tr>\n",
       "    <tr>\n",
       "      <th>min</th>\n",
       "      <td>0.00000</td>\n",
       "      <td>17.000000</td>\n",
       "      <td>10.000000</td>\n",
       "    </tr>\n",
       "    <tr>\n",
       "      <th>25%</th>\n",
       "      <td>57.00000</td>\n",
       "      <td>59.000000</td>\n",
       "      <td>57.750000</td>\n",
       "    </tr>\n",
       "    <tr>\n",
       "      <th>50%</th>\n",
       "      <td>66.00000</td>\n",
       "      <td>70.000000</td>\n",
       "      <td>69.000000</td>\n",
       "    </tr>\n",
       "    <tr>\n",
       "      <th>75%</th>\n",
       "      <td>77.00000</td>\n",
       "      <td>79.000000</td>\n",
       "      <td>79.000000</td>\n",
       "    </tr>\n",
       "    <tr>\n",
       "      <th>max</th>\n",
       "      <td>100.00000</td>\n",
       "      <td>100.000000</td>\n",
       "      <td>100.000000</td>\n",
       "    </tr>\n",
       "  </tbody>\n",
       "</table>\n",
       "</div>"
      ],
      "text/plain": [
       "       math score  reading score  writing score\n",
       "count  1000.00000    1000.000000    1000.000000\n",
       "mean     66.08900      69.169000      68.054000\n",
       "std      15.16308      14.600192      15.195657\n",
       "min       0.00000      17.000000      10.000000\n",
       "25%      57.00000      59.000000      57.750000\n",
       "50%      66.00000      70.000000      69.000000\n",
       "75%      77.00000      79.000000      79.000000\n",
       "max     100.00000     100.000000     100.000000"
      ]
     },
     "execution_count": 5,
     "metadata": {},
     "output_type": "execute_result"
    }
   ],
   "source": [
    "# Taking a look of general data\n",
    "df.describe()"
   ]
  },
  {
   "cell_type": "code",
   "execution_count": 6,
   "id": "504c4d24",
   "metadata": {
    "execution": {
     "iopub.execute_input": "2022-04-06T13:46:18.230536Z",
     "iopub.status.busy": "2022-04-06T13:46:18.229487Z",
     "iopub.status.idle": "2022-04-06T13:46:18.249429Z",
     "shell.execute_reply": "2022-04-06T13:46:18.250547Z",
     "shell.execute_reply.started": "2022-04-06T13:34:21.311684Z"
    },
    "papermill": {
     "duration": 0.054373,
     "end_time": "2022-04-06T13:46:18.250812",
     "exception": false,
     "start_time": "2022-04-06T13:46:18.196439",
     "status": "completed"
    },
    "tags": []
   },
   "outputs": [
    {
     "name": "stdout",
     "output_type": "stream",
     "text": [
      "<class 'pandas.core.frame.DataFrame'>\n",
      "RangeIndex: 1000 entries, 0 to 999\n",
      "Data columns (total 8 columns):\n",
      " #   Column                       Non-Null Count  Dtype \n",
      "---  ------                       --------------  ----- \n",
      " 0   gender                       1000 non-null   object\n",
      " 1   race/ethnicity               1000 non-null   object\n",
      " 2   parental level of education  1000 non-null   object\n",
      " 3   lunch                        1000 non-null   object\n",
      " 4   test preparation course      1000 non-null   object\n",
      " 5   math score                   1000 non-null   int64 \n",
      " 6   reading score                1000 non-null   int64 \n",
      " 7   writing score                1000 non-null   int64 \n",
      "dtypes: int64(3), object(5)\n",
      "memory usage: 62.6+ KB\n"
     ]
    }
   ],
   "source": [
    "# Looking out for missing values\n",
    "df.info()"
   ]
  },
  {
   "cell_type": "code",
   "execution_count": 7,
   "id": "c75ddf4f",
   "metadata": {
    "execution": {
     "iopub.execute_input": "2022-04-06T13:46:18.320460Z",
     "iopub.status.busy": "2022-04-06T13:46:18.319708Z",
     "iopub.status.idle": "2022-04-06T13:46:18.327402Z",
     "shell.execute_reply": "2022-04-06T13:46:18.327919Z",
     "shell.execute_reply.started": "2022-04-06T13:34:21.417576Z"
    },
    "papermill": {
     "duration": 0.044671,
     "end_time": "2022-04-06T13:46:18.328116",
     "exception": false,
     "start_time": "2022-04-06T13:46:18.283445",
     "status": "completed"
    },
    "tags": []
   },
   "outputs": [
    {
     "data": {
      "text/plain": [
       "gender                         object\n",
       "race/ethnicity                 object\n",
       "parental level of education    object\n",
       "lunch                          object\n",
       "test preparation course        object\n",
       "math score                      int64\n",
       "reading score                   int64\n",
       "writing score                   int64\n",
       "dtype: object"
      ]
     },
     "execution_count": 7,
     "metadata": {},
     "output_type": "execute_result"
    }
   ],
   "source": [
    "# Checking the data of data\n",
    "df.dtypes"
   ]
  },
  {
   "cell_type": "code",
   "execution_count": 8,
   "id": "fa87331e",
   "metadata": {
    "execution": {
     "iopub.execute_input": "2022-04-06T13:46:18.393061Z",
     "iopub.status.busy": "2022-04-06T13:46:18.392397Z",
     "iopub.status.idle": "2022-04-06T13:46:18.407164Z",
     "shell.execute_reply": "2022-04-06T13:46:18.407897Z",
     "shell.execute_reply.started": "2022-04-06T13:34:21.530000Z"
    },
    "papermill": {
     "duration": 0.049969,
     "end_time": "2022-04-06T13:46:18.408142",
     "exception": false,
     "start_time": "2022-04-06T13:46:18.358173",
     "status": "completed"
    },
    "tags": []
   },
   "outputs": [
    {
     "data": {
      "text/html": [
       "<div>\n",
       "<style scoped>\n",
       "    .dataframe tbody tr th:only-of-type {\n",
       "        vertical-align: middle;\n",
       "    }\n",
       "\n",
       "    .dataframe tbody tr th {\n",
       "        vertical-align: top;\n",
       "    }\n",
       "\n",
       "    .dataframe thead th {\n",
       "        text-align: right;\n",
       "    }\n",
       "</style>\n",
       "<table border=\"1\" class=\"dataframe\">\n",
       "  <thead>\n",
       "    <tr style=\"text-align: right;\">\n",
       "      <th></th>\n",
       "      <th>gender</th>\n",
       "      <th>race/ethnicity</th>\n",
       "      <th>parental level of education</th>\n",
       "      <th>lunch</th>\n",
       "      <th>test preparation course</th>\n",
       "      <th>math score</th>\n",
       "      <th>reading score</th>\n",
       "      <th>writing score</th>\n",
       "    </tr>\n",
       "  </thead>\n",
       "  <tbody>\n",
       "    <tr>\n",
       "      <th>0</th>\n",
       "      <td>female</td>\n",
       "      <td>group B</td>\n",
       "      <td>bachelor's degree</td>\n",
       "      <td>standard</td>\n",
       "      <td>none</td>\n",
       "      <td>72</td>\n",
       "      <td>72</td>\n",
       "      <td>74</td>\n",
       "    </tr>\n",
       "    <tr>\n",
       "      <th>1</th>\n",
       "      <td>female</td>\n",
       "      <td>group C</td>\n",
       "      <td>some college</td>\n",
       "      <td>standard</td>\n",
       "      <td>completed</td>\n",
       "      <td>69</td>\n",
       "      <td>90</td>\n",
       "      <td>88</td>\n",
       "    </tr>\n",
       "    <tr>\n",
       "      <th>2</th>\n",
       "      <td>female</td>\n",
       "      <td>group B</td>\n",
       "      <td>master's degree</td>\n",
       "      <td>standard</td>\n",
       "      <td>none</td>\n",
       "      <td>90</td>\n",
       "      <td>95</td>\n",
       "      <td>93</td>\n",
       "    </tr>\n",
       "    <tr>\n",
       "      <th>3</th>\n",
       "      <td>male</td>\n",
       "      <td>group A</td>\n",
       "      <td>associate's degree</td>\n",
       "      <td>free/reduced</td>\n",
       "      <td>none</td>\n",
       "      <td>47</td>\n",
       "      <td>57</td>\n",
       "      <td>44</td>\n",
       "    </tr>\n",
       "    <tr>\n",
       "      <th>4</th>\n",
       "      <td>male</td>\n",
       "      <td>group C</td>\n",
       "      <td>some college</td>\n",
       "      <td>standard</td>\n",
       "      <td>none</td>\n",
       "      <td>76</td>\n",
       "      <td>78</td>\n",
       "      <td>75</td>\n",
       "    </tr>\n",
       "  </tbody>\n",
       "</table>\n",
       "</div>"
      ],
      "text/plain": [
       "   gender race/ethnicity parental level of education         lunch  \\\n",
       "0  female        group B           bachelor's degree      standard   \n",
       "1  female        group C                some college      standard   \n",
       "2  female        group B             master's degree      standard   \n",
       "3    male        group A          associate's degree  free/reduced   \n",
       "4    male        group C                some college      standard   \n",
       "\n",
       "  test preparation course  math score  reading score  writing score  \n",
       "0                    none          72             72             74  \n",
       "1               completed          69             90             88  \n",
       "2                    none          90             95             93  \n",
       "3                    none          47             57             44  \n",
       "4                    none          76             78             75  "
      ]
     },
     "execution_count": 8,
     "metadata": {},
     "output_type": "execute_result"
    }
   ],
   "source": [
    "# Taking a look at the data\n",
    "df.head()"
   ]
  },
  {
   "cell_type": "code",
   "execution_count": 9,
   "id": "ce66d4d4",
   "metadata": {
    "execution": {
     "iopub.execute_input": "2022-04-06T13:46:18.471523Z",
     "iopub.status.busy": "2022-04-06T13:46:18.470840Z",
     "iopub.status.idle": "2022-04-06T13:46:19.341494Z",
     "shell.execute_reply": "2022-04-06T13:46:19.340833Z",
     "shell.execute_reply.started": "2022-04-06T13:34:21.628613Z"
    },
    "papermill": {
     "duration": 0.902102,
     "end_time": "2022-04-06T13:46:19.341667",
     "exception": false,
     "start_time": "2022-04-06T13:46:18.439565",
     "status": "completed"
    },
    "tags": []
   },
   "outputs": [
    {
     "data": {
      "image/png": "[encoded data removed]",
      "text/plain": [
       "<Figure size 1440x1080 with 4 Axes>"
      ]
     },
     "metadata": {},
     "output_type": "display_data"
    }
   ],
   "source": [
    "# Plotting a histogram of the numerical variables \n",
    "sns.set()\n",
    "df.hist(bins=20, figsize=(20,15));"
   ]
  },
  {
   "cell_type": "code",
   "execution_count": 10,
   "id": "12dfcfa3",
   "metadata": {
    "execution": {
     "iopub.execute_input": "2022-04-06T13:46:19.419978Z",
     "iopub.status.busy": "2022-04-06T13:46:19.419259Z",
     "iopub.status.idle": "2022-04-06T13:46:19.991960Z",
     "shell.execute_reply": "2022-04-06T13:46:19.991258Z",
     "shell.execute_reply.started": "2022-04-06T13:34:22.628052Z"
    },
    "papermill": {
     "duration": 0.620684,
     "end_time": "2022-04-06T13:46:19.992130",
     "exception": false,
     "start_time": "2022-04-06T13:46:19.371446",
     "status": "completed"
    },
    "tags": []
   },
   "outputs": [
    {
     "data": {
      "image/png": "[encoded data removed]",
      "text/plain": [
       "<Figure size 432x288 with 1 Axes>"
      ]
     },
     "metadata": {},
     "output_type": "display_data"
    },
    {
     "data": {
      "image/png": "[encoded data removed]",
      "text/plain": [
       "<Figure size 432x288 with 1 Axes>"
      ]
     },
     "metadata": {},
     "output_type": "display_data"
    },
    {
     "data": {
      "image/png": "[encoded data removed]",
      "text/plain": [
       "<Figure size 432x288 with 1 Axes>"
      ]
     },
     "metadata": {},
     "output_type": "display_data"
    }
   ],
   "source": [
    "# Checking the boxplot looking for outliers\n",
    "sns.boxplot(  x= df['math score']   , data=df,  orient='h' , )\n",
    "plt.show()\n",
    "sns.boxplot(  x= df['reading score'], data=df,  orient='h' , )\n",
    "plt.show()\n",
    "sns.boxplot(  x= df['writing score'], data=df,  orient='h' , )\n",
    "plt.show()"
   ]
  },
  {
   "cell_type": "markdown",
   "id": "23b3f63f",
   "metadata": {
    "papermill": {
     "duration": 0.034916,
     "end_time": "2022-04-06T13:46:20.060406",
     "exception": false,
     "start_time": "2022-04-06T13:46:20.025490",
     "status": "completed"
    },
    "tags": []
   },
   "source": [
    "We notice that exist some outliers but analyzing the dataset it's possible reach the conclusion we haven't any reason to discard these outliers."
   ]
  },
  {
   "cell_type": "markdown",
   "id": "c6d25409",
   "metadata": {
    "papermill": {
     "duration": 0.034625,
     "end_time": "2022-04-06T13:46:20.129806",
     "exception": false,
     "start_time": "2022-04-06T13:46:20.095181",
     "status": "completed"
    },
    "tags": []
   },
   "source": [
    "**Gender Distribution**"
   ]
  },
  {
   "cell_type": "code",
   "execution_count": 11,
   "id": "7ae39df4",
   "metadata": {
    "execution": {
     "iopub.execute_input": "2022-04-06T13:46:20.201372Z",
     "iopub.status.busy": "2022-04-06T13:46:20.200658Z",
     "iopub.status.idle": "2022-04-06T13:46:20.302331Z",
     "shell.execute_reply": "2022-04-06T13:46:20.304106Z",
     "shell.execute_reply.started": "2022-04-06T13:34:23.211957Z"
    },
    "papermill": {
     "duration": 0.140689,
     "end_time": "2022-04-06T13:46:20.304832",
     "exception": false,
     "start_time": "2022-04-06T13:46:20.164143",
     "status": "completed"
    },
    "tags": []
   },
   "outputs": [
    {
     "data": {
      "image/png": "[encoded data removed]",
      "text/plain": [
       "<Figure size 432x288 with 1 Axes>"
      ]
     },
     "metadata": {},
     "output_type": "display_data"
    }
   ],
   "source": [
    "colors = sns.color_palette('Blues')\n",
    "_ = plt.pie(df.gender.value_counts(),labels=df.gender.value_counts().index,autopct='%1.2f%%',colors=colors)"
   ]
  },
  {
   "cell_type": "markdown",
   "id": "8e9063de",
   "metadata": {
    "papermill": {
     "duration": 0.044835,
     "end_time": "2022-04-06T13:46:20.416831",
     "exception": false,
     "start_time": "2022-04-06T13:46:20.371996",
     "status": "completed"
    },
    "tags": []
   },
   "source": [
    "**Race Distribution**"
   ]
  },
  {
   "cell_type": "code",
   "execution_count": 12,
   "id": "502fcc34",
   "metadata": {
    "execution": {
     "iopub.execute_input": "2022-04-06T13:46:20.505326Z",
     "iopub.status.busy": "2022-04-06T13:46:20.504623Z",
     "iopub.status.idle": "2022-04-06T13:46:20.611443Z",
     "shell.execute_reply": "2022-04-06T13:46:20.612355Z",
     "shell.execute_reply.started": "2022-04-06T13:34:23.312717Z"
    },
    "papermill": {
     "duration": 0.162936,
     "end_time": "2022-04-06T13:46:20.612692",
     "exception": false,
     "start_time": "2022-04-06T13:46:20.449756",
     "status": "completed"
    },
    "tags": []
   },
   "outputs": [
    {
     "data": {
      "image/png": "[encoded data removed]",
      "text/plain": [
       "<Figure size 432x288 with 1 Axes>"
      ]
     },
     "metadata": {},
     "output_type": "display_data"
    }
   ],
   "source": [
    "colors = sns.color_palette('Blues')\n",
    "_ = plt.pie(df['race/ethnicity'].value_counts(),labels=df['race/ethnicity'].value_counts().index,autopct='%1.2f%%',colors=colors)"
   ]
  },
  {
   "cell_type": "markdown",
   "id": "bfabb2f4",
   "metadata": {
    "papermill": {
     "duration": 0.03692,
     "end_time": "2022-04-06T13:46:20.716094",
     "exception": false,
     "start_time": "2022-04-06T13:46:20.679174",
     "status": "completed"
    },
    "tags": []
   },
   "source": [
    "**Parental level of education**"
   ]
  },
  {
   "cell_type": "code",
   "execution_count": 13,
   "id": "b21417de",
   "metadata": {
    "execution": {
     "iopub.execute_input": "2022-04-06T13:46:20.797338Z",
     "iopub.status.busy": "2022-04-06T13:46:20.790463Z",
     "iopub.status.idle": "2022-04-06T13:46:20.946782Z",
     "shell.execute_reply": "2022-04-06T13:46:20.945767Z",
     "shell.execute_reply.started": "2022-04-06T13:34:23.474196Z"
    },
    "papermill": {
     "duration": 0.197109,
     "end_time": "2022-04-06T13:46:20.947097",
     "exception": false,
     "start_time": "2022-04-06T13:46:20.749988",
     "status": "completed"
    },
    "tags": []
   },
   "outputs": [
    {
     "data": {
      "image/png": "[encoded data removed]",
      "text/plain": [
       "<Figure size 432x288 with 1 Axes>"
      ]
     },
     "metadata": {},
     "output_type": "display_data"
    }
   ],
   "source": [
    "colors = sns.color_palette('Blues')\n",
    "_ = plt.pie(df['parental level of education'].value_counts(),labels=df['parental level of education'].value_counts().index,autopct='%1.2f%%',colors=colors)"
   ]
  },
  {
   "cell_type": "markdown",
   "id": "23497a4f",
   "metadata": {
    "papermill": {
     "duration": 0.034858,
     "end_time": "2022-04-06T13:46:21.042350",
     "exception": false,
     "start_time": "2022-04-06T13:46:21.007492",
     "status": "completed"
    },
    "tags": []
   },
   "source": [
    "**Test preparation course**"
   ]
  },
  {
   "cell_type": "code",
   "execution_count": 14,
   "id": "f089c71e",
   "metadata": {
    "execution": {
     "iopub.execute_input": "2022-04-06T13:46:21.117614Z",
     "iopub.status.busy": "2022-04-06T13:46:21.116877Z",
     "iopub.status.idle": "2022-04-06T13:46:21.455788Z",
     "shell.execute_reply": "2022-04-06T13:46:21.455132Z",
     "shell.execute_reply.started": "2022-04-06T13:34:23.648104Z"
    },
    "papermill": {
     "duration": 0.377463,
     "end_time": "2022-04-06T13:46:21.455931",
     "exception": false,
     "start_time": "2022-04-06T13:46:21.078468",
     "status": "completed"
    },
    "tags": []
   },
   "outputs": [
    {
     "name": "stdout",
     "output_type": "stream",
     "text": [
      "none         642\n",
      "completed    358\n",
      "Name: test preparation course, dtype: int64\n"
     ]
    },
    {
     "data": {
      "image/png": "[encoded data removed]",
      "text/plain": [
       "<Figure size 432x288 with 1 Axes>"
      ]
     },
     "metadata": {},
     "output_type": "display_data"
    }
   ],
   "source": [
    "print(df['test preparation course'].value_counts())\n",
    "_ = sns.barplot(x=df['test preparation course'].index,y=df['test preparation course'],data=df,color='blue')"
   ]
  },
  {
   "cell_type": "markdown",
   "id": "793ac670",
   "metadata": {
    "papermill": {
     "duration": 0.035714,
     "end_time": "2022-04-06T13:46:21.527307",
     "exception": false,
     "start_time": "2022-04-06T13:46:21.491593",
     "status": "completed"
    },
    "tags": []
   },
   "source": [
    "**Lunch**"
   ]
  },
  {
   "cell_type": "code",
   "execution_count": 15,
   "id": "e5482690",
   "metadata": {
    "execution": {
     "iopub.execute_input": "2022-04-06T13:46:21.604140Z",
     "iopub.status.busy": "2022-04-06T13:46:21.603395Z",
     "iopub.status.idle": "2022-04-06T13:46:21.707085Z",
     "shell.execute_reply": "2022-04-06T13:46:21.708057Z",
     "shell.execute_reply.started": "2022-04-06T13:34:23.987686Z"
    },
    "papermill": {
     "duration": 0.144804,
     "end_time": "2022-04-06T13:46:21.708414",
     "exception": false,
     "start_time": "2022-04-06T13:46:21.563610",
     "status": "completed"
    },
    "tags": []
   },
   "outputs": [
    {
     "data": {
      "image/png": "[encoded data removed]",
      "text/plain": [
       "<Figure size 432x288 with 1 Axes>"
      ]
     },
     "metadata": {},
     "output_type": "display_data"
    }
   ],
   "source": [
    "colors = sns.color_palette('Blues')\n",
    "_ = plt.pie(df.lunch.value_counts(),labels=df.lunch.value_counts().index,autopct='%1.2f%%',colors=colors)"
   ]
  },
  {
   "cell_type": "markdown",
   "id": "70da8c63",
   "metadata": {
    "papermill": {
     "duration": 0.044331,
     "end_time": "2022-04-06T13:46:21.826260",
     "exception": false,
     "start_time": "2022-04-06T13:46:21.781929",
     "status": "completed"
    },
    "tags": []
   },
   "source": [
    "**Comparison between the test preparation course and the average result**"
   ]
  },
  {
   "cell_type": "code",
   "execution_count": 16,
   "id": "18030cd2",
   "metadata": {
    "execution": {
     "iopub.execute_input": "2022-04-06T13:46:21.910606Z",
     "iopub.status.busy": "2022-04-06T13:46:21.909879Z",
     "iopub.status.idle": "2022-04-06T13:46:21.921888Z",
     "shell.execute_reply": "2022-04-06T13:46:21.922682Z",
     "shell.execute_reply.started": "2022-04-06T13:34:24.086439Z"
    },
    "papermill": {
     "duration": 0.056512,
     "end_time": "2022-04-06T13:46:21.922906",
     "exception": false,
     "start_time": "2022-04-06T13:46:21.866394",
     "status": "completed"
    },
    "tags": []
   },
   "outputs": [
    {
     "data": {
      "text/html": [
       "<div>\n",
       "<style scoped>\n",
       "    .dataframe tbody tr th:only-of-type {\n",
       "        vertical-align: middle;\n",
       "    }\n",
       "\n",
       "    .dataframe tbody tr th {\n",
       "        vertical-align: top;\n",
       "    }\n",
       "\n",
       "    .dataframe thead th {\n",
       "        text-align: right;\n",
       "    }\n",
       "</style>\n",
       "<table border=\"1\" class=\"dataframe\">\n",
       "  <thead>\n",
       "    <tr style=\"text-align: right;\">\n",
       "      <th></th>\n",
       "      <th>gender</th>\n",
       "      <th>race/ethnicity</th>\n",
       "      <th>parental level of education</th>\n",
       "      <th>lunch</th>\n",
       "      <th>test preparation course</th>\n",
       "      <th>math score</th>\n",
       "      <th>reading score</th>\n",
       "      <th>writing score</th>\n",
       "      <th>average score</th>\n",
       "    </tr>\n",
       "  </thead>\n",
       "  <tbody>\n",
       "    <tr>\n",
       "      <th>0</th>\n",
       "      <td>female</td>\n",
       "      <td>group B</td>\n",
       "      <td>bachelor's degree</td>\n",
       "      <td>standard</td>\n",
       "      <td>none</td>\n",
       "      <td>72</td>\n",
       "      <td>72</td>\n",
       "      <td>74</td>\n",
       "      <td>72.666667</td>\n",
       "    </tr>\n",
       "    <tr>\n",
       "      <th>1</th>\n",
       "      <td>female</td>\n",
       "      <td>group C</td>\n",
       "      <td>some college</td>\n",
       "      <td>standard</td>\n",
       "      <td>completed</td>\n",
       "      <td>69</td>\n",
       "      <td>90</td>\n",
       "      <td>88</td>\n",
       "      <td>82.333333</td>\n",
       "    </tr>\n",
       "    <tr>\n",
       "      <th>2</th>\n",
       "      <td>female</td>\n",
       "      <td>group B</td>\n",
       "      <td>master's degree</td>\n",
       "      <td>standard</td>\n",
       "      <td>none</td>\n",
       "      <td>90</td>\n",
       "      <td>95</td>\n",
       "      <td>93</td>\n",
       "      <td>92.666667</td>\n",
       "    </tr>\n",
       "    <tr>\n",
       "      <th>3</th>\n",
       "      <td>male</td>\n",
       "      <td>group A</td>\n",
       "      <td>associate's degree</td>\n",
       "      <td>free/reduced</td>\n",
       "      <td>none</td>\n",
       "      <td>47</td>\n",
       "      <td>57</td>\n",
       "      <td>44</td>\n",
       "      <td>49.333333</td>\n",
       "    </tr>\n",
       "    <tr>\n",
       "      <th>4</th>\n",
       "      <td>male</td>\n",
       "      <td>group C</td>\n",
       "      <td>some college</td>\n",
       "      <td>standard</td>\n",
       "      <td>none</td>\n",
       "      <td>76</td>\n",
       "      <td>78</td>\n",
       "      <td>75</td>\n",
       "      <td>76.333333</td>\n",
       "    </tr>\n",
       "  </tbody>\n",
       "</table>\n",
       "</div>"
      ],
      "text/plain": [
       "   gender race/ethnicity parental level of education         lunch  \\\n",
       "0  female        group B           bachelor's degree      standard   \n",
       "1  female        group C                some college      standard   \n",
       "2  female        group B             master's degree      standard   \n",
       "3    male        group A          associate's degree  free/reduced   \n",
       "4    male        group C                some college      standard   \n",
       "\n",
       "  test preparation course  math score  reading score  writing score  \\\n",
       "0                    none          72             72             74   \n",
       "1               completed          69             90             88   \n",
       "2                    none          90             95             93   \n",
       "3                    none          47             57             44   \n",
       "4                    none          76             78             75   \n",
       "\n",
       "   average score  \n",
       "0      72.666667  \n",
       "1      82.333333  \n",
       "2      92.666667  \n",
       "3      49.333333  \n",
       "4      76.333333  "
      ]
     },
     "execution_count": 16,
     "metadata": {},
     "output_type": "execute_result"
    }
   ],
   "source": [
    "df['average score'] = (df['math score'] + df['reading score'] + df['writing score'])/3\n",
    "df.head()"
   ]
  },
  {
   "cell_type": "code",
   "execution_count": 17,
   "id": "910b5226",
   "metadata": {
    "execution": {
     "iopub.execute_input": "2022-04-06T13:46:22.006612Z",
     "iopub.status.busy": "2022-04-06T13:46:22.005814Z",
     "iopub.status.idle": "2022-04-06T13:46:22.019255Z",
     "shell.execute_reply": "2022-04-06T13:46:22.020336Z",
     "shell.execute_reply.started": "2022-04-06T13:34:24.114976Z"
    },
    "papermill": {
     "duration": 0.058198,
     "end_time": "2022-04-06T13:46:22.020702",
     "exception": false,
     "start_time": "2022-04-06T13:46:21.962504",
     "status": "completed"
    },
    "tags": []
   },
   "outputs": [
    {
     "name": "stdout",
     "output_type": "stream",
     "text": [
      "Difference between Average Score of Students that had test preparation course and the students that haven't it:  0.0\n"
     ]
    }
   ],
   "source": [
    "# The average score to the person that haven't any test preparation course\n",
    "average_none = df[df['test preparation course'] == 'none']['average score']\n",
    "\n",
    "# The average score to the person that have completed the test preparation course\n",
    "average_completed = df[df['test preparation course'] == 'none']['average score']\n",
    "\n",
    "averages = pd.DataFrame({'average_none':[average_none.mean()],'average_completed':[average_completed.mean()]})\n",
    "\n",
    "# Transforming in percentual values\n",
    "x = averages['average_none'] / (averages['average_none'] + averages['average_completed']) \n",
    "y = averages['average_completed'] / (averages['average_none'] + averages['average_completed']) \n",
    "averages['average_none']      = x[0]\n",
    "averages['average_completed'] = y[0]\n",
    "\n",
    "difference = (x[0]-y[0])\n",
    "print(\"Difference between Average Score of Students that had test preparation course and the students that haven't it: \",difference)\n"
   ]
  },
  {
   "cell_type": "markdown",
   "id": "f3293c81",
   "metadata": {
    "papermill": {
     "duration": 0.042187,
     "end_time": "2022-04-06T13:46:22.103303",
     "exception": false,
     "start_time": "2022-04-06T13:46:22.061116",
     "status": "completed"
    },
    "tags": []
   },
   "source": [
    "We see that wasn't any difference at the Average Score, now let's take a look at the histogram plot aiming check the Average Score distribution for both cases (test preparation course == none | test preparation course == completed)"
   ]
  },
  {
   "cell_type": "code",
   "execution_count": 18,
   "id": "3eed1768",
   "metadata": {
    "execution": {
     "iopub.execute_input": "2022-04-06T13:46:22.337518Z",
     "iopub.status.busy": "2022-04-06T13:46:22.336432Z",
     "iopub.status.idle": "2022-04-06T13:46:22.863997Z",
     "shell.execute_reply": "2022-04-06T13:46:22.864540Z",
     "shell.execute_reply.started": "2022-04-06T13:40:36.616637Z"
    },
    "papermill": {
     "duration": 0.722931,
     "end_time": "2022-04-06T13:46:22.864753",
     "exception": false,
     "start_time": "2022-04-06T13:46:22.141822",
     "status": "completed"
    },
    "tags": []
   },
   "outputs": [
    {
     "data": {
      "image/png": "[encoded data removed]",
      "text/plain": [
       "<Figure size 432x288 with 1 Axes>"
      ]
     },
     "metadata": {},
     "output_type": "display_data"
    },
    {
     "data": {
      "image/png": "[encoded data removed]",
      "text/plain": [
       "<Figure size 432x288 with 1 Axes>"
      ]
     },
     "metadata": {},
     "output_type": "display_data"
    }
   ],
   "source": [
    "_ = plt.hist(average_none,bins=30,label='average_none',density=True)\n",
    "plt.title('Average Score - None Test Preparation')\n",
    "plt.show()\n",
    "_ = plt.hist(average_completed,bins=30,label='average_completed',density=True)\n",
    "plt.title('Average Score - Completed Test Preparation')\n",
    "plt.show()"
   ]
  }
 ],
 "metadata": {
  "kernelspec": {
   "display_name": "Python 3",
   "language": "python",
   "name": "python3"
  },
  "language_info": {
   "codemirror_mode": {
    "name": "ipython",
    "version": 3
   },
   "file_extension": ".py",
   "mimetype": "text/x-python",
   "name": "python",
   "nbconvert_exporter": "python",
   "pygments_lexer": "ipython3",
   "version": "3.7.12"
  },
  "papermill": {
   "default_parameters": {},
   "duration": 17.45906,
   "end_time": "2022-04-06T13:46:23.819647",
   "environment_variables": {},
   "exception": null,
   "input_path": "__notebook__.ipynb",
   "output_path": "__notebook__.ipynb",
   "parameters": {},
   "start_time": "2022-04-06T13:46:06.360587",
   "version": "2.3.3"
  }
 },
 "nbformat": 4,
 "nbformat_minor": 5
}
