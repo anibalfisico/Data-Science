{
 "cells": [
  {
   "cell_type": "code",
   "execution_count": 1,
   "id": "5ade8e47",
   "metadata": {
    "_cell_guid": "b1076dfc-b9ad-4769-8c92-a6c4dae69d19",
    "_uuid": "8f2839f25d086af736a60e9eeb907d3b93b6e0e5",
    "execution": {
     "iopub.execute_input": "2022-03-16T17:03:18.094786Z",
     "iopub.status.busy": "2022-03-16T17:03:18.085233Z",
     "iopub.status.idle": "2022-03-16T17:03:19.695811Z",
     "shell.execute_reply": "2022-03-16T17:03:19.697146Z",
     "shell.execute_reply.started": "2022-03-16T17:02:19.497849Z"
    },
    "papermill": {
     "duration": 1.636253,
     "end_time": "2022-03-16T17:03:19.697563",
     "exception": false,
     "start_time": "2022-03-16T17:03:18.061310",
     "status": "completed"
    },
    "tags": []
   },
   "outputs": [
    {
     "name": "stdout",
     "output_type": "stream",
     "text": [
      "/kaggle/input/80-cereals/cereal.csv\n"
     ]
    }
   ],
   "source": [
    "# This Python 3 environment comes with many helpful analytics libraries installed\n",
    "# It is defined by the kaggle/python Docker image: https://github.com/kaggle/docker-python\n",
    "# For example, here's several helpful packages to load\n",
    "\n",
    "import numpy as np # linear algebra\n",
    "import pandas as pd # data processing, CSV file I/O (e.g. pd.read_csv)\n",
    "import seaborn as sns\n",
    "import matplotlib.pyplot as plt\n",
    "from sklearn import datasets, linear_model\n",
    "from sklearn.metrics import mean_squared_error, r2_score\n",
    "\n",
    "# Input data files are available in the read-only \"../input/\" directory\n",
    "# For example, running this (by clicking run or pressing Shift+Enter) will list all files under the input directory\n",
    "\n",
    "import os\n",
    "for dirname, _, filenames in os.walk('/kaggle/input'):\n",
    "    for filename in filenames:\n",
    "        print(os.path.join(dirname, filename))\n",
    "\n",
    "# You can write up to 20GB to the current directory (/kaggle/working/) that gets preserved as output when you create a version using \"Save & Run All\" \n",
    "# You can also write temporary files to /kaggle/temp/, but they won't be saved outside of the current session"
   ]
  },
  {
   "cell_type": "markdown",
   "id": "b9343f88",
   "metadata": {
    "papermill": {
     "duration": 0.018409,
     "end_time": "2022-03-16T17:03:19.739506",
     "exception": false,
     "start_time": "2022-03-16T17:03:19.721097",
     "status": "completed"
    },
    "tags": []
   },
   "source": [
    "# Objetivo: Estimar a quantidade de calorias de um cereal com base em seu nível de açúcar"
   ]
  },
  {
   "cell_type": "markdown",
   "id": "f771b0e4",
   "metadata": {
    "papermill": {
     "duration": 0.017857,
     "end_time": "2022-03-16T17:03:19.776258",
     "exception": false,
     "start_time": "2022-03-16T17:03:19.758401",
     "status": "completed"
    },
    "tags": []
   },
   "source": [
    "**Gráfico de dispersão dos dados para classificações vs nível de açúcar**"
   ]
  },
  {
   "cell_type": "code",
   "execution_count": 2,
   "id": "08884436",
   "metadata": {
    "execution": {
     "iopub.execute_input": "2022-03-16T17:03:19.823825Z",
     "iopub.status.busy": "2022-03-16T17:03:19.822277Z",
     "iopub.status.idle": "2022-03-16T17:03:19.866306Z",
     "shell.execute_reply": "2022-03-16T17:03:19.867124Z",
     "shell.execute_reply.started": "2022-03-16T17:02:19.508826Z"
    },
    "papermill": {
     "duration": 0.072271,
     "end_time": "2022-03-16T17:03:19.867361",
     "exception": false,
     "start_time": "2022-03-16T17:03:19.795090",
     "status": "completed"
    },
    "tags": []
   },
   "outputs": [
    {
     "data": {
      "text/html": [
       "<div>\n",
       "<style scoped>\n",
       "    .dataframe tbody tr th:only-of-type {\n",
       "        vertical-align: middle;\n",
       "    }\n",
       "\n",
       "    .dataframe tbody tr th {\n",
       "        vertical-align: top;\n",
       "    }\n",
       "\n",
       "    .dataframe thead th {\n",
       "        text-align: right;\n",
       "    }\n",
       "</style>\n",
       "<table border=\"1\" class=\"dataframe\">\n",
       "  <thead>\n",
       "    <tr style=\"text-align: right;\">\n",
       "      <th></th>\n",
       "      <th>name</th>\n",
       "      <th>mfr</th>\n",
       "      <th>type</th>\n",
       "      <th>calories</th>\n",
       "      <th>protein</th>\n",
       "      <th>fat</th>\n",
       "      <th>sodium</th>\n",
       "      <th>fiber</th>\n",
       "      <th>carbo</th>\n",
       "      <th>sugars</th>\n",
       "      <th>potass</th>\n",
       "      <th>vitamins</th>\n",
       "      <th>shelf</th>\n",
       "      <th>weight</th>\n",
       "      <th>cups</th>\n",
       "      <th>rating</th>\n",
       "    </tr>\n",
       "  </thead>\n",
       "  <tbody>\n",
       "    <tr>\n",
       "      <th>0</th>\n",
       "      <td>100% Bran</td>\n",
       "      <td>N</td>\n",
       "      <td>C</td>\n",
       "      <td>70</td>\n",
       "      <td>4</td>\n",
       "      <td>1</td>\n",
       "      <td>130</td>\n",
       "      <td>10.0</td>\n",
       "      <td>5.0</td>\n",
       "      <td>6</td>\n",
       "      <td>280</td>\n",
       "      <td>25</td>\n",
       "      <td>3</td>\n",
       "      <td>1.0</td>\n",
       "      <td>0.33</td>\n",
       "      <td>68.402973</td>\n",
       "    </tr>\n",
       "    <tr>\n",
       "      <th>1</th>\n",
       "      <td>100% Natural Bran</td>\n",
       "      <td>Q</td>\n",
       "      <td>C</td>\n",
       "      <td>120</td>\n",
       "      <td>3</td>\n",
       "      <td>5</td>\n",
       "      <td>15</td>\n",
       "      <td>2.0</td>\n",
       "      <td>8.0</td>\n",
       "      <td>8</td>\n",
       "      <td>135</td>\n",
       "      <td>0</td>\n",
       "      <td>3</td>\n",
       "      <td>1.0</td>\n",
       "      <td>1.00</td>\n",
       "      <td>33.983679</td>\n",
       "    </tr>\n",
       "    <tr>\n",
       "      <th>2</th>\n",
       "      <td>All-Bran</td>\n",
       "      <td>K</td>\n",
       "      <td>C</td>\n",
       "      <td>70</td>\n",
       "      <td>4</td>\n",
       "      <td>1</td>\n",
       "      <td>260</td>\n",
       "      <td>9.0</td>\n",
       "      <td>7.0</td>\n",
       "      <td>5</td>\n",
       "      <td>320</td>\n",
       "      <td>25</td>\n",
       "      <td>3</td>\n",
       "      <td>1.0</td>\n",
       "      <td>0.33</td>\n",
       "      <td>59.425505</td>\n",
       "    </tr>\n",
       "    <tr>\n",
       "      <th>3</th>\n",
       "      <td>All-Bran with Extra Fiber</td>\n",
       "      <td>K</td>\n",
       "      <td>C</td>\n",
       "      <td>50</td>\n",
       "      <td>4</td>\n",
       "      <td>0</td>\n",
       "      <td>140</td>\n",
       "      <td>14.0</td>\n",
       "      <td>8.0</td>\n",
       "      <td>0</td>\n",
       "      <td>330</td>\n",
       "      <td>25</td>\n",
       "      <td>3</td>\n",
       "      <td>1.0</td>\n",
       "      <td>0.50</td>\n",
       "      <td>93.704912</td>\n",
       "    </tr>\n",
       "    <tr>\n",
       "      <th>4</th>\n",
       "      <td>Almond Delight</td>\n",
       "      <td>R</td>\n",
       "      <td>C</td>\n",
       "      <td>110</td>\n",
       "      <td>2</td>\n",
       "      <td>2</td>\n",
       "      <td>200</td>\n",
       "      <td>1.0</td>\n",
       "      <td>14.0</td>\n",
       "      <td>8</td>\n",
       "      <td>-1</td>\n",
       "      <td>25</td>\n",
       "      <td>3</td>\n",
       "      <td>1.0</td>\n",
       "      <td>0.75</td>\n",
       "      <td>34.384843</td>\n",
       "    </tr>\n",
       "  </tbody>\n",
       "</table>\n",
       "</div>"
      ],
      "text/plain": [
       "                        name mfr type  calories  protein  fat  sodium  fiber  \\\n",
       "0                  100% Bran   N    C        70        4    1     130   10.0   \n",
       "1          100% Natural Bran   Q    C       120        3    5      15    2.0   \n",
       "2                   All-Bran   K    C        70        4    1     260    9.0   \n",
       "3  All-Bran with Extra Fiber   K    C        50        4    0     140   14.0   \n",
       "4             Almond Delight   R    C       110        2    2     200    1.0   \n",
       "\n",
       "   carbo  sugars  potass  vitamins  shelf  weight  cups     rating  \n",
       "0    5.0       6     280        25      3     1.0  0.33  68.402973  \n",
       "1    8.0       8     135         0      3     1.0  1.00  33.983679  \n",
       "2    7.0       5     320        25      3     1.0  0.33  59.425505  \n",
       "3    8.0       0     330        25      3     1.0  0.50  93.704912  \n",
       "4   14.0       8      -1        25      3     1.0  0.75  34.384843  "
      ]
     },
     "execution_count": 2,
     "metadata": {},
     "output_type": "execute_result"
    }
   ],
   "source": [
    "df = pd.read_csv('/kaggle/input/80-cereals/cereal.csv')\n",
    "df.head()"
   ]
  },
  {
   "cell_type": "markdown",
   "id": "2da42830",
   "metadata": {
    "papermill": {
     "duration": 0.01934,
     "end_time": "2022-03-16T17:03:19.912354",
     "exception": false,
     "start_time": "2022-03-16T17:03:19.893014",
     "status": "completed"
    },
    "tags": []
   },
   "source": [
    "# Cleaning Data"
   ]
  },
  {
   "cell_type": "code",
   "execution_count": 3,
   "id": "06bac59e",
   "metadata": {
    "execution": {
     "iopub.execute_input": "2022-03-16T17:03:19.961716Z",
     "iopub.status.busy": "2022-03-16T17:03:19.961013Z",
     "iopub.status.idle": "2022-03-16T17:03:19.972573Z",
     "shell.execute_reply": "2022-03-16T17:03:19.973255Z",
     "shell.execute_reply.started": "2022-03-16T17:02:19.543271Z"
    },
    "papermill": {
     "duration": 0.036444,
     "end_time": "2022-03-16T17:03:19.973452",
     "exception": false,
     "start_time": "2022-03-16T17:03:19.937008",
     "status": "completed"
    },
    "tags": []
   },
   "outputs": [],
   "source": [
    "df[df['sugars'] < 0] = 0"
   ]
  },
  {
   "cell_type": "code",
   "execution_count": 4,
   "id": "00cdbc50",
   "metadata": {
    "execution": {
     "iopub.execute_input": "2022-03-16T17:03:20.016579Z",
     "iopub.status.busy": "2022-03-16T17:03:20.015759Z",
     "iopub.status.idle": "2022-03-16T17:03:20.414845Z",
     "shell.execute_reply": "2022-03-16T17:03:20.413708Z",
     "shell.execute_reply.started": "2022-03-16T17:02:19.552153Z"
    },
    "papermill": {
     "duration": 0.422564,
     "end_time": "2022-03-16T17:03:20.415079",
     "exception": false,
     "start_time": "2022-03-16T17:03:19.992515",
     "status": "completed"
    },
    "tags": []
   },
   "outputs": [
    {
     "data": {
      "text/plain": [
       "(0.0, 100.0)"
      ]
     },
     "execution_count": 4,
     "metadata": {},
     "output_type": "execute_result"
    },
    {
     "data": {
      "image/png": "[encoded data removed]",
      "text/plain": [
       "<Figure size 432x288 with 1 Axes>"
      ]
     },
     "metadata": {
      "needs_background": "light"
     },
     "output_type": "display_data"
    }
   ],
   "source": [
    "sns.regplot(data=df, x=\"sugars\", y=\"rating\")\n",
    "plt.xlim(0,16)\n",
    "plt.ylim(0,100)"
   ]
  },
  {
   "cell_type": "code",
   "execution_count": 5,
   "id": "5b97e5ef",
   "metadata": {
    "execution": {
     "iopub.execute_input": "2022-03-16T17:03:20.467464Z",
     "iopub.status.busy": "2022-03-16T17:03:20.466614Z",
     "iopub.status.idle": "2022-03-16T17:03:20.469872Z",
     "shell.execute_reply": "2022-03-16T17:03:20.470338Z",
     "shell.execute_reply.started": "2022-03-16T17:02:19.868071Z"
    },
    "papermill": {
     "duration": 0.029875,
     "end_time": "2022-03-16T17:03:20.470529",
     "exception": false,
     "start_time": "2022-03-16T17:03:20.440654",
     "status": "completed"
    },
    "tags": []
   },
   "outputs": [
    {
     "data": {
      "text/plain": [
       "(77, 16)"
      ]
     },
     "execution_count": 5,
     "metadata": {},
     "output_type": "execute_result"
    }
   ],
   "source": [
    "df.shape"
   ]
  },
  {
   "cell_type": "code",
   "execution_count": 6,
   "id": "cb734abd",
   "metadata": {
    "execution": {
     "iopub.execute_input": "2022-03-16T17:03:20.517908Z",
     "iopub.status.busy": "2022-03-16T17:03:20.517171Z",
     "iopub.status.idle": "2022-03-16T17:03:20.519758Z",
     "shell.execute_reply": "2022-03-16T17:03:20.520258Z",
     "shell.execute_reply.started": "2022-03-16T17:02:19.876281Z"
    },
    "papermill": {
     "duration": 0.028873,
     "end_time": "2022-03-16T17:03:20.520438",
     "exception": false,
     "start_time": "2022-03-16T17:03:20.491565",
     "status": "completed"
    },
    "tags": []
   },
   "outputs": [
    {
     "data": {
      "text/plain": [
       "23.099999999999998"
      ]
     },
     "execution_count": 6,
     "metadata": {},
     "output_type": "execute_result"
    }
   ],
   "source": [
    "df.shape[0]*0.3"
   ]
  },
  {
   "cell_type": "code",
   "execution_count": 7,
   "id": "8e386f34",
   "metadata": {
    "execution": {
     "iopub.execute_input": "2022-03-16T17:03:20.570089Z",
     "iopub.status.busy": "2022-03-16T17:03:20.569399Z",
     "iopub.status.idle": "2022-03-16T17:03:20.571769Z",
     "shell.execute_reply": "2022-03-16T17:03:20.572300Z",
     "shell.execute_reply.started": "2022-03-16T17:02:19.891553Z"
    },
    "papermill": {
     "duration": 0.030949,
     "end_time": "2022-03-16T17:03:20.572472",
     "exception": false,
     "start_time": "2022-03-16T17:03:20.541523",
     "status": "completed"
    },
    "tags": []
   },
   "outputs": [],
   "source": [
    "# Vamos usar aproximidamente 30% dos dados como dados de teste\n",
    "number = int(df.shape[0]*0.3) "
   ]
  },
  {
   "cell_type": "code",
   "execution_count": 8,
   "id": "48a454e5",
   "metadata": {
    "execution": {
     "iopub.execute_input": "2022-03-16T17:03:20.619554Z",
     "iopub.status.busy": "2022-03-16T17:03:20.618498Z",
     "iopub.status.idle": "2022-03-16T17:03:20.624517Z",
     "shell.execute_reply": "2022-03-16T17:03:20.625114Z",
     "shell.execute_reply.started": "2022-03-16T17:02:19.903903Z"
    },
    "papermill": {
     "duration": 0.031522,
     "end_time": "2022-03-16T17:03:20.625310",
     "exception": false,
     "start_time": "2022-03-16T17:03:20.593788",
     "status": "completed"
    },
    "tags": []
   },
   "outputs": [],
   "source": [
    "# Separando o que é dados que serão inputados na nossa\n",
    "# regressão e o que será usado para testa-ela\n",
    "# lembrando, x equivale aos dados que usamos\n",
    "# para prever y\n",
    "X_train = df['sugars'][0:number].values.reshape((df['sugars'][0:number].shape[0],1))\n",
    "X_test = df['sugars'][number::].values.reshape((df['sugars'][number::].shape[0],1))\n"
   ]
  },
  {
   "cell_type": "code",
   "execution_count": 9,
   "id": "b8e01295",
   "metadata": {
    "execution": {
     "iopub.execute_input": "2022-03-16T17:03:20.671768Z",
     "iopub.status.busy": "2022-03-16T17:03:20.671120Z",
     "iopub.status.idle": "2022-03-16T17:03:20.677971Z",
     "shell.execute_reply": "2022-03-16T17:03:20.677352Z",
     "shell.execute_reply.started": "2022-03-16T17:02:19.919478Z"
    },
    "papermill": {
     "duration": 0.030816,
     "end_time": "2022-03-16T17:03:20.678134",
     "exception": false,
     "start_time": "2022-03-16T17:03:20.647318",
     "status": "completed"
    },
    "tags": []
   },
   "outputs": [],
   "source": [
    "# Separando o que é dados que serão inputados na nossa\n",
    "# regressão e o que será usado para testa-ela\n",
    "# lembrando, y equivale aos dados que queremos prever\n",
    "y_train = df.calories[0:number].values.reshape((df['sugars'][0:number].shape[0],1))\n",
    "y_test = df.calories[number::].values.reshape((df['sugars'][number::].shape[0],1))"
   ]
  },
  {
   "cell_type": "code",
   "execution_count": 10,
   "id": "418860aa",
   "metadata": {
    "execution": {
     "iopub.execute_input": "2022-03-16T17:03:20.724272Z",
     "iopub.status.busy": "2022-03-16T17:03:20.723507Z",
     "iopub.status.idle": "2022-03-16T17:03:20.744084Z",
     "shell.execute_reply": "2022-03-16T17:03:20.743481Z",
     "shell.execute_reply.started": "2022-03-16T17:02:19.933527Z"
    },
    "papermill": {
     "duration": 0.045072,
     "end_time": "2022-03-16T17:03:20.744240",
     "exception": false,
     "start_time": "2022-03-16T17:03:20.699168",
     "status": "completed"
    },
    "tags": []
   },
   "outputs": [
    {
     "data": {
      "text/plain": [
       "LinearRegression()"
      ]
     },
     "execution_count": 10,
     "metadata": {},
     "output_type": "execute_result"
    }
   ],
   "source": [
    "# montando nosso modelo de regressão linear\n",
    "regr = linear_model.LinearRegression()\n",
    "regr.fit(X_train, y_train)"
   ]
  },
  {
   "cell_type": "code",
   "execution_count": 11,
   "id": "8daa672b",
   "metadata": {
    "execution": {
     "iopub.execute_input": "2022-03-16T17:03:20.793136Z",
     "iopub.status.busy": "2022-03-16T17:03:20.792368Z",
     "iopub.status.idle": "2022-03-16T17:03:20.797054Z",
     "shell.execute_reply": "2022-03-16T17:03:20.796418Z",
     "shell.execute_reply.started": "2022-03-16T17:02:19.957799Z"
    },
    "papermill": {
     "duration": 0.031298,
     "end_time": "2022-03-16T17:03:20.797213",
     "exception": false,
     "start_time": "2022-03-16T17:03:20.765915",
     "status": "completed"
    },
    "tags": []
   },
   "outputs": [
    {
     "name": "stdout",
     "output_type": "stream",
     "text": [
      "Maior Diferença entre o Valor Previsto e o Valor Real:\n",
      " [88.90251917]\n"
     ]
    }
   ],
   "source": [
    "# prevendo o dados de teste\n",
    "y_pred = regr.predict(X_test)\n",
    "print('Maior Diferença entre o Valor Previsto e o Valor Real:\\n',max(y_pred-y_test))"
   ]
  },
  {
   "cell_type": "code",
   "execution_count": 12,
   "id": "e60612ab",
   "metadata": {
    "execution": {
     "iopub.execute_input": "2022-03-16T17:03:20.846503Z",
     "iopub.status.busy": "2022-03-16T17:03:20.845775Z",
     "iopub.status.idle": "2022-03-16T17:03:20.850132Z",
     "shell.execute_reply": "2022-03-16T17:03:20.850763Z",
     "shell.execute_reply.started": "2022-03-16T17:02:19.972250Z"
    },
    "papermill": {
     "duration": 0.031387,
     "end_time": "2022-03-16T17:03:20.850957",
     "exception": false,
     "start_time": "2022-03-16T17:03:20.819570",
     "status": "completed"
    },
    "tags": []
   },
   "outputs": [
    {
     "name": "stdout",
     "output_type": "stream",
     "text": [
      "Coefficients: \n",
      " [[2.00766703]]\n"
     ]
    }
   ],
   "source": [
    "# Verificando o quão relacionados estão X e Y\n",
    "print('Coefficients: \\n', regr.coef_)"
   ]
  },
  {
   "cell_type": "code",
   "execution_count": 13,
   "id": "daab2017",
   "metadata": {
    "execution": {
     "iopub.execute_input": "2022-03-16T17:03:20.900906Z",
     "iopub.status.busy": "2022-03-16T17:03:20.898416Z",
     "iopub.status.idle": "2022-03-16T17:03:20.904468Z",
     "shell.execute_reply": "2022-03-16T17:03:20.903889Z",
     "shell.execute_reply.started": "2022-03-16T17:02:19.984537Z"
    },
    "papermill": {
     "duration": 0.031281,
     "end_time": "2022-03-16T17:03:20.904616",
     "exception": false,
     "start_time": "2022-03-16T17:03:20.873335",
     "status": "completed"
    },
    "tags": []
   },
   "outputs": [
    {
     "name": "stdout",
     "output_type": "stream",
     "text": [
      "Mean squared error: 429.10\n"
     ]
    }
   ],
   "source": [
    "# verificando o erro médio\n",
    "print(\"Mean squared error: %.2f\"% mean_squared_error(y_test, y_pred))"
   ]
  },
  {
   "cell_type": "code",
   "execution_count": 14,
   "id": "b5d84478",
   "metadata": {
    "execution": {
     "iopub.execute_input": "2022-03-16T17:03:20.957064Z",
     "iopub.status.busy": "2022-03-16T17:03:20.956286Z",
     "iopub.status.idle": "2022-03-16T17:03:20.960112Z",
     "shell.execute_reply": "2022-03-16T17:03:20.960577Z",
     "shell.execute_reply.started": "2022-03-16T17:02:20.000544Z"
    },
    "papermill": {
     "duration": 0.033029,
     "end_time": "2022-03-16T17:03:20.960753",
     "exception": false,
     "start_time": "2022-03-16T17:03:20.927724",
     "status": "completed"
    },
    "tags": []
   },
   "outputs": [
    {
     "name": "stdout",
     "output_type": "stream",
     "text": [
      "Variance score: 0.28\n"
     ]
    }
   ],
   "source": [
    "# se der 1, nosso modelo está maravilhosamente bom\n",
    "print('Variance score: %.2f' % r2_score(y_test, y_pred))"
   ]
  },
  {
   "cell_type": "code",
   "execution_count": 15,
   "id": "8f1b1198",
   "metadata": {
    "execution": {
     "iopub.execute_input": "2022-03-16T17:03:21.036578Z",
     "iopub.status.busy": "2022-03-16T17:03:21.026741Z",
     "iopub.status.idle": "2022-03-16T17:03:21.248024Z",
     "shell.execute_reply": "2022-03-16T17:03:21.248549Z",
     "shell.execute_reply.started": "2022-03-16T17:02:20.017770Z"
    },
    "papermill": {
     "duration": 0.264821,
     "end_time": "2022-03-16T17:03:21.248722",
     "exception": false,
     "start_time": "2022-03-16T17:03:20.983901",
     "status": "completed"
    },
    "tags": []
   },
   "outputs": [
    {
     "data": {
      "text/plain": [
       "[<matplotlib.lines.Line2D at 0x7fb85ac7ca50>]"
      ]
     },
     "execution_count": 15,
     "metadata": {},
     "output_type": "execute_result"
    },
    {
     "data": {
      "image/png": "[encoded data removed]",
      "text/plain": [
       "<Figure size 432x288 with 1 Axes>"
      ]
     },
     "metadata": {
      "needs_background": "light"
     },
     "output_type": "display_data"
    }
   ],
   "source": [
    "# plotando um gráfico\n",
    "plt.scatter(X_test, y_test,  color='black')\n",
    "plt.plot(X_test, y_pred, color='blue', linewidth=3)"
   ]
  }
 ],
 "metadata": {
  "kernelspec": {
   "display_name": "Python 3",
   "language": "python",
   "name": "python3"
  },
  "language_info": {
   "codemirror_mode": {
    "name": "ipython",
    "version": 3
   },
   "file_extension": ".py",
   "mimetype": "text/x-python",
   "name": "python",
   "nbconvert_exporter": "python",
   "pygments_lexer": "ipython3",
   "version": "3.7.12"
  },
  "papermill": {
   "default_parameters": {},
   "duration": 14.881496,
   "end_time": "2022-03-16T17:03:21.984647",
   "environment_variables": {},
   "exception": null,
   "input_path": "__notebook__.ipynb",
   "output_path": "__notebook__.ipynb",
   "parameters": {},
   "start_time": "2022-03-16T17:03:07.103151",
   "version": "2.3.3"
  }
 },
 "nbformat": 4,
 "nbformat_minor": 5
}
