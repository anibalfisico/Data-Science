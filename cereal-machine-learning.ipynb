{
 "cells": [
  {
   "cell_type": "code",
   "execution_count": 1,
   "id": "db5e1c2f",
   "metadata": {
    "_cell_guid": "b1076dfc-b9ad-4769-8c92-a6c4dae69d19",
    "_uuid": "8f2839f25d086af736a60e9eeb907d3b93b6e0e5",
    "execution": {
     "iopub.execute_input": "2022-03-16T04:00:26.439993Z",
     "iopub.status.busy": "2022-03-16T04:00:26.439288Z",
     "iopub.status.idle": "2022-03-16T04:00:27.794680Z",
     "shell.execute_reply": "2022-03-16T04:00:27.795427Z",
     "shell.execute_reply.started": "2022-03-16T03:52:44.077133Z"
    },
    "papermill": {
     "duration": 1.387021,
     "end_time": "2022-03-16T04:00:27.795728",
     "exception": false,
     "start_time": "2022-03-16T04:00:26.408707",
     "status": "completed"
    },
    "tags": []
   },
   "outputs": [
    {
     "name": "stdout",
     "output_type": "stream",
     "text": [
      "/kaggle/input/80-cereals/cereal.csv\n"
     ]
    }
   ],
   "source": [
    "# This Python 3 environment comes with many helpful analytics libraries installed\n",
    "# It is defined by the kaggle/python Docker image: https://github.com/kaggle/docker-python\n",
    "# For example, here's several helpful packages to load\n",
    "\n",
    "import numpy as np # linear algebra\n",
    "import pandas as pd # data processing, CSV file I/O (e.g. pd.read_csv)\n",
    "import seaborn as sns\n",
    "import matplotlib.pyplot as plt\n",
    "from sklearn import datasets, linear_model\n",
    "from sklearn.metrics import mean_squared_error, r2_score\n",
    "\n",
    "# Input data files are available in the read-only \"../input/\" directory\n",
    "# For example, running this (by clicking run or pressing Shift+Enter) will list all files under the input directory\n",
    "\n",
    "import os\n",
    "for dirname, _, filenames in os.walk('/kaggle/input'):\n",
    "    for filename in filenames:\n",
    "        print(os.path.join(dirname, filename))\n",
    "\n",
    "# You can write up to 20GB to the current directory (/kaggle/working/) that gets preserved as output when you create a version using \"Save & Run All\" \n",
    "# You can also write temporary files to /kaggle/temp/, but they won't be saved outside of the current session"
   ]
  },
  {
   "cell_type": "markdown",
   "id": "9a39360b",
   "metadata": {
    "papermill": {
     "duration": 0.018746,
     "end_time": "2022-03-16T04:00:27.834604",
     "exception": false,
     "start_time": "2022-03-16T04:00:27.815858",
     "status": "completed"
    },
    "tags": []
   },
   "source": [
    "# Objetivo: Estimar a quantidade de calorias de um cereal com base em seu nível de açúcar"
   ]
  },
  {
   "cell_type": "markdown",
   "id": "05920ffe",
   "metadata": {
    "papermill": {
     "duration": 0.018942,
     "end_time": "2022-03-16T04:00:27.874902",
     "exception": false,
     "start_time": "2022-03-16T04:00:27.855960",
     "status": "completed"
    },
    "tags": []
   },
   "source": [
    "**Gráfico de dispersão dos dados para classificações vs nível de açúcar**"
   ]
  },
  {
   "cell_type": "code",
   "execution_count": 2,
   "id": "da255a31",
   "metadata": {
    "execution": {
     "iopub.execute_input": "2022-03-16T04:00:27.915407Z",
     "iopub.status.busy": "2022-03-16T04:00:27.914663Z",
     "iopub.status.idle": "2022-03-16T04:00:27.951793Z",
     "shell.execute_reply": "2022-03-16T04:00:27.952274Z",
     "shell.execute_reply.started": "2022-03-16T03:52:44.088043Z"
    },
    "papermill": {
     "duration": 0.059052,
     "end_time": "2022-03-16T04:00:27.952471",
     "exception": false,
     "start_time": "2022-03-16T04:00:27.893419",
     "status": "completed"
    },
    "tags": []
   },
   "outputs": [
    {
     "data": {
      "text/html": [
       "<div>\n",
       "<style scoped>\n",
       "    .dataframe tbody tr th:only-of-type {\n",
       "        vertical-align: middle;\n",
       "    }\n",
       "\n",
       "    .dataframe tbody tr th {\n",
       "        vertical-align: top;\n",
       "    }\n",
       "\n",
       "    .dataframe thead th {\n",
       "        text-align: right;\n",
       "    }\n",
       "</style>\n",
       "<table border=\"1\" class=\"dataframe\">\n",
       "  <thead>\n",
       "    <tr style=\"text-align: right;\">\n",
       "      <th></th>\n",
       "      <th>name</th>\n",
       "      <th>mfr</th>\n",
       "      <th>type</th>\n",
       "      <th>calories</th>\n",
       "      <th>protein</th>\n",
       "      <th>fat</th>\n",
       "      <th>sodium</th>\n",
       "      <th>fiber</th>\n",
       "      <th>carbo</th>\n",
       "      <th>sugars</th>\n",
       "      <th>potass</th>\n",
       "      <th>vitamins</th>\n",
       "      <th>shelf</th>\n",
       "      <th>weight</th>\n",
       "      <th>cups</th>\n",
       "      <th>rating</th>\n",
       "    </tr>\n",
       "  </thead>\n",
       "  <tbody>\n",
       "    <tr>\n",
       "      <th>0</th>\n",
       "      <td>100% Bran</td>\n",
       "      <td>N</td>\n",
       "      <td>C</td>\n",
       "      <td>70</td>\n",
       "      <td>4</td>\n",
       "      <td>1</td>\n",
       "      <td>130</td>\n",
       "      <td>10.0</td>\n",
       "      <td>5.0</td>\n",
       "      <td>6</td>\n",
       "      <td>280</td>\n",
       "      <td>25</td>\n",
       "      <td>3</td>\n",
       "      <td>1.0</td>\n",
       "      <td>0.33</td>\n",
       "      <td>68.402973</td>\n",
       "    </tr>\n",
       "    <tr>\n",
       "      <th>1</th>\n",
       "      <td>100% Natural Bran</td>\n",
       "      <td>Q</td>\n",
       "      <td>C</td>\n",
       "      <td>120</td>\n",
       "      <td>3</td>\n",
       "      <td>5</td>\n",
       "      <td>15</td>\n",
       "      <td>2.0</td>\n",
       "      <td>8.0</td>\n",
       "      <td>8</td>\n",
       "      <td>135</td>\n",
       "      <td>0</td>\n",
       "      <td>3</td>\n",
       "      <td>1.0</td>\n",
       "      <td>1.00</td>\n",
       "      <td>33.983679</td>\n",
       "    </tr>\n",
       "    <tr>\n",
       "      <th>2</th>\n",
       "      <td>All-Bran</td>\n",
       "      <td>K</td>\n",
       "      <td>C</td>\n",
       "      <td>70</td>\n",
       "      <td>4</td>\n",
       "      <td>1</td>\n",
       "      <td>260</td>\n",
       "      <td>9.0</td>\n",
       "      <td>7.0</td>\n",
       "      <td>5</td>\n",
       "      <td>320</td>\n",
       "      <td>25</td>\n",
       "      <td>3</td>\n",
       "      <td>1.0</td>\n",
       "      <td>0.33</td>\n",
       "      <td>59.425505</td>\n",
       "    </tr>\n",
       "    <tr>\n",
       "      <th>3</th>\n",
       "      <td>All-Bran with Extra Fiber</td>\n",
       "      <td>K</td>\n",
       "      <td>C</td>\n",
       "      <td>50</td>\n",
       "      <td>4</td>\n",
       "      <td>0</td>\n",
       "      <td>140</td>\n",
       "      <td>14.0</td>\n",
       "      <td>8.0</td>\n",
       "      <td>0</td>\n",
       "      <td>330</td>\n",
       "      <td>25</td>\n",
       "      <td>3</td>\n",
       "      <td>1.0</td>\n",
       "      <td>0.50</td>\n",
       "      <td>93.704912</td>\n",
       "    </tr>\n",
       "    <tr>\n",
       "      <th>4</th>\n",
       "      <td>Almond Delight</td>\n",
       "      <td>R</td>\n",
       "      <td>C</td>\n",
       "      <td>110</td>\n",
       "      <td>2</td>\n",
       "      <td>2</td>\n",
       "      <td>200</td>\n",
       "      <td>1.0</td>\n",
       "      <td>14.0</td>\n",
       "      <td>8</td>\n",
       "      <td>-1</td>\n",
       "      <td>25</td>\n",
       "      <td>3</td>\n",
       "      <td>1.0</td>\n",
       "      <td>0.75</td>\n",
       "      <td>34.384843</td>\n",
       "    </tr>\n",
       "  </tbody>\n",
       "</table>\n",
       "</div>"
      ],
      "text/plain": [
       "                        name mfr type  calories  protein  fat  sodium  fiber  \\\n",
       "0                  100% Bran   N    C        70        4    1     130   10.0   \n",
       "1          100% Natural Bran   Q    C       120        3    5      15    2.0   \n",
       "2                   All-Bran   K    C        70        4    1     260    9.0   \n",
       "3  All-Bran with Extra Fiber   K    C        50        4    0     140   14.0   \n",
       "4             Almond Delight   R    C       110        2    2     200    1.0   \n",
       "\n",
       "   carbo  sugars  potass  vitamins  shelf  weight  cups     rating  \n",
       "0    5.0       6     280        25      3     1.0  0.33  68.402973  \n",
       "1    8.0       8     135         0      3     1.0  1.00  33.983679  \n",
       "2    7.0       5     320        25      3     1.0  0.33  59.425505  \n",
       "3    8.0       0     330        25      3     1.0  0.50  93.704912  \n",
       "4   14.0       8      -1        25      3     1.0  0.75  34.384843  "
      ]
     },
     "execution_count": 2,
     "metadata": {},
     "output_type": "execute_result"
    }
   ],
   "source": [
    "df = pd.read_csv('/kaggle/input/80-cereals/cereal.csv')\n",
    "df.head()"
   ]
  },
  {
   "cell_type": "markdown",
   "id": "aabe134f",
   "metadata": {
    "papermill": {
     "duration": 0.018473,
     "end_time": "2022-03-16T04:00:27.990211",
     "exception": false,
     "start_time": "2022-03-16T04:00:27.971738",
     "status": "completed"
    },
    "tags": []
   },
   "source": [
    "# Cleaning Data"
   ]
  },
  {
   "cell_type": "code",
   "execution_count": 3,
   "id": "acb8aa2f",
   "metadata": {
    "execution": {
     "iopub.execute_input": "2022-03-16T04:00:28.031501Z",
     "iopub.status.busy": "2022-03-16T04:00:28.030818Z",
     "iopub.status.idle": "2022-03-16T04:00:28.041566Z",
     "shell.execute_reply": "2022-03-16T04:00:28.041024Z",
     "shell.execute_reply.started": "2022-03-16T03:52:44.112677Z"
    },
    "papermill": {
     "duration": 0.03267,
     "end_time": "2022-03-16T04:00:28.041714",
     "exception": false,
     "start_time": "2022-03-16T04:00:28.009044",
     "status": "completed"
    },
    "tags": []
   },
   "outputs": [],
   "source": [
    "df[df['sugars'] < 0] = 0"
   ]
  },
  {
   "cell_type": "code",
   "execution_count": 4,
   "id": "1499b1ee",
   "metadata": {
    "execution": {
     "iopub.execute_input": "2022-03-16T04:00:28.082704Z",
     "iopub.status.busy": "2022-03-16T04:00:28.082066Z",
     "iopub.status.idle": "2022-03-16T04:00:28.466315Z",
     "shell.execute_reply": "2022-03-16T04:00:28.465825Z",
     "shell.execute_reply.started": "2022-03-16T03:52:44.121400Z"
    },
    "papermill": {
     "duration": 0.405892,
     "end_time": "2022-03-16T04:00:28.466477",
     "exception": false,
     "start_time": "2022-03-16T04:00:28.060585",
     "status": "completed"
    },
    "tags": []
   },
   "outputs": [
    {
     "data": {
      "text/plain": [
       "(0.0, 100.0)"
      ]
     },
     "execution_count": 4,
     "metadata": {},
     "output_type": "execute_result"
    },
    {
     "data": {
      "image/png": "[encoded data removed]",
      "text/plain": [
       "<Figure size 432x288 with 1 Axes>"
      ]
     },
     "metadata": {
      "needs_background": "light"
     },
     "output_type": "display_data"
    }
   ],
   "source": [
    "sns.regplot(data=df, x=\"sugars\", y=\"rating\")\n",
    "plt.xlim(0,16)\n",
    "plt.ylim(0,100)"
   ]
  },
  {
   "cell_type": "code",
   "execution_count": 5,
   "id": "e3f7d846",
   "metadata": {
    "execution": {
     "iopub.execute_input": "2022-03-16T04:00:28.513127Z",
     "iopub.status.busy": "2022-03-16T04:00:28.512249Z",
     "iopub.status.idle": "2022-03-16T04:00:28.515936Z",
     "shell.execute_reply": "2022-03-16T04:00:28.515422Z",
     "shell.execute_reply.started": "2022-03-16T03:52:44.428955Z"
    },
    "papermill": {
     "duration": 0.029309,
     "end_time": "2022-03-16T04:00:28.516070",
     "exception": false,
     "start_time": "2022-03-16T04:00:28.486761",
     "status": "completed"
    },
    "tags": []
   },
   "outputs": [
    {
     "data": {
      "text/plain": [
       "(77, 16)"
      ]
     },
     "execution_count": 5,
     "metadata": {},
     "output_type": "execute_result"
    }
   ],
   "source": [
    "df.shape"
   ]
  },
  {
   "cell_type": "code",
   "execution_count": 6,
   "id": "c5e34a94",
   "metadata": {
    "execution": {
     "iopub.execute_input": "2022-03-16T04:00:28.561660Z",
     "iopub.status.busy": "2022-03-16T04:00:28.560958Z",
     "iopub.status.idle": "2022-03-16T04:00:28.565112Z",
     "shell.execute_reply": "2022-03-16T04:00:28.565608Z",
     "shell.execute_reply.started": "2022-03-16T03:52:44.435346Z"
    },
    "papermill": {
     "duration": 0.028874,
     "end_time": "2022-03-16T04:00:28.565775",
     "exception": false,
     "start_time": "2022-03-16T04:00:28.536901",
     "status": "completed"
    },
    "tags": []
   },
   "outputs": [
    {
     "data": {
      "text/plain": [
       "23.099999999999998"
      ]
     },
     "execution_count": 6,
     "metadata": {},
     "output_type": "execute_result"
    }
   ],
   "source": [
    "df.shape[0]*0.3"
   ]
  },
  {
   "cell_type": "code",
   "execution_count": 7,
   "id": "909701d7",
   "metadata": {
    "execution": {
     "iopub.execute_input": "2022-03-16T04:00:28.613613Z",
     "iopub.status.busy": "2022-03-16T04:00:28.612902Z",
     "iopub.status.idle": "2022-03-16T04:00:28.615920Z",
     "shell.execute_reply": "2022-03-16T04:00:28.616401Z",
     "shell.execute_reply.started": "2022-03-16T03:52:44.446412Z"
    },
    "papermill": {
     "duration": 0.029801,
     "end_time": "2022-03-16T04:00:28.616574",
     "exception": false,
     "start_time": "2022-03-16T04:00:28.586773",
     "status": "completed"
    },
    "tags": []
   },
   "outputs": [],
   "source": [
    "# Vamos usar aproximidamente 30% dos dados como dados de teste\n",
    "number = int(df.shape[0]*0.3) "
   ]
  },
  {
   "cell_type": "code",
   "execution_count": 8,
   "id": "3222afcb",
   "metadata": {
    "execution": {
     "iopub.execute_input": "2022-03-16T04:00:28.665918Z",
     "iopub.status.busy": "2022-03-16T04:00:28.665230Z",
     "iopub.status.idle": "2022-03-16T04:00:28.668507Z",
     "shell.execute_reply": "2022-03-16T04:00:28.667945Z",
     "shell.execute_reply.started": "2022-03-16T03:57:22.462909Z"
    },
    "papermill": {
     "duration": 0.030764,
     "end_time": "2022-03-16T04:00:28.668649",
     "exception": false,
     "start_time": "2022-03-16T04:00:28.637885",
     "status": "completed"
    },
    "tags": []
   },
   "outputs": [],
   "source": [
    "# Separando o que é dados que serão inputados na nossa\n",
    "# regressão e o que será usado para testa-ela\n",
    "# lembrando, x equivale aos dados que usamos\n",
    "# para prever y\n",
    "X_train = df['sugars'][0:number].values.reshape((df['sugars'][0:number].shape[0],1))\n",
    "X_test = df['sugars'][number::].values.reshape((df['sugars'][number::].shape[0],1))\n"
   ]
  },
  {
   "cell_type": "code",
   "execution_count": 9,
   "id": "1d15bc29",
   "metadata": {
    "execution": {
     "iopub.execute_input": "2022-03-16T04:00:28.717536Z",
     "iopub.status.busy": "2022-03-16T04:00:28.716837Z",
     "iopub.status.idle": "2022-03-16T04:00:28.718984Z",
     "shell.execute_reply": "2022-03-16T04:00:28.719559Z",
     "shell.execute_reply.started": "2022-03-16T03:58:08.917746Z"
    },
    "papermill": {
     "duration": 0.03009,
     "end_time": "2022-03-16T04:00:28.719722",
     "exception": false,
     "start_time": "2022-03-16T04:00:28.689632",
     "status": "completed"
    },
    "tags": []
   },
   "outputs": [],
   "source": [
    "# Separando o que é dados que serão inputados na nossa\n",
    "# regressão e o que será usado para testa-ela\n",
    "# lembrando, y equivale aos dados que queremos prever\n",
    "y_train = df.calories[0:number].values.reshape((df['sugars'][0:number].shape[0],1))\n",
    "y_test = df.calories[number::].values.reshape((df['sugars'][number::].shape[0],1))"
   ]
  },
  {
   "cell_type": "code",
   "execution_count": 10,
   "id": "1a095650",
   "metadata": {
    "execution": {
     "iopub.execute_input": "2022-03-16T04:00:28.767334Z",
     "iopub.status.busy": "2022-03-16T04:00:28.766614Z",
     "iopub.status.idle": "2022-03-16T04:00:28.784315Z",
     "shell.execute_reply": "2022-03-16T04:00:28.783694Z",
     "shell.execute_reply.started": "2022-03-16T03:58:17.896990Z"
    },
    "papermill": {
     "duration": 0.043781,
     "end_time": "2022-03-16T04:00:28.784474",
     "exception": false,
     "start_time": "2022-03-16T04:00:28.740693",
     "status": "completed"
    },
    "tags": []
   },
   "outputs": [
    {
     "data": {
      "text/plain": [
       "LinearRegression()"
      ]
     },
     "execution_count": 10,
     "metadata": {},
     "output_type": "execute_result"
    }
   ],
   "source": [
    "# montando nosso modelo de regressão linear\n",
    "regr = linear_model.LinearRegression()\n",
    "regr.fit(X_train, y_train)"
   ]
  },
  {
   "cell_type": "code",
   "execution_count": 11,
   "id": "414f80c3",
   "metadata": {
    "execution": {
     "iopub.execute_input": "2022-03-16T04:00:28.833886Z",
     "iopub.status.busy": "2022-03-16T04:00:28.833016Z",
     "iopub.status.idle": "2022-03-16T04:00:28.834886Z",
     "shell.execute_reply": "2022-03-16T04:00:28.835407Z",
     "shell.execute_reply.started": "2022-03-16T03:58:37.228544Z"
    },
    "papermill": {
     "duration": 0.028939,
     "end_time": "2022-03-16T04:00:28.835567",
     "exception": false,
     "start_time": "2022-03-16T04:00:28.806628",
     "status": "completed"
    },
    "tags": []
   },
   "outputs": [],
   "source": [
    "# prevendo o dados de teste\n",
    "y_pred = regr.predict(X_test)"
   ]
  },
  {
   "cell_type": "code",
   "execution_count": 12,
   "id": "49ecb2e1",
   "metadata": {
    "execution": {
     "iopub.execute_input": "2022-03-16T04:00:28.882607Z",
     "iopub.status.busy": "2022-03-16T04:00:28.881986Z",
     "iopub.status.idle": "2022-03-16T04:00:28.886633Z",
     "shell.execute_reply": "2022-03-16T04:00:28.887187Z",
     "shell.execute_reply.started": "2022-03-16T03:58:42.859927Z"
    },
    "papermill": {
     "duration": 0.029267,
     "end_time": "2022-03-16T04:00:28.887363",
     "exception": false,
     "start_time": "2022-03-16T04:00:28.858096",
     "status": "completed"
    },
    "tags": []
   },
   "outputs": [
    {
     "name": "stdout",
     "output_type": "stream",
     "text": [
      "Coefficients: \n",
      " [[2.00766703]]\n"
     ]
    }
   ],
   "source": [
    "# Verificando o quão relacionados estão X e Y\n",
    "print('Coefficients: \\n', regr.coef_)"
   ]
  },
  {
   "cell_type": "code",
   "execution_count": 13,
   "id": "4b165ea7",
   "metadata": {
    "execution": {
     "iopub.execute_input": "2022-03-16T04:00:28.935418Z",
     "iopub.status.busy": "2022-03-16T04:00:28.934749Z",
     "iopub.status.idle": "2022-03-16T04:00:28.940829Z",
     "shell.execute_reply": "2022-03-16T04:00:28.940310Z",
     "shell.execute_reply.started": "2022-03-16T03:58:57.638151Z"
    },
    "papermill": {
     "duration": 0.031286,
     "end_time": "2022-03-16T04:00:28.940969",
     "exception": false,
     "start_time": "2022-03-16T04:00:28.909683",
     "status": "completed"
    },
    "tags": []
   },
   "outputs": [
    {
     "name": "stdout",
     "output_type": "stream",
     "text": [
      "Mean squared error: 429.10\n"
     ]
    }
   ],
   "source": [
    "# verificando o erro médio\n",
    "print(\"Mean squared error: %.2f\"% mean_squared_error(y_test, y_pred))"
   ]
  },
  {
   "cell_type": "code",
   "execution_count": 14,
   "id": "67098203",
   "metadata": {
    "execution": {
     "iopub.execute_input": "2022-03-16T04:00:28.997896Z",
     "iopub.status.busy": "2022-03-16T04:00:28.993908Z",
     "iopub.status.idle": "2022-03-16T04:00:29.001011Z",
     "shell.execute_reply": "2022-03-16T04:00:29.001553Z",
     "shell.execute_reply.started": "2022-03-16T03:59:09.124881Z"
    },
    "papermill": {
     "duration": 0.037651,
     "end_time": "2022-03-16T04:00:29.001725",
     "exception": false,
     "start_time": "2022-03-16T04:00:28.964074",
     "status": "completed"
    },
    "tags": []
   },
   "outputs": [
    {
     "name": "stdout",
     "output_type": "stream",
     "text": [
      "Variance score: 0.28\n"
     ]
    }
   ],
   "source": [
    "# se der 1, nosso modelo está maravilhosamente bom\n",
    "print('Variance score: %.2f' % r2_score(y_test, y_pred))"
   ]
  },
  {
   "cell_type": "code",
   "execution_count": 15,
   "id": "cbb907a7",
   "metadata": {
    "execution": {
     "iopub.execute_input": "2022-03-16T04:00:29.068233Z",
     "iopub.status.busy": "2022-03-16T04:00:29.067516Z",
     "iopub.status.idle": "2022-03-16T04:00:29.158093Z",
     "shell.execute_reply": "2022-03-16T04:00:29.159086Z",
     "shell.execute_reply.started": "2022-03-16T03:59:25.839530Z"
    },
    "papermill": {
     "duration": 0.12457,
     "end_time": "2022-03-16T04:00:29.159401",
     "exception": false,
     "start_time": "2022-03-16T04:00:29.034831",
     "status": "completed"
    },
    "tags": []
   },
   "outputs": [
    {
     "data": {
      "text/plain": [
       "([], [])"
      ]
     },
     "execution_count": 15,
     "metadata": {},
     "output_type": "execute_result"
    },
    {
     "data": {
      "image/png": "[encoded data removed]",
      "text/plain": [
       "<Figure size 432x288 with 1 Axes>"
      ]
     },
     "metadata": {},
     "output_type": "display_data"
    }
   ],
   "source": [
    "\n",
    "# plotando um gráfico\n",
    "plt.scatter(X_test, y_test,  color='black')\n",
    "plt.plot(X_test, y_pred, color='blue', linewidth=3)\n",
    "\n",
    "plt.xticks(())\n",
    "plt.yticks(())"
   ]
  }
 ],
 "metadata": {
  "kernelspec": {
   "display_name": "Python 3",
   "language": "python",
   "name": "python3"
  },
  "language_info": {
   "codemirror_mode": {
    "name": "ipython",
    "version": 3
   },
   "file_extension": ".py",
   "mimetype": "text/x-python",
   "name": "python",
   "nbconvert_exporter": "python",
   "pygments_lexer": "ipython3",
   "version": "3.7.12"
  },
  "papermill": {
   "default_parameters": {},
   "duration": 13.32822,
   "end_time": "2022-03-16T04:00:29.919039",
   "environment_variables": {},
   "exception": null,
   "input_path": "__notebook__.ipynb",
   "output_path": "__notebook__.ipynb",
   "parameters": {},
   "start_time": "2022-03-16T04:00:16.590819",
   "version": "2.3.3"
  }
 },
 "nbformat": 4,
 "nbformat_minor": 5
}
