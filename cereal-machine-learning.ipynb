{
 "cells": [
  {
   "cell_type": "code",
   "execution_count": 1,
   "id": "95504e56",
   "metadata": {
    "_cell_guid": "b1076dfc-b9ad-4769-8c92-a6c4dae69d19",
    "_uuid": "8f2839f25d086af736a60e9eeb907d3b93b6e0e5",
    "execution": {
     "iopub.execute_input": "2022-03-16T17:53:04.245173Z",
     "iopub.status.busy": "2022-03-16T17:53:04.237088Z",
     "iopub.status.idle": "2022-03-16T17:53:05.859438Z",
     "shell.execute_reply": "2022-03-16T17:53:05.860002Z",
     "shell.execute_reply.started": "2022-03-16T17:02:19.497849Z"
    },
    "papermill": {
     "duration": 1.646757,
     "end_time": "2022-03-16T17:53:05.860299",
     "exception": false,
     "start_time": "2022-03-16T17:53:04.213542",
     "status": "completed"
    },
    "tags": []
   },
   "outputs": [
    {
     "name": "stdout",
     "output_type": "stream",
     "text": [
      "/kaggle/input/80-cereals/cereal.csv\n"
     ]
    }
   ],
   "source": [
    "# This Python 3 environment comes with many helpful analytics libraries installed\n",
    "# It is defined by the kaggle/python Docker image: https://github.com/kaggle/docker-python\n",
    "# For example, here's several helpful packages to load\n",
    "\n",
    "import numpy as np # linear algebra\n",
    "import pandas as pd # data processing, CSV file I/O (e.g. pd.read_csv)\n",
    "import seaborn as sns\n",
    "import matplotlib.pyplot as plt\n",
    "from sklearn import datasets, linear_model\n",
    "from sklearn.metrics import mean_squared_error, r2_score\n",
    "\n",
    "# Input data files are available in the read-only \"../input/\" directory\n",
    "# For example, running this (by clicking run or pressing Shift+Enter) will list all files under the input directory\n",
    "\n",
    "import os\n",
    "for dirname, _, filenames in os.walk('/kaggle/input'):\n",
    "    for filename in filenames:\n",
    "        print(os.path.join(dirname, filename))\n",
    "\n",
    "# You can write up to 20GB to the current directory (/kaggle/working/) that gets preserved as output when you create a version using \"Save & Run All\" \n",
    "# You can also write temporary files to /kaggle/temp/, but they won't be saved outside of the current session"
   ]
  },
  {
   "cell_type": "markdown",
   "id": "6b7e1f5a",
   "metadata": {
    "papermill": {
     "duration": 0.018744,
     "end_time": "2022-03-16T17:53:05.898807",
     "exception": false,
     "start_time": "2022-03-16T17:53:05.880063",
     "status": "completed"
    },
    "tags": []
   },
   "source": [
    "# Objetivo: Estimar a quantidade de calorias de um cereal com base em seu nível de açúcar"
   ]
  },
  {
   "cell_type": "markdown",
   "id": "82b10552",
   "metadata": {
    "papermill": {
     "duration": 0.022517,
     "end_time": "2022-03-16T17:53:05.940022",
     "exception": false,
     "start_time": "2022-03-16T17:53:05.917505",
     "status": "completed"
    },
    "tags": []
   },
   "source": [
    "**Gráfico de dispersão dos dados para classificações vs nível de açúcar**"
   ]
  },
  {
   "cell_type": "code",
   "execution_count": 2,
   "id": "27dfc72f",
   "metadata": {
    "execution": {
     "iopub.execute_input": "2022-03-16T17:53:05.984746Z",
     "iopub.status.busy": "2022-03-16T17:53:05.983988Z",
     "iopub.status.idle": "2022-03-16T17:53:06.022645Z",
     "shell.execute_reply": "2022-03-16T17:53:06.023225Z",
     "shell.execute_reply.started": "2022-03-16T17:02:19.508826Z"
    },
    "papermill": {
     "duration": 0.065024,
     "end_time": "2022-03-16T17:53:06.023399",
     "exception": false,
     "start_time": "2022-03-16T17:53:05.958375",
     "status": "completed"
    },
    "tags": []
   },
   "outputs": [
    {
     "data": {
      "text/html": [
       "<div>\n",
       "<style scoped>\n",
       "    .dataframe tbody tr th:only-of-type {\n",
       "        vertical-align: middle;\n",
       "    }\n",
       "\n",
       "    .dataframe tbody tr th {\n",
       "        vertical-align: top;\n",
       "    }\n",
       "\n",
       "    .dataframe thead th {\n",
       "        text-align: right;\n",
       "    }\n",
       "</style>\n",
       "<table border=\"1\" class=\"dataframe\">\n",
       "  <thead>\n",
       "    <tr style=\"text-align: right;\">\n",
       "      <th></th>\n",
       "      <th>name</th>\n",
       "      <th>mfr</th>\n",
       "      <th>type</th>\n",
       "      <th>calories</th>\n",
       "      <th>protein</th>\n",
       "      <th>fat</th>\n",
       "      <th>sodium</th>\n",
       "      <th>fiber</th>\n",
       "      <th>carbo</th>\n",
       "      <th>sugars</th>\n",
       "      <th>potass</th>\n",
       "      <th>vitamins</th>\n",
       "      <th>shelf</th>\n",
       "      <th>weight</th>\n",
       "      <th>cups</th>\n",
       "      <th>rating</th>\n",
       "    </tr>\n",
       "  </thead>\n",
       "  <tbody>\n",
       "    <tr>\n",
       "      <th>0</th>\n",
       "      <td>100% Bran</td>\n",
       "      <td>N</td>\n",
       "      <td>C</td>\n",
       "      <td>70</td>\n",
       "      <td>4</td>\n",
       "      <td>1</td>\n",
       "      <td>130</td>\n",
       "      <td>10.0</td>\n",
       "      <td>5.0</td>\n",
       "      <td>6</td>\n",
       "      <td>280</td>\n",
       "      <td>25</td>\n",
       "      <td>3</td>\n",
       "      <td>1.0</td>\n",
       "      <td>0.33</td>\n",
       "      <td>68.402973</td>\n",
       "    </tr>\n",
       "    <tr>\n",
       "      <th>1</th>\n",
       "      <td>100% Natural Bran</td>\n",
       "      <td>Q</td>\n",
       "      <td>C</td>\n",
       "      <td>120</td>\n",
       "      <td>3</td>\n",
       "      <td>5</td>\n",
       "      <td>15</td>\n",
       "      <td>2.0</td>\n",
       "      <td>8.0</td>\n",
       "      <td>8</td>\n",
       "      <td>135</td>\n",
       "      <td>0</td>\n",
       "      <td>3</td>\n",
       "      <td>1.0</td>\n",
       "      <td>1.00</td>\n",
       "      <td>33.983679</td>\n",
       "    </tr>\n",
       "    <tr>\n",
       "      <th>2</th>\n",
       "      <td>All-Bran</td>\n",
       "      <td>K</td>\n",
       "      <td>C</td>\n",
       "      <td>70</td>\n",
       "      <td>4</td>\n",
       "      <td>1</td>\n",
       "      <td>260</td>\n",
       "      <td>9.0</td>\n",
       "      <td>7.0</td>\n",
       "      <td>5</td>\n",
       "      <td>320</td>\n",
       "      <td>25</td>\n",
       "      <td>3</td>\n",
       "      <td>1.0</td>\n",
       "      <td>0.33</td>\n",
       "      <td>59.425505</td>\n",
       "    </tr>\n",
       "    <tr>\n",
       "      <th>3</th>\n",
       "      <td>All-Bran with Extra Fiber</td>\n",
       "      <td>K</td>\n",
       "      <td>C</td>\n",
       "      <td>50</td>\n",
       "      <td>4</td>\n",
       "      <td>0</td>\n",
       "      <td>140</td>\n",
       "      <td>14.0</td>\n",
       "      <td>8.0</td>\n",
       "      <td>0</td>\n",
       "      <td>330</td>\n",
       "      <td>25</td>\n",
       "      <td>3</td>\n",
       "      <td>1.0</td>\n",
       "      <td>0.50</td>\n",
       "      <td>93.704912</td>\n",
       "    </tr>\n",
       "    <tr>\n",
       "      <th>4</th>\n",
       "      <td>Almond Delight</td>\n",
       "      <td>R</td>\n",
       "      <td>C</td>\n",
       "      <td>110</td>\n",
       "      <td>2</td>\n",
       "      <td>2</td>\n",
       "      <td>200</td>\n",
       "      <td>1.0</td>\n",
       "      <td>14.0</td>\n",
       "      <td>8</td>\n",
       "      <td>-1</td>\n",
       "      <td>25</td>\n",
       "      <td>3</td>\n",
       "      <td>1.0</td>\n",
       "      <td>0.75</td>\n",
       "      <td>34.384843</td>\n",
       "    </tr>\n",
       "  </tbody>\n",
       "</table>\n",
       "</div>"
      ],
      "text/plain": [
       "                        name mfr type  calories  protein  fat  sodium  fiber  \\\n",
       "0                  100% Bran   N    C        70        4    1     130   10.0   \n",
       "1          100% Natural Bran   Q    C       120        3    5      15    2.0   \n",
       "2                   All-Bran   K    C        70        4    1     260    9.0   \n",
       "3  All-Bran with Extra Fiber   K    C        50        4    0     140   14.0   \n",
       "4             Almond Delight   R    C       110        2    2     200    1.0   \n",
       "\n",
       "   carbo  sugars  potass  vitamins  shelf  weight  cups     rating  \n",
       "0    5.0       6     280        25      3     1.0  0.33  68.402973  \n",
       "1    8.0       8     135         0      3     1.0  1.00  33.983679  \n",
       "2    7.0       5     320        25      3     1.0  0.33  59.425505  \n",
       "3    8.0       0     330        25      3     1.0  0.50  93.704912  \n",
       "4   14.0       8      -1        25      3     1.0  0.75  34.384843  "
      ]
     },
     "execution_count": 2,
     "metadata": {},
     "output_type": "execute_result"
    }
   ],
   "source": [
    "df = pd.read_csv('/kaggle/input/80-cereals/cereal.csv')\n",
    "df.head()"
   ]
  },
  {
   "cell_type": "markdown",
   "id": "3f25bf2d",
   "metadata": {
    "papermill": {
     "duration": 0.020908,
     "end_time": "2022-03-16T17:53:06.065028",
     "exception": false,
     "start_time": "2022-03-16T17:53:06.044120",
     "status": "completed"
    },
    "tags": []
   },
   "source": [
    "# Cleaning Data"
   ]
  },
  {
   "cell_type": "code",
   "execution_count": 3,
   "id": "13be0666",
   "metadata": {
    "execution": {
     "iopub.execute_input": "2022-03-16T17:53:06.114249Z",
     "iopub.status.busy": "2022-03-16T17:53:06.113509Z",
     "iopub.status.idle": "2022-03-16T17:53:06.117699Z",
     "shell.execute_reply": "2022-03-16T17:53:06.118286Z",
     "shell.execute_reply.started": "2022-03-16T17:02:19.543271Z"
    },
    "papermill": {
     "duration": 0.034088,
     "end_time": "2022-03-16T17:53:06.118459",
     "exception": false,
     "start_time": "2022-03-16T17:53:06.084371",
     "status": "completed"
    },
    "tags": []
   },
   "outputs": [],
   "source": [
    "df[df['sugars'] < 0] = 0"
   ]
  },
  {
   "cell_type": "code",
   "execution_count": 4,
   "id": "7564aa4e",
   "metadata": {
    "execution": {
     "iopub.execute_input": "2022-03-16T17:53:06.169205Z",
     "iopub.status.busy": "2022-03-16T17:53:06.168464Z",
     "iopub.status.idle": "2022-03-16T17:53:06.562175Z",
     "shell.execute_reply": "2022-03-16T17:53:06.561486Z",
     "shell.execute_reply.started": "2022-03-16T17:02:19.552153Z"
    },
    "papermill": {
     "duration": 0.424981,
     "end_time": "2022-03-16T17:53:06.562321",
     "exception": false,
     "start_time": "2022-03-16T17:53:06.137340",
     "status": "completed"
    },
    "tags": []
   },
   "outputs": [
    {
     "data": {
      "text/plain": [
       "(0.0, 100.0)"
      ]
     },
     "execution_count": 4,
     "metadata": {},
     "output_type": "execute_result"
    },
    {
     "data": {
      "image/png": "[encoded data removed]",
      "text/plain": [
       "<Figure size 432x288 with 1 Axes>"
      ]
     },
     "metadata": {
      "needs_background": "light"
     },
     "output_type": "display_data"
    }
   ],
   "source": [
    "sns.regplot(data=df, x=\"sugars\", y=\"rating\")\n",
    "plt.xlim(0,16)\n",
    "plt.ylim(0,100)"
   ]
  },
  {
   "cell_type": "code",
   "execution_count": 5,
   "id": "f9c29055",
   "metadata": {
    "execution": {
     "iopub.execute_input": "2022-03-16T17:53:06.610461Z",
     "iopub.status.busy": "2022-03-16T17:53:06.609190Z",
     "iopub.status.idle": "2022-03-16T17:53:06.614049Z",
     "shell.execute_reply": "2022-03-16T17:53:06.614700Z",
     "shell.execute_reply.started": "2022-03-16T17:02:19.868071Z"
    },
    "papermill": {
     "duration": 0.031784,
     "end_time": "2022-03-16T17:53:06.614883",
     "exception": false,
     "start_time": "2022-03-16T17:53:06.583099",
     "status": "completed"
    },
    "tags": []
   },
   "outputs": [
    {
     "data": {
      "text/plain": [
       "(77, 16)"
      ]
     },
     "execution_count": 5,
     "metadata": {},
     "output_type": "execute_result"
    }
   ],
   "source": [
    "df.shape"
   ]
  },
  {
   "cell_type": "code",
   "execution_count": 6,
   "id": "6da2e75b",
   "metadata": {
    "execution": {
     "iopub.execute_input": "2022-03-16T17:53:06.663353Z",
     "iopub.status.busy": "2022-03-16T17:53:06.662578Z",
     "iopub.status.idle": "2022-03-16T17:53:06.666125Z",
     "shell.execute_reply": "2022-03-16T17:53:06.666611Z",
     "shell.execute_reply.started": "2022-03-16T17:02:19.876281Z"
    },
    "papermill": {
     "duration": 0.030841,
     "end_time": "2022-03-16T17:53:06.666826",
     "exception": false,
     "start_time": "2022-03-16T17:53:06.635985",
     "status": "completed"
    },
    "tags": []
   },
   "outputs": [
    {
     "data": {
      "text/plain": [
       "23.099999999999998"
      ]
     },
     "execution_count": 6,
     "metadata": {},
     "output_type": "execute_result"
    }
   ],
   "source": [
    "df.shape[0]*0.3"
   ]
  },
  {
   "cell_type": "code",
   "execution_count": 7,
   "id": "dad90aa6",
   "metadata": {
    "execution": {
     "iopub.execute_input": "2022-03-16T17:53:06.716741Z",
     "iopub.status.busy": "2022-03-16T17:53:06.714205Z",
     "iopub.status.idle": "2022-03-16T17:53:06.719203Z",
     "shell.execute_reply": "2022-03-16T17:53:06.719717Z",
     "shell.execute_reply.started": "2022-03-16T17:02:19.891553Z"
    },
    "papermill": {
     "duration": 0.03169,
     "end_time": "2022-03-16T17:53:06.719899",
     "exception": false,
     "start_time": "2022-03-16T17:53:06.688209",
     "status": "completed"
    },
    "tags": []
   },
   "outputs": [],
   "source": [
    "# Vamos usar aproximidamente 30% dos dados como dados de teste\n",
    "number = int(df.shape[0]*0.3) "
   ]
  },
  {
   "cell_type": "code",
   "execution_count": 8,
   "id": "7029493b",
   "metadata": {
    "execution": {
     "iopub.execute_input": "2022-03-16T17:53:06.770181Z",
     "iopub.status.busy": "2022-03-16T17:53:06.769417Z",
     "iopub.status.idle": "2022-03-16T17:53:06.771677Z",
     "shell.execute_reply": "2022-03-16T17:53:06.772252Z",
     "shell.execute_reply.started": "2022-03-16T17:02:19.903903Z"
    },
    "papermill": {
     "duration": 0.030654,
     "end_time": "2022-03-16T17:53:06.772427",
     "exception": false,
     "start_time": "2022-03-16T17:53:06.741773",
     "status": "completed"
    },
    "tags": []
   },
   "outputs": [],
   "source": [
    "# Separando o que é dados que serão inputados na nossa\n",
    "# regressão e o que será usado para testa-ela\n",
    "# lembrando, x equivale aos dados que usamos\n",
    "# para prever y\n",
    "X_train = df['sugars'][0:number].values.reshape((df['sugars'][0:number].shape[0],1))\n",
    "X_test = df['sugars'][number::].values.reshape((df['sugars'][number::].shape[0],1))\n"
   ]
  },
  {
   "cell_type": "code",
   "execution_count": 9,
   "id": "f7c04222",
   "metadata": {
    "execution": {
     "iopub.execute_input": "2022-03-16T17:53:06.822051Z",
     "iopub.status.busy": "2022-03-16T17:53:06.818250Z",
     "iopub.status.idle": "2022-03-16T17:53:06.824587Z",
     "shell.execute_reply": "2022-03-16T17:53:06.825082Z",
     "shell.execute_reply.started": "2022-03-16T17:02:19.919478Z"
    },
    "papermill": {
     "duration": 0.031,
     "end_time": "2022-03-16T17:53:06.825261",
     "exception": false,
     "start_time": "2022-03-16T17:53:06.794261",
     "status": "completed"
    },
    "tags": []
   },
   "outputs": [],
   "source": [
    "# Separando o que é dados que serão inputados na nossa\n",
    "# regressão e o que será usado para testa-ela\n",
    "# lembrando, y equivale aos dados que queremos prever\n",
    "y_train = df.calories[0:number].values.reshape((df['sugars'][0:number].shape[0],1))\n",
    "y_test = df.calories[number::].values.reshape((df['sugars'][number::].shape[0],1))"
   ]
  },
  {
   "cell_type": "code",
   "execution_count": 10,
   "id": "d0414e9c",
   "metadata": {
    "execution": {
     "iopub.execute_input": "2022-03-16T17:53:06.871956Z",
     "iopub.status.busy": "2022-03-16T17:53:06.871225Z",
     "iopub.status.idle": "2022-03-16T17:53:06.892185Z",
     "shell.execute_reply": "2022-03-16T17:53:06.892692Z",
     "shell.execute_reply.started": "2022-03-16T17:02:19.933527Z"
    },
    "papermill": {
     "duration": 0.046139,
     "end_time": "2022-03-16T17:53:06.892876",
     "exception": false,
     "start_time": "2022-03-16T17:53:06.846737",
     "status": "completed"
    },
    "tags": []
   },
   "outputs": [
    {
     "data": {
      "text/plain": [
       "LinearRegression()"
      ]
     },
     "execution_count": 10,
     "metadata": {},
     "output_type": "execute_result"
    }
   ],
   "source": [
    "# montando nosso modelo de regressão linear\n",
    "regr = linear_model.LinearRegression()\n",
    "regr.fit(X_train, y_train)"
   ]
  },
  {
   "cell_type": "code",
   "execution_count": 11,
   "id": "4dd918dd",
   "metadata": {
    "execution": {
     "iopub.execute_input": "2022-03-16T17:53:06.941882Z",
     "iopub.status.busy": "2022-03-16T17:53:06.941193Z",
     "iopub.status.idle": "2022-03-16T17:53:06.947095Z",
     "shell.execute_reply": "2022-03-16T17:53:06.946249Z",
     "shell.execute_reply.started": "2022-03-16T17:02:19.957799Z"
    },
    "papermill": {
     "duration": 0.032614,
     "end_time": "2022-03-16T17:53:06.947252",
     "exception": false,
     "start_time": "2022-03-16T17:53:06.914638",
     "status": "completed"
    },
    "tags": []
   },
   "outputs": [
    {
     "name": "stdout",
     "output_type": "stream",
     "text": [
      "Maior Diferença entre o Valor Previsto e o Valor Real:\n",
      " [88.90251917]\n"
     ]
    }
   ],
   "source": [
    "# prevendo o dados de teste\n",
    "y_pred = regr.predict(X_test)\n",
    "print('Maior Diferença entre o Valor Previsto e o Valor Real:\\n',max(y_pred-y_test))"
   ]
  },
  {
   "cell_type": "code",
   "execution_count": 12,
   "id": "0858ca33",
   "metadata": {
    "execution": {
     "iopub.execute_input": "2022-03-16T17:53:06.996345Z",
     "iopub.status.busy": "2022-03-16T17:53:06.995580Z",
     "iopub.status.idle": "2022-03-16T17:53:07.000867Z",
     "shell.execute_reply": "2022-03-16T17:53:07.001489Z",
     "shell.execute_reply.started": "2022-03-16T17:02:19.972250Z"
    },
    "papermill": {
     "duration": 0.031316,
     "end_time": "2022-03-16T17:53:07.001712",
     "exception": false,
     "start_time": "2022-03-16T17:53:06.970396",
     "status": "completed"
    },
    "tags": []
   },
   "outputs": [
    {
     "name": "stdout",
     "output_type": "stream",
     "text": [
      "Coefficients: \n",
      " [[2.00766703]]\n"
     ]
    }
   ],
   "source": [
    "# Verificando o quão relacionados estão X e Y\n",
    "print('Coefficients: \\n', regr.coef_)"
   ]
  },
  {
   "cell_type": "code",
   "execution_count": 13,
   "id": "276106d6",
   "metadata": {
    "execution": {
     "iopub.execute_input": "2022-03-16T17:53:07.053679Z",
     "iopub.status.busy": "2022-03-16T17:53:07.052948Z",
     "iopub.status.idle": "2022-03-16T17:53:07.057866Z",
     "shell.execute_reply": "2022-03-16T17:53:07.058422Z",
     "shell.execute_reply.started": "2022-03-16T17:02:19.984537Z"
    },
    "papermill": {
     "duration": 0.032994,
     "end_time": "2022-03-16T17:53:07.058598",
     "exception": false,
     "start_time": "2022-03-16T17:53:07.025604",
     "status": "completed"
    },
    "tags": []
   },
   "outputs": [
    {
     "name": "stdout",
     "output_type": "stream",
     "text": [
      "Mean squared error: 429.10\n"
     ]
    }
   ],
   "source": [
    "# verificando o erro médio\n",
    "print(\"Mean squared error: %.2f\"% mean_squared_error(y_test, y_pred))"
   ]
  },
  {
   "cell_type": "code",
   "execution_count": 14,
   "id": "26e8a3d2",
   "metadata": {
    "execution": {
     "iopub.execute_input": "2022-03-16T17:53:07.112070Z",
     "iopub.status.busy": "2022-03-16T17:53:07.111351Z",
     "iopub.status.idle": "2022-03-16T17:53:07.115806Z",
     "shell.execute_reply": "2022-03-16T17:53:07.115224Z",
     "shell.execute_reply.started": "2022-03-16T17:02:20.000544Z"
    },
    "papermill": {
     "duration": 0.03437,
     "end_time": "2022-03-16T17:53:07.115969",
     "exception": false,
     "start_time": "2022-03-16T17:53:07.081599",
     "status": "completed"
    },
    "tags": []
   },
   "outputs": [
    {
     "name": "stdout",
     "output_type": "stream",
     "text": [
      "Variance score: 0.28\n"
     ]
    }
   ],
   "source": [
    "# se der 1, nosso modelo está maravilhosamente bom\n",
    "print('Variance score: %.2f' % r2_score(y_test, y_pred))"
   ]
  },
  {
   "cell_type": "code",
   "execution_count": 15,
   "id": "aac8a3f3",
   "metadata": {
    "execution": {
     "iopub.execute_input": "2022-03-16T17:53:07.177024Z",
     "iopub.status.busy": "2022-03-16T17:53:07.176333Z",
     "iopub.status.idle": "2022-03-16T17:53:07.400251Z",
     "shell.execute_reply": "2022-03-16T17:53:07.400753Z",
     "shell.execute_reply.started": "2022-03-16T17:02:20.017770Z"
    },
    "papermill": {
     "duration": 0.261353,
     "end_time": "2022-03-16T17:53:07.400935",
     "exception": false,
     "start_time": "2022-03-16T17:53:07.139582",
     "status": "completed"
    },
    "tags": []
   },
   "outputs": [
    {
     "data": {
      "text/plain": [
       "[<matplotlib.lines.Line2D at 0x7f7ad440d710>]"
      ]
     },
     "execution_count": 15,
     "metadata": {},
     "output_type": "execute_result"
    },
    {
     "data": {
      "image/png": "[encoded data removed]",
      "text/plain": [
       "<Figure size 432x288 with 1 Axes>"
      ]
     },
     "metadata": {
      "needs_background": "light"
     },
     "output_type": "display_data"
    }
   ],
   "source": [
    "# plotando um gráfico\n",
    "plt.scatter(X_test, y_test,  color='black')\n",
    "plt.plot(X_test, y_pred, color='blue', linewidth=3)"
   ]
  }
 ],
 "metadata": {
  "kernelspec": {
   "display_name": "Python 3",
   "language": "python",
   "name": "python3"
  },
  "language_info": {
   "codemirror_mode": {
    "name": "ipython",
    "version": 3
   },
   "file_extension": ".py",
   "mimetype": "text/x-python",
   "name": "python",
   "nbconvert_exporter": "python",
   "pygments_lexer": "ipython3",
   "version": "3.7.12"
  },
  "papermill": {
   "default_parameters": {},
   "duration": 15.154688,
   "end_time": "2022-03-16T17:53:08.135019",
   "environment_variables": {},
   "exception": null,
   "input_path": "__notebook__.ipynb",
   "output_path": "__notebook__.ipynb",
   "parameters": {},
   "start_time": "2022-03-16T17:52:52.980331",
   "version": "2.3.3"
  }
 },
 "nbformat": 4,
 "nbformat_minor": 5
}
