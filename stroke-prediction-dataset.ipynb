{
 "cells": [
  {
   "cell_type": "code",
   "execution_count": 1,
   "id": "6a6e1d2b",
   "metadata": {
    "_cell_guid": "b1076dfc-b9ad-4769-8c92-a6c4dae69d19",
    "_uuid": "8f2839f25d086af736a60e9eeb907d3b93b6e0e5",
    "execution": {
     "iopub.execute_input": "2022-03-22T16:47:10.053974Z",
     "iopub.status.busy": "2022-03-22T16:47:10.053070Z",
     "iopub.status.idle": "2022-03-22T16:47:11.518699Z",
     "shell.execute_reply": "2022-03-22T16:47:11.519237Z",
     "shell.execute_reply.started": "2022-03-22T16:43:52.648786Z"
    },
    "papermill": {
     "duration": 1.502158,
     "end_time": "2022-03-22T16:47:11.519536",
     "exception": false,
     "start_time": "2022-03-22T16:47:10.017378",
     "status": "completed"
    },
    "tags": []
   },
   "outputs": [
    {
     "name": "stdout",
     "output_type": "stream",
     "text": [
      "/kaggle/input/stroke-prediction-dataset/healthcare-dataset-stroke-data.csv\n"
     ]
    }
   ],
   "source": [
    "# This Python 3 environment comes with many helpful analytics libraries installed\n",
    "# It is defined by the kaggle/python Docker image: https://github.com/kaggle/docker-python\n",
    "# For example, here's several helpful packages to load\n",
    "\n",
    "import numpy as np # linear algebra\n",
    "import pandas as pd # data processing, CSV file I/O (e.g. pd.read_csv)\n",
    "import seaborn as sns\n",
    "import matplotlib.pyplot as plt\n",
    "from sklearn import datasets, linear_model\n",
    "from sklearn.metrics import mean_squared_error, r2_score\n",
    "from sklearn.model_selection import train_test_split\n",
    "from sklearn.ensemble import ExtraTreesClassifier\n",
    "\n",
    "# Input data files are available in the read-only \"../input/\" directory\n",
    "# For example, running this (by clicking run or pressing Shift+Enter) will list all files under the input directory\n",
    "\n",
    "import os\n",
    "for dirname, _, filenames in os.walk('/kaggle/input'):\n",
    "    for filename in filenames:\n",
    "        print(os.path.join(dirname, filename))\n",
    "\n",
    "# You can write up to 20GB to the current directory (/kaggle/working/) that gets preserved as output when you create a version using \"Save & Run All\" \n",
    "# You can also write temporary files to /kaggle/temp/, but they won't be saved outside of the current session"
   ]
  },
  {
   "cell_type": "markdown",
   "id": "ad541590",
   "metadata": {
    "papermill": {
     "duration": 0.025523,
     "end_time": "2022-03-22T16:47:11.571941",
     "exception": false,
     "start_time": "2022-03-22T16:47:11.546418",
     "status": "completed"
    },
    "tags": []
   },
   "source": [
    "# Data Extraction"
   ]
  },
  {
   "cell_type": "code",
   "execution_count": 2,
   "id": "ce81504a",
   "metadata": {
    "execution": {
     "iopub.execute_input": "2022-03-22T16:47:11.627303Z",
     "iopub.status.busy": "2022-03-22T16:47:11.626706Z",
     "iopub.status.idle": "2022-03-22T16:47:11.678311Z",
     "shell.execute_reply": "2022-03-22T16:47:11.678793Z",
     "shell.execute_reply.started": "2022-03-22T16:43:52.790794Z"
    },
    "papermill": {
     "duration": 0.080903,
     "end_time": "2022-03-22T16:47:11.678957",
     "exception": false,
     "start_time": "2022-03-22T16:47:11.598054",
     "status": "completed"
    },
    "tags": []
   },
   "outputs": [
    {
     "data": {
      "text/html": [
       "<div>\n",
       "<style scoped>\n",
       "    .dataframe tbody tr th:only-of-type {\n",
       "        vertical-align: middle;\n",
       "    }\n",
       "\n",
       "    .dataframe tbody tr th {\n",
       "        vertical-align: top;\n",
       "    }\n",
       "\n",
       "    .dataframe thead th {\n",
       "        text-align: right;\n",
       "    }\n",
       "</style>\n",
       "<table border=\"1\" class=\"dataframe\">\n",
       "  <thead>\n",
       "    <tr style=\"text-align: right;\">\n",
       "      <th></th>\n",
       "      <th>id</th>\n",
       "      <th>gender</th>\n",
       "      <th>age</th>\n",
       "      <th>hypertension</th>\n",
       "      <th>heart_disease</th>\n",
       "      <th>ever_married</th>\n",
       "      <th>work_type</th>\n",
       "      <th>Residence_type</th>\n",
       "      <th>avg_glucose_level</th>\n",
       "      <th>bmi</th>\n",
       "      <th>smoking_status</th>\n",
       "      <th>stroke</th>\n",
       "    </tr>\n",
       "  </thead>\n",
       "  <tbody>\n",
       "    <tr>\n",
       "      <th>0</th>\n",
       "      <td>9046</td>\n",
       "      <td>Male</td>\n",
       "      <td>67.0</td>\n",
       "      <td>0</td>\n",
       "      <td>1</td>\n",
       "      <td>Yes</td>\n",
       "      <td>Private</td>\n",
       "      <td>Urban</td>\n",
       "      <td>228.69</td>\n",
       "      <td>36.6</td>\n",
       "      <td>formerly smoked</td>\n",
       "      <td>1</td>\n",
       "    </tr>\n",
       "    <tr>\n",
       "      <th>1</th>\n",
       "      <td>51676</td>\n",
       "      <td>Female</td>\n",
       "      <td>61.0</td>\n",
       "      <td>0</td>\n",
       "      <td>0</td>\n",
       "      <td>Yes</td>\n",
       "      <td>Self-employed</td>\n",
       "      <td>Rural</td>\n",
       "      <td>202.21</td>\n",
       "      <td>NaN</td>\n",
       "      <td>never smoked</td>\n",
       "      <td>1</td>\n",
       "    </tr>\n",
       "    <tr>\n",
       "      <th>2</th>\n",
       "      <td>31112</td>\n",
       "      <td>Male</td>\n",
       "      <td>80.0</td>\n",
       "      <td>0</td>\n",
       "      <td>1</td>\n",
       "      <td>Yes</td>\n",
       "      <td>Private</td>\n",
       "      <td>Rural</td>\n",
       "      <td>105.92</td>\n",
       "      <td>32.5</td>\n",
       "      <td>never smoked</td>\n",
       "      <td>1</td>\n",
       "    </tr>\n",
       "    <tr>\n",
       "      <th>3</th>\n",
       "      <td>60182</td>\n",
       "      <td>Female</td>\n",
       "      <td>49.0</td>\n",
       "      <td>0</td>\n",
       "      <td>0</td>\n",
       "      <td>Yes</td>\n",
       "      <td>Private</td>\n",
       "      <td>Urban</td>\n",
       "      <td>171.23</td>\n",
       "      <td>34.4</td>\n",
       "      <td>smokes</td>\n",
       "      <td>1</td>\n",
       "    </tr>\n",
       "    <tr>\n",
       "      <th>4</th>\n",
       "      <td>1665</td>\n",
       "      <td>Female</td>\n",
       "      <td>79.0</td>\n",
       "      <td>1</td>\n",
       "      <td>0</td>\n",
       "      <td>Yes</td>\n",
       "      <td>Self-employed</td>\n",
       "      <td>Rural</td>\n",
       "      <td>174.12</td>\n",
       "      <td>24.0</td>\n",
       "      <td>never smoked</td>\n",
       "      <td>1</td>\n",
       "    </tr>\n",
       "  </tbody>\n",
       "</table>\n",
       "</div>"
      ],
      "text/plain": [
       "      id  gender   age  hypertension  heart_disease ever_married  \\\n",
       "0   9046    Male  67.0             0              1          Yes   \n",
       "1  51676  Female  61.0             0              0          Yes   \n",
       "2  31112    Male  80.0             0              1          Yes   \n",
       "3  60182  Female  49.0             0              0          Yes   \n",
       "4   1665  Female  79.0             1              0          Yes   \n",
       "\n",
       "       work_type Residence_type  avg_glucose_level   bmi   smoking_status  \\\n",
       "0        Private          Urban             228.69  36.6  formerly smoked   \n",
       "1  Self-employed          Rural             202.21   NaN     never smoked   \n",
       "2        Private          Rural             105.92  32.5     never smoked   \n",
       "3        Private          Urban             171.23  34.4           smokes   \n",
       "4  Self-employed          Rural             174.12  24.0     never smoked   \n",
       "\n",
       "   stroke  \n",
       "0       1  \n",
       "1       1  \n",
       "2       1  \n",
       "3       1  \n",
       "4       1  "
      ]
     },
     "execution_count": 2,
     "metadata": {},
     "output_type": "execute_result"
    }
   ],
   "source": [
    "df = pd.read_csv('/kaggle/input/stroke-prediction-dataset/healthcare-dataset-stroke-data.csv')\n",
    "df.head()"
   ]
  },
  {
   "cell_type": "markdown",
   "id": "604b6291",
   "metadata": {
    "papermill": {
     "duration": 0.02577,
     "end_time": "2022-03-22T16:47:11.730815",
     "exception": false,
     "start_time": "2022-03-22T16:47:11.705045",
     "status": "completed"
    },
    "tags": []
   },
   "source": [
    "# Exploratory Data Analysis (EDA)"
   ]
  },
  {
   "cell_type": "code",
   "execution_count": 3,
   "id": "deef7395",
   "metadata": {
    "execution": {
     "iopub.execute_input": "2022-03-22T16:47:11.786751Z",
     "iopub.status.busy": "2022-03-22T16:47:11.786145Z",
     "iopub.status.idle": "2022-03-22T16:47:11.790432Z",
     "shell.execute_reply": "2022-03-22T16:47:11.790953Z",
     "shell.execute_reply.started": "2022-03-22T16:43:52.930866Z"
    },
    "papermill": {
     "duration": 0.033487,
     "end_time": "2022-03-22T16:47:11.791129",
     "exception": false,
     "start_time": "2022-03-22T16:47:11.757642",
     "status": "completed"
    },
    "tags": []
   },
   "outputs": [
    {
     "data": {
      "text/plain": [
       "(5110, 12)"
      ]
     },
     "execution_count": 3,
     "metadata": {},
     "output_type": "execute_result"
    }
   ],
   "source": [
    "#check the shape of dataset\n",
    "df.shape\n"
   ]
  },
  {
   "cell_type": "code",
   "execution_count": 4,
   "id": "b6a2363d",
   "metadata": {
    "execution": {
     "iopub.execute_input": "2022-03-22T16:47:11.847631Z",
     "iopub.status.busy": "2022-03-22T16:47:11.847040Z",
     "iopub.status.idle": "2022-03-22T16:47:11.851784Z",
     "shell.execute_reply": "2022-03-22T16:47:11.852313Z",
     "shell.execute_reply.started": "2022-03-22T16:43:53.088596Z"
    },
    "papermill": {
     "duration": 0.034337,
     "end_time": "2022-03-22T16:47:11.852476",
     "exception": false,
     "start_time": "2022-03-22T16:47:11.818139",
     "status": "completed"
    },
    "tags": []
   },
   "outputs": [
    {
     "data": {
      "text/plain": [
       "Index(['id', 'gender', 'age', 'hypertension', 'heart_disease', 'ever_married',\n",
       "       'work_type', 'Residence_type', 'avg_glucose_level', 'bmi',\n",
       "       'smoking_status', 'stroke'],\n",
       "      dtype='object')"
      ]
     },
     "execution_count": 4,
     "metadata": {},
     "output_type": "execute_result"
    }
   ],
   "source": [
    "#check all columns\n",
    "df.columns"
   ]
  },
  {
   "cell_type": "code",
   "execution_count": 5,
   "id": "b495495b",
   "metadata": {
    "execution": {
     "iopub.execute_input": "2022-03-22T16:47:11.909696Z",
     "iopub.status.busy": "2022-03-22T16:47:11.909086Z",
     "iopub.status.idle": "2022-03-22T16:47:11.915970Z",
     "shell.execute_reply": "2022-03-22T16:47:11.916504Z",
     "shell.execute_reply.started": "2022-03-22T16:43:53.221736Z"
    },
    "papermill": {
     "duration": 0.037051,
     "end_time": "2022-03-22T16:47:11.916664",
     "exception": false,
     "start_time": "2022-03-22T16:47:11.879613",
     "status": "completed"
    },
    "tags": []
   },
   "outputs": [
    {
     "data": {
      "text/plain": [
       "id                     int64\n",
       "gender                object\n",
       "age                  float64\n",
       "hypertension           int64\n",
       "heart_disease          int64\n",
       "ever_married          object\n",
       "work_type             object\n",
       "Residence_type        object\n",
       "avg_glucose_level    float64\n",
       "bmi                  float64\n",
       "smoking_status        object\n",
       "stroke                 int64\n",
       "dtype: object"
      ]
     },
     "execution_count": 5,
     "metadata": {},
     "output_type": "execute_result"
    }
   ],
   "source": [
    "#check type of dataset\n",
    "df.dtypes"
   ]
  },
  {
   "cell_type": "code",
   "execution_count": 6,
   "id": "de254031",
   "metadata": {
    "execution": {
     "iopub.execute_input": "2022-03-22T16:47:11.975825Z",
     "iopub.status.busy": "2022-03-22T16:47:11.975163Z",
     "iopub.status.idle": "2022-03-22T16:47:11.985473Z",
     "shell.execute_reply": "2022-03-22T16:47:11.986077Z",
     "shell.execute_reply.started": "2022-03-22T16:43:53.350997Z"
    },
    "papermill": {
     "duration": 0.041137,
     "end_time": "2022-03-22T16:47:11.986245",
     "exception": false,
     "start_time": "2022-03-22T16:47:11.945108",
     "status": "completed"
    },
    "tags": []
   },
   "outputs": [
    {
     "data": {
      "text/plain": [
       "id                     0\n",
       "gender                 0\n",
       "age                    0\n",
       "hypertension           0\n",
       "heart_disease          0\n",
       "ever_married           0\n",
       "work_type              0\n",
       "Residence_type         0\n",
       "avg_glucose_level      0\n",
       "bmi                  201\n",
       "smoking_status         0\n",
       "stroke                 0\n",
       "dtype: int64"
      ]
     },
     "execution_count": 6,
     "metadata": {},
     "output_type": "execute_result"
    }
   ],
   "source": [
    "#check missing value of dataset\n",
    "df.isnull().sum()"
   ]
  },
  {
   "cell_type": "code",
   "execution_count": 7,
   "id": "b60f4ceb",
   "metadata": {
    "execution": {
     "iopub.execute_input": "2022-03-22T16:47:12.046764Z",
     "iopub.status.busy": "2022-03-22T16:47:12.046092Z",
     "iopub.status.idle": "2022-03-22T16:47:12.077499Z",
     "shell.execute_reply": "2022-03-22T16:47:12.078092Z",
     "shell.execute_reply.started": "2022-03-22T16:43:53.492906Z"
    },
    "papermill": {
     "duration": 0.062558,
     "end_time": "2022-03-22T16:47:12.078273",
     "exception": false,
     "start_time": "2022-03-22T16:47:12.015715",
     "status": "completed"
    },
    "tags": []
   },
   "outputs": [
    {
     "data": {
      "text/html": [
       "<div>\n",
       "<style scoped>\n",
       "    .dataframe tbody tr th:only-of-type {\n",
       "        vertical-align: middle;\n",
       "    }\n",
       "\n",
       "    .dataframe tbody tr th {\n",
       "        vertical-align: top;\n",
       "    }\n",
       "\n",
       "    .dataframe thead th {\n",
       "        text-align: right;\n",
       "    }\n",
       "</style>\n",
       "<table border=\"1\" class=\"dataframe\">\n",
       "  <thead>\n",
       "    <tr style=\"text-align: right;\">\n",
       "      <th></th>\n",
       "      <th>id</th>\n",
       "      <th>gender</th>\n",
       "      <th>age</th>\n",
       "      <th>hypertension</th>\n",
       "      <th>heart_disease</th>\n",
       "      <th>ever_married</th>\n",
       "      <th>work_type</th>\n",
       "      <th>Residence_type</th>\n",
       "      <th>avg_glucose_level</th>\n",
       "      <th>bmi</th>\n",
       "      <th>smoking_status</th>\n",
       "      <th>stroke</th>\n",
       "    </tr>\n",
       "  </thead>\n",
       "  <tbody>\n",
       "    <tr>\n",
       "      <th>0</th>\n",
       "      <td>9046</td>\n",
       "      <td>Male</td>\n",
       "      <td>67.0</td>\n",
       "      <td>0</td>\n",
       "      <td>1</td>\n",
       "      <td>Yes</td>\n",
       "      <td>Private</td>\n",
       "      <td>Urban</td>\n",
       "      <td>228.69</td>\n",
       "      <td>36.6</td>\n",
       "      <td>formerly smoked</td>\n",
       "      <td>1</td>\n",
       "    </tr>\n",
       "    <tr>\n",
       "      <th>2</th>\n",
       "      <td>31112</td>\n",
       "      <td>Male</td>\n",
       "      <td>80.0</td>\n",
       "      <td>0</td>\n",
       "      <td>1</td>\n",
       "      <td>Yes</td>\n",
       "      <td>Private</td>\n",
       "      <td>Rural</td>\n",
       "      <td>105.92</td>\n",
       "      <td>32.5</td>\n",
       "      <td>never smoked</td>\n",
       "      <td>1</td>\n",
       "    </tr>\n",
       "    <tr>\n",
       "      <th>3</th>\n",
       "      <td>60182</td>\n",
       "      <td>Female</td>\n",
       "      <td>49.0</td>\n",
       "      <td>0</td>\n",
       "      <td>0</td>\n",
       "      <td>Yes</td>\n",
       "      <td>Private</td>\n",
       "      <td>Urban</td>\n",
       "      <td>171.23</td>\n",
       "      <td>34.4</td>\n",
       "      <td>smokes</td>\n",
       "      <td>1</td>\n",
       "    </tr>\n",
       "    <tr>\n",
       "      <th>4</th>\n",
       "      <td>1665</td>\n",
       "      <td>Female</td>\n",
       "      <td>79.0</td>\n",
       "      <td>1</td>\n",
       "      <td>0</td>\n",
       "      <td>Yes</td>\n",
       "      <td>Self-employed</td>\n",
       "      <td>Rural</td>\n",
       "      <td>174.12</td>\n",
       "      <td>24.0</td>\n",
       "      <td>never smoked</td>\n",
       "      <td>1</td>\n",
       "    </tr>\n",
       "    <tr>\n",
       "      <th>5</th>\n",
       "      <td>56669</td>\n",
       "      <td>Male</td>\n",
       "      <td>81.0</td>\n",
       "      <td>0</td>\n",
       "      <td>0</td>\n",
       "      <td>Yes</td>\n",
       "      <td>Private</td>\n",
       "      <td>Urban</td>\n",
       "      <td>186.21</td>\n",
       "      <td>29.0</td>\n",
       "      <td>formerly smoked</td>\n",
       "      <td>1</td>\n",
       "    </tr>\n",
       "  </tbody>\n",
       "</table>\n",
       "</div>"
      ],
      "text/plain": [
       "      id  gender   age  hypertension  heart_disease ever_married  \\\n",
       "0   9046    Male  67.0             0              1          Yes   \n",
       "2  31112    Male  80.0             0              1          Yes   \n",
       "3  60182  Female  49.0             0              0          Yes   \n",
       "4   1665  Female  79.0             1              0          Yes   \n",
       "5  56669    Male  81.0             0              0          Yes   \n",
       "\n",
       "       work_type Residence_type  avg_glucose_level   bmi   smoking_status  \\\n",
       "0        Private          Urban             228.69  36.6  formerly smoked   \n",
       "2        Private          Rural             105.92  32.5     never smoked   \n",
       "3        Private          Urban             171.23  34.4           smokes   \n",
       "4  Self-employed          Rural             174.12  24.0     never smoked   \n",
       "5        Private          Urban             186.21  29.0  formerly smoked   \n",
       "\n",
       "   stroke  \n",
       "0       1  \n",
       "2       1  \n",
       "3       1  \n",
       "4       1  \n",
       "5       1  "
      ]
     },
     "execution_count": 7,
     "metadata": {},
     "output_type": "execute_result"
    }
   ],
   "source": [
    "# Dropping the 'Other' values of the Gender column and treating missing data\n",
    "df = df.replace({'Other':np.NaN})\n",
    "df = df.dropna()\n",
    "df.head()"
   ]
  },
  {
   "cell_type": "code",
   "execution_count": 8,
   "id": "aea38d64",
   "metadata": {
    "execution": {
     "iopub.execute_input": "2022-03-22T16:47:12.138832Z",
     "iopub.status.busy": "2022-03-22T16:47:12.138216Z",
     "iopub.status.idle": "2022-03-22T16:47:13.252177Z",
     "shell.execute_reply": "2022-03-22T16:47:13.251663Z",
     "shell.execute_reply.started": "2022-03-22T16:43:53.619422Z"
    },
    "papermill": {
     "duration": 1.145249,
     "end_time": "2022-03-22T16:47:13.252331",
     "exception": false,
     "start_time": "2022-03-22T16:47:12.107082",
     "status": "completed"
    },
    "tags": []
   },
   "outputs": [
    {
     "data": {
      "image/png": "[encoded data removed]",
      "text/plain": [
       "<Figure size 1440x1080 with 6 Axes>"
      ]
     },
     "metadata": {
      "needs_background": "light"
     },
     "output_type": "display_data"
    }
   ],
   "source": [
    "#plotar o histograma das variaveis numéricas\n",
    "df_without_id = df.drop(columns='id')\n",
    "df_without_id.hist(bins=20, figsize=(20,15));"
   ]
  },
  {
   "cell_type": "code",
   "execution_count": 9,
   "id": "aa3a377f",
   "metadata": {
    "execution": {
     "iopub.execute_input": "2022-03-22T16:47:13.337553Z",
     "iopub.status.busy": "2022-03-22T16:47:13.333461Z",
     "iopub.status.idle": "2022-03-22T16:47:13.424681Z",
     "shell.execute_reply": "2022-03-22T16:47:13.425555Z",
     "shell.execute_reply.started": "2022-03-22T16:43:55.177092Z"
    },
    "papermill": {
     "duration": 0.142677,
     "end_time": "2022-03-22T16:47:13.425833",
     "exception": false,
     "start_time": "2022-03-22T16:47:13.283156",
     "status": "completed"
    },
    "tags": []
   },
   "outputs": [
    {
     "data": {
      "text/plain": [
       "([<matplotlib.patches.Wedge at 0x7efcc8853590>,\n",
       "  <matplotlib.patches.Wedge at 0x7efcc8853d50>],\n",
       " [Text(-0.307755600196639, 1.0560712525902818, 'Female'),\n",
       "  Text(0.30775560019663867, -1.0560712525902818, 'Male')],\n",
       " [Text(-0.16786669101634855, 0.5760388650492445, '59.03%'),\n",
       "  Text(0.16786669101634835, -0.5760388650492446, '40.97%')])"
      ]
     },
     "execution_count": 9,
     "metadata": {},
     "output_type": "execute_result"
    },
    {
     "data": {
      "image/png": "[encoded data removed]",
      "text/plain": [
       "<Figure size 432x288 with 1 Axes>"
      ]
     },
     "metadata": {},
     "output_type": "display_data"
    }
   ],
   "source": [
    "# Plotting Male x Female\n",
    "legend = df['gender'].value_counts().index\n",
    "plt.pie(x=df['gender'].value_counts(),labels=legend,autopct='%1.2f%%')"
   ]
  },
  {
   "cell_type": "code",
   "execution_count": 10,
   "id": "b02905d8",
   "metadata": {
    "execution": {
     "iopub.execute_input": "2022-03-22T16:47:13.681375Z",
     "iopub.status.busy": "2022-03-22T16:47:13.536638Z",
     "iopub.status.idle": "2022-03-22T16:47:13.772500Z",
     "shell.execute_reply": "2022-03-22T16:47:13.771528Z",
     "shell.execute_reply.started": "2022-03-22T16:43:55.296239Z"
    },
    "papermill": {
     "duration": 0.288353,
     "end_time": "2022-03-22T16:47:13.772734",
     "exception": false,
     "start_time": "2022-03-22T16:47:13.484381",
     "status": "completed"
    },
    "tags": []
   },
   "outputs": [
    {
     "data": {
      "text/plain": [
       "([<matplotlib.patches.Wedge at 0x7efcc81c0750>,\n",
       "  <matplotlib.patches.Wedge at 0x7efcc819e0d0>],\n",
       " [Text(-1.0867202370283893, 0.17040870409976638, 'Not Heart Disease'),\n",
       "  Text(1.0867202310453332, -0.17040874225455038, 'Heart Disease')],\n",
       " [Text(-0.5927564929245759, 0.09295020223623619, '95.05%'),\n",
       "  Text(0.5927564896610907, -0.09295022304793656, '4.95%')])"
      ]
     },
     "execution_count": 10,
     "metadata": {},
     "output_type": "execute_result"
    },
    {
     "data": {
      "image/png": "[encoded data removed]",
      "text/plain": [
       "<Figure size 432x288 with 1 Axes>"
      ]
     },
     "metadata": {},
     "output_type": "display_data"
    }
   ],
   "source": [
    "# Plotting Heart Disease x Not Heart Disease \n",
    "legend = [0,0]\n",
    "aux = df.heart_disease.value_counts().index\n",
    "x = np.where(aux == 1)[0][0]\n",
    "legend[x] = 'Heart Disease'\n",
    "y = np.where(aux == 0)[0][0]\n",
    "legend[y] = 'Not Heart Disease'\n",
    "plt.pie(x=df.heart_disease.value_counts(),labels=legend,autopct='%1.2f%%')"
   ]
  },
  {
   "cell_type": "code",
   "execution_count": 11,
   "id": "3de290f3",
   "metadata": {
    "execution": {
     "iopub.execute_input": "2022-03-22T16:47:13.878860Z",
     "iopub.status.busy": "2022-03-22T16:47:13.878246Z",
     "iopub.status.idle": "2022-03-22T16:47:13.983648Z",
     "shell.execute_reply": "2022-03-22T16:47:13.984513Z",
     "shell.execute_reply.started": "2022-03-22T16:43:55.466808Z"
    },
    "papermill": {
     "duration": 0.149987,
     "end_time": "2022-03-22T16:47:13.984795",
     "exception": false,
     "start_time": "2022-03-22T16:47:13.834808",
     "status": "completed"
    },
    "tags": []
   },
   "outputs": [
    {
     "data": {
      "text/plain": [
       "([<matplotlib.patches.Wedge at 0x7efcc81d44d0>,\n",
       "  <matplotlib.patches.Wedge at 0x7efcc81d4e90>],\n",
       " [Text(-1.05448145132456, 0.3131594942077438, 'Not Hypertension'),\n",
       "  Text(1.0544814293344762, -0.31315956825350283, 'Hypertension')],\n",
       " [Text(-0.5751717007224871, 0.17081426956786022, '90.81%'),\n",
       "  Text(0.575171688727896, -0.17081430995645605, '9.19%')])"
      ]
     },
     "execution_count": 11,
     "metadata": {},
     "output_type": "execute_result"
    },
    {
     "data": {
      "image/png": "[encoded data removed]",
      "text/plain": [
       "<Figure size 432x288 with 1 Axes>"
      ]
     },
     "metadata": {},
     "output_type": "display_data"
    }
   ],
   "source": [
    "# Plotting Hypertension x Not Hypertension \n",
    "legend = [0,0]\n",
    "aux = df.hypertension.value_counts().index\n",
    "x = np.where(aux == 1)[0][0]\n",
    "legend[x] = 'Hypertension'\n",
    "y = np.where(aux == 0)[0][0]\n",
    "legend[y] = 'Not Hypertension'\n",
    "plt.pie(x=df.hypertension.value_counts(),labels=legend,autopct='%1.2f%%')"
   ]
  },
  {
   "cell_type": "code",
   "execution_count": 12,
   "id": "6299a4ea",
   "metadata": {
    "execution": {
     "iopub.execute_input": "2022-03-22T16:47:14.093756Z",
     "iopub.status.busy": "2022-03-22T16:47:14.093101Z",
     "iopub.status.idle": "2022-03-22T16:47:14.190524Z",
     "shell.execute_reply": "2022-03-22T16:47:14.191513Z",
     "shell.execute_reply.started": "2022-03-22T16:43:55.632414Z"
    },
    "papermill": {
     "duration": 0.143906,
     "end_time": "2022-03-22T16:47:14.191798",
     "exception": false,
     "start_time": "2022-03-22T16:47:14.047892",
     "status": "completed"
    },
    "tags": []
   },
   "outputs": [
    {
     "data": {
      "text/plain": [
       "([<matplotlib.patches.Wedge at 0x7efcc821da10>,\n",
       "  <matplotlib.patches.Wedge at 0x7efcc821d090>],\n",
       " [Text(-1.0901712601200462, 0.14671954064905907, 'Not Stroke'),\n",
       "  Text(1.0901712652713733, -0.1467195023731096, 'Stroke')],\n",
       " [Text(-0.5946388691563887, 0.08002884035403221, '95.74%'),\n",
       "  Text(0.5946388719662036, -0.08002881947624159, '4.26%')])"
      ]
     },
     "execution_count": 12,
     "metadata": {},
     "output_type": "execute_result"
    },
    {
     "data": {
      "image/png": "[encoded data removed]",
      "text/plain": [
       "<Figure size 432x288 with 1 Axes>"
      ]
     },
     "metadata": {},
     "output_type": "display_data"
    }
   ],
   "source": [
    "# Plotting Stroke x Not Stroke\n",
    "legend = [0,0]\n",
    "aux = df.stroke.value_counts().index\n",
    "x = np.where(aux == 1)[0][0]\n",
    "legend[x] = 'Stroke'\n",
    "y = np.where(aux == 0)[0][0]\n",
    "legend[y] = 'Not Stroke'\n",
    "plt.pie(x=df.stroke.value_counts(),labels=legend,autopct='%1.2f%%')"
   ]
  },
  {
   "cell_type": "code",
   "execution_count": 13,
   "id": "19a02aef",
   "metadata": {
    "execution": {
     "iopub.execute_input": "2022-03-22T16:47:14.306757Z",
     "iopub.status.busy": "2022-03-22T16:47:14.306060Z",
     "iopub.status.idle": "2022-03-22T16:47:14.319869Z",
     "shell.execute_reply": "2022-03-22T16:47:14.320506Z",
     "shell.execute_reply.started": "2022-03-22T16:43:55.796199Z"
    },
    "papermill": {
     "duration": 0.063359,
     "end_time": "2022-03-22T16:47:14.320679",
     "exception": false,
     "start_time": "2022-03-22T16:47:14.257320",
     "status": "completed"
    },
    "tags": []
   },
   "outputs": [
    {
     "data": {
      "text/html": [
       "<div>\n",
       "<style scoped>\n",
       "    .dataframe tbody tr th:only-of-type {\n",
       "        vertical-align: middle;\n",
       "    }\n",
       "\n",
       "    .dataframe tbody tr th {\n",
       "        vertical-align: top;\n",
       "    }\n",
       "\n",
       "    .dataframe thead th {\n",
       "        text-align: right;\n",
       "    }\n",
       "</style>\n",
       "<table border=\"1\" class=\"dataframe\">\n",
       "  <thead>\n",
       "    <tr style=\"text-align: right;\">\n",
       "      <th></th>\n",
       "      <th>age</th>\n",
       "      <th>hypertension</th>\n",
       "      <th>heart_disease</th>\n",
       "      <th>avg_glucose_level</th>\n",
       "      <th>bmi</th>\n",
       "      <th>stroke</th>\n",
       "    </tr>\n",
       "  </thead>\n",
       "  <tbody>\n",
       "    <tr>\n",
       "      <th>age</th>\n",
       "      <td>1.000000</td>\n",
       "      <td>0.274395</td>\n",
       "      <td>0.257104</td>\n",
       "      <td>0.236000</td>\n",
       "      <td>0.333314</td>\n",
       "      <td>0.232313</td>\n",
       "    </tr>\n",
       "    <tr>\n",
       "      <th>hypertension</th>\n",
       "      <td>0.274395</td>\n",
       "      <td>1.000000</td>\n",
       "      <td>0.115978</td>\n",
       "      <td>0.180614</td>\n",
       "      <td>0.167770</td>\n",
       "      <td>0.142503</td>\n",
       "    </tr>\n",
       "    <tr>\n",
       "      <th>heart_disease</th>\n",
       "      <td>0.257104</td>\n",
       "      <td>0.115978</td>\n",
       "      <td>1.000000</td>\n",
       "      <td>0.154577</td>\n",
       "      <td>0.041322</td>\n",
       "      <td>0.137929</td>\n",
       "    </tr>\n",
       "    <tr>\n",
       "      <th>avg_glucose_level</th>\n",
       "      <td>0.236000</td>\n",
       "      <td>0.180614</td>\n",
       "      <td>0.154577</td>\n",
       "      <td>1.000000</td>\n",
       "      <td>0.175672</td>\n",
       "      <td>0.138984</td>\n",
       "    </tr>\n",
       "    <tr>\n",
       "      <th>bmi</th>\n",
       "      <td>0.333314</td>\n",
       "      <td>0.167770</td>\n",
       "      <td>0.041322</td>\n",
       "      <td>0.175672</td>\n",
       "      <td>1.000000</td>\n",
       "      <td>0.042341</td>\n",
       "    </tr>\n",
       "    <tr>\n",
       "      <th>stroke</th>\n",
       "      <td>0.232313</td>\n",
       "      <td>0.142503</td>\n",
       "      <td>0.137929</td>\n",
       "      <td>0.138984</td>\n",
       "      <td>0.042341</td>\n",
       "      <td>1.000000</td>\n",
       "    </tr>\n",
       "  </tbody>\n",
       "</table>\n",
       "</div>"
      ],
      "text/plain": [
       "                        age  hypertension  heart_disease  avg_glucose_level  \\\n",
       "age                1.000000      0.274395       0.257104           0.236000   \n",
       "hypertension       0.274395      1.000000       0.115978           0.180614   \n",
       "heart_disease      0.257104      0.115978       1.000000           0.154577   \n",
       "avg_glucose_level  0.236000      0.180614       0.154577           1.000000   \n",
       "bmi                0.333314      0.167770       0.041322           0.175672   \n",
       "stroke             0.232313      0.142503       0.137929           0.138984   \n",
       "\n",
       "                        bmi    stroke  \n",
       "age                0.333314  0.232313  \n",
       "hypertension       0.167770  0.142503  \n",
       "heart_disease      0.041322  0.137929  \n",
       "avg_glucose_level  0.175672  0.138984  \n",
       "bmi                1.000000  0.042341  \n",
       "stroke             0.042341  1.000000  "
      ]
     },
     "execution_count": 13,
     "metadata": {},
     "output_type": "execute_result"
    }
   ],
   "source": [
    "# Checking the correlation between the variables\n",
    "\n",
    "df_without_id.corr()"
   ]
  },
  {
   "cell_type": "code",
   "execution_count": 14,
   "id": "56e2e87a",
   "metadata": {
    "execution": {
     "iopub.execute_input": "2022-03-22T16:47:14.395899Z",
     "iopub.status.busy": "2022-03-22T16:47:14.395277Z",
     "iopub.status.idle": "2022-03-22T16:47:14.689322Z",
     "shell.execute_reply": "2022-03-22T16:47:14.689774Z",
     "shell.execute_reply.started": "2022-03-22T16:43:55.829210Z"
    },
    "papermill": {
     "duration": 0.333462,
     "end_time": "2022-03-22T16:47:14.689946",
     "exception": false,
     "start_time": "2022-03-22T16:47:14.356484",
     "status": "completed"
    },
    "tags": []
   },
   "outputs": [
    {
     "data": {
      "text/plain": [
       "<Figure size 720x576 with 0 Axes>"
      ]
     },
     "execution_count": 14,
     "metadata": {},
     "output_type": "execute_result"
    },
    {
     "data": {
      "image/png": "[encoded data removed]",
      "text/plain": [
       "<Figure size 432x288 with 2 Axes>"
      ]
     },
     "metadata": {
      "needs_background": "light"
     },
     "output_type": "display_data"
    },
    {
     "data": {
      "text/plain": [
       "<Figure size 720x576 with 0 Axes>"
      ]
     },
     "metadata": {},
     "output_type": "display_data"
    }
   ],
   "source": [
    "#visualize correlation of each variable using pearson correlation\n",
    "sns.heatmap(df_without_id.corr(), vmax = 1, linewidths = 0.9, cmap = 'viridis')\n",
    "plt.title('Pearson Correlation', fontsize = 15, pad = 12)\n",
    "plt.figure(figsize = (10,8))"
   ]
  },
  {
   "cell_type": "markdown",
   "id": "3a47c7b9",
   "metadata": {
    "papermill": {
     "duration": 0.03801,
     "end_time": "2022-03-22T16:47:14.765699",
     "exception": false,
     "start_time": "2022-03-22T16:47:14.727689",
     "status": "completed"
    },
    "tags": []
   },
   "source": [
    "# Machine Learning - Predict Stroke "
   ]
  },
  {
   "cell_type": "code",
   "execution_count": 15,
   "id": "4ef03864",
   "metadata": {
    "execution": {
     "iopub.execute_input": "2022-03-22T16:47:14.858645Z",
     "iopub.status.busy": "2022-03-22T16:47:14.857823Z",
     "iopub.status.idle": "2022-03-22T16:47:14.860661Z",
     "shell.execute_reply": "2022-03-22T16:47:14.861154Z",
     "shell.execute_reply.started": "2022-03-22T16:43:56.209684Z"
    },
    "papermill": {
     "duration": 0.057531,
     "end_time": "2022-03-22T16:47:14.861335",
     "exception": false,
     "start_time": "2022-03-22T16:47:14.803804",
     "status": "completed"
    },
    "tags": []
   },
   "outputs": [
    {
     "data": {
      "text/html": [
       "<div>\n",
       "<style scoped>\n",
       "    .dataframe tbody tr th:only-of-type {\n",
       "        vertical-align: middle;\n",
       "    }\n",
       "\n",
       "    .dataframe tbody tr th {\n",
       "        vertical-align: top;\n",
       "    }\n",
       "\n",
       "    .dataframe thead th {\n",
       "        text-align: right;\n",
       "    }\n",
       "</style>\n",
       "<table border=\"1\" class=\"dataframe\">\n",
       "  <thead>\n",
       "    <tr style=\"text-align: right;\">\n",
       "      <th></th>\n",
       "      <th>gender</th>\n",
       "      <th>age</th>\n",
       "      <th>hypertension</th>\n",
       "      <th>heart_disease</th>\n",
       "      <th>ever_married</th>\n",
       "      <th>work_type</th>\n",
       "      <th>Residence_type</th>\n",
       "      <th>avg_glucose_level</th>\n",
       "      <th>bmi</th>\n",
       "      <th>smoking_status</th>\n",
       "      <th>stroke</th>\n",
       "    </tr>\n",
       "  </thead>\n",
       "  <tbody>\n",
       "    <tr>\n",
       "      <th>0</th>\n",
       "      <td>Male</td>\n",
       "      <td>67.0</td>\n",
       "      <td>0</td>\n",
       "      <td>1</td>\n",
       "      <td>Yes</td>\n",
       "      <td>Private</td>\n",
       "      <td>Urban</td>\n",
       "      <td>228.69</td>\n",
       "      <td>36.6</td>\n",
       "      <td>formerly smoked</td>\n",
       "      <td>1</td>\n",
       "    </tr>\n",
       "    <tr>\n",
       "      <th>2</th>\n",
       "      <td>Male</td>\n",
       "      <td>80.0</td>\n",
       "      <td>0</td>\n",
       "      <td>1</td>\n",
       "      <td>Yes</td>\n",
       "      <td>Private</td>\n",
       "      <td>Rural</td>\n",
       "      <td>105.92</td>\n",
       "      <td>32.5</td>\n",
       "      <td>never smoked</td>\n",
       "      <td>1</td>\n",
       "    </tr>\n",
       "    <tr>\n",
       "      <th>3</th>\n",
       "      <td>Female</td>\n",
       "      <td>49.0</td>\n",
       "      <td>0</td>\n",
       "      <td>0</td>\n",
       "      <td>Yes</td>\n",
       "      <td>Private</td>\n",
       "      <td>Urban</td>\n",
       "      <td>171.23</td>\n",
       "      <td>34.4</td>\n",
       "      <td>smokes</td>\n",
       "      <td>1</td>\n",
       "    </tr>\n",
       "    <tr>\n",
       "      <th>4</th>\n",
       "      <td>Female</td>\n",
       "      <td>79.0</td>\n",
       "      <td>1</td>\n",
       "      <td>0</td>\n",
       "      <td>Yes</td>\n",
       "      <td>Self-employed</td>\n",
       "      <td>Rural</td>\n",
       "      <td>174.12</td>\n",
       "      <td>24.0</td>\n",
       "      <td>never smoked</td>\n",
       "      <td>1</td>\n",
       "    </tr>\n",
       "    <tr>\n",
       "      <th>5</th>\n",
       "      <td>Male</td>\n",
       "      <td>81.0</td>\n",
       "      <td>0</td>\n",
       "      <td>0</td>\n",
       "      <td>Yes</td>\n",
       "      <td>Private</td>\n",
       "      <td>Urban</td>\n",
       "      <td>186.21</td>\n",
       "      <td>29.0</td>\n",
       "      <td>formerly smoked</td>\n",
       "      <td>1</td>\n",
       "    </tr>\n",
       "  </tbody>\n",
       "</table>\n",
       "</div>"
      ],
      "text/plain": [
       "   gender   age  hypertension  heart_disease ever_married      work_type  \\\n",
       "0    Male  67.0             0              1          Yes        Private   \n",
       "2    Male  80.0             0              1          Yes        Private   \n",
       "3  Female  49.0             0              0          Yes        Private   \n",
       "4  Female  79.0             1              0          Yes  Self-employed   \n",
       "5    Male  81.0             0              0          Yes        Private   \n",
       "\n",
       "  Residence_type  avg_glucose_level   bmi   smoking_status  stroke  \n",
       "0          Urban             228.69  36.6  formerly smoked       1  \n",
       "2          Rural             105.92  32.5     never smoked       1  \n",
       "3          Urban             171.23  34.4           smokes       1  \n",
       "4          Rural             174.12  24.0     never smoked       1  \n",
       "5          Urban             186.21  29.0  formerly smoked       1  "
      ]
     },
     "execution_count": 15,
     "metadata": {},
     "output_type": "execute_result"
    }
   ],
   "source": [
    "df_without_id.head()"
   ]
  },
  {
   "cell_type": "code",
   "execution_count": 16,
   "id": "8255fb78",
   "metadata": {
    "execution": {
     "iopub.execute_input": "2022-03-22T16:47:14.946854Z",
     "iopub.status.busy": "2022-03-22T16:47:14.941128Z",
     "iopub.status.idle": "2022-03-22T16:47:14.956326Z",
     "shell.execute_reply": "2022-03-22T16:47:14.955640Z",
     "shell.execute_reply.started": "2022-03-22T16:43:56.229757Z"
    },
    "papermill": {
     "duration": 0.056636,
     "end_time": "2022-03-22T16:47:14.956462",
     "exception": false,
     "start_time": "2022-03-22T16:47:14.899826",
     "status": "completed"
    },
    "tags": []
   },
   "outputs": [],
   "source": [
    "# Looking into the ever_married category\n",
    "df_without_id.ever_married.unique()\n",
    "\n",
    "#Replacing Values:\n",
    "# 'Yes'       = 1\n",
    "# 'No'        = 0\n",
    "\n",
    "df_without_id = df_without_id.replace({'Yes':1,'No':0})"
   ]
  },
  {
   "cell_type": "code",
   "execution_count": 17,
   "id": "0edee4b7",
   "metadata": {
    "execution": {
     "iopub.execute_input": "2022-03-22T16:47:15.042829Z",
     "iopub.status.busy": "2022-03-22T16:47:15.039541Z",
     "iopub.status.idle": "2022-03-22T16:47:15.053643Z",
     "shell.execute_reply": "2022-03-22T16:47:15.053039Z",
     "shell.execute_reply.started": "2022-03-22T16:43:56.255613Z"
    },
    "papermill": {
     "duration": 0.058318,
     "end_time": "2022-03-22T16:47:15.053783",
     "exception": false,
     "start_time": "2022-03-22T16:47:14.995465",
     "status": "completed"
    },
    "tags": []
   },
   "outputs": [],
   "source": [
    "# Looking into the work_type category\n",
    "df_without_id.work_type.unique()\n",
    "\n",
    "#Replacing Values:\n",
    "# 'Private'       = 0\n",
    "# 'Self-employed' = 1\n",
    "# 'Govt_job'      = 2\n",
    "# 'children'      = 3\n",
    "# 'Never_worked'  = 4\n",
    "\n",
    "df_without_id = df_without_id.replace({'Private':0,'Self-employed':1,'Govt_job':2,'children':3,'Never_worked':4})"
   ]
  },
  {
   "cell_type": "code",
   "execution_count": 18,
   "id": "7714c033",
   "metadata": {
    "execution": {
     "iopub.execute_input": "2022-03-22T16:47:15.134474Z",
     "iopub.status.busy": "2022-03-22T16:47:15.133833Z",
     "iopub.status.idle": "2022-03-22T16:47:15.145443Z",
     "shell.execute_reply": "2022-03-22T16:47:15.145954Z",
     "shell.execute_reply.started": "2022-03-22T16:43:56.273254Z"
    },
    "papermill": {
     "duration": 0.053271,
     "end_time": "2022-03-22T16:47:15.146150",
     "exception": false,
     "start_time": "2022-03-22T16:47:15.092879",
     "status": "completed"
    },
    "tags": []
   },
   "outputs": [],
   "source": [
    "# Looking into the Residence_type category\n",
    "df_without_id.Residence_type.unique()\n",
    "\n",
    "#Replacing Values:\n",
    "# 'Urban'       = 0\n",
    "# 'Rural'       = 1\n",
    "\n",
    "df_without_id = df_without_id.replace({'Urban':0,'Rural':1})"
   ]
  },
  {
   "cell_type": "code",
   "execution_count": 19,
   "id": "a4aaa3c8",
   "metadata": {
    "execution": {
     "iopub.execute_input": "2022-03-22T16:47:15.229361Z",
     "iopub.status.busy": "2022-03-22T16:47:15.228674Z",
     "iopub.status.idle": "2022-03-22T16:47:15.238748Z",
     "shell.execute_reply": "2022-03-22T16:47:15.238172Z",
     "shell.execute_reply.started": "2022-03-22T16:43:56.287663Z"
    },
    "papermill": {
     "duration": 0.054252,
     "end_time": "2022-03-22T16:47:15.238899",
     "exception": false,
     "start_time": "2022-03-22T16:47:15.184647",
     "status": "completed"
    },
    "tags": []
   },
   "outputs": [],
   "source": [
    "# Looking into the smoking_status category\n",
    "df_without_id.smoking_status.unique()\n",
    "\n",
    "#Replacing Values:\n",
    "# 'formerly smoked'       = 0\n",
    "# 'never smoked'          = 1\n",
    "# 'smokes'                = 2\n",
    "# 'Unknown'               = 3\n",
    "\n",
    "df_without_id = df_without_id.replace({'formerly smoked':0,'never smoked':1,'smokes':2,'Unknown':3})"
   ]
  },
  {
   "cell_type": "code",
   "execution_count": 20,
   "id": "58ebc78f",
   "metadata": {
    "execution": {
     "iopub.execute_input": "2022-03-22T16:47:15.321073Z",
     "iopub.status.busy": "2022-03-22T16:47:15.320364Z",
     "iopub.status.idle": "2022-03-22T16:47:15.336593Z",
     "shell.execute_reply": "2022-03-22T16:47:15.337219Z",
     "shell.execute_reply.started": "2022-03-22T16:43:56.302167Z"
    },
    "papermill": {
     "duration": 0.05996,
     "end_time": "2022-03-22T16:47:15.337392",
     "exception": false,
     "start_time": "2022-03-22T16:47:15.277432",
     "status": "completed"
    },
    "tags": []
   },
   "outputs": [
    {
     "data": {
      "text/html": [
       "<div>\n",
       "<style scoped>\n",
       "    .dataframe tbody tr th:only-of-type {\n",
       "        vertical-align: middle;\n",
       "    }\n",
       "\n",
       "    .dataframe tbody tr th {\n",
       "        vertical-align: top;\n",
       "    }\n",
       "\n",
       "    .dataframe thead th {\n",
       "        text-align: right;\n",
       "    }\n",
       "</style>\n",
       "<table border=\"1\" class=\"dataframe\">\n",
       "  <thead>\n",
       "    <tr style=\"text-align: right;\">\n",
       "      <th></th>\n",
       "      <th>gender</th>\n",
       "      <th>age</th>\n",
       "      <th>hypertension</th>\n",
       "      <th>heart_disease</th>\n",
       "      <th>ever_married</th>\n",
       "      <th>work_type</th>\n",
       "      <th>Residence_type</th>\n",
       "      <th>avg_glucose_level</th>\n",
       "      <th>bmi</th>\n",
       "      <th>smoking_status</th>\n",
       "      <th>stroke</th>\n",
       "    </tr>\n",
       "  </thead>\n",
       "  <tbody>\n",
       "    <tr>\n",
       "      <th>0</th>\n",
       "      <td>1</td>\n",
       "      <td>67.0</td>\n",
       "      <td>0</td>\n",
       "      <td>1</td>\n",
       "      <td>1</td>\n",
       "      <td>0</td>\n",
       "      <td>0</td>\n",
       "      <td>228.69</td>\n",
       "      <td>36.6</td>\n",
       "      <td>0</td>\n",
       "      <td>1</td>\n",
       "    </tr>\n",
       "    <tr>\n",
       "      <th>2</th>\n",
       "      <td>1</td>\n",
       "      <td>80.0</td>\n",
       "      <td>0</td>\n",
       "      <td>1</td>\n",
       "      <td>1</td>\n",
       "      <td>0</td>\n",
       "      <td>1</td>\n",
       "      <td>105.92</td>\n",
       "      <td>32.5</td>\n",
       "      <td>1</td>\n",
       "      <td>1</td>\n",
       "    </tr>\n",
       "    <tr>\n",
       "      <th>3</th>\n",
       "      <td>0</td>\n",
       "      <td>49.0</td>\n",
       "      <td>0</td>\n",
       "      <td>0</td>\n",
       "      <td>1</td>\n",
       "      <td>0</td>\n",
       "      <td>0</td>\n",
       "      <td>171.23</td>\n",
       "      <td>34.4</td>\n",
       "      <td>2</td>\n",
       "      <td>1</td>\n",
       "    </tr>\n",
       "    <tr>\n",
       "      <th>4</th>\n",
       "      <td>0</td>\n",
       "      <td>79.0</td>\n",
       "      <td>1</td>\n",
       "      <td>0</td>\n",
       "      <td>1</td>\n",
       "      <td>1</td>\n",
       "      <td>1</td>\n",
       "      <td>174.12</td>\n",
       "      <td>24.0</td>\n",
       "      <td>1</td>\n",
       "      <td>1</td>\n",
       "    </tr>\n",
       "    <tr>\n",
       "      <th>5</th>\n",
       "      <td>1</td>\n",
       "      <td>81.0</td>\n",
       "      <td>0</td>\n",
       "      <td>0</td>\n",
       "      <td>1</td>\n",
       "      <td>0</td>\n",
       "      <td>0</td>\n",
       "      <td>186.21</td>\n",
       "      <td>29.0</td>\n",
       "      <td>0</td>\n",
       "      <td>1</td>\n",
       "    </tr>\n",
       "  </tbody>\n",
       "</table>\n",
       "</div>"
      ],
      "text/plain": [
       "   gender   age  hypertension  heart_disease  ever_married  work_type  \\\n",
       "0       1  67.0             0              1             1          0   \n",
       "2       1  80.0             0              1             1          0   \n",
       "3       0  49.0             0              0             1          0   \n",
       "4       0  79.0             1              0             1          1   \n",
       "5       1  81.0             0              0             1          0   \n",
       "\n",
       "   Residence_type  avg_glucose_level   bmi  smoking_status  stroke  \n",
       "0               0             228.69  36.6               0       1  \n",
       "2               1             105.92  32.5               1       1  \n",
       "3               0             171.23  34.4               2       1  \n",
       "4               1             174.12  24.0               1       1  \n",
       "5               0             186.21  29.0               0       1  "
      ]
     },
     "execution_count": 20,
     "metadata": {},
     "output_type": "execute_result"
    }
   ],
   "source": [
    "# Treating de Gender column\n",
    "df_machine_learning = df_without_id.replace({'Male':1,'Female':0})\n",
    "df_machine_learning.head()"
   ]
  },
  {
   "cell_type": "code",
   "execution_count": 21,
   "id": "c587478e",
   "metadata": {
    "execution": {
     "iopub.execute_input": "2022-03-22T16:47:15.418725Z",
     "iopub.status.busy": "2022-03-22T16:47:15.418018Z",
     "iopub.status.idle": "2022-03-22T16:47:15.422667Z",
     "shell.execute_reply": "2022-03-22T16:47:15.423159Z",
     "shell.execute_reply.started": "2022-03-22T16:43:56.330445Z"
    },
    "papermill": {
     "duration": 0.047086,
     "end_time": "2022-03-22T16:47:15.423334",
     "exception": false,
     "start_time": "2022-03-22T16:47:15.376248",
     "status": "completed"
    },
    "tags": []
   },
   "outputs": [],
   "source": [
    "preditora = df_machine_learning.drop('stroke',axis=1)\n",
    "alvo      = df_machine_learning['stroke']"
   ]
  },
  {
   "cell_type": "code",
   "execution_count": 22,
   "id": "0f0280e6",
   "metadata": {
    "execution": {
     "iopub.execute_input": "2022-03-22T16:47:15.504222Z",
     "iopub.status.busy": "2022-03-22T16:47:15.503530Z",
     "iopub.status.idle": "2022-03-22T16:47:15.508662Z",
     "shell.execute_reply": "2022-03-22T16:47:15.509130Z",
     "shell.execute_reply.started": "2022-03-22T16:44:44.793842Z"
    },
    "papermill": {
     "duration": 0.047126,
     "end_time": "2022-03-22T16:47:15.509317",
     "exception": false,
     "start_time": "2022-03-22T16:47:15.462191",
     "status": "completed"
    },
    "tags": []
   },
   "outputs": [],
   "source": [
    "x_treino,x_test,y_treino,y_test = train_test_split(preditora, alvo, test_size = 0.3)"
   ]
  },
  {
   "cell_type": "code",
   "execution_count": 23,
   "id": "a19131b5",
   "metadata": {
    "execution": {
     "iopub.execute_input": "2022-03-22T16:47:15.590527Z",
     "iopub.status.busy": "2022-03-22T16:47:15.589831Z",
     "iopub.status.idle": "2022-03-22T16:47:15.896630Z",
     "shell.execute_reply": "2022-03-22T16:47:15.897169Z",
     "shell.execute_reply.started": "2022-03-22T16:44:59.835925Z"
    },
    "papermill": {
     "duration": 0.349179,
     "end_time": "2022-03-22T16:47:15.897346",
     "exception": false,
     "start_time": "2022-03-22T16:47:15.548167",
     "status": "completed"
    },
    "tags": []
   },
   "outputs": [
    {
     "name": "stdout",
     "output_type": "stream",
     "text": [
      "Acurácia:  0.9470468431771895\n"
     ]
    }
   ],
   "source": [
    "# ExtraTreesClassifier\n",
    "\n",
    "#An extra-trees classifier.\n",
    "\n",
    "#This class implements a meta estimator that fits a number of randomized decision trees \n",
    "#(a.k.a. extra-trees) on various sub-samples of the dataset and uses averaging to improve the \n",
    "#predictive accuracy and control over-fitting.\n",
    "\n",
    "modelo = ExtraTreesClassifier()\n",
    "modelo.fit(x_treino,y_treino)\n",
    "\n",
    "resultado = modelo.score(x_test,y_test)\n",
    "print('Acurácia: ',resultado)"
   ]
  }
 ],
 "metadata": {
  "kernelspec": {
   "display_name": "Python 3",
   "language": "python",
   "name": "python3"
  },
  "language_info": {
   "codemirror_mode": {
    "name": "ipython",
    "version": 3
   },
   "file_extension": ".py",
   "mimetype": "text/x-python",
   "name": "python",
   "nbconvert_exporter": "python",
   "pygments_lexer": "ipython3",
   "version": "3.7.12"
  },
  "papermill": {
   "default_parameters": {},
   "duration": 16.26035,
   "end_time": "2022-03-22T16:47:16.647661",
   "environment_variables": {},
   "exception": null,
   "input_path": "__notebook__.ipynb",
   "output_path": "__notebook__.ipynb",
   "parameters": {},
   "start_time": "2022-03-22T16:47:00.387311",
   "version": "2.3.3"
  }
 },
 "nbformat": 4,
 "nbformat_minor": 5
}
