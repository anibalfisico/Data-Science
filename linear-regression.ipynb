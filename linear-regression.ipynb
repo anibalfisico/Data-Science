{
 "cells": [
  {
   "cell_type": "code",
   "execution_count": 1,
   "id": "99b5442e",
   "metadata": {
    "_cell_guid": "b1076dfc-b9ad-4769-8c92-a6c4dae69d19",
    "_uuid": "8f2839f25d086af736a60e9eeb907d3b93b6e0e5",
    "execution": {
     "iopub.execute_input": "2022-03-23T04:13:20.592240Z",
     "iopub.status.busy": "2022-03-23T04:13:20.591023Z",
     "iopub.status.idle": "2022-03-23T04:13:21.806372Z",
     "shell.execute_reply": "2022-03-23T04:13:21.805412Z",
     "shell.execute_reply.started": "2022-03-23T04:12:17.368130Z"
    },
    "papermill": {
     "duration": 1.233153,
     "end_time": "2022-03-23T04:13:21.806538",
     "exception": false,
     "start_time": "2022-03-23T04:13:20.573385",
     "status": "completed"
    },
    "tags": []
   },
   "outputs": [
    {
     "name": "stdout",
     "output_type": "stream",
     "text": [
      "/kaggle/input/random-linear-regression/train.csv\n",
      "/kaggle/input/random-linear-regression/test.csv\n"
     ]
    }
   ],
   "source": [
    "# This Python 3 environment comes with many helpful analytics libraries installed\n",
    "# It is defined by the kaggle/python Docker image: https://github.com/kaggle/docker-python\n",
    "# For example, here's several helpful packages to load\n",
    "\n",
    "import numpy as np # linear algebra\n",
    "import pandas as pd # data processing, CSV file I/O (e.g. pd.read_csv)\n",
    "from sklearn import datasets, linear_model\n",
    "from sklearn.metrics import mean_squared_error, r2_score\n",
    "from sklearn.model_selection import train_test_split\n",
    "from sklearn.linear_model import LinearRegression\n",
    "import matplotlib.pyplot as plt\n",
    "\n",
    "# Input data files are available in the read-only \"../input/\" directory\n",
    "# For example, running this (by clicking run or pressing Shift+Enter) will list all files under the input directory\n",
    "\n",
    "import os\n",
    "for dirname, _, filenames in os.walk('/kaggle/input'):\n",
    "    for filename in filenames:\n",
    "        print(os.path.join(dirname, filename))\n",
    "\n",
    "# You can write up to 20GB to the current directory (/kaggle/working/) that gets preserved as output when you create a version using \"Save & Run All\" \n",
    "# You can also write temporary files to /kaggle/temp/, but they won't be saved outside of the current session"
   ]
  },
  {
   "cell_type": "code",
   "execution_count": 2,
   "id": "ae6cbad1",
   "metadata": {
    "execution": {
     "iopub.execute_input": "2022-03-23T04:13:21.839938Z",
     "iopub.status.busy": "2022-03-23T04:13:21.839248Z",
     "iopub.status.idle": "2022-03-23T04:13:21.865763Z",
     "shell.execute_reply": "2022-03-23T04:13:21.865111Z",
     "shell.execute_reply.started": "2022-03-23T04:12:17.552978Z"
    },
    "papermill": {
     "duration": 0.044902,
     "end_time": "2022-03-23T04:13:21.865903",
     "exception": false,
     "start_time": "2022-03-23T04:13:21.821001",
     "status": "completed"
    },
    "tags": []
   },
   "outputs": [
    {
     "data": {
      "text/html": [
       "<div>\n",
       "<style scoped>\n",
       "    .dataframe tbody tr th:only-of-type {\n",
       "        vertical-align: middle;\n",
       "    }\n",
       "\n",
       "    .dataframe tbody tr th {\n",
       "        vertical-align: top;\n",
       "    }\n",
       "\n",
       "    .dataframe thead th {\n",
       "        text-align: right;\n",
       "    }\n",
       "</style>\n",
       "<table border=\"1\" class=\"dataframe\">\n",
       "  <thead>\n",
       "    <tr style=\"text-align: right;\">\n",
       "      <th></th>\n",
       "      <th>x</th>\n",
       "      <th>y</th>\n",
       "    </tr>\n",
       "  </thead>\n",
       "  <tbody>\n",
       "    <tr>\n",
       "      <th>0</th>\n",
       "      <td>24.0</td>\n",
       "      <td>21.549452</td>\n",
       "    </tr>\n",
       "    <tr>\n",
       "      <th>1</th>\n",
       "      <td>50.0</td>\n",
       "      <td>47.464463</td>\n",
       "    </tr>\n",
       "    <tr>\n",
       "      <th>2</th>\n",
       "      <td>15.0</td>\n",
       "      <td>17.218656</td>\n",
       "    </tr>\n",
       "    <tr>\n",
       "      <th>3</th>\n",
       "      <td>38.0</td>\n",
       "      <td>36.586398</td>\n",
       "    </tr>\n",
       "    <tr>\n",
       "      <th>4</th>\n",
       "      <td>87.0</td>\n",
       "      <td>87.288984</td>\n",
       "    </tr>\n",
       "  </tbody>\n",
       "</table>\n",
       "</div>"
      ],
      "text/plain": [
       "      x          y\n",
       "0  24.0  21.549452\n",
       "1  50.0  47.464463\n",
       "2  15.0  17.218656\n",
       "3  38.0  36.586398\n",
       "4  87.0  87.288984"
      ]
     },
     "execution_count": 2,
     "metadata": {},
     "output_type": "execute_result"
    }
   ],
   "source": [
    "df_train = pd.read_csv('/kaggle/input/random-linear-regression/train.csv')\n",
    "df_train.head()\n"
   ]
  },
  {
   "cell_type": "code",
   "execution_count": 3,
   "id": "2724bb4a",
   "metadata": {
    "execution": {
     "iopub.execute_input": "2022-03-23T04:13:21.900526Z",
     "iopub.status.busy": "2022-03-23T04:13:21.899488Z",
     "iopub.status.idle": "2022-03-23T04:13:21.905737Z",
     "shell.execute_reply": "2022-03-23T04:13:21.906304Z",
     "shell.execute_reply.started": "2022-03-23T04:12:17.636445Z"
    },
    "papermill": {
     "duration": 0.025998,
     "end_time": "2022-03-23T04:13:21.906475",
     "exception": false,
     "start_time": "2022-03-23T04:13:21.880477",
     "status": "completed"
    },
    "tags": []
   },
   "outputs": [
    {
     "data": {
      "text/plain": [
       "x    0\n",
       "y    1\n",
       "dtype: int64"
      ]
     },
     "execution_count": 3,
     "metadata": {},
     "output_type": "execute_result"
    }
   ],
   "source": [
    "#check missing value of the training dataset\n",
    "df_train.isnull().sum()"
   ]
  },
  {
   "cell_type": "code",
   "execution_count": 4,
   "id": "a1d1406a",
   "metadata": {
    "execution": {
     "iopub.execute_input": "2022-03-23T04:13:21.942470Z",
     "iopub.status.busy": "2022-03-23T04:13:21.939955Z",
     "iopub.status.idle": "2022-03-23T04:13:21.952308Z",
     "shell.execute_reply": "2022-03-23T04:13:21.952933Z",
     "shell.execute_reply.started": "2022-03-23T04:12:17.655465Z"
    },
    "papermill": {
     "duration": 0.031731,
     "end_time": "2022-03-23T04:13:21.953111",
     "exception": false,
     "start_time": "2022-03-23T04:13:21.921380",
     "status": "completed"
    },
    "tags": []
   },
   "outputs": [
    {
     "data": {
      "text/plain": [
       "x    0\n",
       "y    0\n",
       "dtype: int64"
      ]
     },
     "execution_count": 4,
     "metadata": {},
     "output_type": "execute_result"
    }
   ],
   "source": [
    "df_train = df_train.dropna()\n",
    "df_train.isnull().sum()"
   ]
  },
  {
   "cell_type": "code",
   "execution_count": 5,
   "id": "2961a89d",
   "metadata": {
    "execution": {
     "iopub.execute_input": "2022-03-23T04:13:21.994297Z",
     "iopub.status.busy": "2022-03-23T04:13:21.993260Z",
     "iopub.status.idle": "2022-03-23T04:13:21.995288Z",
     "shell.execute_reply": "2022-03-23T04:13:21.995892Z",
     "shell.execute_reply.started": "2022-03-23T04:12:17.671532Z"
    },
    "papermill": {
     "duration": 0.027271,
     "end_time": "2022-03-23T04:13:21.996068",
     "exception": false,
     "start_time": "2022-03-23T04:13:21.968797",
     "status": "completed"
    },
    "tags": []
   },
   "outputs": [],
   "source": [
    "x_train,y_train = df_train['x'],df_train['y']\n",
    "x_train = x_train.values.reshape((x_train.shape[0],1))\n",
    "y_train = y_train.values.reshape((y_train.shape[0],1))"
   ]
  },
  {
   "cell_type": "code",
   "execution_count": 6,
   "id": "669ee880",
   "metadata": {
    "execution": {
     "iopub.execute_input": "2022-03-23T04:13:22.031962Z",
     "iopub.status.busy": "2022-03-23T04:13:22.031246Z",
     "iopub.status.idle": "2022-03-23T04:13:22.045988Z",
     "shell.execute_reply": "2022-03-23T04:13:22.045425Z",
     "shell.execute_reply.started": "2022-03-23T04:12:17.757577Z"
    },
    "papermill": {
     "duration": 0.034574,
     "end_time": "2022-03-23T04:13:22.046132",
     "exception": false,
     "start_time": "2022-03-23T04:13:22.011558",
     "status": "completed"
    },
    "tags": []
   },
   "outputs": [
    {
     "data": {
      "text/html": [
       "<div>\n",
       "<style scoped>\n",
       "    .dataframe tbody tr th:only-of-type {\n",
       "        vertical-align: middle;\n",
       "    }\n",
       "\n",
       "    .dataframe tbody tr th {\n",
       "        vertical-align: top;\n",
       "    }\n",
       "\n",
       "    .dataframe thead th {\n",
       "        text-align: right;\n",
       "    }\n",
       "</style>\n",
       "<table border=\"1\" class=\"dataframe\">\n",
       "  <thead>\n",
       "    <tr style=\"text-align: right;\">\n",
       "      <th></th>\n",
       "      <th>x</th>\n",
       "      <th>y</th>\n",
       "    </tr>\n",
       "  </thead>\n",
       "  <tbody>\n",
       "    <tr>\n",
       "      <th>0</th>\n",
       "      <td>77</td>\n",
       "      <td>79.775152</td>\n",
       "    </tr>\n",
       "    <tr>\n",
       "      <th>1</th>\n",
       "      <td>21</td>\n",
       "      <td>23.177279</td>\n",
       "    </tr>\n",
       "    <tr>\n",
       "      <th>2</th>\n",
       "      <td>22</td>\n",
       "      <td>25.609262</td>\n",
       "    </tr>\n",
       "    <tr>\n",
       "      <th>3</th>\n",
       "      <td>20</td>\n",
       "      <td>17.857388</td>\n",
       "    </tr>\n",
       "    <tr>\n",
       "      <th>4</th>\n",
       "      <td>36</td>\n",
       "      <td>41.849864</td>\n",
       "    </tr>\n",
       "  </tbody>\n",
       "</table>\n",
       "</div>"
      ],
      "text/plain": [
       "    x          y\n",
       "0  77  79.775152\n",
       "1  21  23.177279\n",
       "2  22  25.609262\n",
       "3  20  17.857388\n",
       "4  36  41.849864"
      ]
     },
     "execution_count": 6,
     "metadata": {},
     "output_type": "execute_result"
    }
   ],
   "source": [
    "df_test = pd.read_csv('/kaggle/input/random-linear-regression/test.csv')\n",
    "df_test.head()"
   ]
  },
  {
   "cell_type": "code",
   "execution_count": 7,
   "id": "bc6f4a8b",
   "metadata": {
    "execution": {
     "iopub.execute_input": "2022-03-23T04:13:22.085213Z",
     "iopub.status.busy": "2022-03-23T04:13:22.080201Z",
     "iopub.status.idle": "2022-03-23T04:13:22.088303Z",
     "shell.execute_reply": "2022-03-23T04:13:22.088789Z",
     "shell.execute_reply.started": "2022-03-23T04:12:17.841503Z"
    },
    "papermill": {
     "duration": 0.027046,
     "end_time": "2022-03-23T04:13:22.088966",
     "exception": false,
     "start_time": "2022-03-23T04:13:22.061920",
     "status": "completed"
    },
    "tags": []
   },
   "outputs": [
    {
     "data": {
      "text/plain": [
       "x    0\n",
       "y    0\n",
       "dtype: int64"
      ]
     },
     "execution_count": 7,
     "metadata": {},
     "output_type": "execute_result"
    }
   ],
   "source": [
    "#check missing value of the test dataset\n",
    "df_test.isnull().sum()"
   ]
  },
  {
   "cell_type": "code",
   "execution_count": 8,
   "id": "8ec1851f",
   "metadata": {
    "execution": {
     "iopub.execute_input": "2022-03-23T04:13:22.127555Z",
     "iopub.status.busy": "2022-03-23T04:13:22.126542Z",
     "iopub.status.idle": "2022-03-23T04:13:22.128512Z",
     "shell.execute_reply": "2022-03-23T04:13:22.129135Z",
     "shell.execute_reply.started": "2022-03-23T04:12:17.853047Z"
    },
    "papermill": {
     "duration": 0.024309,
     "end_time": "2022-03-23T04:13:22.129309",
     "exception": false,
     "start_time": "2022-03-23T04:13:22.105000",
     "status": "completed"
    },
    "tags": []
   },
   "outputs": [],
   "source": [
    "x_test,y_test = df_test['x'],df_test['y']\n",
    "x_test = x_test.values.reshape((x_test.shape[0],1))\n",
    "y_test = y_test.values.reshape((y_test.shape[0],1))"
   ]
  },
  {
   "cell_type": "code",
   "execution_count": 9,
   "id": "0214161b",
   "metadata": {
    "execution": {
     "iopub.execute_input": "2022-03-23T04:13:22.165574Z",
     "iopub.status.busy": "2022-03-23T04:13:22.164975Z",
     "iopub.status.idle": "2022-03-23T04:13:22.168543Z",
     "shell.execute_reply": "2022-03-23T04:13:22.168037Z",
     "shell.execute_reply.started": "2022-03-23T04:12:17.936864Z"
    },
    "papermill": {
     "duration": 0.023266,
     "end_time": "2022-03-23T04:13:22.168699",
     "exception": false,
     "start_time": "2022-03-23T04:13:22.145433",
     "status": "completed"
    },
    "tags": []
   },
   "outputs": [],
   "source": [
    "# The dataset is already separated into test and training sets so we don't need to separate anymore\n",
    "# X_train, X_test, y_train, y_test = train_test_split(X, y, test_size = 0.2)"
   ]
  },
  {
   "cell_type": "code",
   "execution_count": 10,
   "id": "c17762e4",
   "metadata": {
    "execution": {
     "iopub.execute_input": "2022-03-23T04:13:22.205228Z",
     "iopub.status.busy": "2022-03-23T04:13:22.204566Z",
     "iopub.status.idle": "2022-03-23T04:13:22.207652Z",
     "shell.execute_reply": "2022-03-23T04:13:22.207130Z",
     "shell.execute_reply.started": "2022-03-23T04:12:18.093616Z"
    },
    "papermill": {
     "duration": 0.02301,
     "end_time": "2022-03-23T04:13:22.207797",
     "exception": false,
     "start_time": "2022-03-23T04:13:22.184787",
     "status": "completed"
    },
    "tags": []
   },
   "outputs": [],
   "source": [
    "# Defining our regressor\n",
    "regressor = LinearRegression()"
   ]
  },
  {
   "cell_type": "code",
   "execution_count": 11,
   "id": "66ccff9a",
   "metadata": {
    "execution": {
     "iopub.execute_input": "2022-03-23T04:13:22.242918Z",
     "iopub.status.busy": "2022-03-23T04:13:22.242273Z",
     "iopub.status.idle": "2022-03-23T04:13:22.257880Z",
     "shell.execute_reply": "2022-03-23T04:13:22.258408Z",
     "shell.execute_reply.started": "2022-03-23T04:12:18.269499Z"
    },
    "papermill": {
     "duration": 0.034592,
     "end_time": "2022-03-23T04:13:22.258577",
     "exception": false,
     "start_time": "2022-03-23T04:13:22.223985",
     "status": "completed"
    },
    "tags": []
   },
   "outputs": [],
   "source": [
    "# Train the regressor\n",
    "fit = regressor.fit(x_train, y_train)"
   ]
  },
  {
   "cell_type": "code",
   "execution_count": 12,
   "id": "24287fd7",
   "metadata": {
    "execution": {
     "iopub.execute_input": "2022-03-23T04:13:22.293573Z",
     "iopub.status.busy": "2022-03-23T04:13:22.292955Z",
     "iopub.status.idle": "2022-03-23T04:13:22.478546Z",
     "shell.execute_reply": "2022-03-23T04:13:22.477648Z",
     "shell.execute_reply.started": "2022-03-23T04:12:18.452777Z"
    },
    "papermill": {
     "duration": 0.204206,
     "end_time": "2022-03-23T04:13:22.478742",
     "exception": false,
     "start_time": "2022-03-23T04:13:22.274536",
     "status": "completed"
    },
    "tags": []
   },
   "outputs": [
    {
     "data": {
      "image/png": "[encoded data removed]",
      "text/plain": [
       "<Figure size 432x288 with 1 Axes>"
      ]
     },
     "metadata": {
      "needs_background": "light"
     },
     "output_type": "display_data"
    }
   ],
   "source": [
    "# Predicted values \n",
    "y_pred = regressor.predict(x_test)\n",
    "# Plot of the data with the line of best fit\n",
    "plt.plot(x_test,y_pred)\n",
    "plt.plot(x_test,y_test, \"rx\")\n",
    "plt.grid(True)"
   ]
  }
 ],
 "metadata": {
  "kernelspec": {
   "display_name": "Python 3",
   "language": "python",
   "name": "python3"
  },
  "language_info": {
   "codemirror_mode": {
    "name": "ipython",
    "version": 3
   },
   "file_extension": ".py",
   "mimetype": "text/x-python",
   "name": "python",
   "nbconvert_exporter": "python",
   "pygments_lexer": "ipython3",
   "version": "3.7.12"
  },
  "papermill": {
   "default_parameters": {},
   "duration": 12.08329,
   "end_time": "2022-03-23T04:13:23.216154",
   "environment_variables": {},
   "exception": null,
   "input_path": "__notebook__.ipynb",
   "output_path": "__notebook__.ipynb",
   "parameters": {},
   "start_time": "2022-03-23T04:13:11.132864",
   "version": "2.3.3"
  }
 },
 "nbformat": 4,
 "nbformat_minor": 5
}
